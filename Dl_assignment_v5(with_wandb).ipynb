{
  "nbformat": 4,
  "nbformat_minor": 0,
  "metadata": {
    "colab": {
      "name": "Dl_assignment_v5(with wandb).ipynb",
      "provenance": [],
      "collapsed_sections": [],
      "include_colab_link": true
    },
    "kernelspec": {
      "name": "python3",
      "display_name": "Python 3"
    },
    "widgets": {
      "application/vnd.jupyter.widget-state+json": {
        "538788a703a1491f82c07bbe2c563643": {
          "model_module": "@jupyter-widgets/controls",
          "model_name": "VBoxModel",
          "state": {
            "_view_name": "VBoxView",
            "_dom_classes": [],
            "_model_name": "VBoxModel",
            "_view_module": "@jupyter-widgets/controls",
            "_model_module_version": "1.5.0",
            "_view_count": null,
            "_view_module_version": "1.5.0",
            "box_style": "",
            "layout": "IPY_MODEL_c69c4afe85c742de986943a79e489966",
            "_model_module": "@jupyter-widgets/controls",
            "children": [
              "IPY_MODEL_19d09fa2087e410e83ce2d1fd89c23c4",
              "IPY_MODEL_5a1a68bb32c747129499d87a2bbe640e"
            ]
          }
        },
        "c69c4afe85c742de986943a79e489966": {
          "model_module": "@jupyter-widgets/base",
          "model_name": "LayoutModel",
          "state": {
            "_view_name": "LayoutView",
            "grid_template_rows": null,
            "right": null,
            "justify_content": null,
            "_view_module": "@jupyter-widgets/base",
            "overflow": null,
            "_model_module_version": "1.2.0",
            "_view_count": null,
            "flex_flow": null,
            "width": null,
            "min_width": null,
            "border": null,
            "align_items": null,
            "bottom": null,
            "_model_module": "@jupyter-widgets/base",
            "top": null,
            "grid_column": null,
            "overflow_y": null,
            "overflow_x": null,
            "grid_auto_flow": null,
            "grid_area": null,
            "grid_template_columns": null,
            "flex": null,
            "_model_name": "LayoutModel",
            "justify_items": null,
            "grid_row": null,
            "max_height": null,
            "align_content": null,
            "visibility": null,
            "align_self": null,
            "height": null,
            "min_height": null,
            "padding": null,
            "grid_auto_rows": null,
            "grid_gap": null,
            "max_width": null,
            "order": null,
            "_view_module_version": "1.2.0",
            "grid_template_areas": null,
            "object_position": null,
            "object_fit": null,
            "grid_auto_columns": null,
            "margin": null,
            "display": null,
            "left": null
          }
        },
        "19d09fa2087e410e83ce2d1fd89c23c4": {
          "model_module": "@jupyter-widgets/controls",
          "model_name": "LabelModel",
          "state": {
            "_view_name": "LabelView",
            "style": "IPY_MODEL_433ca260705c4d0eae791ddb3a911a05",
            "_dom_classes": [],
            "description": "",
            "_model_name": "LabelModel",
            "placeholder": "​",
            "_view_module": "@jupyter-widgets/controls",
            "_model_module_version": "1.5.0",
            "value": " 0.01MB of 0.01MB uploaded (0.00MB deduped)\r",
            "_view_count": null,
            "_view_module_version": "1.5.0",
            "description_tooltip": null,
            "_model_module": "@jupyter-widgets/controls",
            "layout": "IPY_MODEL_1e4556f6258e48db9796c43a29cf4727"
          }
        },
        "5a1a68bb32c747129499d87a2bbe640e": {
          "model_module": "@jupyter-widgets/controls",
          "model_name": "FloatProgressModel",
          "state": {
            "_view_name": "ProgressView",
            "style": "IPY_MODEL_f823e62e05094fa180034fbc79a68c6f",
            "_dom_classes": [],
            "description": "",
            "_model_name": "FloatProgressModel",
            "bar_style": "",
            "max": 1,
            "_view_module": "@jupyter-widgets/controls",
            "_model_module_version": "1.5.0",
            "value": 1,
            "_view_count": null,
            "_view_module_version": "1.5.0",
            "orientation": "horizontal",
            "min": 0,
            "description_tooltip": null,
            "_model_module": "@jupyter-widgets/controls",
            "layout": "IPY_MODEL_d751b2b42f374ee69522d8f9fb41f6dc"
          }
        },
        "433ca260705c4d0eae791ddb3a911a05": {
          "model_module": "@jupyter-widgets/controls",
          "model_name": "DescriptionStyleModel",
          "state": {
            "_view_name": "StyleView",
            "_model_name": "DescriptionStyleModel",
            "description_width": "",
            "_view_module": "@jupyter-widgets/base",
            "_model_module_version": "1.5.0",
            "_view_count": null,
            "_view_module_version": "1.2.0",
            "_model_module": "@jupyter-widgets/controls"
          }
        },
        "1e4556f6258e48db9796c43a29cf4727": {
          "model_module": "@jupyter-widgets/base",
          "model_name": "LayoutModel",
          "state": {
            "_view_name": "LayoutView",
            "grid_template_rows": null,
            "right": null,
            "justify_content": null,
            "_view_module": "@jupyter-widgets/base",
            "overflow": null,
            "_model_module_version": "1.2.0",
            "_view_count": null,
            "flex_flow": null,
            "width": null,
            "min_width": null,
            "border": null,
            "align_items": null,
            "bottom": null,
            "_model_module": "@jupyter-widgets/base",
            "top": null,
            "grid_column": null,
            "overflow_y": null,
            "overflow_x": null,
            "grid_auto_flow": null,
            "grid_area": null,
            "grid_template_columns": null,
            "flex": null,
            "_model_name": "LayoutModel",
            "justify_items": null,
            "grid_row": null,
            "max_height": null,
            "align_content": null,
            "visibility": null,
            "align_self": null,
            "height": null,
            "min_height": null,
            "padding": null,
            "grid_auto_rows": null,
            "grid_gap": null,
            "max_width": null,
            "order": null,
            "_view_module_version": "1.2.0",
            "grid_template_areas": null,
            "object_position": null,
            "object_fit": null,
            "grid_auto_columns": null,
            "margin": null,
            "display": null,
            "left": null
          }
        },
        "f823e62e05094fa180034fbc79a68c6f": {
          "model_module": "@jupyter-widgets/controls",
          "model_name": "ProgressStyleModel",
          "state": {
            "_view_name": "StyleView",
            "_model_name": "ProgressStyleModel",
            "description_width": "",
            "_view_module": "@jupyter-widgets/base",
            "_model_module_version": "1.5.0",
            "_view_count": null,
            "_view_module_version": "1.2.0",
            "bar_color": null,
            "_model_module": "@jupyter-widgets/controls"
          }
        },
        "d751b2b42f374ee69522d8f9fb41f6dc": {
          "model_module": "@jupyter-widgets/base",
          "model_name": "LayoutModel",
          "state": {
            "_view_name": "LayoutView",
            "grid_template_rows": null,
            "right": null,
            "justify_content": null,
            "_view_module": "@jupyter-widgets/base",
            "overflow": null,
            "_model_module_version": "1.2.0",
            "_view_count": null,
            "flex_flow": null,
            "width": null,
            "min_width": null,
            "border": null,
            "align_items": null,
            "bottom": null,
            "_model_module": "@jupyter-widgets/base",
            "top": null,
            "grid_column": null,
            "overflow_y": null,
            "overflow_x": null,
            "grid_auto_flow": null,
            "grid_area": null,
            "grid_template_columns": null,
            "flex": null,
            "_model_name": "LayoutModel",
            "justify_items": null,
            "grid_row": null,
            "max_height": null,
            "align_content": null,
            "visibility": null,
            "align_self": null,
            "height": null,
            "min_height": null,
            "padding": null,
            "grid_auto_rows": null,
            "grid_gap": null,
            "max_width": null,
            "order": null,
            "_view_module_version": "1.2.0",
            "grid_template_areas": null,
            "object_position": null,
            "object_fit": null,
            "grid_auto_columns": null,
            "margin": null,
            "display": null,
            "left": null
          }
        },
        "ed4d6539ae974f878ccb40f7b7327eac": {
          "model_module": "@jupyter-widgets/controls",
          "model_name": "VBoxModel",
          "state": {
            "_view_name": "VBoxView",
            "_dom_classes": [],
            "_model_name": "VBoxModel",
            "_view_module": "@jupyter-widgets/controls",
            "_model_module_version": "1.5.0",
            "_view_count": null,
            "_view_module_version": "1.5.0",
            "box_style": "",
            "layout": "IPY_MODEL_88c4eebfa2c24563a0d6878c3731ec69",
            "_model_module": "@jupyter-widgets/controls",
            "children": [
              "IPY_MODEL_f0601826cab84ec4a937abe3f512d093",
              "IPY_MODEL_59a7a1654552457081b643f4f247cfe8"
            ]
          }
        },
        "88c4eebfa2c24563a0d6878c3731ec69": {
          "model_module": "@jupyter-widgets/base",
          "model_name": "LayoutModel",
          "state": {
            "_view_name": "LayoutView",
            "grid_template_rows": null,
            "right": null,
            "justify_content": null,
            "_view_module": "@jupyter-widgets/base",
            "overflow": null,
            "_model_module_version": "1.2.0",
            "_view_count": null,
            "flex_flow": null,
            "width": null,
            "min_width": null,
            "border": null,
            "align_items": null,
            "bottom": null,
            "_model_module": "@jupyter-widgets/base",
            "top": null,
            "grid_column": null,
            "overflow_y": null,
            "overflow_x": null,
            "grid_auto_flow": null,
            "grid_area": null,
            "grid_template_columns": null,
            "flex": null,
            "_model_name": "LayoutModel",
            "justify_items": null,
            "grid_row": null,
            "max_height": null,
            "align_content": null,
            "visibility": null,
            "align_self": null,
            "height": null,
            "min_height": null,
            "padding": null,
            "grid_auto_rows": null,
            "grid_gap": null,
            "max_width": null,
            "order": null,
            "_view_module_version": "1.2.0",
            "grid_template_areas": null,
            "object_position": null,
            "object_fit": null,
            "grid_auto_columns": null,
            "margin": null,
            "display": null,
            "left": null
          }
        },
        "f0601826cab84ec4a937abe3f512d093": {
          "model_module": "@jupyter-widgets/controls",
          "model_name": "LabelModel",
          "state": {
            "_view_name": "LabelView",
            "style": "IPY_MODEL_13b8f2956a7249cfb3e05a2a2bca2335",
            "_dom_classes": [],
            "description": "",
            "_model_name": "LabelModel",
            "placeholder": "​",
            "_view_module": "@jupyter-widgets/controls",
            "_model_module_version": "1.5.0",
            "value": " 0.01MB of 0.01MB uploaded (0.00MB deduped)\r",
            "_view_count": null,
            "_view_module_version": "1.5.0",
            "description_tooltip": null,
            "_model_module": "@jupyter-widgets/controls",
            "layout": "IPY_MODEL_23f581688be74416a0b1b5b4749e88d4"
          }
        },
        "59a7a1654552457081b643f4f247cfe8": {
          "model_module": "@jupyter-widgets/controls",
          "model_name": "FloatProgressModel",
          "state": {
            "_view_name": "ProgressView",
            "style": "IPY_MODEL_3bf164c53aec47bda65f257005730c0f",
            "_dom_classes": [],
            "description": "",
            "_model_name": "FloatProgressModel",
            "bar_style": "",
            "max": 1,
            "_view_module": "@jupyter-widgets/controls",
            "_model_module_version": "1.5.0",
            "value": 1,
            "_view_count": null,
            "_view_module_version": "1.5.0",
            "orientation": "horizontal",
            "min": 0,
            "description_tooltip": null,
            "_model_module": "@jupyter-widgets/controls",
            "layout": "IPY_MODEL_783d2bbead294ec19683098bb4a4292b"
          }
        },
        "13b8f2956a7249cfb3e05a2a2bca2335": {
          "model_module": "@jupyter-widgets/controls",
          "model_name": "DescriptionStyleModel",
          "state": {
            "_view_name": "StyleView",
            "_model_name": "DescriptionStyleModel",
            "description_width": "",
            "_view_module": "@jupyter-widgets/base",
            "_model_module_version": "1.5.0",
            "_view_count": null,
            "_view_module_version": "1.2.0",
            "_model_module": "@jupyter-widgets/controls"
          }
        },
        "23f581688be74416a0b1b5b4749e88d4": {
          "model_module": "@jupyter-widgets/base",
          "model_name": "LayoutModel",
          "state": {
            "_view_name": "LayoutView",
            "grid_template_rows": null,
            "right": null,
            "justify_content": null,
            "_view_module": "@jupyter-widgets/base",
            "overflow": null,
            "_model_module_version": "1.2.0",
            "_view_count": null,
            "flex_flow": null,
            "width": null,
            "min_width": null,
            "border": null,
            "align_items": null,
            "bottom": null,
            "_model_module": "@jupyter-widgets/base",
            "top": null,
            "grid_column": null,
            "overflow_y": null,
            "overflow_x": null,
            "grid_auto_flow": null,
            "grid_area": null,
            "grid_template_columns": null,
            "flex": null,
            "_model_name": "LayoutModel",
            "justify_items": null,
            "grid_row": null,
            "max_height": null,
            "align_content": null,
            "visibility": null,
            "align_self": null,
            "height": null,
            "min_height": null,
            "padding": null,
            "grid_auto_rows": null,
            "grid_gap": null,
            "max_width": null,
            "order": null,
            "_view_module_version": "1.2.0",
            "grid_template_areas": null,
            "object_position": null,
            "object_fit": null,
            "grid_auto_columns": null,
            "margin": null,
            "display": null,
            "left": null
          }
        },
        "3bf164c53aec47bda65f257005730c0f": {
          "model_module": "@jupyter-widgets/controls",
          "model_name": "ProgressStyleModel",
          "state": {
            "_view_name": "StyleView",
            "_model_name": "ProgressStyleModel",
            "description_width": "",
            "_view_module": "@jupyter-widgets/base",
            "_model_module_version": "1.5.0",
            "_view_count": null,
            "_view_module_version": "1.2.0",
            "bar_color": null,
            "_model_module": "@jupyter-widgets/controls"
          }
        },
        "783d2bbead294ec19683098bb4a4292b": {
          "model_module": "@jupyter-widgets/base",
          "model_name": "LayoutModel",
          "state": {
            "_view_name": "LayoutView",
            "grid_template_rows": null,
            "right": null,
            "justify_content": null,
            "_view_module": "@jupyter-widgets/base",
            "overflow": null,
            "_model_module_version": "1.2.0",
            "_view_count": null,
            "flex_flow": null,
            "width": null,
            "min_width": null,
            "border": null,
            "align_items": null,
            "bottom": null,
            "_model_module": "@jupyter-widgets/base",
            "top": null,
            "grid_column": null,
            "overflow_y": null,
            "overflow_x": null,
            "grid_auto_flow": null,
            "grid_area": null,
            "grid_template_columns": null,
            "flex": null,
            "_model_name": "LayoutModel",
            "justify_items": null,
            "grid_row": null,
            "max_height": null,
            "align_content": null,
            "visibility": null,
            "align_self": null,
            "height": null,
            "min_height": null,
            "padding": null,
            "grid_auto_rows": null,
            "grid_gap": null,
            "max_width": null,
            "order": null,
            "_view_module_version": "1.2.0",
            "grid_template_areas": null,
            "object_position": null,
            "object_fit": null,
            "grid_auto_columns": null,
            "margin": null,
            "display": null,
            "left": null
          }
        },
        "761cd6b4b22b44a380a3436e515457fc": {
          "model_module": "@jupyter-widgets/controls",
          "model_name": "VBoxModel",
          "state": {
            "_view_name": "VBoxView",
            "_dom_classes": [],
            "_model_name": "VBoxModel",
            "_view_module": "@jupyter-widgets/controls",
            "_model_module_version": "1.5.0",
            "_view_count": null,
            "_view_module_version": "1.5.0",
            "box_style": "",
            "layout": "IPY_MODEL_202463a83670436296d46c8627d56ed0",
            "_model_module": "@jupyter-widgets/controls",
            "children": [
              "IPY_MODEL_295d2b6c79ed4061b5bbb018fc09b7e9",
              "IPY_MODEL_6a24e4b6daa64ec899e2376843b04105"
            ]
          }
        },
        "202463a83670436296d46c8627d56ed0": {
          "model_module": "@jupyter-widgets/base",
          "model_name": "LayoutModel",
          "state": {
            "_view_name": "LayoutView",
            "grid_template_rows": null,
            "right": null,
            "justify_content": null,
            "_view_module": "@jupyter-widgets/base",
            "overflow": null,
            "_model_module_version": "1.2.0",
            "_view_count": null,
            "flex_flow": null,
            "width": null,
            "min_width": null,
            "border": null,
            "align_items": null,
            "bottom": null,
            "_model_module": "@jupyter-widgets/base",
            "top": null,
            "grid_column": null,
            "overflow_y": null,
            "overflow_x": null,
            "grid_auto_flow": null,
            "grid_area": null,
            "grid_template_columns": null,
            "flex": null,
            "_model_name": "LayoutModel",
            "justify_items": null,
            "grid_row": null,
            "max_height": null,
            "align_content": null,
            "visibility": null,
            "align_self": null,
            "height": null,
            "min_height": null,
            "padding": null,
            "grid_auto_rows": null,
            "grid_gap": null,
            "max_width": null,
            "order": null,
            "_view_module_version": "1.2.0",
            "grid_template_areas": null,
            "object_position": null,
            "object_fit": null,
            "grid_auto_columns": null,
            "margin": null,
            "display": null,
            "left": null
          }
        },
        "295d2b6c79ed4061b5bbb018fc09b7e9": {
          "model_module": "@jupyter-widgets/controls",
          "model_name": "LabelModel",
          "state": {
            "_view_name": "LabelView",
            "style": "IPY_MODEL_2b05f25a5f224071abd56f0cd60ad79a",
            "_dom_classes": [],
            "description": "",
            "_model_name": "LabelModel",
            "placeholder": "​",
            "_view_module": "@jupyter-widgets/controls",
            "_model_module_version": "1.5.0",
            "value": " 0.01MB of 0.01MB uploaded (0.00MB deduped)\r",
            "_view_count": null,
            "_view_module_version": "1.5.0",
            "description_tooltip": null,
            "_model_module": "@jupyter-widgets/controls",
            "layout": "IPY_MODEL_5bf029586c144f5db705b640dc432540"
          }
        },
        "6a24e4b6daa64ec899e2376843b04105": {
          "model_module": "@jupyter-widgets/controls",
          "model_name": "FloatProgressModel",
          "state": {
            "_view_name": "ProgressView",
            "style": "IPY_MODEL_02b1cdc21fcb4cf7a6f9a1695cee2fd9",
            "_dom_classes": [],
            "description": "",
            "_model_name": "FloatProgressModel",
            "bar_style": "",
            "max": 1,
            "_view_module": "@jupyter-widgets/controls",
            "_model_module_version": "1.5.0",
            "value": 1,
            "_view_count": null,
            "_view_module_version": "1.5.0",
            "orientation": "horizontal",
            "min": 0,
            "description_tooltip": null,
            "_model_module": "@jupyter-widgets/controls",
            "layout": "IPY_MODEL_a4700f8cb1474a5cbadc1f30776aa3bc"
          }
        },
        "2b05f25a5f224071abd56f0cd60ad79a": {
          "model_module": "@jupyter-widgets/controls",
          "model_name": "DescriptionStyleModel",
          "state": {
            "_view_name": "StyleView",
            "_model_name": "DescriptionStyleModel",
            "description_width": "",
            "_view_module": "@jupyter-widgets/base",
            "_model_module_version": "1.5.0",
            "_view_count": null,
            "_view_module_version": "1.2.0",
            "_model_module": "@jupyter-widgets/controls"
          }
        },
        "5bf029586c144f5db705b640dc432540": {
          "model_module": "@jupyter-widgets/base",
          "model_name": "LayoutModel",
          "state": {
            "_view_name": "LayoutView",
            "grid_template_rows": null,
            "right": null,
            "justify_content": null,
            "_view_module": "@jupyter-widgets/base",
            "overflow": null,
            "_model_module_version": "1.2.0",
            "_view_count": null,
            "flex_flow": null,
            "width": null,
            "min_width": null,
            "border": null,
            "align_items": null,
            "bottom": null,
            "_model_module": "@jupyter-widgets/base",
            "top": null,
            "grid_column": null,
            "overflow_y": null,
            "overflow_x": null,
            "grid_auto_flow": null,
            "grid_area": null,
            "grid_template_columns": null,
            "flex": null,
            "_model_name": "LayoutModel",
            "justify_items": null,
            "grid_row": null,
            "max_height": null,
            "align_content": null,
            "visibility": null,
            "align_self": null,
            "height": null,
            "min_height": null,
            "padding": null,
            "grid_auto_rows": null,
            "grid_gap": null,
            "max_width": null,
            "order": null,
            "_view_module_version": "1.2.0",
            "grid_template_areas": null,
            "object_position": null,
            "object_fit": null,
            "grid_auto_columns": null,
            "margin": null,
            "display": null,
            "left": null
          }
        },
        "02b1cdc21fcb4cf7a6f9a1695cee2fd9": {
          "model_module": "@jupyter-widgets/controls",
          "model_name": "ProgressStyleModel",
          "state": {
            "_view_name": "StyleView",
            "_model_name": "ProgressStyleModel",
            "description_width": "",
            "_view_module": "@jupyter-widgets/base",
            "_model_module_version": "1.5.0",
            "_view_count": null,
            "_view_module_version": "1.2.0",
            "bar_color": null,
            "_model_module": "@jupyter-widgets/controls"
          }
        },
        "a4700f8cb1474a5cbadc1f30776aa3bc": {
          "model_module": "@jupyter-widgets/base",
          "model_name": "LayoutModel",
          "state": {
            "_view_name": "LayoutView",
            "grid_template_rows": null,
            "right": null,
            "justify_content": null,
            "_view_module": "@jupyter-widgets/base",
            "overflow": null,
            "_model_module_version": "1.2.0",
            "_view_count": null,
            "flex_flow": null,
            "width": null,
            "min_width": null,
            "border": null,
            "align_items": null,
            "bottom": null,
            "_model_module": "@jupyter-widgets/base",
            "top": null,
            "grid_column": null,
            "overflow_y": null,
            "overflow_x": null,
            "grid_auto_flow": null,
            "grid_area": null,
            "grid_template_columns": null,
            "flex": null,
            "_model_name": "LayoutModel",
            "justify_items": null,
            "grid_row": null,
            "max_height": null,
            "align_content": null,
            "visibility": null,
            "align_self": null,
            "height": null,
            "min_height": null,
            "padding": null,
            "grid_auto_rows": null,
            "grid_gap": null,
            "max_width": null,
            "order": null,
            "_view_module_version": "1.2.0",
            "grid_template_areas": null,
            "object_position": null,
            "object_fit": null,
            "grid_auto_columns": null,
            "margin": null,
            "display": null,
            "left": null
          }
        },
        "76653a6ccf484068b017e55db13fde62": {
          "model_module": "@jupyter-widgets/controls",
          "model_name": "VBoxModel",
          "state": {
            "_view_name": "VBoxView",
            "_dom_classes": [],
            "_model_name": "VBoxModel",
            "_view_module": "@jupyter-widgets/controls",
            "_model_module_version": "1.5.0",
            "_view_count": null,
            "_view_module_version": "1.5.0",
            "box_style": "",
            "layout": "IPY_MODEL_206f69b91ddc4481b09be7c02a586b4e",
            "_model_module": "@jupyter-widgets/controls",
            "children": [
              "IPY_MODEL_97d8c1e749de44808261eae73ef81856",
              "IPY_MODEL_20ba14a826d54972a9330813aa17cb72"
            ]
          }
        },
        "206f69b91ddc4481b09be7c02a586b4e": {
          "model_module": "@jupyter-widgets/base",
          "model_name": "LayoutModel",
          "state": {
            "_view_name": "LayoutView",
            "grid_template_rows": null,
            "right": null,
            "justify_content": null,
            "_view_module": "@jupyter-widgets/base",
            "overflow": null,
            "_model_module_version": "1.2.0",
            "_view_count": null,
            "flex_flow": null,
            "width": null,
            "min_width": null,
            "border": null,
            "align_items": null,
            "bottom": null,
            "_model_module": "@jupyter-widgets/base",
            "top": null,
            "grid_column": null,
            "overflow_y": null,
            "overflow_x": null,
            "grid_auto_flow": null,
            "grid_area": null,
            "grid_template_columns": null,
            "flex": null,
            "_model_name": "LayoutModel",
            "justify_items": null,
            "grid_row": null,
            "max_height": null,
            "align_content": null,
            "visibility": null,
            "align_self": null,
            "height": null,
            "min_height": null,
            "padding": null,
            "grid_auto_rows": null,
            "grid_gap": null,
            "max_width": null,
            "order": null,
            "_view_module_version": "1.2.0",
            "grid_template_areas": null,
            "object_position": null,
            "object_fit": null,
            "grid_auto_columns": null,
            "margin": null,
            "display": null,
            "left": null
          }
        },
        "97d8c1e749de44808261eae73ef81856": {
          "model_module": "@jupyter-widgets/controls",
          "model_name": "LabelModel",
          "state": {
            "_view_name": "LabelView",
            "style": "IPY_MODEL_c47ff43c4bc04bfbb11edefcb4bd252f",
            "_dom_classes": [],
            "description": "",
            "_model_name": "LabelModel",
            "placeholder": "​",
            "_view_module": "@jupyter-widgets/controls",
            "_model_module_version": "1.5.0",
            "value": " 0.01MB of 0.01MB uploaded (0.00MB deduped)\r",
            "_view_count": null,
            "_view_module_version": "1.5.0",
            "description_tooltip": null,
            "_model_module": "@jupyter-widgets/controls",
            "layout": "IPY_MODEL_719107252c8f479c85d16cda8a2c370d"
          }
        },
        "20ba14a826d54972a9330813aa17cb72": {
          "model_module": "@jupyter-widgets/controls",
          "model_name": "FloatProgressModel",
          "state": {
            "_view_name": "ProgressView",
            "style": "IPY_MODEL_8bd09d4da6d04b5d944993a0333a1d01",
            "_dom_classes": [],
            "description": "",
            "_model_name": "FloatProgressModel",
            "bar_style": "",
            "max": 1,
            "_view_module": "@jupyter-widgets/controls",
            "_model_module_version": "1.5.0",
            "value": 1,
            "_view_count": null,
            "_view_module_version": "1.5.0",
            "orientation": "horizontal",
            "min": 0,
            "description_tooltip": null,
            "_model_module": "@jupyter-widgets/controls",
            "layout": "IPY_MODEL_e50bfd54b0444911830d32f4a54d5432"
          }
        },
        "c47ff43c4bc04bfbb11edefcb4bd252f": {
          "model_module": "@jupyter-widgets/controls",
          "model_name": "DescriptionStyleModel",
          "state": {
            "_view_name": "StyleView",
            "_model_name": "DescriptionStyleModel",
            "description_width": "",
            "_view_module": "@jupyter-widgets/base",
            "_model_module_version": "1.5.0",
            "_view_count": null,
            "_view_module_version": "1.2.0",
            "_model_module": "@jupyter-widgets/controls"
          }
        },
        "719107252c8f479c85d16cda8a2c370d": {
          "model_module": "@jupyter-widgets/base",
          "model_name": "LayoutModel",
          "state": {
            "_view_name": "LayoutView",
            "grid_template_rows": null,
            "right": null,
            "justify_content": null,
            "_view_module": "@jupyter-widgets/base",
            "overflow": null,
            "_model_module_version": "1.2.0",
            "_view_count": null,
            "flex_flow": null,
            "width": null,
            "min_width": null,
            "border": null,
            "align_items": null,
            "bottom": null,
            "_model_module": "@jupyter-widgets/base",
            "top": null,
            "grid_column": null,
            "overflow_y": null,
            "overflow_x": null,
            "grid_auto_flow": null,
            "grid_area": null,
            "grid_template_columns": null,
            "flex": null,
            "_model_name": "LayoutModel",
            "justify_items": null,
            "grid_row": null,
            "max_height": null,
            "align_content": null,
            "visibility": null,
            "align_self": null,
            "height": null,
            "min_height": null,
            "padding": null,
            "grid_auto_rows": null,
            "grid_gap": null,
            "max_width": null,
            "order": null,
            "_view_module_version": "1.2.0",
            "grid_template_areas": null,
            "object_position": null,
            "object_fit": null,
            "grid_auto_columns": null,
            "margin": null,
            "display": null,
            "left": null
          }
        },
        "8bd09d4da6d04b5d944993a0333a1d01": {
          "model_module": "@jupyter-widgets/controls",
          "model_name": "ProgressStyleModel",
          "state": {
            "_view_name": "StyleView",
            "_model_name": "ProgressStyleModel",
            "description_width": "",
            "_view_module": "@jupyter-widgets/base",
            "_model_module_version": "1.5.0",
            "_view_count": null,
            "_view_module_version": "1.2.0",
            "bar_color": null,
            "_model_module": "@jupyter-widgets/controls"
          }
        },
        "e50bfd54b0444911830d32f4a54d5432": {
          "model_module": "@jupyter-widgets/base",
          "model_name": "LayoutModel",
          "state": {
            "_view_name": "LayoutView",
            "grid_template_rows": null,
            "right": null,
            "justify_content": null,
            "_view_module": "@jupyter-widgets/base",
            "overflow": null,
            "_model_module_version": "1.2.0",
            "_view_count": null,
            "flex_flow": null,
            "width": null,
            "min_width": null,
            "border": null,
            "align_items": null,
            "bottom": null,
            "_model_module": "@jupyter-widgets/base",
            "top": null,
            "grid_column": null,
            "overflow_y": null,
            "overflow_x": null,
            "grid_auto_flow": null,
            "grid_area": null,
            "grid_template_columns": null,
            "flex": null,
            "_model_name": "LayoutModel",
            "justify_items": null,
            "grid_row": null,
            "max_height": null,
            "align_content": null,
            "visibility": null,
            "align_self": null,
            "height": null,
            "min_height": null,
            "padding": null,
            "grid_auto_rows": null,
            "grid_gap": null,
            "max_width": null,
            "order": null,
            "_view_module_version": "1.2.0",
            "grid_template_areas": null,
            "object_position": null,
            "object_fit": null,
            "grid_auto_columns": null,
            "margin": null,
            "display": null,
            "left": null
          }
        },
        "71cfa9021ae844b1a43d831ce6d99c74": {
          "model_module": "@jupyter-widgets/controls",
          "model_name": "VBoxModel",
          "state": {
            "_view_name": "VBoxView",
            "_dom_classes": [],
            "_model_name": "VBoxModel",
            "_view_module": "@jupyter-widgets/controls",
            "_model_module_version": "1.5.0",
            "_view_count": null,
            "_view_module_version": "1.5.0",
            "box_style": "",
            "layout": "IPY_MODEL_63cc64adbc184e5da72fb75f5cc7dfed",
            "_model_module": "@jupyter-widgets/controls",
            "children": [
              "IPY_MODEL_80368915bfae41dda13c16cc52e2aef8",
              "IPY_MODEL_0aadbb552ff14d0fa63118af472aaef0"
            ]
          }
        },
        "63cc64adbc184e5da72fb75f5cc7dfed": {
          "model_module": "@jupyter-widgets/base",
          "model_name": "LayoutModel",
          "state": {
            "_view_name": "LayoutView",
            "grid_template_rows": null,
            "right": null,
            "justify_content": null,
            "_view_module": "@jupyter-widgets/base",
            "overflow": null,
            "_model_module_version": "1.2.0",
            "_view_count": null,
            "flex_flow": null,
            "width": null,
            "min_width": null,
            "border": null,
            "align_items": null,
            "bottom": null,
            "_model_module": "@jupyter-widgets/base",
            "top": null,
            "grid_column": null,
            "overflow_y": null,
            "overflow_x": null,
            "grid_auto_flow": null,
            "grid_area": null,
            "grid_template_columns": null,
            "flex": null,
            "_model_name": "LayoutModel",
            "justify_items": null,
            "grid_row": null,
            "max_height": null,
            "align_content": null,
            "visibility": null,
            "align_self": null,
            "height": null,
            "min_height": null,
            "padding": null,
            "grid_auto_rows": null,
            "grid_gap": null,
            "max_width": null,
            "order": null,
            "_view_module_version": "1.2.0",
            "grid_template_areas": null,
            "object_position": null,
            "object_fit": null,
            "grid_auto_columns": null,
            "margin": null,
            "display": null,
            "left": null
          }
        },
        "80368915bfae41dda13c16cc52e2aef8": {
          "model_module": "@jupyter-widgets/controls",
          "model_name": "LabelModel",
          "state": {
            "_view_name": "LabelView",
            "style": "IPY_MODEL_1cc9c57cde5e47b08f83406f93c78b26",
            "_dom_classes": [],
            "description": "",
            "_model_name": "LabelModel",
            "placeholder": "​",
            "_view_module": "@jupyter-widgets/controls",
            "_model_module_version": "1.5.0",
            "value": " 0.01MB of 0.01MB uploaded (0.00MB deduped)\r",
            "_view_count": null,
            "_view_module_version": "1.5.0",
            "description_tooltip": null,
            "_model_module": "@jupyter-widgets/controls",
            "layout": "IPY_MODEL_5b122793eb304ebaaebfd10153b83ab8"
          }
        },
        "0aadbb552ff14d0fa63118af472aaef0": {
          "model_module": "@jupyter-widgets/controls",
          "model_name": "FloatProgressModel",
          "state": {
            "_view_name": "ProgressView",
            "style": "IPY_MODEL_969fea04ed494573aeba70598c928610",
            "_dom_classes": [],
            "description": "",
            "_model_name": "FloatProgressModel",
            "bar_style": "",
            "max": 1,
            "_view_module": "@jupyter-widgets/controls",
            "_model_module_version": "1.5.0",
            "value": 1,
            "_view_count": null,
            "_view_module_version": "1.5.0",
            "orientation": "horizontal",
            "min": 0,
            "description_tooltip": null,
            "_model_module": "@jupyter-widgets/controls",
            "layout": "IPY_MODEL_4cd9fcfaf1bb4887810277d9dd8421dd"
          }
        },
        "1cc9c57cde5e47b08f83406f93c78b26": {
          "model_module": "@jupyter-widgets/controls",
          "model_name": "DescriptionStyleModel",
          "state": {
            "_view_name": "StyleView",
            "_model_name": "DescriptionStyleModel",
            "description_width": "",
            "_view_module": "@jupyter-widgets/base",
            "_model_module_version": "1.5.0",
            "_view_count": null,
            "_view_module_version": "1.2.0",
            "_model_module": "@jupyter-widgets/controls"
          }
        },
        "5b122793eb304ebaaebfd10153b83ab8": {
          "model_module": "@jupyter-widgets/base",
          "model_name": "LayoutModel",
          "state": {
            "_view_name": "LayoutView",
            "grid_template_rows": null,
            "right": null,
            "justify_content": null,
            "_view_module": "@jupyter-widgets/base",
            "overflow": null,
            "_model_module_version": "1.2.0",
            "_view_count": null,
            "flex_flow": null,
            "width": null,
            "min_width": null,
            "border": null,
            "align_items": null,
            "bottom": null,
            "_model_module": "@jupyter-widgets/base",
            "top": null,
            "grid_column": null,
            "overflow_y": null,
            "overflow_x": null,
            "grid_auto_flow": null,
            "grid_area": null,
            "grid_template_columns": null,
            "flex": null,
            "_model_name": "LayoutModel",
            "justify_items": null,
            "grid_row": null,
            "max_height": null,
            "align_content": null,
            "visibility": null,
            "align_self": null,
            "height": null,
            "min_height": null,
            "padding": null,
            "grid_auto_rows": null,
            "grid_gap": null,
            "max_width": null,
            "order": null,
            "_view_module_version": "1.2.0",
            "grid_template_areas": null,
            "object_position": null,
            "object_fit": null,
            "grid_auto_columns": null,
            "margin": null,
            "display": null,
            "left": null
          }
        },
        "969fea04ed494573aeba70598c928610": {
          "model_module": "@jupyter-widgets/controls",
          "model_name": "ProgressStyleModel",
          "state": {
            "_view_name": "StyleView",
            "_model_name": "ProgressStyleModel",
            "description_width": "",
            "_view_module": "@jupyter-widgets/base",
            "_model_module_version": "1.5.0",
            "_view_count": null,
            "_view_module_version": "1.2.0",
            "bar_color": null,
            "_model_module": "@jupyter-widgets/controls"
          }
        },
        "4cd9fcfaf1bb4887810277d9dd8421dd": {
          "model_module": "@jupyter-widgets/base",
          "model_name": "LayoutModel",
          "state": {
            "_view_name": "LayoutView",
            "grid_template_rows": null,
            "right": null,
            "justify_content": null,
            "_view_module": "@jupyter-widgets/base",
            "overflow": null,
            "_model_module_version": "1.2.0",
            "_view_count": null,
            "flex_flow": null,
            "width": null,
            "min_width": null,
            "border": null,
            "align_items": null,
            "bottom": null,
            "_model_module": "@jupyter-widgets/base",
            "top": null,
            "grid_column": null,
            "overflow_y": null,
            "overflow_x": null,
            "grid_auto_flow": null,
            "grid_area": null,
            "grid_template_columns": null,
            "flex": null,
            "_model_name": "LayoutModel",
            "justify_items": null,
            "grid_row": null,
            "max_height": null,
            "align_content": null,
            "visibility": null,
            "align_self": null,
            "height": null,
            "min_height": null,
            "padding": null,
            "grid_auto_rows": null,
            "grid_gap": null,
            "max_width": null,
            "order": null,
            "_view_module_version": "1.2.0",
            "grid_template_areas": null,
            "object_position": null,
            "object_fit": null,
            "grid_auto_columns": null,
            "margin": null,
            "display": null,
            "left": null
          }
        },
        "299a74a19629419899a5f4c1ee6ea0f3": {
          "model_module": "@jupyter-widgets/controls",
          "model_name": "VBoxModel",
          "state": {
            "_view_name": "VBoxView",
            "_dom_classes": [],
            "_model_name": "VBoxModel",
            "_view_module": "@jupyter-widgets/controls",
            "_model_module_version": "1.5.0",
            "_view_count": null,
            "_view_module_version": "1.5.0",
            "box_style": "",
            "layout": "IPY_MODEL_1a4c87e76fa743c28c073c830d9e47ac",
            "_model_module": "@jupyter-widgets/controls",
            "children": [
              "IPY_MODEL_ce5d3c0584074dfdadd7f5b5ac741229",
              "IPY_MODEL_dcf00c1af4fc4bb9b710765e7d0719b8"
            ]
          }
        },
        "1a4c87e76fa743c28c073c830d9e47ac": {
          "model_module": "@jupyter-widgets/base",
          "model_name": "LayoutModel",
          "state": {
            "_view_name": "LayoutView",
            "grid_template_rows": null,
            "right": null,
            "justify_content": null,
            "_view_module": "@jupyter-widgets/base",
            "overflow": null,
            "_model_module_version": "1.2.0",
            "_view_count": null,
            "flex_flow": null,
            "width": null,
            "min_width": null,
            "border": null,
            "align_items": null,
            "bottom": null,
            "_model_module": "@jupyter-widgets/base",
            "top": null,
            "grid_column": null,
            "overflow_y": null,
            "overflow_x": null,
            "grid_auto_flow": null,
            "grid_area": null,
            "grid_template_columns": null,
            "flex": null,
            "_model_name": "LayoutModel",
            "justify_items": null,
            "grid_row": null,
            "max_height": null,
            "align_content": null,
            "visibility": null,
            "align_self": null,
            "height": null,
            "min_height": null,
            "padding": null,
            "grid_auto_rows": null,
            "grid_gap": null,
            "max_width": null,
            "order": null,
            "_view_module_version": "1.2.0",
            "grid_template_areas": null,
            "object_position": null,
            "object_fit": null,
            "grid_auto_columns": null,
            "margin": null,
            "display": null,
            "left": null
          }
        },
        "ce5d3c0584074dfdadd7f5b5ac741229": {
          "model_module": "@jupyter-widgets/controls",
          "model_name": "LabelModel",
          "state": {
            "_view_name": "LabelView",
            "style": "IPY_MODEL_463251b9c944496e868b01a8c71f73ff",
            "_dom_classes": [],
            "description": "",
            "_model_name": "LabelModel",
            "placeholder": "​",
            "_view_module": "@jupyter-widgets/controls",
            "_model_module_version": "1.5.0",
            "value": " 0.01MB of 0.01MB uploaded (0.00MB deduped)\r",
            "_view_count": null,
            "_view_module_version": "1.5.0",
            "description_tooltip": null,
            "_model_module": "@jupyter-widgets/controls",
            "layout": "IPY_MODEL_6dc9eb780ebf4704a9d679d9955dccca"
          }
        },
        "dcf00c1af4fc4bb9b710765e7d0719b8": {
          "model_module": "@jupyter-widgets/controls",
          "model_name": "FloatProgressModel",
          "state": {
            "_view_name": "ProgressView",
            "style": "IPY_MODEL_05a4dc8756f9482ab981557e9a64f243",
            "_dom_classes": [],
            "description": "",
            "_model_name": "FloatProgressModel",
            "bar_style": "",
            "max": 1,
            "_view_module": "@jupyter-widgets/controls",
            "_model_module_version": "1.5.0",
            "value": 1,
            "_view_count": null,
            "_view_module_version": "1.5.0",
            "orientation": "horizontal",
            "min": 0,
            "description_tooltip": null,
            "_model_module": "@jupyter-widgets/controls",
            "layout": "IPY_MODEL_fece5497cdf1492788df0080b696ab8e"
          }
        },
        "463251b9c944496e868b01a8c71f73ff": {
          "model_module": "@jupyter-widgets/controls",
          "model_name": "DescriptionStyleModel",
          "state": {
            "_view_name": "StyleView",
            "_model_name": "DescriptionStyleModel",
            "description_width": "",
            "_view_module": "@jupyter-widgets/base",
            "_model_module_version": "1.5.0",
            "_view_count": null,
            "_view_module_version": "1.2.0",
            "_model_module": "@jupyter-widgets/controls"
          }
        },
        "6dc9eb780ebf4704a9d679d9955dccca": {
          "model_module": "@jupyter-widgets/base",
          "model_name": "LayoutModel",
          "state": {
            "_view_name": "LayoutView",
            "grid_template_rows": null,
            "right": null,
            "justify_content": null,
            "_view_module": "@jupyter-widgets/base",
            "overflow": null,
            "_model_module_version": "1.2.0",
            "_view_count": null,
            "flex_flow": null,
            "width": null,
            "min_width": null,
            "border": null,
            "align_items": null,
            "bottom": null,
            "_model_module": "@jupyter-widgets/base",
            "top": null,
            "grid_column": null,
            "overflow_y": null,
            "overflow_x": null,
            "grid_auto_flow": null,
            "grid_area": null,
            "grid_template_columns": null,
            "flex": null,
            "_model_name": "LayoutModel",
            "justify_items": null,
            "grid_row": null,
            "max_height": null,
            "align_content": null,
            "visibility": null,
            "align_self": null,
            "height": null,
            "min_height": null,
            "padding": null,
            "grid_auto_rows": null,
            "grid_gap": null,
            "max_width": null,
            "order": null,
            "_view_module_version": "1.2.0",
            "grid_template_areas": null,
            "object_position": null,
            "object_fit": null,
            "grid_auto_columns": null,
            "margin": null,
            "display": null,
            "left": null
          }
        },
        "05a4dc8756f9482ab981557e9a64f243": {
          "model_module": "@jupyter-widgets/controls",
          "model_name": "ProgressStyleModel",
          "state": {
            "_view_name": "StyleView",
            "_model_name": "ProgressStyleModel",
            "description_width": "",
            "_view_module": "@jupyter-widgets/base",
            "_model_module_version": "1.5.0",
            "_view_count": null,
            "_view_module_version": "1.2.0",
            "bar_color": null,
            "_model_module": "@jupyter-widgets/controls"
          }
        },
        "fece5497cdf1492788df0080b696ab8e": {
          "model_module": "@jupyter-widgets/base",
          "model_name": "LayoutModel",
          "state": {
            "_view_name": "LayoutView",
            "grid_template_rows": null,
            "right": null,
            "justify_content": null,
            "_view_module": "@jupyter-widgets/base",
            "overflow": null,
            "_model_module_version": "1.2.0",
            "_view_count": null,
            "flex_flow": null,
            "width": null,
            "min_width": null,
            "border": null,
            "align_items": null,
            "bottom": null,
            "_model_module": "@jupyter-widgets/base",
            "top": null,
            "grid_column": null,
            "overflow_y": null,
            "overflow_x": null,
            "grid_auto_flow": null,
            "grid_area": null,
            "grid_template_columns": null,
            "flex": null,
            "_model_name": "LayoutModel",
            "justify_items": null,
            "grid_row": null,
            "max_height": null,
            "align_content": null,
            "visibility": null,
            "align_self": null,
            "height": null,
            "min_height": null,
            "padding": null,
            "grid_auto_rows": null,
            "grid_gap": null,
            "max_width": null,
            "order": null,
            "_view_module_version": "1.2.0",
            "grid_template_areas": null,
            "object_position": null,
            "object_fit": null,
            "grid_auto_columns": null,
            "margin": null,
            "display": null,
            "left": null
          }
        },
        "64a362ee8bb64a4cb3389f89c918845a": {
          "model_module": "@jupyter-widgets/controls",
          "model_name": "VBoxModel",
          "state": {
            "_view_name": "VBoxView",
            "_dom_classes": [],
            "_model_name": "VBoxModel",
            "_view_module": "@jupyter-widgets/controls",
            "_model_module_version": "1.5.0",
            "_view_count": null,
            "_view_module_version": "1.5.0",
            "box_style": "",
            "layout": "IPY_MODEL_e000428688b8433ebd00269a23294a70",
            "_model_module": "@jupyter-widgets/controls",
            "children": [
              "IPY_MODEL_9dfdff3a401a46179518b8367454f41d",
              "IPY_MODEL_e224c0c699574dadbc46cb3b8f52316f"
            ]
          }
        },
        "e000428688b8433ebd00269a23294a70": {
          "model_module": "@jupyter-widgets/base",
          "model_name": "LayoutModel",
          "state": {
            "_view_name": "LayoutView",
            "grid_template_rows": null,
            "right": null,
            "justify_content": null,
            "_view_module": "@jupyter-widgets/base",
            "overflow": null,
            "_model_module_version": "1.2.0",
            "_view_count": null,
            "flex_flow": null,
            "width": null,
            "min_width": null,
            "border": null,
            "align_items": null,
            "bottom": null,
            "_model_module": "@jupyter-widgets/base",
            "top": null,
            "grid_column": null,
            "overflow_y": null,
            "overflow_x": null,
            "grid_auto_flow": null,
            "grid_area": null,
            "grid_template_columns": null,
            "flex": null,
            "_model_name": "LayoutModel",
            "justify_items": null,
            "grid_row": null,
            "max_height": null,
            "align_content": null,
            "visibility": null,
            "align_self": null,
            "height": null,
            "min_height": null,
            "padding": null,
            "grid_auto_rows": null,
            "grid_gap": null,
            "max_width": null,
            "order": null,
            "_view_module_version": "1.2.0",
            "grid_template_areas": null,
            "object_position": null,
            "object_fit": null,
            "grid_auto_columns": null,
            "margin": null,
            "display": null,
            "left": null
          }
        },
        "9dfdff3a401a46179518b8367454f41d": {
          "model_module": "@jupyter-widgets/controls",
          "model_name": "LabelModel",
          "state": {
            "_view_name": "LabelView",
            "style": "IPY_MODEL_44e6db156eff4c73b4620cbc59de0b0a",
            "_dom_classes": [],
            "description": "",
            "_model_name": "LabelModel",
            "placeholder": "​",
            "_view_module": "@jupyter-widgets/controls",
            "_model_module_version": "1.5.0",
            "value": " 0.01MB of 0.01MB uploaded (0.00MB deduped)\r",
            "_view_count": null,
            "_view_module_version": "1.5.0",
            "description_tooltip": null,
            "_model_module": "@jupyter-widgets/controls",
            "layout": "IPY_MODEL_880c6a834a664ac2ba96f8de25114a6c"
          }
        },
        "e224c0c699574dadbc46cb3b8f52316f": {
          "model_module": "@jupyter-widgets/controls",
          "model_name": "FloatProgressModel",
          "state": {
            "_view_name": "ProgressView",
            "style": "IPY_MODEL_f52cbade1be24f7b92a7c7f25f621276",
            "_dom_classes": [],
            "description": "",
            "_model_name": "FloatProgressModel",
            "bar_style": "",
            "max": 1,
            "_view_module": "@jupyter-widgets/controls",
            "_model_module_version": "1.5.0",
            "value": 1,
            "_view_count": null,
            "_view_module_version": "1.5.0",
            "orientation": "horizontal",
            "min": 0,
            "description_tooltip": null,
            "_model_module": "@jupyter-widgets/controls",
            "layout": "IPY_MODEL_4f68bb1def774d12b33d7eaff403d2f2"
          }
        },
        "44e6db156eff4c73b4620cbc59de0b0a": {
          "model_module": "@jupyter-widgets/controls",
          "model_name": "DescriptionStyleModel",
          "state": {
            "_view_name": "StyleView",
            "_model_name": "DescriptionStyleModel",
            "description_width": "",
            "_view_module": "@jupyter-widgets/base",
            "_model_module_version": "1.5.0",
            "_view_count": null,
            "_view_module_version": "1.2.0",
            "_model_module": "@jupyter-widgets/controls"
          }
        },
        "880c6a834a664ac2ba96f8de25114a6c": {
          "model_module": "@jupyter-widgets/base",
          "model_name": "LayoutModel",
          "state": {
            "_view_name": "LayoutView",
            "grid_template_rows": null,
            "right": null,
            "justify_content": null,
            "_view_module": "@jupyter-widgets/base",
            "overflow": null,
            "_model_module_version": "1.2.0",
            "_view_count": null,
            "flex_flow": null,
            "width": null,
            "min_width": null,
            "border": null,
            "align_items": null,
            "bottom": null,
            "_model_module": "@jupyter-widgets/base",
            "top": null,
            "grid_column": null,
            "overflow_y": null,
            "overflow_x": null,
            "grid_auto_flow": null,
            "grid_area": null,
            "grid_template_columns": null,
            "flex": null,
            "_model_name": "LayoutModel",
            "justify_items": null,
            "grid_row": null,
            "max_height": null,
            "align_content": null,
            "visibility": null,
            "align_self": null,
            "height": null,
            "min_height": null,
            "padding": null,
            "grid_auto_rows": null,
            "grid_gap": null,
            "max_width": null,
            "order": null,
            "_view_module_version": "1.2.0",
            "grid_template_areas": null,
            "object_position": null,
            "object_fit": null,
            "grid_auto_columns": null,
            "margin": null,
            "display": null,
            "left": null
          }
        },
        "f52cbade1be24f7b92a7c7f25f621276": {
          "model_module": "@jupyter-widgets/controls",
          "model_name": "ProgressStyleModel",
          "state": {
            "_view_name": "StyleView",
            "_model_name": "ProgressStyleModel",
            "description_width": "",
            "_view_module": "@jupyter-widgets/base",
            "_model_module_version": "1.5.0",
            "_view_count": null,
            "_view_module_version": "1.2.0",
            "bar_color": null,
            "_model_module": "@jupyter-widgets/controls"
          }
        },
        "4f68bb1def774d12b33d7eaff403d2f2": {
          "model_module": "@jupyter-widgets/base",
          "model_name": "LayoutModel",
          "state": {
            "_view_name": "LayoutView",
            "grid_template_rows": null,
            "right": null,
            "justify_content": null,
            "_view_module": "@jupyter-widgets/base",
            "overflow": null,
            "_model_module_version": "1.2.0",
            "_view_count": null,
            "flex_flow": null,
            "width": null,
            "min_width": null,
            "border": null,
            "align_items": null,
            "bottom": null,
            "_model_module": "@jupyter-widgets/base",
            "top": null,
            "grid_column": null,
            "overflow_y": null,
            "overflow_x": null,
            "grid_auto_flow": null,
            "grid_area": null,
            "grid_template_columns": null,
            "flex": null,
            "_model_name": "LayoutModel",
            "justify_items": null,
            "grid_row": null,
            "max_height": null,
            "align_content": null,
            "visibility": null,
            "align_self": null,
            "height": null,
            "min_height": null,
            "padding": null,
            "grid_auto_rows": null,
            "grid_gap": null,
            "max_width": null,
            "order": null,
            "_view_module_version": "1.2.0",
            "grid_template_areas": null,
            "object_position": null,
            "object_fit": null,
            "grid_auto_columns": null,
            "margin": null,
            "display": null,
            "left": null
          }
        },
        "9caac240f34247d184cd75af33600f97": {
          "model_module": "@jupyter-widgets/controls",
          "model_name": "VBoxModel",
          "state": {
            "_view_name": "VBoxView",
            "_dom_classes": [],
            "_model_name": "VBoxModel",
            "_view_module": "@jupyter-widgets/controls",
            "_model_module_version": "1.5.0",
            "_view_count": null,
            "_view_module_version": "1.5.0",
            "box_style": "",
            "layout": "IPY_MODEL_d7fe064219b44eecae3969a108cf8281",
            "_model_module": "@jupyter-widgets/controls",
            "children": [
              "IPY_MODEL_477cc3a7a6844f61859df394bdabf7e9",
              "IPY_MODEL_941855f93c0349e7856daa680d7b5233"
            ]
          }
        },
        "d7fe064219b44eecae3969a108cf8281": {
          "model_module": "@jupyter-widgets/base",
          "model_name": "LayoutModel",
          "state": {
            "_view_name": "LayoutView",
            "grid_template_rows": null,
            "right": null,
            "justify_content": null,
            "_view_module": "@jupyter-widgets/base",
            "overflow": null,
            "_model_module_version": "1.2.0",
            "_view_count": null,
            "flex_flow": null,
            "width": null,
            "min_width": null,
            "border": null,
            "align_items": null,
            "bottom": null,
            "_model_module": "@jupyter-widgets/base",
            "top": null,
            "grid_column": null,
            "overflow_y": null,
            "overflow_x": null,
            "grid_auto_flow": null,
            "grid_area": null,
            "grid_template_columns": null,
            "flex": null,
            "_model_name": "LayoutModel",
            "justify_items": null,
            "grid_row": null,
            "max_height": null,
            "align_content": null,
            "visibility": null,
            "align_self": null,
            "height": null,
            "min_height": null,
            "padding": null,
            "grid_auto_rows": null,
            "grid_gap": null,
            "max_width": null,
            "order": null,
            "_view_module_version": "1.2.0",
            "grid_template_areas": null,
            "object_position": null,
            "object_fit": null,
            "grid_auto_columns": null,
            "margin": null,
            "display": null,
            "left": null
          }
        },
        "477cc3a7a6844f61859df394bdabf7e9": {
          "model_module": "@jupyter-widgets/controls",
          "model_name": "LabelModel",
          "state": {
            "_view_name": "LabelView",
            "style": "IPY_MODEL_4e60bcda3ba64d3da257def1563a1a7f",
            "_dom_classes": [],
            "description": "",
            "_model_name": "LabelModel",
            "placeholder": "​",
            "_view_module": "@jupyter-widgets/controls",
            "_model_module_version": "1.5.0",
            "value": " 0.01MB of 0.01MB uploaded (0.00MB deduped)\r",
            "_view_count": null,
            "_view_module_version": "1.5.0",
            "description_tooltip": null,
            "_model_module": "@jupyter-widgets/controls",
            "layout": "IPY_MODEL_fe844bdf41984c5481094144d06a056d"
          }
        },
        "941855f93c0349e7856daa680d7b5233": {
          "model_module": "@jupyter-widgets/controls",
          "model_name": "FloatProgressModel",
          "state": {
            "_view_name": "ProgressView",
            "style": "IPY_MODEL_f2655d860fbb4f6c9703b81207b93574",
            "_dom_classes": [],
            "description": "",
            "_model_name": "FloatProgressModel",
            "bar_style": "",
            "max": 1,
            "_view_module": "@jupyter-widgets/controls",
            "_model_module_version": "1.5.0",
            "value": 1,
            "_view_count": null,
            "_view_module_version": "1.5.0",
            "orientation": "horizontal",
            "min": 0,
            "description_tooltip": null,
            "_model_module": "@jupyter-widgets/controls",
            "layout": "IPY_MODEL_463c22bad2c64bc4993a0689cb7f9d22"
          }
        },
        "4e60bcda3ba64d3da257def1563a1a7f": {
          "model_module": "@jupyter-widgets/controls",
          "model_name": "DescriptionStyleModel",
          "state": {
            "_view_name": "StyleView",
            "_model_name": "DescriptionStyleModel",
            "description_width": "",
            "_view_module": "@jupyter-widgets/base",
            "_model_module_version": "1.5.0",
            "_view_count": null,
            "_view_module_version": "1.2.0",
            "_model_module": "@jupyter-widgets/controls"
          }
        },
        "fe844bdf41984c5481094144d06a056d": {
          "model_module": "@jupyter-widgets/base",
          "model_name": "LayoutModel",
          "state": {
            "_view_name": "LayoutView",
            "grid_template_rows": null,
            "right": null,
            "justify_content": null,
            "_view_module": "@jupyter-widgets/base",
            "overflow": null,
            "_model_module_version": "1.2.0",
            "_view_count": null,
            "flex_flow": null,
            "width": null,
            "min_width": null,
            "border": null,
            "align_items": null,
            "bottom": null,
            "_model_module": "@jupyter-widgets/base",
            "top": null,
            "grid_column": null,
            "overflow_y": null,
            "overflow_x": null,
            "grid_auto_flow": null,
            "grid_area": null,
            "grid_template_columns": null,
            "flex": null,
            "_model_name": "LayoutModel",
            "justify_items": null,
            "grid_row": null,
            "max_height": null,
            "align_content": null,
            "visibility": null,
            "align_self": null,
            "height": null,
            "min_height": null,
            "padding": null,
            "grid_auto_rows": null,
            "grid_gap": null,
            "max_width": null,
            "order": null,
            "_view_module_version": "1.2.0",
            "grid_template_areas": null,
            "object_position": null,
            "object_fit": null,
            "grid_auto_columns": null,
            "margin": null,
            "display": null,
            "left": null
          }
        },
        "f2655d860fbb4f6c9703b81207b93574": {
          "model_module": "@jupyter-widgets/controls",
          "model_name": "ProgressStyleModel",
          "state": {
            "_view_name": "StyleView",
            "_model_name": "ProgressStyleModel",
            "description_width": "",
            "_view_module": "@jupyter-widgets/base",
            "_model_module_version": "1.5.0",
            "_view_count": null,
            "_view_module_version": "1.2.0",
            "bar_color": null,
            "_model_module": "@jupyter-widgets/controls"
          }
        },
        "463c22bad2c64bc4993a0689cb7f9d22": {
          "model_module": "@jupyter-widgets/base",
          "model_name": "LayoutModel",
          "state": {
            "_view_name": "LayoutView",
            "grid_template_rows": null,
            "right": null,
            "justify_content": null,
            "_view_module": "@jupyter-widgets/base",
            "overflow": null,
            "_model_module_version": "1.2.0",
            "_view_count": null,
            "flex_flow": null,
            "width": null,
            "min_width": null,
            "border": null,
            "align_items": null,
            "bottom": null,
            "_model_module": "@jupyter-widgets/base",
            "top": null,
            "grid_column": null,
            "overflow_y": null,
            "overflow_x": null,
            "grid_auto_flow": null,
            "grid_area": null,
            "grid_template_columns": null,
            "flex": null,
            "_model_name": "LayoutModel",
            "justify_items": null,
            "grid_row": null,
            "max_height": null,
            "align_content": null,
            "visibility": null,
            "align_self": null,
            "height": null,
            "min_height": null,
            "padding": null,
            "grid_auto_rows": null,
            "grid_gap": null,
            "max_width": null,
            "order": null,
            "_view_module_version": "1.2.0",
            "grid_template_areas": null,
            "object_position": null,
            "object_fit": null,
            "grid_auto_columns": null,
            "margin": null,
            "display": null,
            "left": null
          }
        },
        "7b24acf06fe94e9ab45ef020a3639a5c": {
          "model_module": "@jupyter-widgets/controls",
          "model_name": "VBoxModel",
          "state": {
            "_view_name": "VBoxView",
            "_dom_classes": [],
            "_model_name": "VBoxModel",
            "_view_module": "@jupyter-widgets/controls",
            "_model_module_version": "1.5.0",
            "_view_count": null,
            "_view_module_version": "1.5.0",
            "box_style": "",
            "layout": "IPY_MODEL_2255acd4a57842deae922ff2c83c03ba",
            "_model_module": "@jupyter-widgets/controls",
            "children": [
              "IPY_MODEL_36b56ec0379d4d5b9e88aa429a0a4dac",
              "IPY_MODEL_0af33bc5001040d7b19cfce5a49c51cf"
            ]
          }
        },
        "2255acd4a57842deae922ff2c83c03ba": {
          "model_module": "@jupyter-widgets/base",
          "model_name": "LayoutModel",
          "state": {
            "_view_name": "LayoutView",
            "grid_template_rows": null,
            "right": null,
            "justify_content": null,
            "_view_module": "@jupyter-widgets/base",
            "overflow": null,
            "_model_module_version": "1.2.0",
            "_view_count": null,
            "flex_flow": null,
            "width": null,
            "min_width": null,
            "border": null,
            "align_items": null,
            "bottom": null,
            "_model_module": "@jupyter-widgets/base",
            "top": null,
            "grid_column": null,
            "overflow_y": null,
            "overflow_x": null,
            "grid_auto_flow": null,
            "grid_area": null,
            "grid_template_columns": null,
            "flex": null,
            "_model_name": "LayoutModel",
            "justify_items": null,
            "grid_row": null,
            "max_height": null,
            "align_content": null,
            "visibility": null,
            "align_self": null,
            "height": null,
            "min_height": null,
            "padding": null,
            "grid_auto_rows": null,
            "grid_gap": null,
            "max_width": null,
            "order": null,
            "_view_module_version": "1.2.0",
            "grid_template_areas": null,
            "object_position": null,
            "object_fit": null,
            "grid_auto_columns": null,
            "margin": null,
            "display": null,
            "left": null
          }
        },
        "36b56ec0379d4d5b9e88aa429a0a4dac": {
          "model_module": "@jupyter-widgets/controls",
          "model_name": "LabelModel",
          "state": {
            "_view_name": "LabelView",
            "style": "IPY_MODEL_34c5b9a7c2a0445ca585f1115ebd146e",
            "_dom_classes": [],
            "description": "",
            "_model_name": "LabelModel",
            "placeholder": "​",
            "_view_module": "@jupyter-widgets/controls",
            "_model_module_version": "1.5.0",
            "value": " 0.01MB of 0.01MB uploaded (0.00MB deduped)\r",
            "_view_count": null,
            "_view_module_version": "1.5.0",
            "description_tooltip": null,
            "_model_module": "@jupyter-widgets/controls",
            "layout": "IPY_MODEL_ada655b9c6ad40b8bbb4eddd9470bd99"
          }
        },
        "0af33bc5001040d7b19cfce5a49c51cf": {
          "model_module": "@jupyter-widgets/controls",
          "model_name": "FloatProgressModel",
          "state": {
            "_view_name": "ProgressView",
            "style": "IPY_MODEL_11b3366fe75148fb9a638124325e9f01",
            "_dom_classes": [],
            "description": "",
            "_model_name": "FloatProgressModel",
            "bar_style": "",
            "max": 1,
            "_view_module": "@jupyter-widgets/controls",
            "_model_module_version": "1.5.0",
            "value": 1,
            "_view_count": null,
            "_view_module_version": "1.5.0",
            "orientation": "horizontal",
            "min": 0,
            "description_tooltip": null,
            "_model_module": "@jupyter-widgets/controls",
            "layout": "IPY_MODEL_7d141298fc9b4c349ab09e18a72af1a9"
          }
        },
        "34c5b9a7c2a0445ca585f1115ebd146e": {
          "model_module": "@jupyter-widgets/controls",
          "model_name": "DescriptionStyleModel",
          "state": {
            "_view_name": "StyleView",
            "_model_name": "DescriptionStyleModel",
            "description_width": "",
            "_view_module": "@jupyter-widgets/base",
            "_model_module_version": "1.5.0",
            "_view_count": null,
            "_view_module_version": "1.2.0",
            "_model_module": "@jupyter-widgets/controls"
          }
        },
        "ada655b9c6ad40b8bbb4eddd9470bd99": {
          "model_module": "@jupyter-widgets/base",
          "model_name": "LayoutModel",
          "state": {
            "_view_name": "LayoutView",
            "grid_template_rows": null,
            "right": null,
            "justify_content": null,
            "_view_module": "@jupyter-widgets/base",
            "overflow": null,
            "_model_module_version": "1.2.0",
            "_view_count": null,
            "flex_flow": null,
            "width": null,
            "min_width": null,
            "border": null,
            "align_items": null,
            "bottom": null,
            "_model_module": "@jupyter-widgets/base",
            "top": null,
            "grid_column": null,
            "overflow_y": null,
            "overflow_x": null,
            "grid_auto_flow": null,
            "grid_area": null,
            "grid_template_columns": null,
            "flex": null,
            "_model_name": "LayoutModel",
            "justify_items": null,
            "grid_row": null,
            "max_height": null,
            "align_content": null,
            "visibility": null,
            "align_self": null,
            "height": null,
            "min_height": null,
            "padding": null,
            "grid_auto_rows": null,
            "grid_gap": null,
            "max_width": null,
            "order": null,
            "_view_module_version": "1.2.0",
            "grid_template_areas": null,
            "object_position": null,
            "object_fit": null,
            "grid_auto_columns": null,
            "margin": null,
            "display": null,
            "left": null
          }
        },
        "11b3366fe75148fb9a638124325e9f01": {
          "model_module": "@jupyter-widgets/controls",
          "model_name": "ProgressStyleModel",
          "state": {
            "_view_name": "StyleView",
            "_model_name": "ProgressStyleModel",
            "description_width": "",
            "_view_module": "@jupyter-widgets/base",
            "_model_module_version": "1.5.0",
            "_view_count": null,
            "_view_module_version": "1.2.0",
            "bar_color": null,
            "_model_module": "@jupyter-widgets/controls"
          }
        },
        "7d141298fc9b4c349ab09e18a72af1a9": {
          "model_module": "@jupyter-widgets/base",
          "model_name": "LayoutModel",
          "state": {
            "_view_name": "LayoutView",
            "grid_template_rows": null,
            "right": null,
            "justify_content": null,
            "_view_module": "@jupyter-widgets/base",
            "overflow": null,
            "_model_module_version": "1.2.0",
            "_view_count": null,
            "flex_flow": null,
            "width": null,
            "min_width": null,
            "border": null,
            "align_items": null,
            "bottom": null,
            "_model_module": "@jupyter-widgets/base",
            "top": null,
            "grid_column": null,
            "overflow_y": null,
            "overflow_x": null,
            "grid_auto_flow": null,
            "grid_area": null,
            "grid_template_columns": null,
            "flex": null,
            "_model_name": "LayoutModel",
            "justify_items": null,
            "grid_row": null,
            "max_height": null,
            "align_content": null,
            "visibility": null,
            "align_self": null,
            "height": null,
            "min_height": null,
            "padding": null,
            "grid_auto_rows": null,
            "grid_gap": null,
            "max_width": null,
            "order": null,
            "_view_module_version": "1.2.0",
            "grid_template_areas": null,
            "object_position": null,
            "object_fit": null,
            "grid_auto_columns": null,
            "margin": null,
            "display": null,
            "left": null
          }
        },
        "dbd32b42fe604f9eadd12ca09cb9ad8a": {
          "model_module": "@jupyter-widgets/controls",
          "model_name": "VBoxModel",
          "state": {
            "_view_name": "VBoxView",
            "_dom_classes": [],
            "_model_name": "VBoxModel",
            "_view_module": "@jupyter-widgets/controls",
            "_model_module_version": "1.5.0",
            "_view_count": null,
            "_view_module_version": "1.5.0",
            "box_style": "",
            "layout": "IPY_MODEL_9c769bfde8304f1286ebbc5fcd9441ae",
            "_model_module": "@jupyter-widgets/controls",
            "children": [
              "IPY_MODEL_3a440853719042778a4246ab6d49e00c",
              "IPY_MODEL_3df3bfe3844b40c0aeefafc96da38dc0"
            ]
          }
        },
        "9c769bfde8304f1286ebbc5fcd9441ae": {
          "model_module": "@jupyter-widgets/base",
          "model_name": "LayoutModel",
          "state": {
            "_view_name": "LayoutView",
            "grid_template_rows": null,
            "right": null,
            "justify_content": null,
            "_view_module": "@jupyter-widgets/base",
            "overflow": null,
            "_model_module_version": "1.2.0",
            "_view_count": null,
            "flex_flow": null,
            "width": null,
            "min_width": null,
            "border": null,
            "align_items": null,
            "bottom": null,
            "_model_module": "@jupyter-widgets/base",
            "top": null,
            "grid_column": null,
            "overflow_y": null,
            "overflow_x": null,
            "grid_auto_flow": null,
            "grid_area": null,
            "grid_template_columns": null,
            "flex": null,
            "_model_name": "LayoutModel",
            "justify_items": null,
            "grid_row": null,
            "max_height": null,
            "align_content": null,
            "visibility": null,
            "align_self": null,
            "height": null,
            "min_height": null,
            "padding": null,
            "grid_auto_rows": null,
            "grid_gap": null,
            "max_width": null,
            "order": null,
            "_view_module_version": "1.2.0",
            "grid_template_areas": null,
            "object_position": null,
            "object_fit": null,
            "grid_auto_columns": null,
            "margin": null,
            "display": null,
            "left": null
          }
        },
        "3a440853719042778a4246ab6d49e00c": {
          "model_module": "@jupyter-widgets/controls",
          "model_name": "LabelModel",
          "state": {
            "_view_name": "LabelView",
            "style": "IPY_MODEL_7b2d4022115f400a90fee2d2265c0b5e",
            "_dom_classes": [],
            "description": "",
            "_model_name": "LabelModel",
            "placeholder": "​",
            "_view_module": "@jupyter-widgets/controls",
            "_model_module_version": "1.5.0",
            "value": " 0.01MB of 0.01MB uploaded (0.00MB deduped)\r",
            "_view_count": null,
            "_view_module_version": "1.5.0",
            "description_tooltip": null,
            "_model_module": "@jupyter-widgets/controls",
            "layout": "IPY_MODEL_b979e311332b41159055565cfdcfbd64"
          }
        },
        "3df3bfe3844b40c0aeefafc96da38dc0": {
          "model_module": "@jupyter-widgets/controls",
          "model_name": "FloatProgressModel",
          "state": {
            "_view_name": "ProgressView",
            "style": "IPY_MODEL_5baec9e3993645acb3e00d0e2a62b15d",
            "_dom_classes": [],
            "description": "",
            "_model_name": "FloatProgressModel",
            "bar_style": "",
            "max": 1,
            "_view_module": "@jupyter-widgets/controls",
            "_model_module_version": "1.5.0",
            "value": 1,
            "_view_count": null,
            "_view_module_version": "1.5.0",
            "orientation": "horizontal",
            "min": 0,
            "description_tooltip": null,
            "_model_module": "@jupyter-widgets/controls",
            "layout": "IPY_MODEL_452523c6be85496db36c462152e175f6"
          }
        },
        "7b2d4022115f400a90fee2d2265c0b5e": {
          "model_module": "@jupyter-widgets/controls",
          "model_name": "DescriptionStyleModel",
          "state": {
            "_view_name": "StyleView",
            "_model_name": "DescriptionStyleModel",
            "description_width": "",
            "_view_module": "@jupyter-widgets/base",
            "_model_module_version": "1.5.0",
            "_view_count": null,
            "_view_module_version": "1.2.0",
            "_model_module": "@jupyter-widgets/controls"
          }
        },
        "b979e311332b41159055565cfdcfbd64": {
          "model_module": "@jupyter-widgets/base",
          "model_name": "LayoutModel",
          "state": {
            "_view_name": "LayoutView",
            "grid_template_rows": null,
            "right": null,
            "justify_content": null,
            "_view_module": "@jupyter-widgets/base",
            "overflow": null,
            "_model_module_version": "1.2.0",
            "_view_count": null,
            "flex_flow": null,
            "width": null,
            "min_width": null,
            "border": null,
            "align_items": null,
            "bottom": null,
            "_model_module": "@jupyter-widgets/base",
            "top": null,
            "grid_column": null,
            "overflow_y": null,
            "overflow_x": null,
            "grid_auto_flow": null,
            "grid_area": null,
            "grid_template_columns": null,
            "flex": null,
            "_model_name": "LayoutModel",
            "justify_items": null,
            "grid_row": null,
            "max_height": null,
            "align_content": null,
            "visibility": null,
            "align_self": null,
            "height": null,
            "min_height": null,
            "padding": null,
            "grid_auto_rows": null,
            "grid_gap": null,
            "max_width": null,
            "order": null,
            "_view_module_version": "1.2.0",
            "grid_template_areas": null,
            "object_position": null,
            "object_fit": null,
            "grid_auto_columns": null,
            "margin": null,
            "display": null,
            "left": null
          }
        },
        "5baec9e3993645acb3e00d0e2a62b15d": {
          "model_module": "@jupyter-widgets/controls",
          "model_name": "ProgressStyleModel",
          "state": {
            "_view_name": "StyleView",
            "_model_name": "ProgressStyleModel",
            "description_width": "",
            "_view_module": "@jupyter-widgets/base",
            "_model_module_version": "1.5.0",
            "_view_count": null,
            "_view_module_version": "1.2.0",
            "bar_color": null,
            "_model_module": "@jupyter-widgets/controls"
          }
        },
        "452523c6be85496db36c462152e175f6": {
          "model_module": "@jupyter-widgets/base",
          "model_name": "LayoutModel",
          "state": {
            "_view_name": "LayoutView",
            "grid_template_rows": null,
            "right": null,
            "justify_content": null,
            "_view_module": "@jupyter-widgets/base",
            "overflow": null,
            "_model_module_version": "1.2.0",
            "_view_count": null,
            "flex_flow": null,
            "width": null,
            "min_width": null,
            "border": null,
            "align_items": null,
            "bottom": null,
            "_model_module": "@jupyter-widgets/base",
            "top": null,
            "grid_column": null,
            "overflow_y": null,
            "overflow_x": null,
            "grid_auto_flow": null,
            "grid_area": null,
            "grid_template_columns": null,
            "flex": null,
            "_model_name": "LayoutModel",
            "justify_items": null,
            "grid_row": null,
            "max_height": null,
            "align_content": null,
            "visibility": null,
            "align_self": null,
            "height": null,
            "min_height": null,
            "padding": null,
            "grid_auto_rows": null,
            "grid_gap": null,
            "max_width": null,
            "order": null,
            "_view_module_version": "1.2.0",
            "grid_template_areas": null,
            "object_position": null,
            "object_fit": null,
            "grid_auto_columns": null,
            "margin": null,
            "display": null,
            "left": null
          }
        },
        "bcc0f4cfe07d42d1a618fb3d63c54953": {
          "model_module": "@jupyter-widgets/controls",
          "model_name": "VBoxModel",
          "state": {
            "_view_name": "VBoxView",
            "_dom_classes": [],
            "_model_name": "VBoxModel",
            "_view_module": "@jupyter-widgets/controls",
            "_model_module_version": "1.5.0",
            "_view_count": null,
            "_view_module_version": "1.5.0",
            "box_style": "",
            "layout": "IPY_MODEL_28fdcaf2ea474f74b062b6546a26694a",
            "_model_module": "@jupyter-widgets/controls",
            "children": [
              "IPY_MODEL_cabb639e8254446bb4cc264d3703b69a",
              "IPY_MODEL_804dd43840804f4eaa5ec90757833aa3"
            ]
          }
        },
        "28fdcaf2ea474f74b062b6546a26694a": {
          "model_module": "@jupyter-widgets/base",
          "model_name": "LayoutModel",
          "state": {
            "_view_name": "LayoutView",
            "grid_template_rows": null,
            "right": null,
            "justify_content": null,
            "_view_module": "@jupyter-widgets/base",
            "overflow": null,
            "_model_module_version": "1.2.0",
            "_view_count": null,
            "flex_flow": null,
            "width": null,
            "min_width": null,
            "border": null,
            "align_items": null,
            "bottom": null,
            "_model_module": "@jupyter-widgets/base",
            "top": null,
            "grid_column": null,
            "overflow_y": null,
            "overflow_x": null,
            "grid_auto_flow": null,
            "grid_area": null,
            "grid_template_columns": null,
            "flex": null,
            "_model_name": "LayoutModel",
            "justify_items": null,
            "grid_row": null,
            "max_height": null,
            "align_content": null,
            "visibility": null,
            "align_self": null,
            "height": null,
            "min_height": null,
            "padding": null,
            "grid_auto_rows": null,
            "grid_gap": null,
            "max_width": null,
            "order": null,
            "_view_module_version": "1.2.0",
            "grid_template_areas": null,
            "object_position": null,
            "object_fit": null,
            "grid_auto_columns": null,
            "margin": null,
            "display": null,
            "left": null
          }
        },
        "cabb639e8254446bb4cc264d3703b69a": {
          "model_module": "@jupyter-widgets/controls",
          "model_name": "LabelModel",
          "state": {
            "_view_name": "LabelView",
            "style": "IPY_MODEL_8acdad8b8319416d88f4b99cd3c66d07",
            "_dom_classes": [],
            "description": "",
            "_model_name": "LabelModel",
            "placeholder": "​",
            "_view_module": "@jupyter-widgets/controls",
            "_model_module_version": "1.5.0",
            "value": " 0.01MB of 0.01MB uploaded (0.00MB deduped)\r",
            "_view_count": null,
            "_view_module_version": "1.5.0",
            "description_tooltip": null,
            "_model_module": "@jupyter-widgets/controls",
            "layout": "IPY_MODEL_2d6a1f3184e943799e7d053e19911290"
          }
        },
        "804dd43840804f4eaa5ec90757833aa3": {
          "model_module": "@jupyter-widgets/controls",
          "model_name": "FloatProgressModel",
          "state": {
            "_view_name": "ProgressView",
            "style": "IPY_MODEL_e7a3bcda99344d1f9acac05fcbf6fe50",
            "_dom_classes": [],
            "description": "",
            "_model_name": "FloatProgressModel",
            "bar_style": "",
            "max": 1,
            "_view_module": "@jupyter-widgets/controls",
            "_model_module_version": "1.5.0",
            "value": 1,
            "_view_count": null,
            "_view_module_version": "1.5.0",
            "orientation": "horizontal",
            "min": 0,
            "description_tooltip": null,
            "_model_module": "@jupyter-widgets/controls",
            "layout": "IPY_MODEL_c0d82a8cb97741868f59dd315bf2272e"
          }
        },
        "8acdad8b8319416d88f4b99cd3c66d07": {
          "model_module": "@jupyter-widgets/controls",
          "model_name": "DescriptionStyleModel",
          "state": {
            "_view_name": "StyleView",
            "_model_name": "DescriptionStyleModel",
            "description_width": "",
            "_view_module": "@jupyter-widgets/base",
            "_model_module_version": "1.5.0",
            "_view_count": null,
            "_view_module_version": "1.2.0",
            "_model_module": "@jupyter-widgets/controls"
          }
        },
        "2d6a1f3184e943799e7d053e19911290": {
          "model_module": "@jupyter-widgets/base",
          "model_name": "LayoutModel",
          "state": {
            "_view_name": "LayoutView",
            "grid_template_rows": null,
            "right": null,
            "justify_content": null,
            "_view_module": "@jupyter-widgets/base",
            "overflow": null,
            "_model_module_version": "1.2.0",
            "_view_count": null,
            "flex_flow": null,
            "width": null,
            "min_width": null,
            "border": null,
            "align_items": null,
            "bottom": null,
            "_model_module": "@jupyter-widgets/base",
            "top": null,
            "grid_column": null,
            "overflow_y": null,
            "overflow_x": null,
            "grid_auto_flow": null,
            "grid_area": null,
            "grid_template_columns": null,
            "flex": null,
            "_model_name": "LayoutModel",
            "justify_items": null,
            "grid_row": null,
            "max_height": null,
            "align_content": null,
            "visibility": null,
            "align_self": null,
            "height": null,
            "min_height": null,
            "padding": null,
            "grid_auto_rows": null,
            "grid_gap": null,
            "max_width": null,
            "order": null,
            "_view_module_version": "1.2.0",
            "grid_template_areas": null,
            "object_position": null,
            "object_fit": null,
            "grid_auto_columns": null,
            "margin": null,
            "display": null,
            "left": null
          }
        },
        "e7a3bcda99344d1f9acac05fcbf6fe50": {
          "model_module": "@jupyter-widgets/controls",
          "model_name": "ProgressStyleModel",
          "state": {
            "_view_name": "StyleView",
            "_model_name": "ProgressStyleModel",
            "description_width": "",
            "_view_module": "@jupyter-widgets/base",
            "_model_module_version": "1.5.0",
            "_view_count": null,
            "_view_module_version": "1.2.0",
            "bar_color": null,
            "_model_module": "@jupyter-widgets/controls"
          }
        },
        "c0d82a8cb97741868f59dd315bf2272e": {
          "model_module": "@jupyter-widgets/base",
          "model_name": "LayoutModel",
          "state": {
            "_view_name": "LayoutView",
            "grid_template_rows": null,
            "right": null,
            "justify_content": null,
            "_view_module": "@jupyter-widgets/base",
            "overflow": null,
            "_model_module_version": "1.2.0",
            "_view_count": null,
            "flex_flow": null,
            "width": null,
            "min_width": null,
            "border": null,
            "align_items": null,
            "bottom": null,
            "_model_module": "@jupyter-widgets/base",
            "top": null,
            "grid_column": null,
            "overflow_y": null,
            "overflow_x": null,
            "grid_auto_flow": null,
            "grid_area": null,
            "grid_template_columns": null,
            "flex": null,
            "_model_name": "LayoutModel",
            "justify_items": null,
            "grid_row": null,
            "max_height": null,
            "align_content": null,
            "visibility": null,
            "align_self": null,
            "height": null,
            "min_height": null,
            "padding": null,
            "grid_auto_rows": null,
            "grid_gap": null,
            "max_width": null,
            "order": null,
            "_view_module_version": "1.2.0",
            "grid_template_areas": null,
            "object_position": null,
            "object_fit": null,
            "grid_auto_columns": null,
            "margin": null,
            "display": null,
            "left": null
          }
        },
        "c44fe0575f234b028c19a3d056134e67": {
          "model_module": "@jupyter-widgets/controls",
          "model_name": "VBoxModel",
          "state": {
            "_view_name": "VBoxView",
            "_dom_classes": [],
            "_model_name": "VBoxModel",
            "_view_module": "@jupyter-widgets/controls",
            "_model_module_version": "1.5.0",
            "_view_count": null,
            "_view_module_version": "1.5.0",
            "box_style": "",
            "layout": "IPY_MODEL_6597f666a15247eebe8415893496b182",
            "_model_module": "@jupyter-widgets/controls",
            "children": [
              "IPY_MODEL_a9e030d2593841849177233e15e0c51b",
              "IPY_MODEL_3f8c6325694b4df7bc966240674daa25"
            ]
          }
        },
        "6597f666a15247eebe8415893496b182": {
          "model_module": "@jupyter-widgets/base",
          "model_name": "LayoutModel",
          "state": {
            "_view_name": "LayoutView",
            "grid_template_rows": null,
            "right": null,
            "justify_content": null,
            "_view_module": "@jupyter-widgets/base",
            "overflow": null,
            "_model_module_version": "1.2.0",
            "_view_count": null,
            "flex_flow": null,
            "width": null,
            "min_width": null,
            "border": null,
            "align_items": null,
            "bottom": null,
            "_model_module": "@jupyter-widgets/base",
            "top": null,
            "grid_column": null,
            "overflow_y": null,
            "overflow_x": null,
            "grid_auto_flow": null,
            "grid_area": null,
            "grid_template_columns": null,
            "flex": null,
            "_model_name": "LayoutModel",
            "justify_items": null,
            "grid_row": null,
            "max_height": null,
            "align_content": null,
            "visibility": null,
            "align_self": null,
            "height": null,
            "min_height": null,
            "padding": null,
            "grid_auto_rows": null,
            "grid_gap": null,
            "max_width": null,
            "order": null,
            "_view_module_version": "1.2.0",
            "grid_template_areas": null,
            "object_position": null,
            "object_fit": null,
            "grid_auto_columns": null,
            "margin": null,
            "display": null,
            "left": null
          }
        },
        "a9e030d2593841849177233e15e0c51b": {
          "model_module": "@jupyter-widgets/controls",
          "model_name": "LabelModel",
          "state": {
            "_view_name": "LabelView",
            "style": "IPY_MODEL_d17440313f194fd28c3f08013f585847",
            "_dom_classes": [],
            "description": "",
            "_model_name": "LabelModel",
            "placeholder": "​",
            "_view_module": "@jupyter-widgets/controls",
            "_model_module_version": "1.5.0",
            "value": " 0.01MB of 0.01MB uploaded (0.00MB deduped)\r",
            "_view_count": null,
            "_view_module_version": "1.5.0",
            "description_tooltip": null,
            "_model_module": "@jupyter-widgets/controls",
            "layout": "IPY_MODEL_16a561c9b2e04516ab4cc3e366b8f474"
          }
        },
        "3f8c6325694b4df7bc966240674daa25": {
          "model_module": "@jupyter-widgets/controls",
          "model_name": "FloatProgressModel",
          "state": {
            "_view_name": "ProgressView",
            "style": "IPY_MODEL_fb03083b06be453fa0586a090570107d",
            "_dom_classes": [],
            "description": "",
            "_model_name": "FloatProgressModel",
            "bar_style": "",
            "max": 1,
            "_view_module": "@jupyter-widgets/controls",
            "_model_module_version": "1.5.0",
            "value": 1,
            "_view_count": null,
            "_view_module_version": "1.5.0",
            "orientation": "horizontal",
            "min": 0,
            "description_tooltip": null,
            "_model_module": "@jupyter-widgets/controls",
            "layout": "IPY_MODEL_687604f702174c32af8ee95841f4039d"
          }
        },
        "d17440313f194fd28c3f08013f585847": {
          "model_module": "@jupyter-widgets/controls",
          "model_name": "DescriptionStyleModel",
          "state": {
            "_view_name": "StyleView",
            "_model_name": "DescriptionStyleModel",
            "description_width": "",
            "_view_module": "@jupyter-widgets/base",
            "_model_module_version": "1.5.0",
            "_view_count": null,
            "_view_module_version": "1.2.0",
            "_model_module": "@jupyter-widgets/controls"
          }
        },
        "16a561c9b2e04516ab4cc3e366b8f474": {
          "model_module": "@jupyter-widgets/base",
          "model_name": "LayoutModel",
          "state": {
            "_view_name": "LayoutView",
            "grid_template_rows": null,
            "right": null,
            "justify_content": null,
            "_view_module": "@jupyter-widgets/base",
            "overflow": null,
            "_model_module_version": "1.2.0",
            "_view_count": null,
            "flex_flow": null,
            "width": null,
            "min_width": null,
            "border": null,
            "align_items": null,
            "bottom": null,
            "_model_module": "@jupyter-widgets/base",
            "top": null,
            "grid_column": null,
            "overflow_y": null,
            "overflow_x": null,
            "grid_auto_flow": null,
            "grid_area": null,
            "grid_template_columns": null,
            "flex": null,
            "_model_name": "LayoutModel",
            "justify_items": null,
            "grid_row": null,
            "max_height": null,
            "align_content": null,
            "visibility": null,
            "align_self": null,
            "height": null,
            "min_height": null,
            "padding": null,
            "grid_auto_rows": null,
            "grid_gap": null,
            "max_width": null,
            "order": null,
            "_view_module_version": "1.2.0",
            "grid_template_areas": null,
            "object_position": null,
            "object_fit": null,
            "grid_auto_columns": null,
            "margin": null,
            "display": null,
            "left": null
          }
        },
        "fb03083b06be453fa0586a090570107d": {
          "model_module": "@jupyter-widgets/controls",
          "model_name": "ProgressStyleModel",
          "state": {
            "_view_name": "StyleView",
            "_model_name": "ProgressStyleModel",
            "description_width": "",
            "_view_module": "@jupyter-widgets/base",
            "_model_module_version": "1.5.0",
            "_view_count": null,
            "_view_module_version": "1.2.0",
            "bar_color": null,
            "_model_module": "@jupyter-widgets/controls"
          }
        },
        "687604f702174c32af8ee95841f4039d": {
          "model_module": "@jupyter-widgets/base",
          "model_name": "LayoutModel",
          "state": {
            "_view_name": "LayoutView",
            "grid_template_rows": null,
            "right": null,
            "justify_content": null,
            "_view_module": "@jupyter-widgets/base",
            "overflow": null,
            "_model_module_version": "1.2.0",
            "_view_count": null,
            "flex_flow": null,
            "width": null,
            "min_width": null,
            "border": null,
            "align_items": null,
            "bottom": null,
            "_model_module": "@jupyter-widgets/base",
            "top": null,
            "grid_column": null,
            "overflow_y": null,
            "overflow_x": null,
            "grid_auto_flow": null,
            "grid_area": null,
            "grid_template_columns": null,
            "flex": null,
            "_model_name": "LayoutModel",
            "justify_items": null,
            "grid_row": null,
            "max_height": null,
            "align_content": null,
            "visibility": null,
            "align_self": null,
            "height": null,
            "min_height": null,
            "padding": null,
            "grid_auto_rows": null,
            "grid_gap": null,
            "max_width": null,
            "order": null,
            "_view_module_version": "1.2.0",
            "grid_template_areas": null,
            "object_position": null,
            "object_fit": null,
            "grid_auto_columns": null,
            "margin": null,
            "display": null,
            "left": null
          }
        },
        "516c3d380ba24e29a96e48342037998e": {
          "model_module": "@jupyter-widgets/controls",
          "model_name": "VBoxModel",
          "state": {
            "_view_name": "VBoxView",
            "_dom_classes": [],
            "_model_name": "VBoxModel",
            "_view_module": "@jupyter-widgets/controls",
            "_model_module_version": "1.5.0",
            "_view_count": null,
            "_view_module_version": "1.5.0",
            "box_style": "",
            "layout": "IPY_MODEL_d36c7e359d094222bd56a256a0400005",
            "_model_module": "@jupyter-widgets/controls",
            "children": [
              "IPY_MODEL_a6856750ef0d406b9592079d99f204f1",
              "IPY_MODEL_4b1f5b52fe71490ba2b04f261cffcd62"
            ]
          }
        },
        "d36c7e359d094222bd56a256a0400005": {
          "model_module": "@jupyter-widgets/base",
          "model_name": "LayoutModel",
          "state": {
            "_view_name": "LayoutView",
            "grid_template_rows": null,
            "right": null,
            "justify_content": null,
            "_view_module": "@jupyter-widgets/base",
            "overflow": null,
            "_model_module_version": "1.2.0",
            "_view_count": null,
            "flex_flow": null,
            "width": null,
            "min_width": null,
            "border": null,
            "align_items": null,
            "bottom": null,
            "_model_module": "@jupyter-widgets/base",
            "top": null,
            "grid_column": null,
            "overflow_y": null,
            "overflow_x": null,
            "grid_auto_flow": null,
            "grid_area": null,
            "grid_template_columns": null,
            "flex": null,
            "_model_name": "LayoutModel",
            "justify_items": null,
            "grid_row": null,
            "max_height": null,
            "align_content": null,
            "visibility": null,
            "align_self": null,
            "height": null,
            "min_height": null,
            "padding": null,
            "grid_auto_rows": null,
            "grid_gap": null,
            "max_width": null,
            "order": null,
            "_view_module_version": "1.2.0",
            "grid_template_areas": null,
            "object_position": null,
            "object_fit": null,
            "grid_auto_columns": null,
            "margin": null,
            "display": null,
            "left": null
          }
        },
        "a6856750ef0d406b9592079d99f204f1": {
          "model_module": "@jupyter-widgets/controls",
          "model_name": "LabelModel",
          "state": {
            "_view_name": "LabelView",
            "style": "IPY_MODEL_46e12b50cb2749e7aeca6e2dfd60ecbc",
            "_dom_classes": [],
            "description": "",
            "_model_name": "LabelModel",
            "placeholder": "​",
            "_view_module": "@jupyter-widgets/controls",
            "_model_module_version": "1.5.0",
            "value": " 0.01MB of 0.01MB uploaded (0.00MB deduped)\r",
            "_view_count": null,
            "_view_module_version": "1.5.0",
            "description_tooltip": null,
            "_model_module": "@jupyter-widgets/controls",
            "layout": "IPY_MODEL_50f952018d5c48e2ad2f094b65939665"
          }
        },
        "4b1f5b52fe71490ba2b04f261cffcd62": {
          "model_module": "@jupyter-widgets/controls",
          "model_name": "FloatProgressModel",
          "state": {
            "_view_name": "ProgressView",
            "style": "IPY_MODEL_1b5dd14f3aeb46848fddcc9ab0ec91ef",
            "_dom_classes": [],
            "description": "",
            "_model_name": "FloatProgressModel",
            "bar_style": "",
            "max": 1,
            "_view_module": "@jupyter-widgets/controls",
            "_model_module_version": "1.5.0",
            "value": 1,
            "_view_count": null,
            "_view_module_version": "1.5.0",
            "orientation": "horizontal",
            "min": 0,
            "description_tooltip": null,
            "_model_module": "@jupyter-widgets/controls",
            "layout": "IPY_MODEL_84597e14c5984024b8a9ebd57f57db1e"
          }
        },
        "46e12b50cb2749e7aeca6e2dfd60ecbc": {
          "model_module": "@jupyter-widgets/controls",
          "model_name": "DescriptionStyleModel",
          "state": {
            "_view_name": "StyleView",
            "_model_name": "DescriptionStyleModel",
            "description_width": "",
            "_view_module": "@jupyter-widgets/base",
            "_model_module_version": "1.5.0",
            "_view_count": null,
            "_view_module_version": "1.2.0",
            "_model_module": "@jupyter-widgets/controls"
          }
        },
        "50f952018d5c48e2ad2f094b65939665": {
          "model_module": "@jupyter-widgets/base",
          "model_name": "LayoutModel",
          "state": {
            "_view_name": "LayoutView",
            "grid_template_rows": null,
            "right": null,
            "justify_content": null,
            "_view_module": "@jupyter-widgets/base",
            "overflow": null,
            "_model_module_version": "1.2.0",
            "_view_count": null,
            "flex_flow": null,
            "width": null,
            "min_width": null,
            "border": null,
            "align_items": null,
            "bottom": null,
            "_model_module": "@jupyter-widgets/base",
            "top": null,
            "grid_column": null,
            "overflow_y": null,
            "overflow_x": null,
            "grid_auto_flow": null,
            "grid_area": null,
            "grid_template_columns": null,
            "flex": null,
            "_model_name": "LayoutModel",
            "justify_items": null,
            "grid_row": null,
            "max_height": null,
            "align_content": null,
            "visibility": null,
            "align_self": null,
            "height": null,
            "min_height": null,
            "padding": null,
            "grid_auto_rows": null,
            "grid_gap": null,
            "max_width": null,
            "order": null,
            "_view_module_version": "1.2.0",
            "grid_template_areas": null,
            "object_position": null,
            "object_fit": null,
            "grid_auto_columns": null,
            "margin": null,
            "display": null,
            "left": null
          }
        },
        "1b5dd14f3aeb46848fddcc9ab0ec91ef": {
          "model_module": "@jupyter-widgets/controls",
          "model_name": "ProgressStyleModel",
          "state": {
            "_view_name": "StyleView",
            "_model_name": "ProgressStyleModel",
            "description_width": "",
            "_view_module": "@jupyter-widgets/base",
            "_model_module_version": "1.5.0",
            "_view_count": null,
            "_view_module_version": "1.2.0",
            "bar_color": null,
            "_model_module": "@jupyter-widgets/controls"
          }
        },
        "84597e14c5984024b8a9ebd57f57db1e": {
          "model_module": "@jupyter-widgets/base",
          "model_name": "LayoutModel",
          "state": {
            "_view_name": "LayoutView",
            "grid_template_rows": null,
            "right": null,
            "justify_content": null,
            "_view_module": "@jupyter-widgets/base",
            "overflow": null,
            "_model_module_version": "1.2.0",
            "_view_count": null,
            "flex_flow": null,
            "width": null,
            "min_width": null,
            "border": null,
            "align_items": null,
            "bottom": null,
            "_model_module": "@jupyter-widgets/base",
            "top": null,
            "grid_column": null,
            "overflow_y": null,
            "overflow_x": null,
            "grid_auto_flow": null,
            "grid_area": null,
            "grid_template_columns": null,
            "flex": null,
            "_model_name": "LayoutModel",
            "justify_items": null,
            "grid_row": null,
            "max_height": null,
            "align_content": null,
            "visibility": null,
            "align_self": null,
            "height": null,
            "min_height": null,
            "padding": null,
            "grid_auto_rows": null,
            "grid_gap": null,
            "max_width": null,
            "order": null,
            "_view_module_version": "1.2.0",
            "grid_template_areas": null,
            "object_position": null,
            "object_fit": null,
            "grid_auto_columns": null,
            "margin": null,
            "display": null,
            "left": null
          }
        },
        "aa3a1cdfdb994e9fa7fc3d5a355ba62a": {
          "model_module": "@jupyter-widgets/controls",
          "model_name": "VBoxModel",
          "state": {
            "_view_name": "VBoxView",
            "_dom_classes": [],
            "_model_name": "VBoxModel",
            "_view_module": "@jupyter-widgets/controls",
            "_model_module_version": "1.5.0",
            "_view_count": null,
            "_view_module_version": "1.5.0",
            "box_style": "",
            "layout": "IPY_MODEL_fd983fb69ee54d319926ffcfdd79a722",
            "_model_module": "@jupyter-widgets/controls",
            "children": [
              "IPY_MODEL_ef9adfc44ec04a779baeecbe29889514",
              "IPY_MODEL_6eacb848226f489ab45f3e53d4611704"
            ]
          }
        },
        "fd983fb69ee54d319926ffcfdd79a722": {
          "model_module": "@jupyter-widgets/base",
          "model_name": "LayoutModel",
          "state": {
            "_view_name": "LayoutView",
            "grid_template_rows": null,
            "right": null,
            "justify_content": null,
            "_view_module": "@jupyter-widgets/base",
            "overflow": null,
            "_model_module_version": "1.2.0",
            "_view_count": null,
            "flex_flow": null,
            "width": null,
            "min_width": null,
            "border": null,
            "align_items": null,
            "bottom": null,
            "_model_module": "@jupyter-widgets/base",
            "top": null,
            "grid_column": null,
            "overflow_y": null,
            "overflow_x": null,
            "grid_auto_flow": null,
            "grid_area": null,
            "grid_template_columns": null,
            "flex": null,
            "_model_name": "LayoutModel",
            "justify_items": null,
            "grid_row": null,
            "max_height": null,
            "align_content": null,
            "visibility": null,
            "align_self": null,
            "height": null,
            "min_height": null,
            "padding": null,
            "grid_auto_rows": null,
            "grid_gap": null,
            "max_width": null,
            "order": null,
            "_view_module_version": "1.2.0",
            "grid_template_areas": null,
            "object_position": null,
            "object_fit": null,
            "grid_auto_columns": null,
            "margin": null,
            "display": null,
            "left": null
          }
        },
        "ef9adfc44ec04a779baeecbe29889514": {
          "model_module": "@jupyter-widgets/controls",
          "model_name": "LabelModel",
          "state": {
            "_view_name": "LabelView",
            "style": "IPY_MODEL_e7dc77ea66bb4e66b8317675ef4e3f17",
            "_dom_classes": [],
            "description": "",
            "_model_name": "LabelModel",
            "placeholder": "​",
            "_view_module": "@jupyter-widgets/controls",
            "_model_module_version": "1.5.0",
            "value": " 0.01MB of 0.01MB uploaded (0.00MB deduped)\r",
            "_view_count": null,
            "_view_module_version": "1.5.0",
            "description_tooltip": null,
            "_model_module": "@jupyter-widgets/controls",
            "layout": "IPY_MODEL_ee3c12ae47b74c48b49f15bc0450b8c1"
          }
        },
        "6eacb848226f489ab45f3e53d4611704": {
          "model_module": "@jupyter-widgets/controls",
          "model_name": "FloatProgressModel",
          "state": {
            "_view_name": "ProgressView",
            "style": "IPY_MODEL_5299218ee86b46d6af1951b268d2b22a",
            "_dom_classes": [],
            "description": "",
            "_model_name": "FloatProgressModel",
            "bar_style": "",
            "max": 1,
            "_view_module": "@jupyter-widgets/controls",
            "_model_module_version": "1.5.0",
            "value": 1,
            "_view_count": null,
            "_view_module_version": "1.5.0",
            "orientation": "horizontal",
            "min": 0,
            "description_tooltip": null,
            "_model_module": "@jupyter-widgets/controls",
            "layout": "IPY_MODEL_b8dd739c198349f78cecfda5da6330e8"
          }
        },
        "e7dc77ea66bb4e66b8317675ef4e3f17": {
          "model_module": "@jupyter-widgets/controls",
          "model_name": "DescriptionStyleModel",
          "state": {
            "_view_name": "StyleView",
            "_model_name": "DescriptionStyleModel",
            "description_width": "",
            "_view_module": "@jupyter-widgets/base",
            "_model_module_version": "1.5.0",
            "_view_count": null,
            "_view_module_version": "1.2.0",
            "_model_module": "@jupyter-widgets/controls"
          }
        },
        "ee3c12ae47b74c48b49f15bc0450b8c1": {
          "model_module": "@jupyter-widgets/base",
          "model_name": "LayoutModel",
          "state": {
            "_view_name": "LayoutView",
            "grid_template_rows": null,
            "right": null,
            "justify_content": null,
            "_view_module": "@jupyter-widgets/base",
            "overflow": null,
            "_model_module_version": "1.2.0",
            "_view_count": null,
            "flex_flow": null,
            "width": null,
            "min_width": null,
            "border": null,
            "align_items": null,
            "bottom": null,
            "_model_module": "@jupyter-widgets/base",
            "top": null,
            "grid_column": null,
            "overflow_y": null,
            "overflow_x": null,
            "grid_auto_flow": null,
            "grid_area": null,
            "grid_template_columns": null,
            "flex": null,
            "_model_name": "LayoutModel",
            "justify_items": null,
            "grid_row": null,
            "max_height": null,
            "align_content": null,
            "visibility": null,
            "align_self": null,
            "height": null,
            "min_height": null,
            "padding": null,
            "grid_auto_rows": null,
            "grid_gap": null,
            "max_width": null,
            "order": null,
            "_view_module_version": "1.2.0",
            "grid_template_areas": null,
            "object_position": null,
            "object_fit": null,
            "grid_auto_columns": null,
            "margin": null,
            "display": null,
            "left": null
          }
        },
        "5299218ee86b46d6af1951b268d2b22a": {
          "model_module": "@jupyter-widgets/controls",
          "model_name": "ProgressStyleModel",
          "state": {
            "_view_name": "StyleView",
            "_model_name": "ProgressStyleModel",
            "description_width": "",
            "_view_module": "@jupyter-widgets/base",
            "_model_module_version": "1.5.0",
            "_view_count": null,
            "_view_module_version": "1.2.0",
            "bar_color": null,
            "_model_module": "@jupyter-widgets/controls"
          }
        },
        "b8dd739c198349f78cecfda5da6330e8": {
          "model_module": "@jupyter-widgets/base",
          "model_name": "LayoutModel",
          "state": {
            "_view_name": "LayoutView",
            "grid_template_rows": null,
            "right": null,
            "justify_content": null,
            "_view_module": "@jupyter-widgets/base",
            "overflow": null,
            "_model_module_version": "1.2.0",
            "_view_count": null,
            "flex_flow": null,
            "width": null,
            "min_width": null,
            "border": null,
            "align_items": null,
            "bottom": null,
            "_model_module": "@jupyter-widgets/base",
            "top": null,
            "grid_column": null,
            "overflow_y": null,
            "overflow_x": null,
            "grid_auto_flow": null,
            "grid_area": null,
            "grid_template_columns": null,
            "flex": null,
            "_model_name": "LayoutModel",
            "justify_items": null,
            "grid_row": null,
            "max_height": null,
            "align_content": null,
            "visibility": null,
            "align_self": null,
            "height": null,
            "min_height": null,
            "padding": null,
            "grid_auto_rows": null,
            "grid_gap": null,
            "max_width": null,
            "order": null,
            "_view_module_version": "1.2.0",
            "grid_template_areas": null,
            "object_position": null,
            "object_fit": null,
            "grid_auto_columns": null,
            "margin": null,
            "display": null,
            "left": null
          }
        },
        "dce10c4b949f49bb84f4b555ec91a3bf": {
          "model_module": "@jupyter-widgets/controls",
          "model_name": "VBoxModel",
          "state": {
            "_view_name": "VBoxView",
            "_dom_classes": [],
            "_model_name": "VBoxModel",
            "_view_module": "@jupyter-widgets/controls",
            "_model_module_version": "1.5.0",
            "_view_count": null,
            "_view_module_version": "1.5.0",
            "box_style": "",
            "layout": "IPY_MODEL_9b251d756ad5423e962ca90986326257",
            "_model_module": "@jupyter-widgets/controls",
            "children": [
              "IPY_MODEL_a369f8eba9c24d4599e5bda2cde6fe11",
              "IPY_MODEL_97d3422477f5462aafc9bf2005771c0b"
            ]
          }
        },
        "9b251d756ad5423e962ca90986326257": {
          "model_module": "@jupyter-widgets/base",
          "model_name": "LayoutModel",
          "state": {
            "_view_name": "LayoutView",
            "grid_template_rows": null,
            "right": null,
            "justify_content": null,
            "_view_module": "@jupyter-widgets/base",
            "overflow": null,
            "_model_module_version": "1.2.0",
            "_view_count": null,
            "flex_flow": null,
            "width": null,
            "min_width": null,
            "border": null,
            "align_items": null,
            "bottom": null,
            "_model_module": "@jupyter-widgets/base",
            "top": null,
            "grid_column": null,
            "overflow_y": null,
            "overflow_x": null,
            "grid_auto_flow": null,
            "grid_area": null,
            "grid_template_columns": null,
            "flex": null,
            "_model_name": "LayoutModel",
            "justify_items": null,
            "grid_row": null,
            "max_height": null,
            "align_content": null,
            "visibility": null,
            "align_self": null,
            "height": null,
            "min_height": null,
            "padding": null,
            "grid_auto_rows": null,
            "grid_gap": null,
            "max_width": null,
            "order": null,
            "_view_module_version": "1.2.0",
            "grid_template_areas": null,
            "object_position": null,
            "object_fit": null,
            "grid_auto_columns": null,
            "margin": null,
            "display": null,
            "left": null
          }
        },
        "a369f8eba9c24d4599e5bda2cde6fe11": {
          "model_module": "@jupyter-widgets/controls",
          "model_name": "LabelModel",
          "state": {
            "_view_name": "LabelView",
            "style": "IPY_MODEL_aa77b34ac43f49d38b6781cdb2d8742e",
            "_dom_classes": [],
            "description": "",
            "_model_name": "LabelModel",
            "placeholder": "​",
            "_view_module": "@jupyter-widgets/controls",
            "_model_module_version": "1.5.0",
            "value": " 0.01MB of 0.01MB uploaded (0.00MB deduped)\r",
            "_view_count": null,
            "_view_module_version": "1.5.0",
            "description_tooltip": null,
            "_model_module": "@jupyter-widgets/controls",
            "layout": "IPY_MODEL_025176ddb108473cb7e3804a8f3e1233"
          }
        },
        "97d3422477f5462aafc9bf2005771c0b": {
          "model_module": "@jupyter-widgets/controls",
          "model_name": "FloatProgressModel",
          "state": {
            "_view_name": "ProgressView",
            "style": "IPY_MODEL_86878ea41a104f38ab19a4cfe25b3c1b",
            "_dom_classes": [],
            "description": "",
            "_model_name": "FloatProgressModel",
            "bar_style": "",
            "max": 1,
            "_view_module": "@jupyter-widgets/controls",
            "_model_module_version": "1.5.0",
            "value": 1,
            "_view_count": null,
            "_view_module_version": "1.5.0",
            "orientation": "horizontal",
            "min": 0,
            "description_tooltip": null,
            "_model_module": "@jupyter-widgets/controls",
            "layout": "IPY_MODEL_373a889ed3e94c18afc56d468c73969f"
          }
        },
        "aa77b34ac43f49d38b6781cdb2d8742e": {
          "model_module": "@jupyter-widgets/controls",
          "model_name": "DescriptionStyleModel",
          "state": {
            "_view_name": "StyleView",
            "_model_name": "DescriptionStyleModel",
            "description_width": "",
            "_view_module": "@jupyter-widgets/base",
            "_model_module_version": "1.5.0",
            "_view_count": null,
            "_view_module_version": "1.2.0",
            "_model_module": "@jupyter-widgets/controls"
          }
        },
        "025176ddb108473cb7e3804a8f3e1233": {
          "model_module": "@jupyter-widgets/base",
          "model_name": "LayoutModel",
          "state": {
            "_view_name": "LayoutView",
            "grid_template_rows": null,
            "right": null,
            "justify_content": null,
            "_view_module": "@jupyter-widgets/base",
            "overflow": null,
            "_model_module_version": "1.2.0",
            "_view_count": null,
            "flex_flow": null,
            "width": null,
            "min_width": null,
            "border": null,
            "align_items": null,
            "bottom": null,
            "_model_module": "@jupyter-widgets/base",
            "top": null,
            "grid_column": null,
            "overflow_y": null,
            "overflow_x": null,
            "grid_auto_flow": null,
            "grid_area": null,
            "grid_template_columns": null,
            "flex": null,
            "_model_name": "LayoutModel",
            "justify_items": null,
            "grid_row": null,
            "max_height": null,
            "align_content": null,
            "visibility": null,
            "align_self": null,
            "height": null,
            "min_height": null,
            "padding": null,
            "grid_auto_rows": null,
            "grid_gap": null,
            "max_width": null,
            "order": null,
            "_view_module_version": "1.2.0",
            "grid_template_areas": null,
            "object_position": null,
            "object_fit": null,
            "grid_auto_columns": null,
            "margin": null,
            "display": null,
            "left": null
          }
        },
        "86878ea41a104f38ab19a4cfe25b3c1b": {
          "model_module": "@jupyter-widgets/controls",
          "model_name": "ProgressStyleModel",
          "state": {
            "_view_name": "StyleView",
            "_model_name": "ProgressStyleModel",
            "description_width": "",
            "_view_module": "@jupyter-widgets/base",
            "_model_module_version": "1.5.0",
            "_view_count": null,
            "_view_module_version": "1.2.0",
            "bar_color": null,
            "_model_module": "@jupyter-widgets/controls"
          }
        },
        "373a889ed3e94c18afc56d468c73969f": {
          "model_module": "@jupyter-widgets/base",
          "model_name": "LayoutModel",
          "state": {
            "_view_name": "LayoutView",
            "grid_template_rows": null,
            "right": null,
            "justify_content": null,
            "_view_module": "@jupyter-widgets/base",
            "overflow": null,
            "_model_module_version": "1.2.0",
            "_view_count": null,
            "flex_flow": null,
            "width": null,
            "min_width": null,
            "border": null,
            "align_items": null,
            "bottom": null,
            "_model_module": "@jupyter-widgets/base",
            "top": null,
            "grid_column": null,
            "overflow_y": null,
            "overflow_x": null,
            "grid_auto_flow": null,
            "grid_area": null,
            "grid_template_columns": null,
            "flex": null,
            "_model_name": "LayoutModel",
            "justify_items": null,
            "grid_row": null,
            "max_height": null,
            "align_content": null,
            "visibility": null,
            "align_self": null,
            "height": null,
            "min_height": null,
            "padding": null,
            "grid_auto_rows": null,
            "grid_gap": null,
            "max_width": null,
            "order": null,
            "_view_module_version": "1.2.0",
            "grid_template_areas": null,
            "object_position": null,
            "object_fit": null,
            "grid_auto_columns": null,
            "margin": null,
            "display": null,
            "left": null
          }
        },
        "9f983a1427d74faabc1c71cc62555d86": {
          "model_module": "@jupyter-widgets/controls",
          "model_name": "VBoxModel",
          "state": {
            "_view_name": "VBoxView",
            "_dom_classes": [],
            "_model_name": "VBoxModel",
            "_view_module": "@jupyter-widgets/controls",
            "_model_module_version": "1.5.0",
            "_view_count": null,
            "_view_module_version": "1.5.0",
            "box_style": "",
            "layout": "IPY_MODEL_a746230f544b45519b6f1b36e7c954a2",
            "_model_module": "@jupyter-widgets/controls",
            "children": [
              "IPY_MODEL_416d5b1fc26641ea91facab73e99cf00",
              "IPY_MODEL_9d5cdf3b3a4a4a9e936241ea9327d52b"
            ]
          }
        },
        "a746230f544b45519b6f1b36e7c954a2": {
          "model_module": "@jupyter-widgets/base",
          "model_name": "LayoutModel",
          "state": {
            "_view_name": "LayoutView",
            "grid_template_rows": null,
            "right": null,
            "justify_content": null,
            "_view_module": "@jupyter-widgets/base",
            "overflow": null,
            "_model_module_version": "1.2.0",
            "_view_count": null,
            "flex_flow": null,
            "width": null,
            "min_width": null,
            "border": null,
            "align_items": null,
            "bottom": null,
            "_model_module": "@jupyter-widgets/base",
            "top": null,
            "grid_column": null,
            "overflow_y": null,
            "overflow_x": null,
            "grid_auto_flow": null,
            "grid_area": null,
            "grid_template_columns": null,
            "flex": null,
            "_model_name": "LayoutModel",
            "justify_items": null,
            "grid_row": null,
            "max_height": null,
            "align_content": null,
            "visibility": null,
            "align_self": null,
            "height": null,
            "min_height": null,
            "padding": null,
            "grid_auto_rows": null,
            "grid_gap": null,
            "max_width": null,
            "order": null,
            "_view_module_version": "1.2.0",
            "grid_template_areas": null,
            "object_position": null,
            "object_fit": null,
            "grid_auto_columns": null,
            "margin": null,
            "display": null,
            "left": null
          }
        },
        "416d5b1fc26641ea91facab73e99cf00": {
          "model_module": "@jupyter-widgets/controls",
          "model_name": "LabelModel",
          "state": {
            "_view_name": "LabelView",
            "style": "IPY_MODEL_bf8ffd75339c4cd0a8bae319c82ee449",
            "_dom_classes": [],
            "description": "",
            "_model_name": "LabelModel",
            "placeholder": "​",
            "_view_module": "@jupyter-widgets/controls",
            "_model_module_version": "1.5.0",
            "value": " 0.01MB of 0.01MB uploaded (0.00MB deduped)\r",
            "_view_count": null,
            "_view_module_version": "1.5.0",
            "description_tooltip": null,
            "_model_module": "@jupyter-widgets/controls",
            "layout": "IPY_MODEL_29184771168243ad820eafabd7fcd295"
          }
        },
        "9d5cdf3b3a4a4a9e936241ea9327d52b": {
          "model_module": "@jupyter-widgets/controls",
          "model_name": "FloatProgressModel",
          "state": {
            "_view_name": "ProgressView",
            "style": "IPY_MODEL_6f9ed0777251460382b272581d5db4f9",
            "_dom_classes": [],
            "description": "",
            "_model_name": "FloatProgressModel",
            "bar_style": "",
            "max": 1,
            "_view_module": "@jupyter-widgets/controls",
            "_model_module_version": "1.5.0",
            "value": 1,
            "_view_count": null,
            "_view_module_version": "1.5.0",
            "orientation": "horizontal",
            "min": 0,
            "description_tooltip": null,
            "_model_module": "@jupyter-widgets/controls",
            "layout": "IPY_MODEL_8ffa8ddd564247328a2e94f2c84d25c0"
          }
        },
        "bf8ffd75339c4cd0a8bae319c82ee449": {
          "model_module": "@jupyter-widgets/controls",
          "model_name": "DescriptionStyleModel",
          "state": {
            "_view_name": "StyleView",
            "_model_name": "DescriptionStyleModel",
            "description_width": "",
            "_view_module": "@jupyter-widgets/base",
            "_model_module_version": "1.5.0",
            "_view_count": null,
            "_view_module_version": "1.2.0",
            "_model_module": "@jupyter-widgets/controls"
          }
        },
        "29184771168243ad820eafabd7fcd295": {
          "model_module": "@jupyter-widgets/base",
          "model_name": "LayoutModel",
          "state": {
            "_view_name": "LayoutView",
            "grid_template_rows": null,
            "right": null,
            "justify_content": null,
            "_view_module": "@jupyter-widgets/base",
            "overflow": null,
            "_model_module_version": "1.2.0",
            "_view_count": null,
            "flex_flow": null,
            "width": null,
            "min_width": null,
            "border": null,
            "align_items": null,
            "bottom": null,
            "_model_module": "@jupyter-widgets/base",
            "top": null,
            "grid_column": null,
            "overflow_y": null,
            "overflow_x": null,
            "grid_auto_flow": null,
            "grid_area": null,
            "grid_template_columns": null,
            "flex": null,
            "_model_name": "LayoutModel",
            "justify_items": null,
            "grid_row": null,
            "max_height": null,
            "align_content": null,
            "visibility": null,
            "align_self": null,
            "height": null,
            "min_height": null,
            "padding": null,
            "grid_auto_rows": null,
            "grid_gap": null,
            "max_width": null,
            "order": null,
            "_view_module_version": "1.2.0",
            "grid_template_areas": null,
            "object_position": null,
            "object_fit": null,
            "grid_auto_columns": null,
            "margin": null,
            "display": null,
            "left": null
          }
        },
        "6f9ed0777251460382b272581d5db4f9": {
          "model_module": "@jupyter-widgets/controls",
          "model_name": "ProgressStyleModel",
          "state": {
            "_view_name": "StyleView",
            "_model_name": "ProgressStyleModel",
            "description_width": "",
            "_view_module": "@jupyter-widgets/base",
            "_model_module_version": "1.5.0",
            "_view_count": null,
            "_view_module_version": "1.2.0",
            "bar_color": null,
            "_model_module": "@jupyter-widgets/controls"
          }
        },
        "8ffa8ddd564247328a2e94f2c84d25c0": {
          "model_module": "@jupyter-widgets/base",
          "model_name": "LayoutModel",
          "state": {
            "_view_name": "LayoutView",
            "grid_template_rows": null,
            "right": null,
            "justify_content": null,
            "_view_module": "@jupyter-widgets/base",
            "overflow": null,
            "_model_module_version": "1.2.0",
            "_view_count": null,
            "flex_flow": null,
            "width": null,
            "min_width": null,
            "border": null,
            "align_items": null,
            "bottom": null,
            "_model_module": "@jupyter-widgets/base",
            "top": null,
            "grid_column": null,
            "overflow_y": null,
            "overflow_x": null,
            "grid_auto_flow": null,
            "grid_area": null,
            "grid_template_columns": null,
            "flex": null,
            "_model_name": "LayoutModel",
            "justify_items": null,
            "grid_row": null,
            "max_height": null,
            "align_content": null,
            "visibility": null,
            "align_self": null,
            "height": null,
            "min_height": null,
            "padding": null,
            "grid_auto_rows": null,
            "grid_gap": null,
            "max_width": null,
            "order": null,
            "_view_module_version": "1.2.0",
            "grid_template_areas": null,
            "object_position": null,
            "object_fit": null,
            "grid_auto_columns": null,
            "margin": null,
            "display": null,
            "left": null
          }
        },
        "cfef64fc478f4b94abcd981672f5e83a": {
          "model_module": "@jupyter-widgets/controls",
          "model_name": "VBoxModel",
          "state": {
            "_view_name": "VBoxView",
            "_dom_classes": [],
            "_model_name": "VBoxModel",
            "_view_module": "@jupyter-widgets/controls",
            "_model_module_version": "1.5.0",
            "_view_count": null,
            "_view_module_version": "1.5.0",
            "box_style": "",
            "layout": "IPY_MODEL_406d26cd7b2b4a8e842b59fcc2947924",
            "_model_module": "@jupyter-widgets/controls",
            "children": [
              "IPY_MODEL_9189f88a34864d01a34d18963bd033f2",
              "IPY_MODEL_9f24b5450cd84c8894f9e7f031d6d18a"
            ]
          }
        },
        "406d26cd7b2b4a8e842b59fcc2947924": {
          "model_module": "@jupyter-widgets/base",
          "model_name": "LayoutModel",
          "state": {
            "_view_name": "LayoutView",
            "grid_template_rows": null,
            "right": null,
            "justify_content": null,
            "_view_module": "@jupyter-widgets/base",
            "overflow": null,
            "_model_module_version": "1.2.0",
            "_view_count": null,
            "flex_flow": null,
            "width": null,
            "min_width": null,
            "border": null,
            "align_items": null,
            "bottom": null,
            "_model_module": "@jupyter-widgets/base",
            "top": null,
            "grid_column": null,
            "overflow_y": null,
            "overflow_x": null,
            "grid_auto_flow": null,
            "grid_area": null,
            "grid_template_columns": null,
            "flex": null,
            "_model_name": "LayoutModel",
            "justify_items": null,
            "grid_row": null,
            "max_height": null,
            "align_content": null,
            "visibility": null,
            "align_self": null,
            "height": null,
            "min_height": null,
            "padding": null,
            "grid_auto_rows": null,
            "grid_gap": null,
            "max_width": null,
            "order": null,
            "_view_module_version": "1.2.0",
            "grid_template_areas": null,
            "object_position": null,
            "object_fit": null,
            "grid_auto_columns": null,
            "margin": null,
            "display": null,
            "left": null
          }
        },
        "9189f88a34864d01a34d18963bd033f2": {
          "model_module": "@jupyter-widgets/controls",
          "model_name": "LabelModel",
          "state": {
            "_view_name": "LabelView",
            "style": "IPY_MODEL_e68e83b99d164e718289db1b7a1444d6",
            "_dom_classes": [],
            "description": "",
            "_model_name": "LabelModel",
            "placeholder": "​",
            "_view_module": "@jupyter-widgets/controls",
            "_model_module_version": "1.5.0",
            "value": " 0.01MB of 0.01MB uploaded (0.00MB deduped)\r",
            "_view_count": null,
            "_view_module_version": "1.5.0",
            "description_tooltip": null,
            "_model_module": "@jupyter-widgets/controls",
            "layout": "IPY_MODEL_5c72339b7e034b428e1a9df9770250cc"
          }
        },
        "9f24b5450cd84c8894f9e7f031d6d18a": {
          "model_module": "@jupyter-widgets/controls",
          "model_name": "FloatProgressModel",
          "state": {
            "_view_name": "ProgressView",
            "style": "IPY_MODEL_246062f7e7f14e90b9c64a7290f2cc84",
            "_dom_classes": [],
            "description": "",
            "_model_name": "FloatProgressModel",
            "bar_style": "",
            "max": 1,
            "_view_module": "@jupyter-widgets/controls",
            "_model_module_version": "1.5.0",
            "value": 1,
            "_view_count": null,
            "_view_module_version": "1.5.0",
            "orientation": "horizontal",
            "min": 0,
            "description_tooltip": null,
            "_model_module": "@jupyter-widgets/controls",
            "layout": "IPY_MODEL_7566633467894edf8bd3dd83e106e8c0"
          }
        },
        "e68e83b99d164e718289db1b7a1444d6": {
          "model_module": "@jupyter-widgets/controls",
          "model_name": "DescriptionStyleModel",
          "state": {
            "_view_name": "StyleView",
            "_model_name": "DescriptionStyleModel",
            "description_width": "",
            "_view_module": "@jupyter-widgets/base",
            "_model_module_version": "1.5.0",
            "_view_count": null,
            "_view_module_version": "1.2.0",
            "_model_module": "@jupyter-widgets/controls"
          }
        },
        "5c72339b7e034b428e1a9df9770250cc": {
          "model_module": "@jupyter-widgets/base",
          "model_name": "LayoutModel",
          "state": {
            "_view_name": "LayoutView",
            "grid_template_rows": null,
            "right": null,
            "justify_content": null,
            "_view_module": "@jupyter-widgets/base",
            "overflow": null,
            "_model_module_version": "1.2.0",
            "_view_count": null,
            "flex_flow": null,
            "width": null,
            "min_width": null,
            "border": null,
            "align_items": null,
            "bottom": null,
            "_model_module": "@jupyter-widgets/base",
            "top": null,
            "grid_column": null,
            "overflow_y": null,
            "overflow_x": null,
            "grid_auto_flow": null,
            "grid_area": null,
            "grid_template_columns": null,
            "flex": null,
            "_model_name": "LayoutModel",
            "justify_items": null,
            "grid_row": null,
            "max_height": null,
            "align_content": null,
            "visibility": null,
            "align_self": null,
            "height": null,
            "min_height": null,
            "padding": null,
            "grid_auto_rows": null,
            "grid_gap": null,
            "max_width": null,
            "order": null,
            "_view_module_version": "1.2.0",
            "grid_template_areas": null,
            "object_position": null,
            "object_fit": null,
            "grid_auto_columns": null,
            "margin": null,
            "display": null,
            "left": null
          }
        },
        "246062f7e7f14e90b9c64a7290f2cc84": {
          "model_module": "@jupyter-widgets/controls",
          "model_name": "ProgressStyleModel",
          "state": {
            "_view_name": "StyleView",
            "_model_name": "ProgressStyleModel",
            "description_width": "",
            "_view_module": "@jupyter-widgets/base",
            "_model_module_version": "1.5.0",
            "_view_count": null,
            "_view_module_version": "1.2.0",
            "bar_color": null,
            "_model_module": "@jupyter-widgets/controls"
          }
        },
        "7566633467894edf8bd3dd83e106e8c0": {
          "model_module": "@jupyter-widgets/base",
          "model_name": "LayoutModel",
          "state": {
            "_view_name": "LayoutView",
            "grid_template_rows": null,
            "right": null,
            "justify_content": null,
            "_view_module": "@jupyter-widgets/base",
            "overflow": null,
            "_model_module_version": "1.2.0",
            "_view_count": null,
            "flex_flow": null,
            "width": null,
            "min_width": null,
            "border": null,
            "align_items": null,
            "bottom": null,
            "_model_module": "@jupyter-widgets/base",
            "top": null,
            "grid_column": null,
            "overflow_y": null,
            "overflow_x": null,
            "grid_auto_flow": null,
            "grid_area": null,
            "grid_template_columns": null,
            "flex": null,
            "_model_name": "LayoutModel",
            "justify_items": null,
            "grid_row": null,
            "max_height": null,
            "align_content": null,
            "visibility": null,
            "align_self": null,
            "height": null,
            "min_height": null,
            "padding": null,
            "grid_auto_rows": null,
            "grid_gap": null,
            "max_width": null,
            "order": null,
            "_view_module_version": "1.2.0",
            "grid_template_areas": null,
            "object_position": null,
            "object_fit": null,
            "grid_auto_columns": null,
            "margin": null,
            "display": null,
            "left": null
          }
        },
        "e25885455534476683265af80542305e": {
          "model_module": "@jupyter-widgets/controls",
          "model_name": "VBoxModel",
          "state": {
            "_view_name": "VBoxView",
            "_dom_classes": [],
            "_model_name": "VBoxModel",
            "_view_module": "@jupyter-widgets/controls",
            "_model_module_version": "1.5.0",
            "_view_count": null,
            "_view_module_version": "1.5.0",
            "box_style": "",
            "layout": "IPY_MODEL_ed437571f34843c2b1ea8bb8108e5b5a",
            "_model_module": "@jupyter-widgets/controls",
            "children": [
              "IPY_MODEL_7e6f2b97e3c2440992790b99ac9352a8",
              "IPY_MODEL_f163e3b835ca432090b9970897fc6a5e"
            ]
          }
        },
        "ed437571f34843c2b1ea8bb8108e5b5a": {
          "model_module": "@jupyter-widgets/base",
          "model_name": "LayoutModel",
          "state": {
            "_view_name": "LayoutView",
            "grid_template_rows": null,
            "right": null,
            "justify_content": null,
            "_view_module": "@jupyter-widgets/base",
            "overflow": null,
            "_model_module_version": "1.2.0",
            "_view_count": null,
            "flex_flow": null,
            "width": null,
            "min_width": null,
            "border": null,
            "align_items": null,
            "bottom": null,
            "_model_module": "@jupyter-widgets/base",
            "top": null,
            "grid_column": null,
            "overflow_y": null,
            "overflow_x": null,
            "grid_auto_flow": null,
            "grid_area": null,
            "grid_template_columns": null,
            "flex": null,
            "_model_name": "LayoutModel",
            "justify_items": null,
            "grid_row": null,
            "max_height": null,
            "align_content": null,
            "visibility": null,
            "align_self": null,
            "height": null,
            "min_height": null,
            "padding": null,
            "grid_auto_rows": null,
            "grid_gap": null,
            "max_width": null,
            "order": null,
            "_view_module_version": "1.2.0",
            "grid_template_areas": null,
            "object_position": null,
            "object_fit": null,
            "grid_auto_columns": null,
            "margin": null,
            "display": null,
            "left": null
          }
        },
        "7e6f2b97e3c2440992790b99ac9352a8": {
          "model_module": "@jupyter-widgets/controls",
          "model_name": "LabelModel",
          "state": {
            "_view_name": "LabelView",
            "style": "IPY_MODEL_c5919baab6034a958b175452e4147977",
            "_dom_classes": [],
            "description": "",
            "_model_name": "LabelModel",
            "placeholder": "​",
            "_view_module": "@jupyter-widgets/controls",
            "_model_module_version": "1.5.0",
            "value": " 0.01MB of 0.01MB uploaded (0.00MB deduped)\r",
            "_view_count": null,
            "_view_module_version": "1.5.0",
            "description_tooltip": null,
            "_model_module": "@jupyter-widgets/controls",
            "layout": "IPY_MODEL_09c3f77a5185479db25d0708db7c2388"
          }
        },
        "f163e3b835ca432090b9970897fc6a5e": {
          "model_module": "@jupyter-widgets/controls",
          "model_name": "FloatProgressModel",
          "state": {
            "_view_name": "ProgressView",
            "style": "IPY_MODEL_66979c82c46a416bba6696586047fa38",
            "_dom_classes": [],
            "description": "",
            "_model_name": "FloatProgressModel",
            "bar_style": "",
            "max": 1,
            "_view_module": "@jupyter-widgets/controls",
            "_model_module_version": "1.5.0",
            "value": 1,
            "_view_count": null,
            "_view_module_version": "1.5.0",
            "orientation": "horizontal",
            "min": 0,
            "description_tooltip": null,
            "_model_module": "@jupyter-widgets/controls",
            "layout": "IPY_MODEL_8e47f5d3471b48039939ebd13cc80be2"
          }
        },
        "c5919baab6034a958b175452e4147977": {
          "model_module": "@jupyter-widgets/controls",
          "model_name": "DescriptionStyleModel",
          "state": {
            "_view_name": "StyleView",
            "_model_name": "DescriptionStyleModel",
            "description_width": "",
            "_view_module": "@jupyter-widgets/base",
            "_model_module_version": "1.5.0",
            "_view_count": null,
            "_view_module_version": "1.2.0",
            "_model_module": "@jupyter-widgets/controls"
          }
        },
        "09c3f77a5185479db25d0708db7c2388": {
          "model_module": "@jupyter-widgets/base",
          "model_name": "LayoutModel",
          "state": {
            "_view_name": "LayoutView",
            "grid_template_rows": null,
            "right": null,
            "justify_content": null,
            "_view_module": "@jupyter-widgets/base",
            "overflow": null,
            "_model_module_version": "1.2.0",
            "_view_count": null,
            "flex_flow": null,
            "width": null,
            "min_width": null,
            "border": null,
            "align_items": null,
            "bottom": null,
            "_model_module": "@jupyter-widgets/base",
            "top": null,
            "grid_column": null,
            "overflow_y": null,
            "overflow_x": null,
            "grid_auto_flow": null,
            "grid_area": null,
            "grid_template_columns": null,
            "flex": null,
            "_model_name": "LayoutModel",
            "justify_items": null,
            "grid_row": null,
            "max_height": null,
            "align_content": null,
            "visibility": null,
            "align_self": null,
            "height": null,
            "min_height": null,
            "padding": null,
            "grid_auto_rows": null,
            "grid_gap": null,
            "max_width": null,
            "order": null,
            "_view_module_version": "1.2.0",
            "grid_template_areas": null,
            "object_position": null,
            "object_fit": null,
            "grid_auto_columns": null,
            "margin": null,
            "display": null,
            "left": null
          }
        },
        "66979c82c46a416bba6696586047fa38": {
          "model_module": "@jupyter-widgets/controls",
          "model_name": "ProgressStyleModel",
          "state": {
            "_view_name": "StyleView",
            "_model_name": "ProgressStyleModel",
            "description_width": "",
            "_view_module": "@jupyter-widgets/base",
            "_model_module_version": "1.5.0",
            "_view_count": null,
            "_view_module_version": "1.2.0",
            "bar_color": null,
            "_model_module": "@jupyter-widgets/controls"
          }
        },
        "8e47f5d3471b48039939ebd13cc80be2": {
          "model_module": "@jupyter-widgets/base",
          "model_name": "LayoutModel",
          "state": {
            "_view_name": "LayoutView",
            "grid_template_rows": null,
            "right": null,
            "justify_content": null,
            "_view_module": "@jupyter-widgets/base",
            "overflow": null,
            "_model_module_version": "1.2.0",
            "_view_count": null,
            "flex_flow": null,
            "width": null,
            "min_width": null,
            "border": null,
            "align_items": null,
            "bottom": null,
            "_model_module": "@jupyter-widgets/base",
            "top": null,
            "grid_column": null,
            "overflow_y": null,
            "overflow_x": null,
            "grid_auto_flow": null,
            "grid_area": null,
            "grid_template_columns": null,
            "flex": null,
            "_model_name": "LayoutModel",
            "justify_items": null,
            "grid_row": null,
            "max_height": null,
            "align_content": null,
            "visibility": null,
            "align_self": null,
            "height": null,
            "min_height": null,
            "padding": null,
            "grid_auto_rows": null,
            "grid_gap": null,
            "max_width": null,
            "order": null,
            "_view_module_version": "1.2.0",
            "grid_template_areas": null,
            "object_position": null,
            "object_fit": null,
            "grid_auto_columns": null,
            "margin": null,
            "display": null,
            "left": null
          }
        },
        "ef8e502ec79541a5b79dd550e03af7f9": {
          "model_module": "@jupyter-widgets/controls",
          "model_name": "VBoxModel",
          "state": {
            "_view_name": "VBoxView",
            "_dom_classes": [],
            "_model_name": "VBoxModel",
            "_view_module": "@jupyter-widgets/controls",
            "_model_module_version": "1.5.0",
            "_view_count": null,
            "_view_module_version": "1.5.0",
            "box_style": "",
            "layout": "IPY_MODEL_9c3df53bb3304a9f82ad766d1a0da29b",
            "_model_module": "@jupyter-widgets/controls",
            "children": [
              "IPY_MODEL_20e5eeb1a011406795e9e011c4500e55",
              "IPY_MODEL_3ce8296ce0a24ceeac0d476b1aab023f"
            ]
          }
        },
        "9c3df53bb3304a9f82ad766d1a0da29b": {
          "model_module": "@jupyter-widgets/base",
          "model_name": "LayoutModel",
          "state": {
            "_view_name": "LayoutView",
            "grid_template_rows": null,
            "right": null,
            "justify_content": null,
            "_view_module": "@jupyter-widgets/base",
            "overflow": null,
            "_model_module_version": "1.2.0",
            "_view_count": null,
            "flex_flow": null,
            "width": null,
            "min_width": null,
            "border": null,
            "align_items": null,
            "bottom": null,
            "_model_module": "@jupyter-widgets/base",
            "top": null,
            "grid_column": null,
            "overflow_y": null,
            "overflow_x": null,
            "grid_auto_flow": null,
            "grid_area": null,
            "grid_template_columns": null,
            "flex": null,
            "_model_name": "LayoutModel",
            "justify_items": null,
            "grid_row": null,
            "max_height": null,
            "align_content": null,
            "visibility": null,
            "align_self": null,
            "height": null,
            "min_height": null,
            "padding": null,
            "grid_auto_rows": null,
            "grid_gap": null,
            "max_width": null,
            "order": null,
            "_view_module_version": "1.2.0",
            "grid_template_areas": null,
            "object_position": null,
            "object_fit": null,
            "grid_auto_columns": null,
            "margin": null,
            "display": null,
            "left": null
          }
        },
        "20e5eeb1a011406795e9e011c4500e55": {
          "model_module": "@jupyter-widgets/controls",
          "model_name": "LabelModel",
          "state": {
            "_view_name": "LabelView",
            "style": "IPY_MODEL_3f032eafa7964206a970c31c5b092d8b",
            "_dom_classes": [],
            "description": "",
            "_model_name": "LabelModel",
            "placeholder": "​",
            "_view_module": "@jupyter-widgets/controls",
            "_model_module_version": "1.5.0",
            "value": " 0.01MB of 0.01MB uploaded (0.00MB deduped)\r",
            "_view_count": null,
            "_view_module_version": "1.5.0",
            "description_tooltip": null,
            "_model_module": "@jupyter-widgets/controls",
            "layout": "IPY_MODEL_4e20ac8b36a149f3a4c9114765d47191"
          }
        },
        "3ce8296ce0a24ceeac0d476b1aab023f": {
          "model_module": "@jupyter-widgets/controls",
          "model_name": "FloatProgressModel",
          "state": {
            "_view_name": "ProgressView",
            "style": "IPY_MODEL_b2c1f56f77b046da91cecdddba4cb18b",
            "_dom_classes": [],
            "description": "",
            "_model_name": "FloatProgressModel",
            "bar_style": "",
            "max": 1,
            "_view_module": "@jupyter-widgets/controls",
            "_model_module_version": "1.5.0",
            "value": 1,
            "_view_count": null,
            "_view_module_version": "1.5.0",
            "orientation": "horizontal",
            "min": 0,
            "description_tooltip": null,
            "_model_module": "@jupyter-widgets/controls",
            "layout": "IPY_MODEL_e866a2d772fc41808129db5c043039cf"
          }
        },
        "3f032eafa7964206a970c31c5b092d8b": {
          "model_module": "@jupyter-widgets/controls",
          "model_name": "DescriptionStyleModel",
          "state": {
            "_view_name": "StyleView",
            "_model_name": "DescriptionStyleModel",
            "description_width": "",
            "_view_module": "@jupyter-widgets/base",
            "_model_module_version": "1.5.0",
            "_view_count": null,
            "_view_module_version": "1.2.0",
            "_model_module": "@jupyter-widgets/controls"
          }
        },
        "4e20ac8b36a149f3a4c9114765d47191": {
          "model_module": "@jupyter-widgets/base",
          "model_name": "LayoutModel",
          "state": {
            "_view_name": "LayoutView",
            "grid_template_rows": null,
            "right": null,
            "justify_content": null,
            "_view_module": "@jupyter-widgets/base",
            "overflow": null,
            "_model_module_version": "1.2.0",
            "_view_count": null,
            "flex_flow": null,
            "width": null,
            "min_width": null,
            "border": null,
            "align_items": null,
            "bottom": null,
            "_model_module": "@jupyter-widgets/base",
            "top": null,
            "grid_column": null,
            "overflow_y": null,
            "overflow_x": null,
            "grid_auto_flow": null,
            "grid_area": null,
            "grid_template_columns": null,
            "flex": null,
            "_model_name": "LayoutModel",
            "justify_items": null,
            "grid_row": null,
            "max_height": null,
            "align_content": null,
            "visibility": null,
            "align_self": null,
            "height": null,
            "min_height": null,
            "padding": null,
            "grid_auto_rows": null,
            "grid_gap": null,
            "max_width": null,
            "order": null,
            "_view_module_version": "1.2.0",
            "grid_template_areas": null,
            "object_position": null,
            "object_fit": null,
            "grid_auto_columns": null,
            "margin": null,
            "display": null,
            "left": null
          }
        },
        "b2c1f56f77b046da91cecdddba4cb18b": {
          "model_module": "@jupyter-widgets/controls",
          "model_name": "ProgressStyleModel",
          "state": {
            "_view_name": "StyleView",
            "_model_name": "ProgressStyleModel",
            "description_width": "",
            "_view_module": "@jupyter-widgets/base",
            "_model_module_version": "1.5.0",
            "_view_count": null,
            "_view_module_version": "1.2.0",
            "bar_color": null,
            "_model_module": "@jupyter-widgets/controls"
          }
        },
        "e866a2d772fc41808129db5c043039cf": {
          "model_module": "@jupyter-widgets/base",
          "model_name": "LayoutModel",
          "state": {
            "_view_name": "LayoutView",
            "grid_template_rows": null,
            "right": null,
            "justify_content": null,
            "_view_module": "@jupyter-widgets/base",
            "overflow": null,
            "_model_module_version": "1.2.0",
            "_view_count": null,
            "flex_flow": null,
            "width": null,
            "min_width": null,
            "border": null,
            "align_items": null,
            "bottom": null,
            "_model_module": "@jupyter-widgets/base",
            "top": null,
            "grid_column": null,
            "overflow_y": null,
            "overflow_x": null,
            "grid_auto_flow": null,
            "grid_area": null,
            "grid_template_columns": null,
            "flex": null,
            "_model_name": "LayoutModel",
            "justify_items": null,
            "grid_row": null,
            "max_height": null,
            "align_content": null,
            "visibility": null,
            "align_self": null,
            "height": null,
            "min_height": null,
            "padding": null,
            "grid_auto_rows": null,
            "grid_gap": null,
            "max_width": null,
            "order": null,
            "_view_module_version": "1.2.0",
            "grid_template_areas": null,
            "object_position": null,
            "object_fit": null,
            "grid_auto_columns": null,
            "margin": null,
            "display": null,
            "left": null
          }
        },
        "5b5e12cb34914b5781db2e0f1bd83325": {
          "model_module": "@jupyter-widgets/controls",
          "model_name": "VBoxModel",
          "state": {
            "_view_name": "VBoxView",
            "_dom_classes": [],
            "_model_name": "VBoxModel",
            "_view_module": "@jupyter-widgets/controls",
            "_model_module_version": "1.5.0",
            "_view_count": null,
            "_view_module_version": "1.5.0",
            "box_style": "",
            "layout": "IPY_MODEL_8b1a52b490f7464f864d1cab92d96f3e",
            "_model_module": "@jupyter-widgets/controls",
            "children": [
              "IPY_MODEL_e2d201e42f4444d3a85da7b8ae2fd8b8",
              "IPY_MODEL_30b305c2d7574d2ca6e8a2e4befbb462"
            ]
          }
        },
        "8b1a52b490f7464f864d1cab92d96f3e": {
          "model_module": "@jupyter-widgets/base",
          "model_name": "LayoutModel",
          "state": {
            "_view_name": "LayoutView",
            "grid_template_rows": null,
            "right": null,
            "justify_content": null,
            "_view_module": "@jupyter-widgets/base",
            "overflow": null,
            "_model_module_version": "1.2.0",
            "_view_count": null,
            "flex_flow": null,
            "width": null,
            "min_width": null,
            "border": null,
            "align_items": null,
            "bottom": null,
            "_model_module": "@jupyter-widgets/base",
            "top": null,
            "grid_column": null,
            "overflow_y": null,
            "overflow_x": null,
            "grid_auto_flow": null,
            "grid_area": null,
            "grid_template_columns": null,
            "flex": null,
            "_model_name": "LayoutModel",
            "justify_items": null,
            "grid_row": null,
            "max_height": null,
            "align_content": null,
            "visibility": null,
            "align_self": null,
            "height": null,
            "min_height": null,
            "padding": null,
            "grid_auto_rows": null,
            "grid_gap": null,
            "max_width": null,
            "order": null,
            "_view_module_version": "1.2.0",
            "grid_template_areas": null,
            "object_position": null,
            "object_fit": null,
            "grid_auto_columns": null,
            "margin": null,
            "display": null,
            "left": null
          }
        },
        "e2d201e42f4444d3a85da7b8ae2fd8b8": {
          "model_module": "@jupyter-widgets/controls",
          "model_name": "LabelModel",
          "state": {
            "_view_name": "LabelView",
            "style": "IPY_MODEL_0b2cc4890f184caf960a66a29b702246",
            "_dom_classes": [],
            "description": "",
            "_model_name": "LabelModel",
            "placeholder": "​",
            "_view_module": "@jupyter-widgets/controls",
            "_model_module_version": "1.5.0",
            "value": " 0.01MB of 0.01MB uploaded (0.00MB deduped)\r",
            "_view_count": null,
            "_view_module_version": "1.5.0",
            "description_tooltip": null,
            "_model_module": "@jupyter-widgets/controls",
            "layout": "IPY_MODEL_a234afaae05f4cfd858bf224ae6f1083"
          }
        },
        "30b305c2d7574d2ca6e8a2e4befbb462": {
          "model_module": "@jupyter-widgets/controls",
          "model_name": "FloatProgressModel",
          "state": {
            "_view_name": "ProgressView",
            "style": "IPY_MODEL_37e38fb6d16944e58d18d18025acc0d0",
            "_dom_classes": [],
            "description": "",
            "_model_name": "FloatProgressModel",
            "bar_style": "",
            "max": 1,
            "_view_module": "@jupyter-widgets/controls",
            "_model_module_version": "1.5.0",
            "value": 1,
            "_view_count": null,
            "_view_module_version": "1.5.0",
            "orientation": "horizontal",
            "min": 0,
            "description_tooltip": null,
            "_model_module": "@jupyter-widgets/controls",
            "layout": "IPY_MODEL_eb55ea27d64b4068b92510c901be4b60"
          }
        },
        "0b2cc4890f184caf960a66a29b702246": {
          "model_module": "@jupyter-widgets/controls",
          "model_name": "DescriptionStyleModel",
          "state": {
            "_view_name": "StyleView",
            "_model_name": "DescriptionStyleModel",
            "description_width": "",
            "_view_module": "@jupyter-widgets/base",
            "_model_module_version": "1.5.0",
            "_view_count": null,
            "_view_module_version": "1.2.0",
            "_model_module": "@jupyter-widgets/controls"
          }
        },
        "a234afaae05f4cfd858bf224ae6f1083": {
          "model_module": "@jupyter-widgets/base",
          "model_name": "LayoutModel",
          "state": {
            "_view_name": "LayoutView",
            "grid_template_rows": null,
            "right": null,
            "justify_content": null,
            "_view_module": "@jupyter-widgets/base",
            "overflow": null,
            "_model_module_version": "1.2.0",
            "_view_count": null,
            "flex_flow": null,
            "width": null,
            "min_width": null,
            "border": null,
            "align_items": null,
            "bottom": null,
            "_model_module": "@jupyter-widgets/base",
            "top": null,
            "grid_column": null,
            "overflow_y": null,
            "overflow_x": null,
            "grid_auto_flow": null,
            "grid_area": null,
            "grid_template_columns": null,
            "flex": null,
            "_model_name": "LayoutModel",
            "justify_items": null,
            "grid_row": null,
            "max_height": null,
            "align_content": null,
            "visibility": null,
            "align_self": null,
            "height": null,
            "min_height": null,
            "padding": null,
            "grid_auto_rows": null,
            "grid_gap": null,
            "max_width": null,
            "order": null,
            "_view_module_version": "1.2.0",
            "grid_template_areas": null,
            "object_position": null,
            "object_fit": null,
            "grid_auto_columns": null,
            "margin": null,
            "display": null,
            "left": null
          }
        },
        "37e38fb6d16944e58d18d18025acc0d0": {
          "model_module": "@jupyter-widgets/controls",
          "model_name": "ProgressStyleModel",
          "state": {
            "_view_name": "StyleView",
            "_model_name": "ProgressStyleModel",
            "description_width": "",
            "_view_module": "@jupyter-widgets/base",
            "_model_module_version": "1.5.0",
            "_view_count": null,
            "_view_module_version": "1.2.0",
            "bar_color": null,
            "_model_module": "@jupyter-widgets/controls"
          }
        },
        "eb55ea27d64b4068b92510c901be4b60": {
          "model_module": "@jupyter-widgets/base",
          "model_name": "LayoutModel",
          "state": {
            "_view_name": "LayoutView",
            "grid_template_rows": null,
            "right": null,
            "justify_content": null,
            "_view_module": "@jupyter-widgets/base",
            "overflow": null,
            "_model_module_version": "1.2.0",
            "_view_count": null,
            "flex_flow": null,
            "width": null,
            "min_width": null,
            "border": null,
            "align_items": null,
            "bottom": null,
            "_model_module": "@jupyter-widgets/base",
            "top": null,
            "grid_column": null,
            "overflow_y": null,
            "overflow_x": null,
            "grid_auto_flow": null,
            "grid_area": null,
            "grid_template_columns": null,
            "flex": null,
            "_model_name": "LayoutModel",
            "justify_items": null,
            "grid_row": null,
            "max_height": null,
            "align_content": null,
            "visibility": null,
            "align_self": null,
            "height": null,
            "min_height": null,
            "padding": null,
            "grid_auto_rows": null,
            "grid_gap": null,
            "max_width": null,
            "order": null,
            "_view_module_version": "1.2.0",
            "grid_template_areas": null,
            "object_position": null,
            "object_fit": null,
            "grid_auto_columns": null,
            "margin": null,
            "display": null,
            "left": null
          }
        },
        "0fe43cadc31c47a19e66ae8c14706257": {
          "model_module": "@jupyter-widgets/controls",
          "model_name": "VBoxModel",
          "state": {
            "_view_name": "VBoxView",
            "_dom_classes": [],
            "_model_name": "VBoxModel",
            "_view_module": "@jupyter-widgets/controls",
            "_model_module_version": "1.5.0",
            "_view_count": null,
            "_view_module_version": "1.5.0",
            "box_style": "",
            "layout": "IPY_MODEL_c358efbc0fe249969d452200494c8115",
            "_model_module": "@jupyter-widgets/controls",
            "children": [
              "IPY_MODEL_6235f295fe9543fc9ba87059cd19a61f",
              "IPY_MODEL_7a3daadfbc734048b3bc57b775019987"
            ]
          }
        },
        "c358efbc0fe249969d452200494c8115": {
          "model_module": "@jupyter-widgets/base",
          "model_name": "LayoutModel",
          "state": {
            "_view_name": "LayoutView",
            "grid_template_rows": null,
            "right": null,
            "justify_content": null,
            "_view_module": "@jupyter-widgets/base",
            "overflow": null,
            "_model_module_version": "1.2.0",
            "_view_count": null,
            "flex_flow": null,
            "width": null,
            "min_width": null,
            "border": null,
            "align_items": null,
            "bottom": null,
            "_model_module": "@jupyter-widgets/base",
            "top": null,
            "grid_column": null,
            "overflow_y": null,
            "overflow_x": null,
            "grid_auto_flow": null,
            "grid_area": null,
            "grid_template_columns": null,
            "flex": null,
            "_model_name": "LayoutModel",
            "justify_items": null,
            "grid_row": null,
            "max_height": null,
            "align_content": null,
            "visibility": null,
            "align_self": null,
            "height": null,
            "min_height": null,
            "padding": null,
            "grid_auto_rows": null,
            "grid_gap": null,
            "max_width": null,
            "order": null,
            "_view_module_version": "1.2.0",
            "grid_template_areas": null,
            "object_position": null,
            "object_fit": null,
            "grid_auto_columns": null,
            "margin": null,
            "display": null,
            "left": null
          }
        },
        "6235f295fe9543fc9ba87059cd19a61f": {
          "model_module": "@jupyter-widgets/controls",
          "model_name": "LabelModel",
          "state": {
            "_view_name": "LabelView",
            "style": "IPY_MODEL_aa971b1e8c87440a827b31ea2a9d62bc",
            "_dom_classes": [],
            "description": "",
            "_model_name": "LabelModel",
            "placeholder": "​",
            "_view_module": "@jupyter-widgets/controls",
            "_model_module_version": "1.5.0",
            "value": " 0.01MB of 0.01MB uploaded (0.00MB deduped)\r",
            "_view_count": null,
            "_view_module_version": "1.5.0",
            "description_tooltip": null,
            "_model_module": "@jupyter-widgets/controls",
            "layout": "IPY_MODEL_3cd9bb84d91a495c8083f324122f6575"
          }
        },
        "7a3daadfbc734048b3bc57b775019987": {
          "model_module": "@jupyter-widgets/controls",
          "model_name": "FloatProgressModel",
          "state": {
            "_view_name": "ProgressView",
            "style": "IPY_MODEL_51691ea32eec4d1e9b4d09cc908b6f1e",
            "_dom_classes": [],
            "description": "",
            "_model_name": "FloatProgressModel",
            "bar_style": "",
            "max": 1,
            "_view_module": "@jupyter-widgets/controls",
            "_model_module_version": "1.5.0",
            "value": 1,
            "_view_count": null,
            "_view_module_version": "1.5.0",
            "orientation": "horizontal",
            "min": 0,
            "description_tooltip": null,
            "_model_module": "@jupyter-widgets/controls",
            "layout": "IPY_MODEL_62be26cd208f4af7b76fbb41b6ffe617"
          }
        },
        "aa971b1e8c87440a827b31ea2a9d62bc": {
          "model_module": "@jupyter-widgets/controls",
          "model_name": "DescriptionStyleModel",
          "state": {
            "_view_name": "StyleView",
            "_model_name": "DescriptionStyleModel",
            "description_width": "",
            "_view_module": "@jupyter-widgets/base",
            "_model_module_version": "1.5.0",
            "_view_count": null,
            "_view_module_version": "1.2.0",
            "_model_module": "@jupyter-widgets/controls"
          }
        },
        "3cd9bb84d91a495c8083f324122f6575": {
          "model_module": "@jupyter-widgets/base",
          "model_name": "LayoutModel",
          "state": {
            "_view_name": "LayoutView",
            "grid_template_rows": null,
            "right": null,
            "justify_content": null,
            "_view_module": "@jupyter-widgets/base",
            "overflow": null,
            "_model_module_version": "1.2.0",
            "_view_count": null,
            "flex_flow": null,
            "width": null,
            "min_width": null,
            "border": null,
            "align_items": null,
            "bottom": null,
            "_model_module": "@jupyter-widgets/base",
            "top": null,
            "grid_column": null,
            "overflow_y": null,
            "overflow_x": null,
            "grid_auto_flow": null,
            "grid_area": null,
            "grid_template_columns": null,
            "flex": null,
            "_model_name": "LayoutModel",
            "justify_items": null,
            "grid_row": null,
            "max_height": null,
            "align_content": null,
            "visibility": null,
            "align_self": null,
            "height": null,
            "min_height": null,
            "padding": null,
            "grid_auto_rows": null,
            "grid_gap": null,
            "max_width": null,
            "order": null,
            "_view_module_version": "1.2.0",
            "grid_template_areas": null,
            "object_position": null,
            "object_fit": null,
            "grid_auto_columns": null,
            "margin": null,
            "display": null,
            "left": null
          }
        },
        "51691ea32eec4d1e9b4d09cc908b6f1e": {
          "model_module": "@jupyter-widgets/controls",
          "model_name": "ProgressStyleModel",
          "state": {
            "_view_name": "StyleView",
            "_model_name": "ProgressStyleModel",
            "description_width": "",
            "_view_module": "@jupyter-widgets/base",
            "_model_module_version": "1.5.0",
            "_view_count": null,
            "_view_module_version": "1.2.0",
            "bar_color": null,
            "_model_module": "@jupyter-widgets/controls"
          }
        },
        "62be26cd208f4af7b76fbb41b6ffe617": {
          "model_module": "@jupyter-widgets/base",
          "model_name": "LayoutModel",
          "state": {
            "_view_name": "LayoutView",
            "grid_template_rows": null,
            "right": null,
            "justify_content": null,
            "_view_module": "@jupyter-widgets/base",
            "overflow": null,
            "_model_module_version": "1.2.0",
            "_view_count": null,
            "flex_flow": null,
            "width": null,
            "min_width": null,
            "border": null,
            "align_items": null,
            "bottom": null,
            "_model_module": "@jupyter-widgets/base",
            "top": null,
            "grid_column": null,
            "overflow_y": null,
            "overflow_x": null,
            "grid_auto_flow": null,
            "grid_area": null,
            "grid_template_columns": null,
            "flex": null,
            "_model_name": "LayoutModel",
            "justify_items": null,
            "grid_row": null,
            "max_height": null,
            "align_content": null,
            "visibility": null,
            "align_self": null,
            "height": null,
            "min_height": null,
            "padding": null,
            "grid_auto_rows": null,
            "grid_gap": null,
            "max_width": null,
            "order": null,
            "_view_module_version": "1.2.0",
            "grid_template_areas": null,
            "object_position": null,
            "object_fit": null,
            "grid_auto_columns": null,
            "margin": null,
            "display": null,
            "left": null
          }
        },
        "ea5cd5caf0b84a70ad2b3f70f27d3fea": {
          "model_module": "@jupyter-widgets/controls",
          "model_name": "VBoxModel",
          "state": {
            "_view_name": "VBoxView",
            "_dom_classes": [],
            "_model_name": "VBoxModel",
            "_view_module": "@jupyter-widgets/controls",
            "_model_module_version": "1.5.0",
            "_view_count": null,
            "_view_module_version": "1.5.0",
            "box_style": "",
            "layout": "IPY_MODEL_799123caee8e424782f0a6449bafaf32",
            "_model_module": "@jupyter-widgets/controls",
            "children": [
              "IPY_MODEL_386ec7b9c5304601b3739b8dc2f9fda3",
              "IPY_MODEL_a74462ad82584241bf041521b325fa5c"
            ]
          }
        },
        "799123caee8e424782f0a6449bafaf32": {
          "model_module": "@jupyter-widgets/base",
          "model_name": "LayoutModel",
          "state": {
            "_view_name": "LayoutView",
            "grid_template_rows": null,
            "right": null,
            "justify_content": null,
            "_view_module": "@jupyter-widgets/base",
            "overflow": null,
            "_model_module_version": "1.2.0",
            "_view_count": null,
            "flex_flow": null,
            "width": null,
            "min_width": null,
            "border": null,
            "align_items": null,
            "bottom": null,
            "_model_module": "@jupyter-widgets/base",
            "top": null,
            "grid_column": null,
            "overflow_y": null,
            "overflow_x": null,
            "grid_auto_flow": null,
            "grid_area": null,
            "grid_template_columns": null,
            "flex": null,
            "_model_name": "LayoutModel",
            "justify_items": null,
            "grid_row": null,
            "max_height": null,
            "align_content": null,
            "visibility": null,
            "align_self": null,
            "height": null,
            "min_height": null,
            "padding": null,
            "grid_auto_rows": null,
            "grid_gap": null,
            "max_width": null,
            "order": null,
            "_view_module_version": "1.2.0",
            "grid_template_areas": null,
            "object_position": null,
            "object_fit": null,
            "grid_auto_columns": null,
            "margin": null,
            "display": null,
            "left": null
          }
        },
        "386ec7b9c5304601b3739b8dc2f9fda3": {
          "model_module": "@jupyter-widgets/controls",
          "model_name": "LabelModel",
          "state": {
            "_view_name": "LabelView",
            "style": "IPY_MODEL_bc7041a3b1aa4e2b8bfd6773446cce59",
            "_dom_classes": [],
            "description": "",
            "_model_name": "LabelModel",
            "placeholder": "​",
            "_view_module": "@jupyter-widgets/controls",
            "_model_module_version": "1.5.0",
            "value": " 0.01MB of 0.01MB uploaded (0.00MB deduped)\r",
            "_view_count": null,
            "_view_module_version": "1.5.0",
            "description_tooltip": null,
            "_model_module": "@jupyter-widgets/controls",
            "layout": "IPY_MODEL_8187835d83354ef1b0aabfa2ac1ddb3c"
          }
        },
        "a74462ad82584241bf041521b325fa5c": {
          "model_module": "@jupyter-widgets/controls",
          "model_name": "FloatProgressModel",
          "state": {
            "_view_name": "ProgressView",
            "style": "IPY_MODEL_18372bf3008c49b6b46cd773c2991eee",
            "_dom_classes": [],
            "description": "",
            "_model_name": "FloatProgressModel",
            "bar_style": "",
            "max": 1,
            "_view_module": "@jupyter-widgets/controls",
            "_model_module_version": "1.5.0",
            "value": 1,
            "_view_count": null,
            "_view_module_version": "1.5.0",
            "orientation": "horizontal",
            "min": 0,
            "description_tooltip": null,
            "_model_module": "@jupyter-widgets/controls",
            "layout": "IPY_MODEL_446419f276644a6897e94d4a64c04150"
          }
        },
        "bc7041a3b1aa4e2b8bfd6773446cce59": {
          "model_module": "@jupyter-widgets/controls",
          "model_name": "DescriptionStyleModel",
          "state": {
            "_view_name": "StyleView",
            "_model_name": "DescriptionStyleModel",
            "description_width": "",
            "_view_module": "@jupyter-widgets/base",
            "_model_module_version": "1.5.0",
            "_view_count": null,
            "_view_module_version": "1.2.0",
            "_model_module": "@jupyter-widgets/controls"
          }
        },
        "8187835d83354ef1b0aabfa2ac1ddb3c": {
          "model_module": "@jupyter-widgets/base",
          "model_name": "LayoutModel",
          "state": {
            "_view_name": "LayoutView",
            "grid_template_rows": null,
            "right": null,
            "justify_content": null,
            "_view_module": "@jupyter-widgets/base",
            "overflow": null,
            "_model_module_version": "1.2.0",
            "_view_count": null,
            "flex_flow": null,
            "width": null,
            "min_width": null,
            "border": null,
            "align_items": null,
            "bottom": null,
            "_model_module": "@jupyter-widgets/base",
            "top": null,
            "grid_column": null,
            "overflow_y": null,
            "overflow_x": null,
            "grid_auto_flow": null,
            "grid_area": null,
            "grid_template_columns": null,
            "flex": null,
            "_model_name": "LayoutModel",
            "justify_items": null,
            "grid_row": null,
            "max_height": null,
            "align_content": null,
            "visibility": null,
            "align_self": null,
            "height": null,
            "min_height": null,
            "padding": null,
            "grid_auto_rows": null,
            "grid_gap": null,
            "max_width": null,
            "order": null,
            "_view_module_version": "1.2.0",
            "grid_template_areas": null,
            "object_position": null,
            "object_fit": null,
            "grid_auto_columns": null,
            "margin": null,
            "display": null,
            "left": null
          }
        },
        "18372bf3008c49b6b46cd773c2991eee": {
          "model_module": "@jupyter-widgets/controls",
          "model_name": "ProgressStyleModel",
          "state": {
            "_view_name": "StyleView",
            "_model_name": "ProgressStyleModel",
            "description_width": "",
            "_view_module": "@jupyter-widgets/base",
            "_model_module_version": "1.5.0",
            "_view_count": null,
            "_view_module_version": "1.2.0",
            "bar_color": null,
            "_model_module": "@jupyter-widgets/controls"
          }
        },
        "446419f276644a6897e94d4a64c04150": {
          "model_module": "@jupyter-widgets/base",
          "model_name": "LayoutModel",
          "state": {
            "_view_name": "LayoutView",
            "grid_template_rows": null,
            "right": null,
            "justify_content": null,
            "_view_module": "@jupyter-widgets/base",
            "overflow": null,
            "_model_module_version": "1.2.0",
            "_view_count": null,
            "flex_flow": null,
            "width": null,
            "min_width": null,
            "border": null,
            "align_items": null,
            "bottom": null,
            "_model_module": "@jupyter-widgets/base",
            "top": null,
            "grid_column": null,
            "overflow_y": null,
            "overflow_x": null,
            "grid_auto_flow": null,
            "grid_area": null,
            "grid_template_columns": null,
            "flex": null,
            "_model_name": "LayoutModel",
            "justify_items": null,
            "grid_row": null,
            "max_height": null,
            "align_content": null,
            "visibility": null,
            "align_self": null,
            "height": null,
            "min_height": null,
            "padding": null,
            "grid_auto_rows": null,
            "grid_gap": null,
            "max_width": null,
            "order": null,
            "_view_module_version": "1.2.0",
            "grid_template_areas": null,
            "object_position": null,
            "object_fit": null,
            "grid_auto_columns": null,
            "margin": null,
            "display": null,
            "left": null
          }
        },
        "90059d56291f4add8545eb6922e829e8": {
          "model_module": "@jupyter-widgets/controls",
          "model_name": "VBoxModel",
          "state": {
            "_view_name": "VBoxView",
            "_dom_classes": [],
            "_model_name": "VBoxModel",
            "_view_module": "@jupyter-widgets/controls",
            "_model_module_version": "1.5.0",
            "_view_count": null,
            "_view_module_version": "1.5.0",
            "box_style": "",
            "layout": "IPY_MODEL_e73351af4bd146fc9d1fb5dabca9b47f",
            "_model_module": "@jupyter-widgets/controls",
            "children": [
              "IPY_MODEL_f018708f486745f3b8b44ffcb93405a3",
              "IPY_MODEL_0c2b21fdfa8c4949b99a5e61c581c3d1"
            ]
          }
        },
        "e73351af4bd146fc9d1fb5dabca9b47f": {
          "model_module": "@jupyter-widgets/base",
          "model_name": "LayoutModel",
          "state": {
            "_view_name": "LayoutView",
            "grid_template_rows": null,
            "right": null,
            "justify_content": null,
            "_view_module": "@jupyter-widgets/base",
            "overflow": null,
            "_model_module_version": "1.2.0",
            "_view_count": null,
            "flex_flow": null,
            "width": null,
            "min_width": null,
            "border": null,
            "align_items": null,
            "bottom": null,
            "_model_module": "@jupyter-widgets/base",
            "top": null,
            "grid_column": null,
            "overflow_y": null,
            "overflow_x": null,
            "grid_auto_flow": null,
            "grid_area": null,
            "grid_template_columns": null,
            "flex": null,
            "_model_name": "LayoutModel",
            "justify_items": null,
            "grid_row": null,
            "max_height": null,
            "align_content": null,
            "visibility": null,
            "align_self": null,
            "height": null,
            "min_height": null,
            "padding": null,
            "grid_auto_rows": null,
            "grid_gap": null,
            "max_width": null,
            "order": null,
            "_view_module_version": "1.2.0",
            "grid_template_areas": null,
            "object_position": null,
            "object_fit": null,
            "grid_auto_columns": null,
            "margin": null,
            "display": null,
            "left": null
          }
        },
        "f018708f486745f3b8b44ffcb93405a3": {
          "model_module": "@jupyter-widgets/controls",
          "model_name": "LabelModel",
          "state": {
            "_view_name": "LabelView",
            "style": "IPY_MODEL_8862fb36b6db4f15bd82e98fc8118d2b",
            "_dom_classes": [],
            "description": "",
            "_model_name": "LabelModel",
            "placeholder": "​",
            "_view_module": "@jupyter-widgets/controls",
            "_model_module_version": "1.5.0",
            "value": " 0.01MB of 0.01MB uploaded (0.00MB deduped)\r",
            "_view_count": null,
            "_view_module_version": "1.5.0",
            "description_tooltip": null,
            "_model_module": "@jupyter-widgets/controls",
            "layout": "IPY_MODEL_eb42ae202e944f7fabb0c87a109c6cc5"
          }
        },
        "0c2b21fdfa8c4949b99a5e61c581c3d1": {
          "model_module": "@jupyter-widgets/controls",
          "model_name": "FloatProgressModel",
          "state": {
            "_view_name": "ProgressView",
            "style": "IPY_MODEL_76243d7da9c9401297451541f0ec48c5",
            "_dom_classes": [],
            "description": "",
            "_model_name": "FloatProgressModel",
            "bar_style": "",
            "max": 1,
            "_view_module": "@jupyter-widgets/controls",
            "_model_module_version": "1.5.0",
            "value": 1,
            "_view_count": null,
            "_view_module_version": "1.5.0",
            "orientation": "horizontal",
            "min": 0,
            "description_tooltip": null,
            "_model_module": "@jupyter-widgets/controls",
            "layout": "IPY_MODEL_651bb1154a744f97bf04029f57a6a4e6"
          }
        },
        "8862fb36b6db4f15bd82e98fc8118d2b": {
          "model_module": "@jupyter-widgets/controls",
          "model_name": "DescriptionStyleModel",
          "state": {
            "_view_name": "StyleView",
            "_model_name": "DescriptionStyleModel",
            "description_width": "",
            "_view_module": "@jupyter-widgets/base",
            "_model_module_version": "1.5.0",
            "_view_count": null,
            "_view_module_version": "1.2.0",
            "_model_module": "@jupyter-widgets/controls"
          }
        },
        "eb42ae202e944f7fabb0c87a109c6cc5": {
          "model_module": "@jupyter-widgets/base",
          "model_name": "LayoutModel",
          "state": {
            "_view_name": "LayoutView",
            "grid_template_rows": null,
            "right": null,
            "justify_content": null,
            "_view_module": "@jupyter-widgets/base",
            "overflow": null,
            "_model_module_version": "1.2.0",
            "_view_count": null,
            "flex_flow": null,
            "width": null,
            "min_width": null,
            "border": null,
            "align_items": null,
            "bottom": null,
            "_model_module": "@jupyter-widgets/base",
            "top": null,
            "grid_column": null,
            "overflow_y": null,
            "overflow_x": null,
            "grid_auto_flow": null,
            "grid_area": null,
            "grid_template_columns": null,
            "flex": null,
            "_model_name": "LayoutModel",
            "justify_items": null,
            "grid_row": null,
            "max_height": null,
            "align_content": null,
            "visibility": null,
            "align_self": null,
            "height": null,
            "min_height": null,
            "padding": null,
            "grid_auto_rows": null,
            "grid_gap": null,
            "max_width": null,
            "order": null,
            "_view_module_version": "1.2.0",
            "grid_template_areas": null,
            "object_position": null,
            "object_fit": null,
            "grid_auto_columns": null,
            "margin": null,
            "display": null,
            "left": null
          }
        },
        "76243d7da9c9401297451541f0ec48c5": {
          "model_module": "@jupyter-widgets/controls",
          "model_name": "ProgressStyleModel",
          "state": {
            "_view_name": "StyleView",
            "_model_name": "ProgressStyleModel",
            "description_width": "",
            "_view_module": "@jupyter-widgets/base",
            "_model_module_version": "1.5.0",
            "_view_count": null,
            "_view_module_version": "1.2.0",
            "bar_color": null,
            "_model_module": "@jupyter-widgets/controls"
          }
        },
        "651bb1154a744f97bf04029f57a6a4e6": {
          "model_module": "@jupyter-widgets/base",
          "model_name": "LayoutModel",
          "state": {
            "_view_name": "LayoutView",
            "grid_template_rows": null,
            "right": null,
            "justify_content": null,
            "_view_module": "@jupyter-widgets/base",
            "overflow": null,
            "_model_module_version": "1.2.0",
            "_view_count": null,
            "flex_flow": null,
            "width": null,
            "min_width": null,
            "border": null,
            "align_items": null,
            "bottom": null,
            "_model_module": "@jupyter-widgets/base",
            "top": null,
            "grid_column": null,
            "overflow_y": null,
            "overflow_x": null,
            "grid_auto_flow": null,
            "grid_area": null,
            "grid_template_columns": null,
            "flex": null,
            "_model_name": "LayoutModel",
            "justify_items": null,
            "grid_row": null,
            "max_height": null,
            "align_content": null,
            "visibility": null,
            "align_self": null,
            "height": null,
            "min_height": null,
            "padding": null,
            "grid_auto_rows": null,
            "grid_gap": null,
            "max_width": null,
            "order": null,
            "_view_module_version": "1.2.0",
            "grid_template_areas": null,
            "object_position": null,
            "object_fit": null,
            "grid_auto_columns": null,
            "margin": null,
            "display": null,
            "left": null
          }
        },
        "bcc04c3de1f54dd2afa1cae2ed64039c": {
          "model_module": "@jupyter-widgets/controls",
          "model_name": "VBoxModel",
          "state": {
            "_view_name": "VBoxView",
            "_dom_classes": [],
            "_model_name": "VBoxModel",
            "_view_module": "@jupyter-widgets/controls",
            "_model_module_version": "1.5.0",
            "_view_count": null,
            "_view_module_version": "1.5.0",
            "box_style": "",
            "layout": "IPY_MODEL_26347905cc76478ab27964e822bdfa51",
            "_model_module": "@jupyter-widgets/controls",
            "children": [
              "IPY_MODEL_911e17a5aea8441c9edd843e136a995f",
              "IPY_MODEL_74b1ffdb9b294c3f941b80322ff3c130"
            ]
          }
        },
        "26347905cc76478ab27964e822bdfa51": {
          "model_module": "@jupyter-widgets/base",
          "model_name": "LayoutModel",
          "state": {
            "_view_name": "LayoutView",
            "grid_template_rows": null,
            "right": null,
            "justify_content": null,
            "_view_module": "@jupyter-widgets/base",
            "overflow": null,
            "_model_module_version": "1.2.0",
            "_view_count": null,
            "flex_flow": null,
            "width": null,
            "min_width": null,
            "border": null,
            "align_items": null,
            "bottom": null,
            "_model_module": "@jupyter-widgets/base",
            "top": null,
            "grid_column": null,
            "overflow_y": null,
            "overflow_x": null,
            "grid_auto_flow": null,
            "grid_area": null,
            "grid_template_columns": null,
            "flex": null,
            "_model_name": "LayoutModel",
            "justify_items": null,
            "grid_row": null,
            "max_height": null,
            "align_content": null,
            "visibility": null,
            "align_self": null,
            "height": null,
            "min_height": null,
            "padding": null,
            "grid_auto_rows": null,
            "grid_gap": null,
            "max_width": null,
            "order": null,
            "_view_module_version": "1.2.0",
            "grid_template_areas": null,
            "object_position": null,
            "object_fit": null,
            "grid_auto_columns": null,
            "margin": null,
            "display": null,
            "left": null
          }
        },
        "911e17a5aea8441c9edd843e136a995f": {
          "model_module": "@jupyter-widgets/controls",
          "model_name": "LabelModel",
          "state": {
            "_view_name": "LabelView",
            "style": "IPY_MODEL_b75dc248cef34bec97f720f0afee4709",
            "_dom_classes": [],
            "description": "",
            "_model_name": "LabelModel",
            "placeholder": "​",
            "_view_module": "@jupyter-widgets/controls",
            "_model_module_version": "1.5.0",
            "value": " 0.01MB of 0.01MB uploaded (0.00MB deduped)\r",
            "_view_count": null,
            "_view_module_version": "1.5.0",
            "description_tooltip": null,
            "_model_module": "@jupyter-widgets/controls",
            "layout": "IPY_MODEL_fc6b19c68d9748918b593c28ab774b97"
          }
        },
        "74b1ffdb9b294c3f941b80322ff3c130": {
          "model_module": "@jupyter-widgets/controls",
          "model_name": "FloatProgressModel",
          "state": {
            "_view_name": "ProgressView",
            "style": "IPY_MODEL_055ff455a86e4ab38830c7494801f766",
            "_dom_classes": [],
            "description": "",
            "_model_name": "FloatProgressModel",
            "bar_style": "",
            "max": 1,
            "_view_module": "@jupyter-widgets/controls",
            "_model_module_version": "1.5.0",
            "value": 1,
            "_view_count": null,
            "_view_module_version": "1.5.0",
            "orientation": "horizontal",
            "min": 0,
            "description_tooltip": null,
            "_model_module": "@jupyter-widgets/controls",
            "layout": "IPY_MODEL_461fca796df34a7a9609d40325c5594f"
          }
        },
        "b75dc248cef34bec97f720f0afee4709": {
          "model_module": "@jupyter-widgets/controls",
          "model_name": "DescriptionStyleModel",
          "state": {
            "_view_name": "StyleView",
            "_model_name": "DescriptionStyleModel",
            "description_width": "",
            "_view_module": "@jupyter-widgets/base",
            "_model_module_version": "1.5.0",
            "_view_count": null,
            "_view_module_version": "1.2.0",
            "_model_module": "@jupyter-widgets/controls"
          }
        },
        "fc6b19c68d9748918b593c28ab774b97": {
          "model_module": "@jupyter-widgets/base",
          "model_name": "LayoutModel",
          "state": {
            "_view_name": "LayoutView",
            "grid_template_rows": null,
            "right": null,
            "justify_content": null,
            "_view_module": "@jupyter-widgets/base",
            "overflow": null,
            "_model_module_version": "1.2.0",
            "_view_count": null,
            "flex_flow": null,
            "width": null,
            "min_width": null,
            "border": null,
            "align_items": null,
            "bottom": null,
            "_model_module": "@jupyter-widgets/base",
            "top": null,
            "grid_column": null,
            "overflow_y": null,
            "overflow_x": null,
            "grid_auto_flow": null,
            "grid_area": null,
            "grid_template_columns": null,
            "flex": null,
            "_model_name": "LayoutModel",
            "justify_items": null,
            "grid_row": null,
            "max_height": null,
            "align_content": null,
            "visibility": null,
            "align_self": null,
            "height": null,
            "min_height": null,
            "padding": null,
            "grid_auto_rows": null,
            "grid_gap": null,
            "max_width": null,
            "order": null,
            "_view_module_version": "1.2.0",
            "grid_template_areas": null,
            "object_position": null,
            "object_fit": null,
            "grid_auto_columns": null,
            "margin": null,
            "display": null,
            "left": null
          }
        },
        "055ff455a86e4ab38830c7494801f766": {
          "model_module": "@jupyter-widgets/controls",
          "model_name": "ProgressStyleModel",
          "state": {
            "_view_name": "StyleView",
            "_model_name": "ProgressStyleModel",
            "description_width": "",
            "_view_module": "@jupyter-widgets/base",
            "_model_module_version": "1.5.0",
            "_view_count": null,
            "_view_module_version": "1.2.0",
            "bar_color": null,
            "_model_module": "@jupyter-widgets/controls"
          }
        },
        "461fca796df34a7a9609d40325c5594f": {
          "model_module": "@jupyter-widgets/base",
          "model_name": "LayoutModel",
          "state": {
            "_view_name": "LayoutView",
            "grid_template_rows": null,
            "right": null,
            "justify_content": null,
            "_view_module": "@jupyter-widgets/base",
            "overflow": null,
            "_model_module_version": "1.2.0",
            "_view_count": null,
            "flex_flow": null,
            "width": null,
            "min_width": null,
            "border": null,
            "align_items": null,
            "bottom": null,
            "_model_module": "@jupyter-widgets/base",
            "top": null,
            "grid_column": null,
            "overflow_y": null,
            "overflow_x": null,
            "grid_auto_flow": null,
            "grid_area": null,
            "grid_template_columns": null,
            "flex": null,
            "_model_name": "LayoutModel",
            "justify_items": null,
            "grid_row": null,
            "max_height": null,
            "align_content": null,
            "visibility": null,
            "align_self": null,
            "height": null,
            "min_height": null,
            "padding": null,
            "grid_auto_rows": null,
            "grid_gap": null,
            "max_width": null,
            "order": null,
            "_view_module_version": "1.2.0",
            "grid_template_areas": null,
            "object_position": null,
            "object_fit": null,
            "grid_auto_columns": null,
            "margin": null,
            "display": null,
            "left": null
          }
        },
        "0849e39ec4814952b2dd2ca35d04f824": {
          "model_module": "@jupyter-widgets/controls",
          "model_name": "VBoxModel",
          "state": {
            "_view_name": "VBoxView",
            "_dom_classes": [],
            "_model_name": "VBoxModel",
            "_view_module": "@jupyter-widgets/controls",
            "_model_module_version": "1.5.0",
            "_view_count": null,
            "_view_module_version": "1.5.0",
            "box_style": "",
            "layout": "IPY_MODEL_dc5b35e6cd4f4623867b8d297863bcce",
            "_model_module": "@jupyter-widgets/controls",
            "children": [
              "IPY_MODEL_5884b786be064a4995cb09247dfe7ccc",
              "IPY_MODEL_a41f45c1e3854c01819c4cee505a7f9a"
            ]
          }
        },
        "dc5b35e6cd4f4623867b8d297863bcce": {
          "model_module": "@jupyter-widgets/base",
          "model_name": "LayoutModel",
          "state": {
            "_view_name": "LayoutView",
            "grid_template_rows": null,
            "right": null,
            "justify_content": null,
            "_view_module": "@jupyter-widgets/base",
            "overflow": null,
            "_model_module_version": "1.2.0",
            "_view_count": null,
            "flex_flow": null,
            "width": null,
            "min_width": null,
            "border": null,
            "align_items": null,
            "bottom": null,
            "_model_module": "@jupyter-widgets/base",
            "top": null,
            "grid_column": null,
            "overflow_y": null,
            "overflow_x": null,
            "grid_auto_flow": null,
            "grid_area": null,
            "grid_template_columns": null,
            "flex": null,
            "_model_name": "LayoutModel",
            "justify_items": null,
            "grid_row": null,
            "max_height": null,
            "align_content": null,
            "visibility": null,
            "align_self": null,
            "height": null,
            "min_height": null,
            "padding": null,
            "grid_auto_rows": null,
            "grid_gap": null,
            "max_width": null,
            "order": null,
            "_view_module_version": "1.2.0",
            "grid_template_areas": null,
            "object_position": null,
            "object_fit": null,
            "grid_auto_columns": null,
            "margin": null,
            "display": null,
            "left": null
          }
        },
        "5884b786be064a4995cb09247dfe7ccc": {
          "model_module": "@jupyter-widgets/controls",
          "model_name": "LabelModel",
          "state": {
            "_view_name": "LabelView",
            "style": "IPY_MODEL_a058e18c767c41d489869f11a1fc371e",
            "_dom_classes": [],
            "description": "",
            "_model_name": "LabelModel",
            "placeholder": "​",
            "_view_module": "@jupyter-widgets/controls",
            "_model_module_version": "1.5.0",
            "value": " 0.01MB of 0.01MB uploaded (0.00MB deduped)\r",
            "_view_count": null,
            "_view_module_version": "1.5.0",
            "description_tooltip": null,
            "_model_module": "@jupyter-widgets/controls",
            "layout": "IPY_MODEL_eaa43deff9624e7b9f70c0819000ed9e"
          }
        },
        "a41f45c1e3854c01819c4cee505a7f9a": {
          "model_module": "@jupyter-widgets/controls",
          "model_name": "FloatProgressModel",
          "state": {
            "_view_name": "ProgressView",
            "style": "IPY_MODEL_c78fd4c43eac49f69e133accb4f32e21",
            "_dom_classes": [],
            "description": "",
            "_model_name": "FloatProgressModel",
            "bar_style": "",
            "max": 1,
            "_view_module": "@jupyter-widgets/controls",
            "_model_module_version": "1.5.0",
            "value": 1,
            "_view_count": null,
            "_view_module_version": "1.5.0",
            "orientation": "horizontal",
            "min": 0,
            "description_tooltip": null,
            "_model_module": "@jupyter-widgets/controls",
            "layout": "IPY_MODEL_7e0164adede041769c49b90faed6f698"
          }
        },
        "a058e18c767c41d489869f11a1fc371e": {
          "model_module": "@jupyter-widgets/controls",
          "model_name": "DescriptionStyleModel",
          "state": {
            "_view_name": "StyleView",
            "_model_name": "DescriptionStyleModel",
            "description_width": "",
            "_view_module": "@jupyter-widgets/base",
            "_model_module_version": "1.5.0",
            "_view_count": null,
            "_view_module_version": "1.2.0",
            "_model_module": "@jupyter-widgets/controls"
          }
        },
        "eaa43deff9624e7b9f70c0819000ed9e": {
          "model_module": "@jupyter-widgets/base",
          "model_name": "LayoutModel",
          "state": {
            "_view_name": "LayoutView",
            "grid_template_rows": null,
            "right": null,
            "justify_content": null,
            "_view_module": "@jupyter-widgets/base",
            "overflow": null,
            "_model_module_version": "1.2.0",
            "_view_count": null,
            "flex_flow": null,
            "width": null,
            "min_width": null,
            "border": null,
            "align_items": null,
            "bottom": null,
            "_model_module": "@jupyter-widgets/base",
            "top": null,
            "grid_column": null,
            "overflow_y": null,
            "overflow_x": null,
            "grid_auto_flow": null,
            "grid_area": null,
            "grid_template_columns": null,
            "flex": null,
            "_model_name": "LayoutModel",
            "justify_items": null,
            "grid_row": null,
            "max_height": null,
            "align_content": null,
            "visibility": null,
            "align_self": null,
            "height": null,
            "min_height": null,
            "padding": null,
            "grid_auto_rows": null,
            "grid_gap": null,
            "max_width": null,
            "order": null,
            "_view_module_version": "1.2.0",
            "grid_template_areas": null,
            "object_position": null,
            "object_fit": null,
            "grid_auto_columns": null,
            "margin": null,
            "display": null,
            "left": null
          }
        },
        "c78fd4c43eac49f69e133accb4f32e21": {
          "model_module": "@jupyter-widgets/controls",
          "model_name": "ProgressStyleModel",
          "state": {
            "_view_name": "StyleView",
            "_model_name": "ProgressStyleModel",
            "description_width": "",
            "_view_module": "@jupyter-widgets/base",
            "_model_module_version": "1.5.0",
            "_view_count": null,
            "_view_module_version": "1.2.0",
            "bar_color": null,
            "_model_module": "@jupyter-widgets/controls"
          }
        },
        "7e0164adede041769c49b90faed6f698": {
          "model_module": "@jupyter-widgets/base",
          "model_name": "LayoutModel",
          "state": {
            "_view_name": "LayoutView",
            "grid_template_rows": null,
            "right": null,
            "justify_content": null,
            "_view_module": "@jupyter-widgets/base",
            "overflow": null,
            "_model_module_version": "1.2.0",
            "_view_count": null,
            "flex_flow": null,
            "width": null,
            "min_width": null,
            "border": null,
            "align_items": null,
            "bottom": null,
            "_model_module": "@jupyter-widgets/base",
            "top": null,
            "grid_column": null,
            "overflow_y": null,
            "overflow_x": null,
            "grid_auto_flow": null,
            "grid_area": null,
            "grid_template_columns": null,
            "flex": null,
            "_model_name": "LayoutModel",
            "justify_items": null,
            "grid_row": null,
            "max_height": null,
            "align_content": null,
            "visibility": null,
            "align_self": null,
            "height": null,
            "min_height": null,
            "padding": null,
            "grid_auto_rows": null,
            "grid_gap": null,
            "max_width": null,
            "order": null,
            "_view_module_version": "1.2.0",
            "grid_template_areas": null,
            "object_position": null,
            "object_fit": null,
            "grid_auto_columns": null,
            "margin": null,
            "display": null,
            "left": null
          }
        },
        "8f0f99d28b6a4e1984f534733d496364": {
          "model_module": "@jupyter-widgets/controls",
          "model_name": "VBoxModel",
          "state": {
            "_view_name": "VBoxView",
            "_dom_classes": [],
            "_model_name": "VBoxModel",
            "_view_module": "@jupyter-widgets/controls",
            "_model_module_version": "1.5.0",
            "_view_count": null,
            "_view_module_version": "1.5.0",
            "box_style": "",
            "layout": "IPY_MODEL_c1fd8e30b3f3442d8c5786c8b058afca",
            "_model_module": "@jupyter-widgets/controls",
            "children": [
              "IPY_MODEL_f1bfcc15f29a43a38f8160a406f8c148",
              "IPY_MODEL_5a9e9367bb9647158cec0188c2c41e5f"
            ]
          }
        },
        "c1fd8e30b3f3442d8c5786c8b058afca": {
          "model_module": "@jupyter-widgets/base",
          "model_name": "LayoutModel",
          "state": {
            "_view_name": "LayoutView",
            "grid_template_rows": null,
            "right": null,
            "justify_content": null,
            "_view_module": "@jupyter-widgets/base",
            "overflow": null,
            "_model_module_version": "1.2.0",
            "_view_count": null,
            "flex_flow": null,
            "width": null,
            "min_width": null,
            "border": null,
            "align_items": null,
            "bottom": null,
            "_model_module": "@jupyter-widgets/base",
            "top": null,
            "grid_column": null,
            "overflow_y": null,
            "overflow_x": null,
            "grid_auto_flow": null,
            "grid_area": null,
            "grid_template_columns": null,
            "flex": null,
            "_model_name": "LayoutModel",
            "justify_items": null,
            "grid_row": null,
            "max_height": null,
            "align_content": null,
            "visibility": null,
            "align_self": null,
            "height": null,
            "min_height": null,
            "padding": null,
            "grid_auto_rows": null,
            "grid_gap": null,
            "max_width": null,
            "order": null,
            "_view_module_version": "1.2.0",
            "grid_template_areas": null,
            "object_position": null,
            "object_fit": null,
            "grid_auto_columns": null,
            "margin": null,
            "display": null,
            "left": null
          }
        },
        "f1bfcc15f29a43a38f8160a406f8c148": {
          "model_module": "@jupyter-widgets/controls",
          "model_name": "LabelModel",
          "state": {
            "_view_name": "LabelView",
            "style": "IPY_MODEL_22209b9c3ae24c88805bf62c7f745edc",
            "_dom_classes": [],
            "description": "",
            "_model_name": "LabelModel",
            "placeholder": "​",
            "_view_module": "@jupyter-widgets/controls",
            "_model_module_version": "1.5.0",
            "value": " 0.01MB of 0.01MB uploaded (0.00MB deduped)\r",
            "_view_count": null,
            "_view_module_version": "1.5.0",
            "description_tooltip": null,
            "_model_module": "@jupyter-widgets/controls",
            "layout": "IPY_MODEL_00e2ff27d44e46acb76fea89d555ca60"
          }
        },
        "5a9e9367bb9647158cec0188c2c41e5f": {
          "model_module": "@jupyter-widgets/controls",
          "model_name": "FloatProgressModel",
          "state": {
            "_view_name": "ProgressView",
            "style": "IPY_MODEL_e0abc6b657a24fc2980510b5ba3d44c0",
            "_dom_classes": [],
            "description": "",
            "_model_name": "FloatProgressModel",
            "bar_style": "",
            "max": 1,
            "_view_module": "@jupyter-widgets/controls",
            "_model_module_version": "1.5.0",
            "value": 1,
            "_view_count": null,
            "_view_module_version": "1.5.0",
            "orientation": "horizontal",
            "min": 0,
            "description_tooltip": null,
            "_model_module": "@jupyter-widgets/controls",
            "layout": "IPY_MODEL_261e2386090c405bb16dabf8c45c9e48"
          }
        },
        "22209b9c3ae24c88805bf62c7f745edc": {
          "model_module": "@jupyter-widgets/controls",
          "model_name": "DescriptionStyleModel",
          "state": {
            "_view_name": "StyleView",
            "_model_name": "DescriptionStyleModel",
            "description_width": "",
            "_view_module": "@jupyter-widgets/base",
            "_model_module_version": "1.5.0",
            "_view_count": null,
            "_view_module_version": "1.2.0",
            "_model_module": "@jupyter-widgets/controls"
          }
        },
        "00e2ff27d44e46acb76fea89d555ca60": {
          "model_module": "@jupyter-widgets/base",
          "model_name": "LayoutModel",
          "state": {
            "_view_name": "LayoutView",
            "grid_template_rows": null,
            "right": null,
            "justify_content": null,
            "_view_module": "@jupyter-widgets/base",
            "overflow": null,
            "_model_module_version": "1.2.0",
            "_view_count": null,
            "flex_flow": null,
            "width": null,
            "min_width": null,
            "border": null,
            "align_items": null,
            "bottom": null,
            "_model_module": "@jupyter-widgets/base",
            "top": null,
            "grid_column": null,
            "overflow_y": null,
            "overflow_x": null,
            "grid_auto_flow": null,
            "grid_area": null,
            "grid_template_columns": null,
            "flex": null,
            "_model_name": "LayoutModel",
            "justify_items": null,
            "grid_row": null,
            "max_height": null,
            "align_content": null,
            "visibility": null,
            "align_self": null,
            "height": null,
            "min_height": null,
            "padding": null,
            "grid_auto_rows": null,
            "grid_gap": null,
            "max_width": null,
            "order": null,
            "_view_module_version": "1.2.0",
            "grid_template_areas": null,
            "object_position": null,
            "object_fit": null,
            "grid_auto_columns": null,
            "margin": null,
            "display": null,
            "left": null
          }
        },
        "e0abc6b657a24fc2980510b5ba3d44c0": {
          "model_module": "@jupyter-widgets/controls",
          "model_name": "ProgressStyleModel",
          "state": {
            "_view_name": "StyleView",
            "_model_name": "ProgressStyleModel",
            "description_width": "",
            "_view_module": "@jupyter-widgets/base",
            "_model_module_version": "1.5.0",
            "_view_count": null,
            "_view_module_version": "1.2.0",
            "bar_color": null,
            "_model_module": "@jupyter-widgets/controls"
          }
        },
        "261e2386090c405bb16dabf8c45c9e48": {
          "model_module": "@jupyter-widgets/base",
          "model_name": "LayoutModel",
          "state": {
            "_view_name": "LayoutView",
            "grid_template_rows": null,
            "right": null,
            "justify_content": null,
            "_view_module": "@jupyter-widgets/base",
            "overflow": null,
            "_model_module_version": "1.2.0",
            "_view_count": null,
            "flex_flow": null,
            "width": null,
            "min_width": null,
            "border": null,
            "align_items": null,
            "bottom": null,
            "_model_module": "@jupyter-widgets/base",
            "top": null,
            "grid_column": null,
            "overflow_y": null,
            "overflow_x": null,
            "grid_auto_flow": null,
            "grid_area": null,
            "grid_template_columns": null,
            "flex": null,
            "_model_name": "LayoutModel",
            "justify_items": null,
            "grid_row": null,
            "max_height": null,
            "align_content": null,
            "visibility": null,
            "align_self": null,
            "height": null,
            "min_height": null,
            "padding": null,
            "grid_auto_rows": null,
            "grid_gap": null,
            "max_width": null,
            "order": null,
            "_view_module_version": "1.2.0",
            "grid_template_areas": null,
            "object_position": null,
            "object_fit": null,
            "grid_auto_columns": null,
            "margin": null,
            "display": null,
            "left": null
          }
        },
        "60ea63310932472f8d6cbdd08a392f0d": {
          "model_module": "@jupyter-widgets/controls",
          "model_name": "VBoxModel",
          "state": {
            "_view_name": "VBoxView",
            "_dom_classes": [],
            "_model_name": "VBoxModel",
            "_view_module": "@jupyter-widgets/controls",
            "_model_module_version": "1.5.0",
            "_view_count": null,
            "_view_module_version": "1.5.0",
            "box_style": "",
            "layout": "IPY_MODEL_3ac6ae77081345eebf91939bb074069f",
            "_model_module": "@jupyter-widgets/controls",
            "children": [
              "IPY_MODEL_cb1937d007424ceebf43a78249c2d128",
              "IPY_MODEL_dc1ead9c13894415ac2fba2254f9b75d"
            ]
          }
        },
        "3ac6ae77081345eebf91939bb074069f": {
          "model_module": "@jupyter-widgets/base",
          "model_name": "LayoutModel",
          "state": {
            "_view_name": "LayoutView",
            "grid_template_rows": null,
            "right": null,
            "justify_content": null,
            "_view_module": "@jupyter-widgets/base",
            "overflow": null,
            "_model_module_version": "1.2.0",
            "_view_count": null,
            "flex_flow": null,
            "width": null,
            "min_width": null,
            "border": null,
            "align_items": null,
            "bottom": null,
            "_model_module": "@jupyter-widgets/base",
            "top": null,
            "grid_column": null,
            "overflow_y": null,
            "overflow_x": null,
            "grid_auto_flow": null,
            "grid_area": null,
            "grid_template_columns": null,
            "flex": null,
            "_model_name": "LayoutModel",
            "justify_items": null,
            "grid_row": null,
            "max_height": null,
            "align_content": null,
            "visibility": null,
            "align_self": null,
            "height": null,
            "min_height": null,
            "padding": null,
            "grid_auto_rows": null,
            "grid_gap": null,
            "max_width": null,
            "order": null,
            "_view_module_version": "1.2.0",
            "grid_template_areas": null,
            "object_position": null,
            "object_fit": null,
            "grid_auto_columns": null,
            "margin": null,
            "display": null,
            "left": null
          }
        },
        "cb1937d007424ceebf43a78249c2d128": {
          "model_module": "@jupyter-widgets/controls",
          "model_name": "LabelModel",
          "state": {
            "_view_name": "LabelView",
            "style": "IPY_MODEL_25629763163847c896a1b1272f876e24",
            "_dom_classes": [],
            "description": "",
            "_model_name": "LabelModel",
            "placeholder": "​",
            "_view_module": "@jupyter-widgets/controls",
            "_model_module_version": "1.5.0",
            "value": " 0.01MB of 0.01MB uploaded (0.00MB deduped)\r",
            "_view_count": null,
            "_view_module_version": "1.5.0",
            "description_tooltip": null,
            "_model_module": "@jupyter-widgets/controls",
            "layout": "IPY_MODEL_05bdfc3c6ae648e2bacaddca6f4f621f"
          }
        },
        "dc1ead9c13894415ac2fba2254f9b75d": {
          "model_module": "@jupyter-widgets/controls",
          "model_name": "FloatProgressModel",
          "state": {
            "_view_name": "ProgressView",
            "style": "IPY_MODEL_0be38074790c4fe2b972029d67cb4389",
            "_dom_classes": [],
            "description": "",
            "_model_name": "FloatProgressModel",
            "bar_style": "",
            "max": 1,
            "_view_module": "@jupyter-widgets/controls",
            "_model_module_version": "1.5.0",
            "value": 1,
            "_view_count": null,
            "_view_module_version": "1.5.0",
            "orientation": "horizontal",
            "min": 0,
            "description_tooltip": null,
            "_model_module": "@jupyter-widgets/controls",
            "layout": "IPY_MODEL_94d907651c8e4de5ad63a2d83cc3f051"
          }
        },
        "25629763163847c896a1b1272f876e24": {
          "model_module": "@jupyter-widgets/controls",
          "model_name": "DescriptionStyleModel",
          "state": {
            "_view_name": "StyleView",
            "_model_name": "DescriptionStyleModel",
            "description_width": "",
            "_view_module": "@jupyter-widgets/base",
            "_model_module_version": "1.5.0",
            "_view_count": null,
            "_view_module_version": "1.2.0",
            "_model_module": "@jupyter-widgets/controls"
          }
        },
        "05bdfc3c6ae648e2bacaddca6f4f621f": {
          "model_module": "@jupyter-widgets/base",
          "model_name": "LayoutModel",
          "state": {
            "_view_name": "LayoutView",
            "grid_template_rows": null,
            "right": null,
            "justify_content": null,
            "_view_module": "@jupyter-widgets/base",
            "overflow": null,
            "_model_module_version": "1.2.0",
            "_view_count": null,
            "flex_flow": null,
            "width": null,
            "min_width": null,
            "border": null,
            "align_items": null,
            "bottom": null,
            "_model_module": "@jupyter-widgets/base",
            "top": null,
            "grid_column": null,
            "overflow_y": null,
            "overflow_x": null,
            "grid_auto_flow": null,
            "grid_area": null,
            "grid_template_columns": null,
            "flex": null,
            "_model_name": "LayoutModel",
            "justify_items": null,
            "grid_row": null,
            "max_height": null,
            "align_content": null,
            "visibility": null,
            "align_self": null,
            "height": null,
            "min_height": null,
            "padding": null,
            "grid_auto_rows": null,
            "grid_gap": null,
            "max_width": null,
            "order": null,
            "_view_module_version": "1.2.0",
            "grid_template_areas": null,
            "object_position": null,
            "object_fit": null,
            "grid_auto_columns": null,
            "margin": null,
            "display": null,
            "left": null
          }
        },
        "0be38074790c4fe2b972029d67cb4389": {
          "model_module": "@jupyter-widgets/controls",
          "model_name": "ProgressStyleModel",
          "state": {
            "_view_name": "StyleView",
            "_model_name": "ProgressStyleModel",
            "description_width": "",
            "_view_module": "@jupyter-widgets/base",
            "_model_module_version": "1.5.0",
            "_view_count": null,
            "_view_module_version": "1.2.0",
            "bar_color": null,
            "_model_module": "@jupyter-widgets/controls"
          }
        },
        "94d907651c8e4de5ad63a2d83cc3f051": {
          "model_module": "@jupyter-widgets/base",
          "model_name": "LayoutModel",
          "state": {
            "_view_name": "LayoutView",
            "grid_template_rows": null,
            "right": null,
            "justify_content": null,
            "_view_module": "@jupyter-widgets/base",
            "overflow": null,
            "_model_module_version": "1.2.0",
            "_view_count": null,
            "flex_flow": null,
            "width": null,
            "min_width": null,
            "border": null,
            "align_items": null,
            "bottom": null,
            "_model_module": "@jupyter-widgets/base",
            "top": null,
            "grid_column": null,
            "overflow_y": null,
            "overflow_x": null,
            "grid_auto_flow": null,
            "grid_area": null,
            "grid_template_columns": null,
            "flex": null,
            "_model_name": "LayoutModel",
            "justify_items": null,
            "grid_row": null,
            "max_height": null,
            "align_content": null,
            "visibility": null,
            "align_self": null,
            "height": null,
            "min_height": null,
            "padding": null,
            "grid_auto_rows": null,
            "grid_gap": null,
            "max_width": null,
            "order": null,
            "_view_module_version": "1.2.0",
            "grid_template_areas": null,
            "object_position": null,
            "object_fit": null,
            "grid_auto_columns": null,
            "margin": null,
            "display": null,
            "left": null
          }
        },
        "3aa89df2f7d6450dae8b09c10ad56eb3": {
          "model_module": "@jupyter-widgets/controls",
          "model_name": "VBoxModel",
          "state": {
            "_view_name": "VBoxView",
            "_dom_classes": [],
            "_model_name": "VBoxModel",
            "_view_module": "@jupyter-widgets/controls",
            "_model_module_version": "1.5.0",
            "_view_count": null,
            "_view_module_version": "1.5.0",
            "box_style": "",
            "layout": "IPY_MODEL_63bc001096854712a7156dcf25561efa",
            "_model_module": "@jupyter-widgets/controls",
            "children": [
              "IPY_MODEL_4c5408e98b0b4403b465323aa8eac1cc",
              "IPY_MODEL_df5f36446d2448ff85f53c1290b65255"
            ]
          }
        },
        "63bc001096854712a7156dcf25561efa": {
          "model_module": "@jupyter-widgets/base",
          "model_name": "LayoutModel",
          "state": {
            "_view_name": "LayoutView",
            "grid_template_rows": null,
            "right": null,
            "justify_content": null,
            "_view_module": "@jupyter-widgets/base",
            "overflow": null,
            "_model_module_version": "1.2.0",
            "_view_count": null,
            "flex_flow": null,
            "width": null,
            "min_width": null,
            "border": null,
            "align_items": null,
            "bottom": null,
            "_model_module": "@jupyter-widgets/base",
            "top": null,
            "grid_column": null,
            "overflow_y": null,
            "overflow_x": null,
            "grid_auto_flow": null,
            "grid_area": null,
            "grid_template_columns": null,
            "flex": null,
            "_model_name": "LayoutModel",
            "justify_items": null,
            "grid_row": null,
            "max_height": null,
            "align_content": null,
            "visibility": null,
            "align_self": null,
            "height": null,
            "min_height": null,
            "padding": null,
            "grid_auto_rows": null,
            "grid_gap": null,
            "max_width": null,
            "order": null,
            "_view_module_version": "1.2.0",
            "grid_template_areas": null,
            "object_position": null,
            "object_fit": null,
            "grid_auto_columns": null,
            "margin": null,
            "display": null,
            "left": null
          }
        },
        "4c5408e98b0b4403b465323aa8eac1cc": {
          "model_module": "@jupyter-widgets/controls",
          "model_name": "LabelModel",
          "state": {
            "_view_name": "LabelView",
            "style": "IPY_MODEL_f84405f6f7674a4288b99a850e4e8344",
            "_dom_classes": [],
            "description": "",
            "_model_name": "LabelModel",
            "placeholder": "​",
            "_view_module": "@jupyter-widgets/controls",
            "_model_module_version": "1.5.0",
            "value": " 0.01MB of 0.01MB uploaded (0.00MB deduped)\r",
            "_view_count": null,
            "_view_module_version": "1.5.0",
            "description_tooltip": null,
            "_model_module": "@jupyter-widgets/controls",
            "layout": "IPY_MODEL_3cf0abcbe3f04b7db7f090827c8bba0b"
          }
        },
        "df5f36446d2448ff85f53c1290b65255": {
          "model_module": "@jupyter-widgets/controls",
          "model_name": "FloatProgressModel",
          "state": {
            "_view_name": "ProgressView",
            "style": "IPY_MODEL_c020e8b5176446cf8ee896ec905930b2",
            "_dom_classes": [],
            "description": "",
            "_model_name": "FloatProgressModel",
            "bar_style": "",
            "max": 1,
            "_view_module": "@jupyter-widgets/controls",
            "_model_module_version": "1.5.0",
            "value": 1,
            "_view_count": null,
            "_view_module_version": "1.5.0",
            "orientation": "horizontal",
            "min": 0,
            "description_tooltip": null,
            "_model_module": "@jupyter-widgets/controls",
            "layout": "IPY_MODEL_f9426fdad717436fa3a89ae013501561"
          }
        },
        "f84405f6f7674a4288b99a850e4e8344": {
          "model_module": "@jupyter-widgets/controls",
          "model_name": "DescriptionStyleModel",
          "state": {
            "_view_name": "StyleView",
            "_model_name": "DescriptionStyleModel",
            "description_width": "",
            "_view_module": "@jupyter-widgets/base",
            "_model_module_version": "1.5.0",
            "_view_count": null,
            "_view_module_version": "1.2.0",
            "_model_module": "@jupyter-widgets/controls"
          }
        },
        "3cf0abcbe3f04b7db7f090827c8bba0b": {
          "model_module": "@jupyter-widgets/base",
          "model_name": "LayoutModel",
          "state": {
            "_view_name": "LayoutView",
            "grid_template_rows": null,
            "right": null,
            "justify_content": null,
            "_view_module": "@jupyter-widgets/base",
            "overflow": null,
            "_model_module_version": "1.2.0",
            "_view_count": null,
            "flex_flow": null,
            "width": null,
            "min_width": null,
            "border": null,
            "align_items": null,
            "bottom": null,
            "_model_module": "@jupyter-widgets/base",
            "top": null,
            "grid_column": null,
            "overflow_y": null,
            "overflow_x": null,
            "grid_auto_flow": null,
            "grid_area": null,
            "grid_template_columns": null,
            "flex": null,
            "_model_name": "LayoutModel",
            "justify_items": null,
            "grid_row": null,
            "max_height": null,
            "align_content": null,
            "visibility": null,
            "align_self": null,
            "height": null,
            "min_height": null,
            "padding": null,
            "grid_auto_rows": null,
            "grid_gap": null,
            "max_width": null,
            "order": null,
            "_view_module_version": "1.2.0",
            "grid_template_areas": null,
            "object_position": null,
            "object_fit": null,
            "grid_auto_columns": null,
            "margin": null,
            "display": null,
            "left": null
          }
        },
        "c020e8b5176446cf8ee896ec905930b2": {
          "model_module": "@jupyter-widgets/controls",
          "model_name": "ProgressStyleModel",
          "state": {
            "_view_name": "StyleView",
            "_model_name": "ProgressStyleModel",
            "description_width": "",
            "_view_module": "@jupyter-widgets/base",
            "_model_module_version": "1.5.0",
            "_view_count": null,
            "_view_module_version": "1.2.0",
            "bar_color": null,
            "_model_module": "@jupyter-widgets/controls"
          }
        },
        "f9426fdad717436fa3a89ae013501561": {
          "model_module": "@jupyter-widgets/base",
          "model_name": "LayoutModel",
          "state": {
            "_view_name": "LayoutView",
            "grid_template_rows": null,
            "right": null,
            "justify_content": null,
            "_view_module": "@jupyter-widgets/base",
            "overflow": null,
            "_model_module_version": "1.2.0",
            "_view_count": null,
            "flex_flow": null,
            "width": null,
            "min_width": null,
            "border": null,
            "align_items": null,
            "bottom": null,
            "_model_module": "@jupyter-widgets/base",
            "top": null,
            "grid_column": null,
            "overflow_y": null,
            "overflow_x": null,
            "grid_auto_flow": null,
            "grid_area": null,
            "grid_template_columns": null,
            "flex": null,
            "_model_name": "LayoutModel",
            "justify_items": null,
            "grid_row": null,
            "max_height": null,
            "align_content": null,
            "visibility": null,
            "align_self": null,
            "height": null,
            "min_height": null,
            "padding": null,
            "grid_auto_rows": null,
            "grid_gap": null,
            "max_width": null,
            "order": null,
            "_view_module_version": "1.2.0",
            "grid_template_areas": null,
            "object_position": null,
            "object_fit": null,
            "grid_auto_columns": null,
            "margin": null,
            "display": null,
            "left": null
          }
        },
        "d4b0224bbd4b439bb42ff678192c992a": {
          "model_module": "@jupyter-widgets/controls",
          "model_name": "VBoxModel",
          "state": {
            "_view_name": "VBoxView",
            "_dom_classes": [],
            "_model_name": "VBoxModel",
            "_view_module": "@jupyter-widgets/controls",
            "_model_module_version": "1.5.0",
            "_view_count": null,
            "_view_module_version": "1.5.0",
            "box_style": "",
            "layout": "IPY_MODEL_218132de3fc34d72a79f8012097ebbb1",
            "_model_module": "@jupyter-widgets/controls",
            "children": [
              "IPY_MODEL_419a68dd35a9477595572640905daae3",
              "IPY_MODEL_9cb483797c1843508e9c58131d7f8bbb"
            ]
          }
        },
        "218132de3fc34d72a79f8012097ebbb1": {
          "model_module": "@jupyter-widgets/base",
          "model_name": "LayoutModel",
          "state": {
            "_view_name": "LayoutView",
            "grid_template_rows": null,
            "right": null,
            "justify_content": null,
            "_view_module": "@jupyter-widgets/base",
            "overflow": null,
            "_model_module_version": "1.2.0",
            "_view_count": null,
            "flex_flow": null,
            "width": null,
            "min_width": null,
            "border": null,
            "align_items": null,
            "bottom": null,
            "_model_module": "@jupyter-widgets/base",
            "top": null,
            "grid_column": null,
            "overflow_y": null,
            "overflow_x": null,
            "grid_auto_flow": null,
            "grid_area": null,
            "grid_template_columns": null,
            "flex": null,
            "_model_name": "LayoutModel",
            "justify_items": null,
            "grid_row": null,
            "max_height": null,
            "align_content": null,
            "visibility": null,
            "align_self": null,
            "height": null,
            "min_height": null,
            "padding": null,
            "grid_auto_rows": null,
            "grid_gap": null,
            "max_width": null,
            "order": null,
            "_view_module_version": "1.2.0",
            "grid_template_areas": null,
            "object_position": null,
            "object_fit": null,
            "grid_auto_columns": null,
            "margin": null,
            "display": null,
            "left": null
          }
        },
        "419a68dd35a9477595572640905daae3": {
          "model_module": "@jupyter-widgets/controls",
          "model_name": "LabelModel",
          "state": {
            "_view_name": "LabelView",
            "style": "IPY_MODEL_e25917e402f84fe0b03a538251528db6",
            "_dom_classes": [],
            "description": "",
            "_model_name": "LabelModel",
            "placeholder": "​",
            "_view_module": "@jupyter-widgets/controls",
            "_model_module_version": "1.5.0",
            "value": " 0.01MB of 0.01MB uploaded (0.00MB deduped)\r",
            "_view_count": null,
            "_view_module_version": "1.5.0",
            "description_tooltip": null,
            "_model_module": "@jupyter-widgets/controls",
            "layout": "IPY_MODEL_8940520e7b59494fbbe27b99ddb04506"
          }
        },
        "9cb483797c1843508e9c58131d7f8bbb": {
          "model_module": "@jupyter-widgets/controls",
          "model_name": "FloatProgressModel",
          "state": {
            "_view_name": "ProgressView",
            "style": "IPY_MODEL_91dc291a51e44296ab4f0ed9896814fd",
            "_dom_classes": [],
            "description": "",
            "_model_name": "FloatProgressModel",
            "bar_style": "",
            "max": 1,
            "_view_module": "@jupyter-widgets/controls",
            "_model_module_version": "1.5.0",
            "value": 1,
            "_view_count": null,
            "_view_module_version": "1.5.0",
            "orientation": "horizontal",
            "min": 0,
            "description_tooltip": null,
            "_model_module": "@jupyter-widgets/controls",
            "layout": "IPY_MODEL_2e32f02287644906a54eb77813329954"
          }
        },
        "e25917e402f84fe0b03a538251528db6": {
          "model_module": "@jupyter-widgets/controls",
          "model_name": "DescriptionStyleModel",
          "state": {
            "_view_name": "StyleView",
            "_model_name": "DescriptionStyleModel",
            "description_width": "",
            "_view_module": "@jupyter-widgets/base",
            "_model_module_version": "1.5.0",
            "_view_count": null,
            "_view_module_version": "1.2.0",
            "_model_module": "@jupyter-widgets/controls"
          }
        },
        "8940520e7b59494fbbe27b99ddb04506": {
          "model_module": "@jupyter-widgets/base",
          "model_name": "LayoutModel",
          "state": {
            "_view_name": "LayoutView",
            "grid_template_rows": null,
            "right": null,
            "justify_content": null,
            "_view_module": "@jupyter-widgets/base",
            "overflow": null,
            "_model_module_version": "1.2.0",
            "_view_count": null,
            "flex_flow": null,
            "width": null,
            "min_width": null,
            "border": null,
            "align_items": null,
            "bottom": null,
            "_model_module": "@jupyter-widgets/base",
            "top": null,
            "grid_column": null,
            "overflow_y": null,
            "overflow_x": null,
            "grid_auto_flow": null,
            "grid_area": null,
            "grid_template_columns": null,
            "flex": null,
            "_model_name": "LayoutModel",
            "justify_items": null,
            "grid_row": null,
            "max_height": null,
            "align_content": null,
            "visibility": null,
            "align_self": null,
            "height": null,
            "min_height": null,
            "padding": null,
            "grid_auto_rows": null,
            "grid_gap": null,
            "max_width": null,
            "order": null,
            "_view_module_version": "1.2.0",
            "grid_template_areas": null,
            "object_position": null,
            "object_fit": null,
            "grid_auto_columns": null,
            "margin": null,
            "display": null,
            "left": null
          }
        },
        "91dc291a51e44296ab4f0ed9896814fd": {
          "model_module": "@jupyter-widgets/controls",
          "model_name": "ProgressStyleModel",
          "state": {
            "_view_name": "StyleView",
            "_model_name": "ProgressStyleModel",
            "description_width": "",
            "_view_module": "@jupyter-widgets/base",
            "_model_module_version": "1.5.0",
            "_view_count": null,
            "_view_module_version": "1.2.0",
            "bar_color": null,
            "_model_module": "@jupyter-widgets/controls"
          }
        },
        "2e32f02287644906a54eb77813329954": {
          "model_module": "@jupyter-widgets/base",
          "model_name": "LayoutModel",
          "state": {
            "_view_name": "LayoutView",
            "grid_template_rows": null,
            "right": null,
            "justify_content": null,
            "_view_module": "@jupyter-widgets/base",
            "overflow": null,
            "_model_module_version": "1.2.0",
            "_view_count": null,
            "flex_flow": null,
            "width": null,
            "min_width": null,
            "border": null,
            "align_items": null,
            "bottom": null,
            "_model_module": "@jupyter-widgets/base",
            "top": null,
            "grid_column": null,
            "overflow_y": null,
            "overflow_x": null,
            "grid_auto_flow": null,
            "grid_area": null,
            "grid_template_columns": null,
            "flex": null,
            "_model_name": "LayoutModel",
            "justify_items": null,
            "grid_row": null,
            "max_height": null,
            "align_content": null,
            "visibility": null,
            "align_self": null,
            "height": null,
            "min_height": null,
            "padding": null,
            "grid_auto_rows": null,
            "grid_gap": null,
            "max_width": null,
            "order": null,
            "_view_module_version": "1.2.0",
            "grid_template_areas": null,
            "object_position": null,
            "object_fit": null,
            "grid_auto_columns": null,
            "margin": null,
            "display": null,
            "left": null
          }
        },
        "272b3fb92e4d4a8499744c2259370993": {
          "model_module": "@jupyter-widgets/controls",
          "model_name": "VBoxModel",
          "state": {
            "_view_name": "VBoxView",
            "_dom_classes": [],
            "_model_name": "VBoxModel",
            "_view_module": "@jupyter-widgets/controls",
            "_model_module_version": "1.5.0",
            "_view_count": null,
            "_view_module_version": "1.5.0",
            "box_style": "",
            "layout": "IPY_MODEL_01e6513ac3014dc0bd5f458677e8d7e8",
            "_model_module": "@jupyter-widgets/controls",
            "children": [
              "IPY_MODEL_f1bcb8510519412586fd8ab860e06e91",
              "IPY_MODEL_3aa90758b2dc448f887a262f0a56e6a5"
            ]
          }
        },
        "01e6513ac3014dc0bd5f458677e8d7e8": {
          "model_module": "@jupyter-widgets/base",
          "model_name": "LayoutModel",
          "state": {
            "_view_name": "LayoutView",
            "grid_template_rows": null,
            "right": null,
            "justify_content": null,
            "_view_module": "@jupyter-widgets/base",
            "overflow": null,
            "_model_module_version": "1.2.0",
            "_view_count": null,
            "flex_flow": null,
            "width": null,
            "min_width": null,
            "border": null,
            "align_items": null,
            "bottom": null,
            "_model_module": "@jupyter-widgets/base",
            "top": null,
            "grid_column": null,
            "overflow_y": null,
            "overflow_x": null,
            "grid_auto_flow": null,
            "grid_area": null,
            "grid_template_columns": null,
            "flex": null,
            "_model_name": "LayoutModel",
            "justify_items": null,
            "grid_row": null,
            "max_height": null,
            "align_content": null,
            "visibility": null,
            "align_self": null,
            "height": null,
            "min_height": null,
            "padding": null,
            "grid_auto_rows": null,
            "grid_gap": null,
            "max_width": null,
            "order": null,
            "_view_module_version": "1.2.0",
            "grid_template_areas": null,
            "object_position": null,
            "object_fit": null,
            "grid_auto_columns": null,
            "margin": null,
            "display": null,
            "left": null
          }
        },
        "f1bcb8510519412586fd8ab860e06e91": {
          "model_module": "@jupyter-widgets/controls",
          "model_name": "LabelModel",
          "state": {
            "_view_name": "LabelView",
            "style": "IPY_MODEL_82831afd0c6e41fea241cca1b9d641ab",
            "_dom_classes": [],
            "description": "",
            "_model_name": "LabelModel",
            "placeholder": "​",
            "_view_module": "@jupyter-widgets/controls",
            "_model_module_version": "1.5.0",
            "value": " 0.01MB of 0.01MB uploaded (0.00MB deduped)\r",
            "_view_count": null,
            "_view_module_version": "1.5.0",
            "description_tooltip": null,
            "_model_module": "@jupyter-widgets/controls",
            "layout": "IPY_MODEL_a16917da60de41f98489d5de58436de8"
          }
        },
        "3aa90758b2dc448f887a262f0a56e6a5": {
          "model_module": "@jupyter-widgets/controls",
          "model_name": "FloatProgressModel",
          "state": {
            "_view_name": "ProgressView",
            "style": "IPY_MODEL_5ddf67a0f20a4ce3b3c83ce5ada446b1",
            "_dom_classes": [],
            "description": "",
            "_model_name": "FloatProgressModel",
            "bar_style": "",
            "max": 1,
            "_view_module": "@jupyter-widgets/controls",
            "_model_module_version": "1.5.0",
            "value": 1,
            "_view_count": null,
            "_view_module_version": "1.5.0",
            "orientation": "horizontal",
            "min": 0,
            "description_tooltip": null,
            "_model_module": "@jupyter-widgets/controls",
            "layout": "IPY_MODEL_cb30eb3f6fa84ed0a3fe4ba90329f24b"
          }
        },
        "82831afd0c6e41fea241cca1b9d641ab": {
          "model_module": "@jupyter-widgets/controls",
          "model_name": "DescriptionStyleModel",
          "state": {
            "_view_name": "StyleView",
            "_model_name": "DescriptionStyleModel",
            "description_width": "",
            "_view_module": "@jupyter-widgets/base",
            "_model_module_version": "1.5.0",
            "_view_count": null,
            "_view_module_version": "1.2.0",
            "_model_module": "@jupyter-widgets/controls"
          }
        },
        "a16917da60de41f98489d5de58436de8": {
          "model_module": "@jupyter-widgets/base",
          "model_name": "LayoutModel",
          "state": {
            "_view_name": "LayoutView",
            "grid_template_rows": null,
            "right": null,
            "justify_content": null,
            "_view_module": "@jupyter-widgets/base",
            "overflow": null,
            "_model_module_version": "1.2.0",
            "_view_count": null,
            "flex_flow": null,
            "width": null,
            "min_width": null,
            "border": null,
            "align_items": null,
            "bottom": null,
            "_model_module": "@jupyter-widgets/base",
            "top": null,
            "grid_column": null,
            "overflow_y": null,
            "overflow_x": null,
            "grid_auto_flow": null,
            "grid_area": null,
            "grid_template_columns": null,
            "flex": null,
            "_model_name": "LayoutModel",
            "justify_items": null,
            "grid_row": null,
            "max_height": null,
            "align_content": null,
            "visibility": null,
            "align_self": null,
            "height": null,
            "min_height": null,
            "padding": null,
            "grid_auto_rows": null,
            "grid_gap": null,
            "max_width": null,
            "order": null,
            "_view_module_version": "1.2.0",
            "grid_template_areas": null,
            "object_position": null,
            "object_fit": null,
            "grid_auto_columns": null,
            "margin": null,
            "display": null,
            "left": null
          }
        },
        "5ddf67a0f20a4ce3b3c83ce5ada446b1": {
          "model_module": "@jupyter-widgets/controls",
          "model_name": "ProgressStyleModel",
          "state": {
            "_view_name": "StyleView",
            "_model_name": "ProgressStyleModel",
            "description_width": "",
            "_view_module": "@jupyter-widgets/base",
            "_model_module_version": "1.5.0",
            "_view_count": null,
            "_view_module_version": "1.2.0",
            "bar_color": null,
            "_model_module": "@jupyter-widgets/controls"
          }
        },
        "cb30eb3f6fa84ed0a3fe4ba90329f24b": {
          "model_module": "@jupyter-widgets/base",
          "model_name": "LayoutModel",
          "state": {
            "_view_name": "LayoutView",
            "grid_template_rows": null,
            "right": null,
            "justify_content": null,
            "_view_module": "@jupyter-widgets/base",
            "overflow": null,
            "_model_module_version": "1.2.0",
            "_view_count": null,
            "flex_flow": null,
            "width": null,
            "min_width": null,
            "border": null,
            "align_items": null,
            "bottom": null,
            "_model_module": "@jupyter-widgets/base",
            "top": null,
            "grid_column": null,
            "overflow_y": null,
            "overflow_x": null,
            "grid_auto_flow": null,
            "grid_area": null,
            "grid_template_columns": null,
            "flex": null,
            "_model_name": "LayoutModel",
            "justify_items": null,
            "grid_row": null,
            "max_height": null,
            "align_content": null,
            "visibility": null,
            "align_self": null,
            "height": null,
            "min_height": null,
            "padding": null,
            "grid_auto_rows": null,
            "grid_gap": null,
            "max_width": null,
            "order": null,
            "_view_module_version": "1.2.0",
            "grid_template_areas": null,
            "object_position": null,
            "object_fit": null,
            "grid_auto_columns": null,
            "margin": null,
            "display": null,
            "left": null
          }
        },
        "b8930695067c401ca82a18c115c0674e": {
          "model_module": "@jupyter-widgets/controls",
          "model_name": "VBoxModel",
          "state": {
            "_view_name": "VBoxView",
            "_dom_classes": [],
            "_model_name": "VBoxModel",
            "_view_module": "@jupyter-widgets/controls",
            "_model_module_version": "1.5.0",
            "_view_count": null,
            "_view_module_version": "1.5.0",
            "box_style": "",
            "layout": "IPY_MODEL_0ea2dd6535bd4cf58c3677e69ab008a6",
            "_model_module": "@jupyter-widgets/controls",
            "children": [
              "IPY_MODEL_b920de09ca644c9da445ff05c0d99437",
              "IPY_MODEL_9ed2a731928f47ff83c477eb584e9615"
            ]
          }
        },
        "0ea2dd6535bd4cf58c3677e69ab008a6": {
          "model_module": "@jupyter-widgets/base",
          "model_name": "LayoutModel",
          "state": {
            "_view_name": "LayoutView",
            "grid_template_rows": null,
            "right": null,
            "justify_content": null,
            "_view_module": "@jupyter-widgets/base",
            "overflow": null,
            "_model_module_version": "1.2.0",
            "_view_count": null,
            "flex_flow": null,
            "width": null,
            "min_width": null,
            "border": null,
            "align_items": null,
            "bottom": null,
            "_model_module": "@jupyter-widgets/base",
            "top": null,
            "grid_column": null,
            "overflow_y": null,
            "overflow_x": null,
            "grid_auto_flow": null,
            "grid_area": null,
            "grid_template_columns": null,
            "flex": null,
            "_model_name": "LayoutModel",
            "justify_items": null,
            "grid_row": null,
            "max_height": null,
            "align_content": null,
            "visibility": null,
            "align_self": null,
            "height": null,
            "min_height": null,
            "padding": null,
            "grid_auto_rows": null,
            "grid_gap": null,
            "max_width": null,
            "order": null,
            "_view_module_version": "1.2.0",
            "grid_template_areas": null,
            "object_position": null,
            "object_fit": null,
            "grid_auto_columns": null,
            "margin": null,
            "display": null,
            "left": null
          }
        },
        "b920de09ca644c9da445ff05c0d99437": {
          "model_module": "@jupyter-widgets/controls",
          "model_name": "LabelModel",
          "state": {
            "_view_name": "LabelView",
            "style": "IPY_MODEL_306865a20d284a01b236009dc538f2ad",
            "_dom_classes": [],
            "description": "",
            "_model_name": "LabelModel",
            "placeholder": "​",
            "_view_module": "@jupyter-widgets/controls",
            "_model_module_version": "1.5.0",
            "value": " 0.01MB of 0.01MB uploaded (0.00MB deduped)\r",
            "_view_count": null,
            "_view_module_version": "1.5.0",
            "description_tooltip": null,
            "_model_module": "@jupyter-widgets/controls",
            "layout": "IPY_MODEL_33e9907045474234a208a622df77498e"
          }
        },
        "9ed2a731928f47ff83c477eb584e9615": {
          "model_module": "@jupyter-widgets/controls",
          "model_name": "FloatProgressModel",
          "state": {
            "_view_name": "ProgressView",
            "style": "IPY_MODEL_8f5ea706812a42bfa0fbf97e9832bf49",
            "_dom_classes": [],
            "description": "",
            "_model_name": "FloatProgressModel",
            "bar_style": "",
            "max": 1,
            "_view_module": "@jupyter-widgets/controls",
            "_model_module_version": "1.5.0",
            "value": 1,
            "_view_count": null,
            "_view_module_version": "1.5.0",
            "orientation": "horizontal",
            "min": 0,
            "description_tooltip": null,
            "_model_module": "@jupyter-widgets/controls",
            "layout": "IPY_MODEL_f257c73036da45139a1771cc03eddf5e"
          }
        },
        "306865a20d284a01b236009dc538f2ad": {
          "model_module": "@jupyter-widgets/controls",
          "model_name": "DescriptionStyleModel",
          "state": {
            "_view_name": "StyleView",
            "_model_name": "DescriptionStyleModel",
            "description_width": "",
            "_view_module": "@jupyter-widgets/base",
            "_model_module_version": "1.5.0",
            "_view_count": null,
            "_view_module_version": "1.2.0",
            "_model_module": "@jupyter-widgets/controls"
          }
        },
        "33e9907045474234a208a622df77498e": {
          "model_module": "@jupyter-widgets/base",
          "model_name": "LayoutModel",
          "state": {
            "_view_name": "LayoutView",
            "grid_template_rows": null,
            "right": null,
            "justify_content": null,
            "_view_module": "@jupyter-widgets/base",
            "overflow": null,
            "_model_module_version": "1.2.0",
            "_view_count": null,
            "flex_flow": null,
            "width": null,
            "min_width": null,
            "border": null,
            "align_items": null,
            "bottom": null,
            "_model_module": "@jupyter-widgets/base",
            "top": null,
            "grid_column": null,
            "overflow_y": null,
            "overflow_x": null,
            "grid_auto_flow": null,
            "grid_area": null,
            "grid_template_columns": null,
            "flex": null,
            "_model_name": "LayoutModel",
            "justify_items": null,
            "grid_row": null,
            "max_height": null,
            "align_content": null,
            "visibility": null,
            "align_self": null,
            "height": null,
            "min_height": null,
            "padding": null,
            "grid_auto_rows": null,
            "grid_gap": null,
            "max_width": null,
            "order": null,
            "_view_module_version": "1.2.0",
            "grid_template_areas": null,
            "object_position": null,
            "object_fit": null,
            "grid_auto_columns": null,
            "margin": null,
            "display": null,
            "left": null
          }
        },
        "8f5ea706812a42bfa0fbf97e9832bf49": {
          "model_module": "@jupyter-widgets/controls",
          "model_name": "ProgressStyleModel",
          "state": {
            "_view_name": "StyleView",
            "_model_name": "ProgressStyleModel",
            "description_width": "",
            "_view_module": "@jupyter-widgets/base",
            "_model_module_version": "1.5.0",
            "_view_count": null,
            "_view_module_version": "1.2.0",
            "bar_color": null,
            "_model_module": "@jupyter-widgets/controls"
          }
        },
        "f257c73036da45139a1771cc03eddf5e": {
          "model_module": "@jupyter-widgets/base",
          "model_name": "LayoutModel",
          "state": {
            "_view_name": "LayoutView",
            "grid_template_rows": null,
            "right": null,
            "justify_content": null,
            "_view_module": "@jupyter-widgets/base",
            "overflow": null,
            "_model_module_version": "1.2.0",
            "_view_count": null,
            "flex_flow": null,
            "width": null,
            "min_width": null,
            "border": null,
            "align_items": null,
            "bottom": null,
            "_model_module": "@jupyter-widgets/base",
            "top": null,
            "grid_column": null,
            "overflow_y": null,
            "overflow_x": null,
            "grid_auto_flow": null,
            "grid_area": null,
            "grid_template_columns": null,
            "flex": null,
            "_model_name": "LayoutModel",
            "justify_items": null,
            "grid_row": null,
            "max_height": null,
            "align_content": null,
            "visibility": null,
            "align_self": null,
            "height": null,
            "min_height": null,
            "padding": null,
            "grid_auto_rows": null,
            "grid_gap": null,
            "max_width": null,
            "order": null,
            "_view_module_version": "1.2.0",
            "grid_template_areas": null,
            "object_position": null,
            "object_fit": null,
            "grid_auto_columns": null,
            "margin": null,
            "display": null,
            "left": null
          }
        },
        "e6c0f378e84a4f20a89774beba9e1f4f": {
          "model_module": "@jupyter-widgets/controls",
          "model_name": "VBoxModel",
          "state": {
            "_view_name": "VBoxView",
            "_dom_classes": [],
            "_model_name": "VBoxModel",
            "_view_module": "@jupyter-widgets/controls",
            "_model_module_version": "1.5.0",
            "_view_count": null,
            "_view_module_version": "1.5.0",
            "box_style": "",
            "layout": "IPY_MODEL_bd8b97fdad4a4a51be0ec9c82ea95695",
            "_model_module": "@jupyter-widgets/controls",
            "children": [
              "IPY_MODEL_0cdceba7b7604c07af369ff72ca7516d",
              "IPY_MODEL_ada1dc3144324b4f8cdd2b59bd1687d7"
            ]
          }
        },
        "bd8b97fdad4a4a51be0ec9c82ea95695": {
          "model_module": "@jupyter-widgets/base",
          "model_name": "LayoutModel",
          "state": {
            "_view_name": "LayoutView",
            "grid_template_rows": null,
            "right": null,
            "justify_content": null,
            "_view_module": "@jupyter-widgets/base",
            "overflow": null,
            "_model_module_version": "1.2.0",
            "_view_count": null,
            "flex_flow": null,
            "width": null,
            "min_width": null,
            "border": null,
            "align_items": null,
            "bottom": null,
            "_model_module": "@jupyter-widgets/base",
            "top": null,
            "grid_column": null,
            "overflow_y": null,
            "overflow_x": null,
            "grid_auto_flow": null,
            "grid_area": null,
            "grid_template_columns": null,
            "flex": null,
            "_model_name": "LayoutModel",
            "justify_items": null,
            "grid_row": null,
            "max_height": null,
            "align_content": null,
            "visibility": null,
            "align_self": null,
            "height": null,
            "min_height": null,
            "padding": null,
            "grid_auto_rows": null,
            "grid_gap": null,
            "max_width": null,
            "order": null,
            "_view_module_version": "1.2.0",
            "grid_template_areas": null,
            "object_position": null,
            "object_fit": null,
            "grid_auto_columns": null,
            "margin": null,
            "display": null,
            "left": null
          }
        },
        "0cdceba7b7604c07af369ff72ca7516d": {
          "model_module": "@jupyter-widgets/controls",
          "model_name": "LabelModel",
          "state": {
            "_view_name": "LabelView",
            "style": "IPY_MODEL_bd6d67458b4843c8afd886d6105edd82",
            "_dom_classes": [],
            "description": "",
            "_model_name": "LabelModel",
            "placeholder": "​",
            "_view_module": "@jupyter-widgets/controls",
            "_model_module_version": "1.5.0",
            "value": " 0.01MB of 0.01MB uploaded (0.00MB deduped)\r",
            "_view_count": null,
            "_view_module_version": "1.5.0",
            "description_tooltip": null,
            "_model_module": "@jupyter-widgets/controls",
            "layout": "IPY_MODEL_53c27ba0e2ac44c0ae6cbd72de136ac7"
          }
        },
        "ada1dc3144324b4f8cdd2b59bd1687d7": {
          "model_module": "@jupyter-widgets/controls",
          "model_name": "FloatProgressModel",
          "state": {
            "_view_name": "ProgressView",
            "style": "IPY_MODEL_fdee0e1a28c2483dbf07da96658afb3a",
            "_dom_classes": [],
            "description": "",
            "_model_name": "FloatProgressModel",
            "bar_style": "",
            "max": 1,
            "_view_module": "@jupyter-widgets/controls",
            "_model_module_version": "1.5.0",
            "value": 1,
            "_view_count": null,
            "_view_module_version": "1.5.0",
            "orientation": "horizontal",
            "min": 0,
            "description_tooltip": null,
            "_model_module": "@jupyter-widgets/controls",
            "layout": "IPY_MODEL_dbd619eb30484ea5ac574a90897efca5"
          }
        },
        "bd6d67458b4843c8afd886d6105edd82": {
          "model_module": "@jupyter-widgets/controls",
          "model_name": "DescriptionStyleModel",
          "state": {
            "_view_name": "StyleView",
            "_model_name": "DescriptionStyleModel",
            "description_width": "",
            "_view_module": "@jupyter-widgets/base",
            "_model_module_version": "1.5.0",
            "_view_count": null,
            "_view_module_version": "1.2.0",
            "_model_module": "@jupyter-widgets/controls"
          }
        },
        "53c27ba0e2ac44c0ae6cbd72de136ac7": {
          "model_module": "@jupyter-widgets/base",
          "model_name": "LayoutModel",
          "state": {
            "_view_name": "LayoutView",
            "grid_template_rows": null,
            "right": null,
            "justify_content": null,
            "_view_module": "@jupyter-widgets/base",
            "overflow": null,
            "_model_module_version": "1.2.0",
            "_view_count": null,
            "flex_flow": null,
            "width": null,
            "min_width": null,
            "border": null,
            "align_items": null,
            "bottom": null,
            "_model_module": "@jupyter-widgets/base",
            "top": null,
            "grid_column": null,
            "overflow_y": null,
            "overflow_x": null,
            "grid_auto_flow": null,
            "grid_area": null,
            "grid_template_columns": null,
            "flex": null,
            "_model_name": "LayoutModel",
            "justify_items": null,
            "grid_row": null,
            "max_height": null,
            "align_content": null,
            "visibility": null,
            "align_self": null,
            "height": null,
            "min_height": null,
            "padding": null,
            "grid_auto_rows": null,
            "grid_gap": null,
            "max_width": null,
            "order": null,
            "_view_module_version": "1.2.0",
            "grid_template_areas": null,
            "object_position": null,
            "object_fit": null,
            "grid_auto_columns": null,
            "margin": null,
            "display": null,
            "left": null
          }
        },
        "fdee0e1a28c2483dbf07da96658afb3a": {
          "model_module": "@jupyter-widgets/controls",
          "model_name": "ProgressStyleModel",
          "state": {
            "_view_name": "StyleView",
            "_model_name": "ProgressStyleModel",
            "description_width": "",
            "_view_module": "@jupyter-widgets/base",
            "_model_module_version": "1.5.0",
            "_view_count": null,
            "_view_module_version": "1.2.0",
            "bar_color": null,
            "_model_module": "@jupyter-widgets/controls"
          }
        },
        "dbd619eb30484ea5ac574a90897efca5": {
          "model_module": "@jupyter-widgets/base",
          "model_name": "LayoutModel",
          "state": {
            "_view_name": "LayoutView",
            "grid_template_rows": null,
            "right": null,
            "justify_content": null,
            "_view_module": "@jupyter-widgets/base",
            "overflow": null,
            "_model_module_version": "1.2.0",
            "_view_count": null,
            "flex_flow": null,
            "width": null,
            "min_width": null,
            "border": null,
            "align_items": null,
            "bottom": null,
            "_model_module": "@jupyter-widgets/base",
            "top": null,
            "grid_column": null,
            "overflow_y": null,
            "overflow_x": null,
            "grid_auto_flow": null,
            "grid_area": null,
            "grid_template_columns": null,
            "flex": null,
            "_model_name": "LayoutModel",
            "justify_items": null,
            "grid_row": null,
            "max_height": null,
            "align_content": null,
            "visibility": null,
            "align_self": null,
            "height": null,
            "min_height": null,
            "padding": null,
            "grid_auto_rows": null,
            "grid_gap": null,
            "max_width": null,
            "order": null,
            "_view_module_version": "1.2.0",
            "grid_template_areas": null,
            "object_position": null,
            "object_fit": null,
            "grid_auto_columns": null,
            "margin": null,
            "display": null,
            "left": null
          }
        },
        "e549d803cb12491497be33560cd4c460": {
          "model_module": "@jupyter-widgets/controls",
          "model_name": "VBoxModel",
          "state": {
            "_view_name": "VBoxView",
            "_dom_classes": [],
            "_model_name": "VBoxModel",
            "_view_module": "@jupyter-widgets/controls",
            "_model_module_version": "1.5.0",
            "_view_count": null,
            "_view_module_version": "1.5.0",
            "box_style": "",
            "layout": "IPY_MODEL_83dcc62d9d6d4181a72dfe363f54e422",
            "_model_module": "@jupyter-widgets/controls",
            "children": [
              "IPY_MODEL_a37cd31e9deb4dd6b9ca58861eca3846",
              "IPY_MODEL_ced098a9e75c47d79dac9487bb2f3e4d"
            ]
          }
        },
        "83dcc62d9d6d4181a72dfe363f54e422": {
          "model_module": "@jupyter-widgets/base",
          "model_name": "LayoutModel",
          "state": {
            "_view_name": "LayoutView",
            "grid_template_rows": null,
            "right": null,
            "justify_content": null,
            "_view_module": "@jupyter-widgets/base",
            "overflow": null,
            "_model_module_version": "1.2.0",
            "_view_count": null,
            "flex_flow": null,
            "width": null,
            "min_width": null,
            "border": null,
            "align_items": null,
            "bottom": null,
            "_model_module": "@jupyter-widgets/base",
            "top": null,
            "grid_column": null,
            "overflow_y": null,
            "overflow_x": null,
            "grid_auto_flow": null,
            "grid_area": null,
            "grid_template_columns": null,
            "flex": null,
            "_model_name": "LayoutModel",
            "justify_items": null,
            "grid_row": null,
            "max_height": null,
            "align_content": null,
            "visibility": null,
            "align_self": null,
            "height": null,
            "min_height": null,
            "padding": null,
            "grid_auto_rows": null,
            "grid_gap": null,
            "max_width": null,
            "order": null,
            "_view_module_version": "1.2.0",
            "grid_template_areas": null,
            "object_position": null,
            "object_fit": null,
            "grid_auto_columns": null,
            "margin": null,
            "display": null,
            "left": null
          }
        },
        "a37cd31e9deb4dd6b9ca58861eca3846": {
          "model_module": "@jupyter-widgets/controls",
          "model_name": "LabelModel",
          "state": {
            "_view_name": "LabelView",
            "style": "IPY_MODEL_11a4f5653c92435e96cbbe620093bf6d",
            "_dom_classes": [],
            "description": "",
            "_model_name": "LabelModel",
            "placeholder": "​",
            "_view_module": "@jupyter-widgets/controls",
            "_model_module_version": "1.5.0",
            "value": " 0.01MB of 0.01MB uploaded (0.00MB deduped)\r",
            "_view_count": null,
            "_view_module_version": "1.5.0",
            "description_tooltip": null,
            "_model_module": "@jupyter-widgets/controls",
            "layout": "IPY_MODEL_a1456635cdf740798ec1650a9a73c454"
          }
        },
        "ced098a9e75c47d79dac9487bb2f3e4d": {
          "model_module": "@jupyter-widgets/controls",
          "model_name": "FloatProgressModel",
          "state": {
            "_view_name": "ProgressView",
            "style": "IPY_MODEL_f042664e687c4c439fcbb079b8e688c9",
            "_dom_classes": [],
            "description": "",
            "_model_name": "FloatProgressModel",
            "bar_style": "",
            "max": 1,
            "_view_module": "@jupyter-widgets/controls",
            "_model_module_version": "1.5.0",
            "value": 1,
            "_view_count": null,
            "_view_module_version": "1.5.0",
            "orientation": "horizontal",
            "min": 0,
            "description_tooltip": null,
            "_model_module": "@jupyter-widgets/controls",
            "layout": "IPY_MODEL_1c1b2510fdfb4a1aa6ba3b274d097093"
          }
        },
        "11a4f5653c92435e96cbbe620093bf6d": {
          "model_module": "@jupyter-widgets/controls",
          "model_name": "DescriptionStyleModel",
          "state": {
            "_view_name": "StyleView",
            "_model_name": "DescriptionStyleModel",
            "description_width": "",
            "_view_module": "@jupyter-widgets/base",
            "_model_module_version": "1.5.0",
            "_view_count": null,
            "_view_module_version": "1.2.0",
            "_model_module": "@jupyter-widgets/controls"
          }
        },
        "a1456635cdf740798ec1650a9a73c454": {
          "model_module": "@jupyter-widgets/base",
          "model_name": "LayoutModel",
          "state": {
            "_view_name": "LayoutView",
            "grid_template_rows": null,
            "right": null,
            "justify_content": null,
            "_view_module": "@jupyter-widgets/base",
            "overflow": null,
            "_model_module_version": "1.2.0",
            "_view_count": null,
            "flex_flow": null,
            "width": null,
            "min_width": null,
            "border": null,
            "align_items": null,
            "bottom": null,
            "_model_module": "@jupyter-widgets/base",
            "top": null,
            "grid_column": null,
            "overflow_y": null,
            "overflow_x": null,
            "grid_auto_flow": null,
            "grid_area": null,
            "grid_template_columns": null,
            "flex": null,
            "_model_name": "LayoutModel",
            "justify_items": null,
            "grid_row": null,
            "max_height": null,
            "align_content": null,
            "visibility": null,
            "align_self": null,
            "height": null,
            "min_height": null,
            "padding": null,
            "grid_auto_rows": null,
            "grid_gap": null,
            "max_width": null,
            "order": null,
            "_view_module_version": "1.2.0",
            "grid_template_areas": null,
            "object_position": null,
            "object_fit": null,
            "grid_auto_columns": null,
            "margin": null,
            "display": null,
            "left": null
          }
        },
        "f042664e687c4c439fcbb079b8e688c9": {
          "model_module": "@jupyter-widgets/controls",
          "model_name": "ProgressStyleModel",
          "state": {
            "_view_name": "StyleView",
            "_model_name": "ProgressStyleModel",
            "description_width": "",
            "_view_module": "@jupyter-widgets/base",
            "_model_module_version": "1.5.0",
            "_view_count": null,
            "_view_module_version": "1.2.0",
            "bar_color": null,
            "_model_module": "@jupyter-widgets/controls"
          }
        },
        "1c1b2510fdfb4a1aa6ba3b274d097093": {
          "model_module": "@jupyter-widgets/base",
          "model_name": "LayoutModel",
          "state": {
            "_view_name": "LayoutView",
            "grid_template_rows": null,
            "right": null,
            "justify_content": null,
            "_view_module": "@jupyter-widgets/base",
            "overflow": null,
            "_model_module_version": "1.2.0",
            "_view_count": null,
            "flex_flow": null,
            "width": null,
            "min_width": null,
            "border": null,
            "align_items": null,
            "bottom": null,
            "_model_module": "@jupyter-widgets/base",
            "top": null,
            "grid_column": null,
            "overflow_y": null,
            "overflow_x": null,
            "grid_auto_flow": null,
            "grid_area": null,
            "grid_template_columns": null,
            "flex": null,
            "_model_name": "LayoutModel",
            "justify_items": null,
            "grid_row": null,
            "max_height": null,
            "align_content": null,
            "visibility": null,
            "align_self": null,
            "height": null,
            "min_height": null,
            "padding": null,
            "grid_auto_rows": null,
            "grid_gap": null,
            "max_width": null,
            "order": null,
            "_view_module_version": "1.2.0",
            "grid_template_areas": null,
            "object_position": null,
            "object_fit": null,
            "grid_auto_columns": null,
            "margin": null,
            "display": null,
            "left": null
          }
        },
        "82c8109631e64849bd9c05372251f33b": {
          "model_module": "@jupyter-widgets/controls",
          "model_name": "VBoxModel",
          "state": {
            "_view_name": "VBoxView",
            "_dom_classes": [],
            "_model_name": "VBoxModel",
            "_view_module": "@jupyter-widgets/controls",
            "_model_module_version": "1.5.0",
            "_view_count": null,
            "_view_module_version": "1.5.0",
            "box_style": "",
            "layout": "IPY_MODEL_f55c558318b24b428466fb8d20477f8d",
            "_model_module": "@jupyter-widgets/controls",
            "children": [
              "IPY_MODEL_fe1a3a7f39ea4f05a41f3a9b1add8ad8",
              "IPY_MODEL_9160c76ff87d4414873aa11c5d36d145"
            ]
          }
        },
        "f55c558318b24b428466fb8d20477f8d": {
          "model_module": "@jupyter-widgets/base",
          "model_name": "LayoutModel",
          "state": {
            "_view_name": "LayoutView",
            "grid_template_rows": null,
            "right": null,
            "justify_content": null,
            "_view_module": "@jupyter-widgets/base",
            "overflow": null,
            "_model_module_version": "1.2.0",
            "_view_count": null,
            "flex_flow": null,
            "width": null,
            "min_width": null,
            "border": null,
            "align_items": null,
            "bottom": null,
            "_model_module": "@jupyter-widgets/base",
            "top": null,
            "grid_column": null,
            "overflow_y": null,
            "overflow_x": null,
            "grid_auto_flow": null,
            "grid_area": null,
            "grid_template_columns": null,
            "flex": null,
            "_model_name": "LayoutModel",
            "justify_items": null,
            "grid_row": null,
            "max_height": null,
            "align_content": null,
            "visibility": null,
            "align_self": null,
            "height": null,
            "min_height": null,
            "padding": null,
            "grid_auto_rows": null,
            "grid_gap": null,
            "max_width": null,
            "order": null,
            "_view_module_version": "1.2.0",
            "grid_template_areas": null,
            "object_position": null,
            "object_fit": null,
            "grid_auto_columns": null,
            "margin": null,
            "display": null,
            "left": null
          }
        },
        "fe1a3a7f39ea4f05a41f3a9b1add8ad8": {
          "model_module": "@jupyter-widgets/controls",
          "model_name": "LabelModel",
          "state": {
            "_view_name": "LabelView",
            "style": "IPY_MODEL_200019697510464c82fe75ba26bb7300",
            "_dom_classes": [],
            "description": "",
            "_model_name": "LabelModel",
            "placeholder": "​",
            "_view_module": "@jupyter-widgets/controls",
            "_model_module_version": "1.5.0",
            "value": " 0.01MB of 0.01MB uploaded (0.00MB deduped)\r",
            "_view_count": null,
            "_view_module_version": "1.5.0",
            "description_tooltip": null,
            "_model_module": "@jupyter-widgets/controls",
            "layout": "IPY_MODEL_e91359093da34ca8a0feb3ff16bf64db"
          }
        },
        "9160c76ff87d4414873aa11c5d36d145": {
          "model_module": "@jupyter-widgets/controls",
          "model_name": "FloatProgressModel",
          "state": {
            "_view_name": "ProgressView",
            "style": "IPY_MODEL_bd4d9f1ea0854f69892390888e6afca5",
            "_dom_classes": [],
            "description": "",
            "_model_name": "FloatProgressModel",
            "bar_style": "",
            "max": 1,
            "_view_module": "@jupyter-widgets/controls",
            "_model_module_version": "1.5.0",
            "value": 1,
            "_view_count": null,
            "_view_module_version": "1.5.0",
            "orientation": "horizontal",
            "min": 0,
            "description_tooltip": null,
            "_model_module": "@jupyter-widgets/controls",
            "layout": "IPY_MODEL_b07f75c2a3a54388a4d8565740fe280f"
          }
        },
        "200019697510464c82fe75ba26bb7300": {
          "model_module": "@jupyter-widgets/controls",
          "model_name": "DescriptionStyleModel",
          "state": {
            "_view_name": "StyleView",
            "_model_name": "DescriptionStyleModel",
            "description_width": "",
            "_view_module": "@jupyter-widgets/base",
            "_model_module_version": "1.5.0",
            "_view_count": null,
            "_view_module_version": "1.2.0",
            "_model_module": "@jupyter-widgets/controls"
          }
        },
        "e91359093da34ca8a0feb3ff16bf64db": {
          "model_module": "@jupyter-widgets/base",
          "model_name": "LayoutModel",
          "state": {
            "_view_name": "LayoutView",
            "grid_template_rows": null,
            "right": null,
            "justify_content": null,
            "_view_module": "@jupyter-widgets/base",
            "overflow": null,
            "_model_module_version": "1.2.0",
            "_view_count": null,
            "flex_flow": null,
            "width": null,
            "min_width": null,
            "border": null,
            "align_items": null,
            "bottom": null,
            "_model_module": "@jupyter-widgets/base",
            "top": null,
            "grid_column": null,
            "overflow_y": null,
            "overflow_x": null,
            "grid_auto_flow": null,
            "grid_area": null,
            "grid_template_columns": null,
            "flex": null,
            "_model_name": "LayoutModel",
            "justify_items": null,
            "grid_row": null,
            "max_height": null,
            "align_content": null,
            "visibility": null,
            "align_self": null,
            "height": null,
            "min_height": null,
            "padding": null,
            "grid_auto_rows": null,
            "grid_gap": null,
            "max_width": null,
            "order": null,
            "_view_module_version": "1.2.0",
            "grid_template_areas": null,
            "object_position": null,
            "object_fit": null,
            "grid_auto_columns": null,
            "margin": null,
            "display": null,
            "left": null
          }
        },
        "bd4d9f1ea0854f69892390888e6afca5": {
          "model_module": "@jupyter-widgets/controls",
          "model_name": "ProgressStyleModel",
          "state": {
            "_view_name": "StyleView",
            "_model_name": "ProgressStyleModel",
            "description_width": "",
            "_view_module": "@jupyter-widgets/base",
            "_model_module_version": "1.5.0",
            "_view_count": null,
            "_view_module_version": "1.2.0",
            "bar_color": null,
            "_model_module": "@jupyter-widgets/controls"
          }
        },
        "b07f75c2a3a54388a4d8565740fe280f": {
          "model_module": "@jupyter-widgets/base",
          "model_name": "LayoutModel",
          "state": {
            "_view_name": "LayoutView",
            "grid_template_rows": null,
            "right": null,
            "justify_content": null,
            "_view_module": "@jupyter-widgets/base",
            "overflow": null,
            "_model_module_version": "1.2.0",
            "_view_count": null,
            "flex_flow": null,
            "width": null,
            "min_width": null,
            "border": null,
            "align_items": null,
            "bottom": null,
            "_model_module": "@jupyter-widgets/base",
            "top": null,
            "grid_column": null,
            "overflow_y": null,
            "overflow_x": null,
            "grid_auto_flow": null,
            "grid_area": null,
            "grid_template_columns": null,
            "flex": null,
            "_model_name": "LayoutModel",
            "justify_items": null,
            "grid_row": null,
            "max_height": null,
            "align_content": null,
            "visibility": null,
            "align_self": null,
            "height": null,
            "min_height": null,
            "padding": null,
            "grid_auto_rows": null,
            "grid_gap": null,
            "max_width": null,
            "order": null,
            "_view_module_version": "1.2.0",
            "grid_template_areas": null,
            "object_position": null,
            "object_fit": null,
            "grid_auto_columns": null,
            "margin": null,
            "display": null,
            "left": null
          }
        },
        "cff430497be34f4c920bd269e4cd0859": {
          "model_module": "@jupyter-widgets/controls",
          "model_name": "VBoxModel",
          "state": {
            "_view_name": "VBoxView",
            "_dom_classes": [],
            "_model_name": "VBoxModel",
            "_view_module": "@jupyter-widgets/controls",
            "_model_module_version": "1.5.0",
            "_view_count": null,
            "_view_module_version": "1.5.0",
            "box_style": "",
            "layout": "IPY_MODEL_2434e7a5baa449ea985ea5e27e1a4d88",
            "_model_module": "@jupyter-widgets/controls",
            "children": [
              "IPY_MODEL_0c9ead8a31b14bcfaec6c1f7874ca364",
              "IPY_MODEL_f319a70a266d4533b7a5b0ef2c9118bb"
            ]
          }
        },
        "2434e7a5baa449ea985ea5e27e1a4d88": {
          "model_module": "@jupyter-widgets/base",
          "model_name": "LayoutModel",
          "state": {
            "_view_name": "LayoutView",
            "grid_template_rows": null,
            "right": null,
            "justify_content": null,
            "_view_module": "@jupyter-widgets/base",
            "overflow": null,
            "_model_module_version": "1.2.0",
            "_view_count": null,
            "flex_flow": null,
            "width": null,
            "min_width": null,
            "border": null,
            "align_items": null,
            "bottom": null,
            "_model_module": "@jupyter-widgets/base",
            "top": null,
            "grid_column": null,
            "overflow_y": null,
            "overflow_x": null,
            "grid_auto_flow": null,
            "grid_area": null,
            "grid_template_columns": null,
            "flex": null,
            "_model_name": "LayoutModel",
            "justify_items": null,
            "grid_row": null,
            "max_height": null,
            "align_content": null,
            "visibility": null,
            "align_self": null,
            "height": null,
            "min_height": null,
            "padding": null,
            "grid_auto_rows": null,
            "grid_gap": null,
            "max_width": null,
            "order": null,
            "_view_module_version": "1.2.0",
            "grid_template_areas": null,
            "object_position": null,
            "object_fit": null,
            "grid_auto_columns": null,
            "margin": null,
            "display": null,
            "left": null
          }
        },
        "0c9ead8a31b14bcfaec6c1f7874ca364": {
          "model_module": "@jupyter-widgets/controls",
          "model_name": "LabelModel",
          "state": {
            "_view_name": "LabelView",
            "style": "IPY_MODEL_9a60e65647d94576b3f33fc75b076fa7",
            "_dom_classes": [],
            "description": "",
            "_model_name": "LabelModel",
            "placeholder": "​",
            "_view_module": "@jupyter-widgets/controls",
            "_model_module_version": "1.5.0",
            "value": " 0.01MB of 0.01MB uploaded (0.00MB deduped)\r",
            "_view_count": null,
            "_view_module_version": "1.5.0",
            "description_tooltip": null,
            "_model_module": "@jupyter-widgets/controls",
            "layout": "IPY_MODEL_cc51a34c60f9410ab3dba74e95cded47"
          }
        },
        "f319a70a266d4533b7a5b0ef2c9118bb": {
          "model_module": "@jupyter-widgets/controls",
          "model_name": "FloatProgressModel",
          "state": {
            "_view_name": "ProgressView",
            "style": "IPY_MODEL_c23575ce09dc4488ae4496cd8c937f18",
            "_dom_classes": [],
            "description": "",
            "_model_name": "FloatProgressModel",
            "bar_style": "",
            "max": 1,
            "_view_module": "@jupyter-widgets/controls",
            "_model_module_version": "1.5.0",
            "value": 1,
            "_view_count": null,
            "_view_module_version": "1.5.0",
            "orientation": "horizontal",
            "min": 0,
            "description_tooltip": null,
            "_model_module": "@jupyter-widgets/controls",
            "layout": "IPY_MODEL_6de85de8a0ea4e8f9fab3cf8b2326227"
          }
        },
        "9a60e65647d94576b3f33fc75b076fa7": {
          "model_module": "@jupyter-widgets/controls",
          "model_name": "DescriptionStyleModel",
          "state": {
            "_view_name": "StyleView",
            "_model_name": "DescriptionStyleModel",
            "description_width": "",
            "_view_module": "@jupyter-widgets/base",
            "_model_module_version": "1.5.0",
            "_view_count": null,
            "_view_module_version": "1.2.0",
            "_model_module": "@jupyter-widgets/controls"
          }
        },
        "cc51a34c60f9410ab3dba74e95cded47": {
          "model_module": "@jupyter-widgets/base",
          "model_name": "LayoutModel",
          "state": {
            "_view_name": "LayoutView",
            "grid_template_rows": null,
            "right": null,
            "justify_content": null,
            "_view_module": "@jupyter-widgets/base",
            "overflow": null,
            "_model_module_version": "1.2.0",
            "_view_count": null,
            "flex_flow": null,
            "width": null,
            "min_width": null,
            "border": null,
            "align_items": null,
            "bottom": null,
            "_model_module": "@jupyter-widgets/base",
            "top": null,
            "grid_column": null,
            "overflow_y": null,
            "overflow_x": null,
            "grid_auto_flow": null,
            "grid_area": null,
            "grid_template_columns": null,
            "flex": null,
            "_model_name": "LayoutModel",
            "justify_items": null,
            "grid_row": null,
            "max_height": null,
            "align_content": null,
            "visibility": null,
            "align_self": null,
            "height": null,
            "min_height": null,
            "padding": null,
            "grid_auto_rows": null,
            "grid_gap": null,
            "max_width": null,
            "order": null,
            "_view_module_version": "1.2.0",
            "grid_template_areas": null,
            "object_position": null,
            "object_fit": null,
            "grid_auto_columns": null,
            "margin": null,
            "display": null,
            "left": null
          }
        },
        "c23575ce09dc4488ae4496cd8c937f18": {
          "model_module": "@jupyter-widgets/controls",
          "model_name": "ProgressStyleModel",
          "state": {
            "_view_name": "StyleView",
            "_model_name": "ProgressStyleModel",
            "description_width": "",
            "_view_module": "@jupyter-widgets/base",
            "_model_module_version": "1.5.0",
            "_view_count": null,
            "_view_module_version": "1.2.0",
            "bar_color": null,
            "_model_module": "@jupyter-widgets/controls"
          }
        },
        "6de85de8a0ea4e8f9fab3cf8b2326227": {
          "model_module": "@jupyter-widgets/base",
          "model_name": "LayoutModel",
          "state": {
            "_view_name": "LayoutView",
            "grid_template_rows": null,
            "right": null,
            "justify_content": null,
            "_view_module": "@jupyter-widgets/base",
            "overflow": null,
            "_model_module_version": "1.2.0",
            "_view_count": null,
            "flex_flow": null,
            "width": null,
            "min_width": null,
            "border": null,
            "align_items": null,
            "bottom": null,
            "_model_module": "@jupyter-widgets/base",
            "top": null,
            "grid_column": null,
            "overflow_y": null,
            "overflow_x": null,
            "grid_auto_flow": null,
            "grid_area": null,
            "grid_template_columns": null,
            "flex": null,
            "_model_name": "LayoutModel",
            "justify_items": null,
            "grid_row": null,
            "max_height": null,
            "align_content": null,
            "visibility": null,
            "align_self": null,
            "height": null,
            "min_height": null,
            "padding": null,
            "grid_auto_rows": null,
            "grid_gap": null,
            "max_width": null,
            "order": null,
            "_view_module_version": "1.2.0",
            "grid_template_areas": null,
            "object_position": null,
            "object_fit": null,
            "grid_auto_columns": null,
            "margin": null,
            "display": null,
            "left": null
          }
        },
        "1f35f0d77010443ab5cf4f5a4430bacc": {
          "model_module": "@jupyter-widgets/controls",
          "model_name": "VBoxModel",
          "state": {
            "_view_name": "VBoxView",
            "_dom_classes": [],
            "_model_name": "VBoxModel",
            "_view_module": "@jupyter-widgets/controls",
            "_model_module_version": "1.5.0",
            "_view_count": null,
            "_view_module_version": "1.5.0",
            "box_style": "",
            "layout": "IPY_MODEL_711a9546c1be4afd84ac7bfcd98a7372",
            "_model_module": "@jupyter-widgets/controls",
            "children": [
              "IPY_MODEL_7465bf641a4a4aaea4699916e6f85c2c",
              "IPY_MODEL_9f2f243b5e0c439ba9d4e4f84e93e252"
            ]
          }
        },
        "711a9546c1be4afd84ac7bfcd98a7372": {
          "model_module": "@jupyter-widgets/base",
          "model_name": "LayoutModel",
          "state": {
            "_view_name": "LayoutView",
            "grid_template_rows": null,
            "right": null,
            "justify_content": null,
            "_view_module": "@jupyter-widgets/base",
            "overflow": null,
            "_model_module_version": "1.2.0",
            "_view_count": null,
            "flex_flow": null,
            "width": null,
            "min_width": null,
            "border": null,
            "align_items": null,
            "bottom": null,
            "_model_module": "@jupyter-widgets/base",
            "top": null,
            "grid_column": null,
            "overflow_y": null,
            "overflow_x": null,
            "grid_auto_flow": null,
            "grid_area": null,
            "grid_template_columns": null,
            "flex": null,
            "_model_name": "LayoutModel",
            "justify_items": null,
            "grid_row": null,
            "max_height": null,
            "align_content": null,
            "visibility": null,
            "align_self": null,
            "height": null,
            "min_height": null,
            "padding": null,
            "grid_auto_rows": null,
            "grid_gap": null,
            "max_width": null,
            "order": null,
            "_view_module_version": "1.2.0",
            "grid_template_areas": null,
            "object_position": null,
            "object_fit": null,
            "grid_auto_columns": null,
            "margin": null,
            "display": null,
            "left": null
          }
        },
        "7465bf641a4a4aaea4699916e6f85c2c": {
          "model_module": "@jupyter-widgets/controls",
          "model_name": "LabelModel",
          "state": {
            "_view_name": "LabelView",
            "style": "IPY_MODEL_d0826452e42b488d836a1f06d2841049",
            "_dom_classes": [],
            "description": "",
            "_model_name": "LabelModel",
            "placeholder": "​",
            "_view_module": "@jupyter-widgets/controls",
            "_model_module_version": "1.5.0",
            "value": " 0.01MB of 0.01MB uploaded (0.00MB deduped)\r",
            "_view_count": null,
            "_view_module_version": "1.5.0",
            "description_tooltip": null,
            "_model_module": "@jupyter-widgets/controls",
            "layout": "IPY_MODEL_d494d806b7974ff7bf6ae17a3c281c61"
          }
        },
        "9f2f243b5e0c439ba9d4e4f84e93e252": {
          "model_module": "@jupyter-widgets/controls",
          "model_name": "FloatProgressModel",
          "state": {
            "_view_name": "ProgressView",
            "style": "IPY_MODEL_44398e3f1ff34ae29f30421c13237d1a",
            "_dom_classes": [],
            "description": "",
            "_model_name": "FloatProgressModel",
            "bar_style": "",
            "max": 1,
            "_view_module": "@jupyter-widgets/controls",
            "_model_module_version": "1.5.0",
            "value": 1,
            "_view_count": null,
            "_view_module_version": "1.5.0",
            "orientation": "horizontal",
            "min": 0,
            "description_tooltip": null,
            "_model_module": "@jupyter-widgets/controls",
            "layout": "IPY_MODEL_78de8c67e4004c3c92295701ee253b98"
          }
        },
        "d0826452e42b488d836a1f06d2841049": {
          "model_module": "@jupyter-widgets/controls",
          "model_name": "DescriptionStyleModel",
          "state": {
            "_view_name": "StyleView",
            "_model_name": "DescriptionStyleModel",
            "description_width": "",
            "_view_module": "@jupyter-widgets/base",
            "_model_module_version": "1.5.0",
            "_view_count": null,
            "_view_module_version": "1.2.0",
            "_model_module": "@jupyter-widgets/controls"
          }
        },
        "d494d806b7974ff7bf6ae17a3c281c61": {
          "model_module": "@jupyter-widgets/base",
          "model_name": "LayoutModel",
          "state": {
            "_view_name": "LayoutView",
            "grid_template_rows": null,
            "right": null,
            "justify_content": null,
            "_view_module": "@jupyter-widgets/base",
            "overflow": null,
            "_model_module_version": "1.2.0",
            "_view_count": null,
            "flex_flow": null,
            "width": null,
            "min_width": null,
            "border": null,
            "align_items": null,
            "bottom": null,
            "_model_module": "@jupyter-widgets/base",
            "top": null,
            "grid_column": null,
            "overflow_y": null,
            "overflow_x": null,
            "grid_auto_flow": null,
            "grid_area": null,
            "grid_template_columns": null,
            "flex": null,
            "_model_name": "LayoutModel",
            "justify_items": null,
            "grid_row": null,
            "max_height": null,
            "align_content": null,
            "visibility": null,
            "align_self": null,
            "height": null,
            "min_height": null,
            "padding": null,
            "grid_auto_rows": null,
            "grid_gap": null,
            "max_width": null,
            "order": null,
            "_view_module_version": "1.2.0",
            "grid_template_areas": null,
            "object_position": null,
            "object_fit": null,
            "grid_auto_columns": null,
            "margin": null,
            "display": null,
            "left": null
          }
        },
        "44398e3f1ff34ae29f30421c13237d1a": {
          "model_module": "@jupyter-widgets/controls",
          "model_name": "ProgressStyleModel",
          "state": {
            "_view_name": "StyleView",
            "_model_name": "ProgressStyleModel",
            "description_width": "",
            "_view_module": "@jupyter-widgets/base",
            "_model_module_version": "1.5.0",
            "_view_count": null,
            "_view_module_version": "1.2.0",
            "bar_color": null,
            "_model_module": "@jupyter-widgets/controls"
          }
        },
        "78de8c67e4004c3c92295701ee253b98": {
          "model_module": "@jupyter-widgets/base",
          "model_name": "LayoutModel",
          "state": {
            "_view_name": "LayoutView",
            "grid_template_rows": null,
            "right": null,
            "justify_content": null,
            "_view_module": "@jupyter-widgets/base",
            "overflow": null,
            "_model_module_version": "1.2.0",
            "_view_count": null,
            "flex_flow": null,
            "width": null,
            "min_width": null,
            "border": null,
            "align_items": null,
            "bottom": null,
            "_model_module": "@jupyter-widgets/base",
            "top": null,
            "grid_column": null,
            "overflow_y": null,
            "overflow_x": null,
            "grid_auto_flow": null,
            "grid_area": null,
            "grid_template_columns": null,
            "flex": null,
            "_model_name": "LayoutModel",
            "justify_items": null,
            "grid_row": null,
            "max_height": null,
            "align_content": null,
            "visibility": null,
            "align_self": null,
            "height": null,
            "min_height": null,
            "padding": null,
            "grid_auto_rows": null,
            "grid_gap": null,
            "max_width": null,
            "order": null,
            "_view_module_version": "1.2.0",
            "grid_template_areas": null,
            "object_position": null,
            "object_fit": null,
            "grid_auto_columns": null,
            "margin": null,
            "display": null,
            "left": null
          }
        },
        "c570a8e4e668451289910eec5af6c3e1": {
          "model_module": "@jupyter-widgets/controls",
          "model_name": "VBoxModel",
          "state": {
            "_view_name": "VBoxView",
            "_dom_classes": [],
            "_model_name": "VBoxModel",
            "_view_module": "@jupyter-widgets/controls",
            "_model_module_version": "1.5.0",
            "_view_count": null,
            "_view_module_version": "1.5.0",
            "box_style": "",
            "layout": "IPY_MODEL_289755a9fd29433592b59b0508182dce",
            "_model_module": "@jupyter-widgets/controls",
            "children": [
              "IPY_MODEL_51ec9084df0d407e86715a124afec1db",
              "IPY_MODEL_feb56f1a53e64747b615417f33d2e33c"
            ]
          }
        },
        "289755a9fd29433592b59b0508182dce": {
          "model_module": "@jupyter-widgets/base",
          "model_name": "LayoutModel",
          "state": {
            "_view_name": "LayoutView",
            "grid_template_rows": null,
            "right": null,
            "justify_content": null,
            "_view_module": "@jupyter-widgets/base",
            "overflow": null,
            "_model_module_version": "1.2.0",
            "_view_count": null,
            "flex_flow": null,
            "width": null,
            "min_width": null,
            "border": null,
            "align_items": null,
            "bottom": null,
            "_model_module": "@jupyter-widgets/base",
            "top": null,
            "grid_column": null,
            "overflow_y": null,
            "overflow_x": null,
            "grid_auto_flow": null,
            "grid_area": null,
            "grid_template_columns": null,
            "flex": null,
            "_model_name": "LayoutModel",
            "justify_items": null,
            "grid_row": null,
            "max_height": null,
            "align_content": null,
            "visibility": null,
            "align_self": null,
            "height": null,
            "min_height": null,
            "padding": null,
            "grid_auto_rows": null,
            "grid_gap": null,
            "max_width": null,
            "order": null,
            "_view_module_version": "1.2.0",
            "grid_template_areas": null,
            "object_position": null,
            "object_fit": null,
            "grid_auto_columns": null,
            "margin": null,
            "display": null,
            "left": null
          }
        },
        "51ec9084df0d407e86715a124afec1db": {
          "model_module": "@jupyter-widgets/controls",
          "model_name": "LabelModel",
          "state": {
            "_view_name": "LabelView",
            "style": "IPY_MODEL_ded5fb8a467944828643b41266d6fafc",
            "_dom_classes": [],
            "description": "",
            "_model_name": "LabelModel",
            "placeholder": "​",
            "_view_module": "@jupyter-widgets/controls",
            "_model_module_version": "1.5.0",
            "value": " 0.01MB of 0.01MB uploaded (0.00MB deduped)\r",
            "_view_count": null,
            "_view_module_version": "1.5.0",
            "description_tooltip": null,
            "_model_module": "@jupyter-widgets/controls",
            "layout": "IPY_MODEL_27e45682387842e59164ef14e32b3d2b"
          }
        },
        "feb56f1a53e64747b615417f33d2e33c": {
          "model_module": "@jupyter-widgets/controls",
          "model_name": "FloatProgressModel",
          "state": {
            "_view_name": "ProgressView",
            "style": "IPY_MODEL_1052ea99681b4dc4bb2d3daa3b85990a",
            "_dom_classes": [],
            "description": "",
            "_model_name": "FloatProgressModel",
            "bar_style": "",
            "max": 1,
            "_view_module": "@jupyter-widgets/controls",
            "_model_module_version": "1.5.0",
            "value": 1,
            "_view_count": null,
            "_view_module_version": "1.5.0",
            "orientation": "horizontal",
            "min": 0,
            "description_tooltip": null,
            "_model_module": "@jupyter-widgets/controls",
            "layout": "IPY_MODEL_c3d86cce72af43f6a7f8af91b56a9fad"
          }
        },
        "ded5fb8a467944828643b41266d6fafc": {
          "model_module": "@jupyter-widgets/controls",
          "model_name": "DescriptionStyleModel",
          "state": {
            "_view_name": "StyleView",
            "_model_name": "DescriptionStyleModel",
            "description_width": "",
            "_view_module": "@jupyter-widgets/base",
            "_model_module_version": "1.5.0",
            "_view_count": null,
            "_view_module_version": "1.2.0",
            "_model_module": "@jupyter-widgets/controls"
          }
        },
        "27e45682387842e59164ef14e32b3d2b": {
          "model_module": "@jupyter-widgets/base",
          "model_name": "LayoutModel",
          "state": {
            "_view_name": "LayoutView",
            "grid_template_rows": null,
            "right": null,
            "justify_content": null,
            "_view_module": "@jupyter-widgets/base",
            "overflow": null,
            "_model_module_version": "1.2.0",
            "_view_count": null,
            "flex_flow": null,
            "width": null,
            "min_width": null,
            "border": null,
            "align_items": null,
            "bottom": null,
            "_model_module": "@jupyter-widgets/base",
            "top": null,
            "grid_column": null,
            "overflow_y": null,
            "overflow_x": null,
            "grid_auto_flow": null,
            "grid_area": null,
            "grid_template_columns": null,
            "flex": null,
            "_model_name": "LayoutModel",
            "justify_items": null,
            "grid_row": null,
            "max_height": null,
            "align_content": null,
            "visibility": null,
            "align_self": null,
            "height": null,
            "min_height": null,
            "padding": null,
            "grid_auto_rows": null,
            "grid_gap": null,
            "max_width": null,
            "order": null,
            "_view_module_version": "1.2.0",
            "grid_template_areas": null,
            "object_position": null,
            "object_fit": null,
            "grid_auto_columns": null,
            "margin": null,
            "display": null,
            "left": null
          }
        },
        "1052ea99681b4dc4bb2d3daa3b85990a": {
          "model_module": "@jupyter-widgets/controls",
          "model_name": "ProgressStyleModel",
          "state": {
            "_view_name": "StyleView",
            "_model_name": "ProgressStyleModel",
            "description_width": "",
            "_view_module": "@jupyter-widgets/base",
            "_model_module_version": "1.5.0",
            "_view_count": null,
            "_view_module_version": "1.2.0",
            "bar_color": null,
            "_model_module": "@jupyter-widgets/controls"
          }
        },
        "c3d86cce72af43f6a7f8af91b56a9fad": {
          "model_module": "@jupyter-widgets/base",
          "model_name": "LayoutModel",
          "state": {
            "_view_name": "LayoutView",
            "grid_template_rows": null,
            "right": null,
            "justify_content": null,
            "_view_module": "@jupyter-widgets/base",
            "overflow": null,
            "_model_module_version": "1.2.0",
            "_view_count": null,
            "flex_flow": null,
            "width": null,
            "min_width": null,
            "border": null,
            "align_items": null,
            "bottom": null,
            "_model_module": "@jupyter-widgets/base",
            "top": null,
            "grid_column": null,
            "overflow_y": null,
            "overflow_x": null,
            "grid_auto_flow": null,
            "grid_area": null,
            "grid_template_columns": null,
            "flex": null,
            "_model_name": "LayoutModel",
            "justify_items": null,
            "grid_row": null,
            "max_height": null,
            "align_content": null,
            "visibility": null,
            "align_self": null,
            "height": null,
            "min_height": null,
            "padding": null,
            "grid_auto_rows": null,
            "grid_gap": null,
            "max_width": null,
            "order": null,
            "_view_module_version": "1.2.0",
            "grid_template_areas": null,
            "object_position": null,
            "object_fit": null,
            "grid_auto_columns": null,
            "margin": null,
            "display": null,
            "left": null
          }
        }
      }
    }
  },
  "cells": [
    {
      "cell_type": "markdown",
      "metadata": {
        "id": "view-in-github",
        "colab_type": "text"
      },
      "source": [
        "<a href=\"https://colab.research.google.com/github/vrunda-28/CS6910_2021_Vrunda_Mudit/blob/main/Dl_assignment_v5(with_wandb).ipynb\" target=\"_parent\"><img src=\"https://colab.research.google.com/assets/colab-badge.svg\" alt=\"Open In Colab\"/></a>"
      ]
    },
    {
      "cell_type": "code",
      "metadata": {
        "id": "FrLOie5v1nCr"
      },
      "source": [
        "import numpy as np\r\n",
        "np.random.seed(10)\r\n",
        "from matplotlib import pyplot\r\n",
        "from keras.datasets import fashion_mnist\r\n",
        "from sklearn.model_selection import train_test_split\r\n",
        "%pip install wandb -q\r\n",
        "import wandb\r\n",
        "from wandb.keras import WandbCallback\r\n",
        "#data download\r\n"
      ],
      "execution_count": null,
      "outputs": []
    },
    {
      "cell_type": "code",
      "metadata": {
        "colab": {
          "base_uri": "https://localhost:8080/"
        },
        "id": "kXuy2a6g6G7m",
        "outputId": "a37b4762-9504-4a65-b984-99bdf3deb431"
      },
      "source": [
        "wandb.login()"
      ],
      "execution_count": null,
      "outputs": [
        {
          "output_type": "execute_result",
          "data": {
            "text/plain": [
              "True"
            ]
          },
          "metadata": {
            "tags": []
          },
          "execution_count": 48
        }
      ]
    },
    {
      "cell_type": "code",
      "metadata": {
        "id": "JW36XML4wVcy"
      },
      "source": [
        "def train():\r\n",
        "\r\n",
        "  default_configs = {\"epochs\": 3 ,\r\n",
        "                     \"learning_rate\": 0.01,\r\n",
        "                     \"No_hidden_layer\": 3,\r\n",
        "                     \"Neurons\": 32,\r\n",
        "                     \"weight_decay\": 0,\r\n",
        "                     \"mini_batch_size\": 64,\r\n",
        "                     \"weight_initialization\": 'random',\r\n",
        "                     \"activation_type\": \"tanh\",\r\n",
        "                     \"loss_optimizer_type\": \"adam\",\r\n",
        "                     }\r\n",
        "  \r\n",
        "  run = wandb.init(project='CS6910_assignment1', config=default_configs)\r\n",
        "  config = wandb.config\r\n",
        "\r\n",
        "  class nn_from_scratch:\r\n",
        "\r\n",
        "    X_train = []\r\n",
        "    Y_train = []\r\n",
        "    X_validation = []\r\n",
        "    Y_validation = []\r\n",
        "    X_test = []\r\n",
        "\r\n",
        "    in_dim = 784\r\n",
        "    out_dim = 10\r\n",
        "    W = []\r\n",
        "    W_zeros = []\r\n",
        "    delta_W_memory = []\r\n",
        "  \r\n",
        "    previous_update = []\r\n",
        "    previous_m = []\r\n",
        "    previous_v = []\r\n",
        "    vt_hat_sqrt=[]\r\n",
        "    v_t_sqrt = []      #use this in rmsprop\r\n",
        "    eps = 1e-8    \r\n",
        "    beta_1 = 0.9\r\n",
        "    beta_2 = 0.999\r\n",
        "    beta = 0.9\r\n",
        "    t = 0\r\n",
        "    \r\n",
        "    \r\n",
        "    def __init__(self):\r\n",
        "\r\n",
        "      self.No_hidden_layer = config.No_hidden_layer\r\n",
        "      self.Neurons = config.Neurons\r\n",
        "      self.batch_size = config.mini_batch_size\r\n",
        "      self.epoch_num = config.epochs\r\n",
        "      self.init_type = config.weight_initialization\r\n",
        "      self.activation_type = config.activation_type\r\n",
        "      self.loss_type = 'cross_entropy'\r\n",
        "      self.gradient_type = config.loss_optimizer_type\r\n",
        "\r\n",
        "      self.weight_decay = config.weight_decay\r\n",
        "      self.activation = []\r\n",
        "      self.pre_activation = []\r\n",
        "      self.eta = config.learning_rate\r\n",
        "      self.gamma = 0.9\r\n",
        "      self.No_of_Neurons = []\r\n",
        "\r\n",
        "      for i in range(self.No_hidden_layer):\r\n",
        "        self.No_of_Neurons.append(self.Neurons)\r\n",
        "\r\n",
        "\r\n",
        "\r\n",
        "  ################################################################################    \r\n",
        "      \r\n",
        "      #Initializing weights with given type\r\n",
        "      if self.init_type == 'random':\r\n",
        "\r\n",
        "        start = self.in_dim\r\n",
        "        for i in range(self.No_hidden_layer):\r\n",
        "          j = self.No_of_Neurons[i]\r\n",
        "          self.W.append(np.random.normal(scale=0.1, size=(j,start+1)))\r\n",
        "          start = j\r\n",
        "        self.W.append(np.random.normal(scale = 0.1, size=(self.out_dim,j+1)))\r\n",
        "\r\n",
        "      elif self.init_type == 'xavier':\r\n",
        "        \r\n",
        "        start = self.in_dim\r\n",
        "        for i in range(self.No_hidden_layer):\r\n",
        "          j = self.No_of_Neurons[i]\r\n",
        "          limit = np.sqrt(6 / (j + start+1))\r\n",
        "          self.W.append(np.random.uniform(low = -limit, high = limit, size=(j, start+1)))\r\n",
        "          start = j\r\n",
        "        limit = np.sqrt(6 / (self.out_dim + j+1))\r\n",
        "        self.W.append(np.random.uniform(low = -limit, high = limit, size=(self.out_dim, j+1)))\r\n",
        "      \r\n",
        "      else:\r\n",
        "        print('Initialisation type is not in list')\r\n",
        "\r\n",
        "  ################################################################################\r\n",
        "      \r\n",
        "      # Initializing all temporary parameters to zero\r\n",
        "      start = self.in_dim\r\n",
        "      for i in range(self.No_hidden_layer):\r\n",
        "        j = self.No_of_Neurons[i]\r\n",
        "        self.W_zeros.append(np.zeros((j,start+1)))\r\n",
        "        start = j\r\n",
        "      self.W_zeros.append(np.zeros((self.out_dim,j+1)))\r\n",
        "\r\n",
        "\r\n",
        "      self.previous_update = np.copy(self.W_zeros)\r\n",
        "      self.previous_m = np.copy(self.W_zeros)\r\n",
        "      self.previous_v = np.copy(self.W_zeros)       \r\n",
        "\r\n",
        "  ################################################################################\r\n",
        "  \r\n",
        "    #Forward_propogation algorithm returning output probability vector\r\n",
        "    def FFN_return_output(self, input):\r\n",
        "      h = (input.T).copy()     \r\n",
        "      self.activation = []        \r\n",
        "      self.pre_activation = []\r\n",
        "\r\n",
        "      for i in range(self.No_hidden_layer):\r\n",
        "        a = np.dot(self.W[i],np.vstack((h,1)))\r\n",
        "        self.pre_activation.append(a)\r\n",
        "        h = self.activation_function(a)\r\n",
        "        self.activation.append(h)\r\n",
        "        h = self.activation[-1]\r\n",
        "        del a\r\n",
        "\r\n",
        "      a = np.dot(self.W[-1],np.vstack((h,1)))\r\n",
        "      self.pre_activation.append(a)\r\n",
        "      self.activation.append(self.softmax(a))\r\n",
        "      return self.activation[-1]\r\n",
        "\r\n",
        "  ################################################################################\r\n",
        "    \r\n",
        "    # Computing labels for given input\r\n",
        "    def predict_model(self,input):\r\n",
        "      label_pred = []\r\n",
        "      for i in range(input.shape[0]):\r\n",
        "        Y_pred = self.FFN_return_output(np.array([input[i]]))\r\n",
        "        label_pred.append(np.argmax(Y_pred))\r\n",
        "      return label_pred\r\n",
        "\r\n",
        "  ################################################################################\r\n",
        "\r\n",
        "    # Computing Loss          \r\n",
        "    def loss_calculation(self, input,ground_truth):\r\n",
        "\r\n",
        "      loss = []\r\n",
        "      label = []\r\n",
        "      for i in range(input.shape[0]) :\r\n",
        "        Y_pred = self.FFN_return_output(np.array([input[i]]))\r\n",
        "        label.append(np.argmax(Y_pred))\r\n",
        "        if self.loss_type == 'cross_entropy':\r\n",
        "          loss.append(np.multiply(np.log(np.add(Y_pred.T,self.eps)).dot(np.array([ground_truth[i]]).T), (-1)))                     \r\n",
        "        elif self.loss_type == 'square_error':\r\n",
        "          loss.append(np.sum((Y_pred-ground_truth[i].T)**2)*.5)\r\n",
        "        else:\r\n",
        "          print(\"Wrong loss function entered\")\r\n",
        "      return np.mean(loss)\r\n",
        "\r\n",
        "  ################################################################################\r\n",
        "\r\n",
        "    # Update parameters in batches \r\n",
        "    def batch_update(self,index):\r\n",
        "\r\n",
        "      delta_W_memory=np.copy(self.W_zeros)\r\n",
        "      for i in range(index*self.batch_size,(index+1)*self.batch_size):  \r\n",
        "        #tmp = self.gradient_descent(np.array([self.X_train[i]]),np.array([self.Y_train[i]]))\r\n",
        "        tmp = np.multiply(self.gradient_descent(np.array([self.X_train[i]]),np.array([self.Y_train[i]])), (1/self.batch_size))\r\n",
        "        delta_W_memory = np.add(tmp,delta_W_memory)      \r\n",
        "        del tmp\r\n",
        "      W_batch_update = self.loss_optimiser(delta_W_memory, self.X_train, self.Y_train, index)\r\n",
        "      # temp_W = self.W\r\n",
        "      self.W = W_batch_update - np.multiply(self.eta*self.weight_decay, self.W) #L2 regularisation\r\n",
        "      #self.W = W_batch_update\r\n",
        "      del W_batch_update\r\n",
        "\r\n",
        "  ################################################################################\r\n",
        "    # Back propogation algorithm returning gradients\r\n",
        "    def gradient_descent(self,input,ground_truth) :\r\n",
        "      self.FFN_return_output(input)\r\n",
        "      \r\n",
        "      delta_a = []\r\n",
        "      delta_W = []\r\n",
        "      if self.loss_type == 'square_error':\r\n",
        "        print(\"Mean-squared loss activated\")\r\n",
        "      elif self.loss_type == 'cross_entropy':\r\n",
        "        delta_a.append(self.activation[-1]-ground_truth.T)\r\n",
        "      else:\r\n",
        "        print(\"Wrong loss function entered\")\r\n",
        "\r\n",
        "      for i in reversed(range(self.No_hidden_layer)):\r\n",
        "        delta_h = self.W[i+1].T.dot(delta_a[-1])\r\n",
        "        delta_a.append(delta_h[:-1,:] * self.activation_function_der(self.pre_activation[i]))\r\n",
        "        del delta_h\r\n",
        "      for index in range(self.No_hidden_layer+1):\r\n",
        "        rev_index = self.No_hidden_layer-index\r\n",
        "        if index == 0:\r\n",
        "          output_layer = np.vstack((input.T,1))\r\n",
        "        else:\r\n",
        "          output_layer = np.vstack((self.activation[index -1],1))\r\n",
        "        delta_W.append(delta_a[rev_index].dot(output_layer.T))\r\n",
        "      return delta_W\r\n",
        "\r\n",
        "  ################################################################################\r\n",
        "    \r\n",
        "    #Types of Loss optimiser functions\r\n",
        "    def loss_optimiser(self, delta_W_memory, input, ground_truth, index):\r\n",
        "      if self.gradient_type == 'vanila':\r\n",
        "        W_updated = self.do_vanila(delta_W_memory, input, ground_truth, index)\r\n",
        "\r\n",
        "      elif self.gradient_type == 'momentum':\r\n",
        "        W_updated = self.do_momentum(delta_W_memory, input, ground_truth, index)\r\n",
        "\r\n",
        "      elif self.gradient_type == 'nag':\r\n",
        "        W_updated = self.do_nag(delta_W_memory, input, ground_truth, index)\r\n",
        "\r\n",
        "      elif self.gradient_type == 'rmsprop':\r\n",
        "        W_updated = self.do_rmsprop(delta_W_memory, input, ground_truth, index)\r\n",
        "\r\n",
        "      elif self.gradient_type == 'adam':\r\n",
        "        W_updated = self.do_adam(delta_W_memory, input, ground_truth, index)\r\n",
        "\r\n",
        "      elif self.gradient_type == 'nadam':\r\n",
        "        W_updated = self.do_nadam(delta_W_memory, input, ground_truth, index)\r\n",
        "\r\n",
        "      else:\r\n",
        "        print('Loss optimiser type is not in the list')\r\n",
        "      return W_updated\r\n",
        "\r\n",
        "  ################################################################################\r\n",
        "    \r\n",
        "    #Computing vanila gradient descent\r\n",
        "    def do_vanila(self, delta_W_memory, input, ground_truth, index):\r\n",
        "      W_updated = self.W - np.multiply(self.eta , delta_W_memory)\r\n",
        "      return W_updated\r\n",
        "\r\n",
        "  ################################################################################\r\n",
        "    \r\n",
        "    #Computing momentum gradient descent\r\n",
        "    def do_momentum(self, delta_W_memory, input, ground_truth, index):\r\n",
        "      update_t = np.multiply(self.gamma, self.previous_update) + np.multiply(self.eta, delta_W_memory)#equation 1\r\n",
        "      W_updated = self.W - update_t #equation 2\r\n",
        "      self.previous_update = np.copy(update_t)\r\n",
        "      return W_updated\r\n",
        "\r\n",
        "  ################################################################################\r\n",
        "    \r\n",
        "    #Computing nag gradient descent\r\n",
        "    def do_nag(self, delta_W_memory, input, ground_truth, index):\r\n",
        "      delta_W_look_ahead = self.W_zeros  \r\n",
        "      W_look_ahead = self.W - np.multiply(self.gamma , self.previous_update) #equation 1\r\n",
        "\r\n",
        "      W_temp1 = np.copy(self.W) #Temporary store as self.W is acquired gy gd\r\n",
        "      self.W = np.copy(W_look_ahead) \r\n",
        "\r\n",
        "      for i in range(index*self.batch_size,(index+1)*self.batch_size):\r\n",
        "        tmp= self.gradient_descent(np.array([self.X_train[i]]),np.array([self.Y_train[i]]))\r\n",
        "        delta_W_look_ahead = np.add(tmp,delta_W_look_ahead)\r\n",
        "        del tmp\r\n",
        "      \r\n",
        "      self.W = np.copy(W_temp1) # Temporary restoring back\r\n",
        "\r\n",
        "      update_t = np.multiply(self.gamma, self.previous_update) + np.multiply(self.eta, delta_W_look_ahead) #equation 2\r\n",
        "      W_updated = self.W - update_t #equation 3\r\n",
        "      self.previous_update = np.copy(update_t)\r\n",
        "      return W_updated\r\n",
        "\r\n",
        "  ################################################################################\r\n",
        "    \r\n",
        "    #Computing rmsprop gradient descent\r\n",
        "    def do_rmsprop(self, delta_W_memory, input, ground_truth, index):\r\n",
        "      \r\n",
        "      self.v_t_sqrt = np.copy(self.W_zeros)\r\n",
        "      delta_W_square = np.multiply(delta_W_memory, delta_W_memory)\r\n",
        "      v_t = np.multiply(self.beta, self.previous_v) + np.multiply(1-self.beta, delta_W_square)#equation 1\r\n",
        "\r\n",
        "      for i in range(len(v_t)):\r\n",
        "        self.v_t_sqrt[i] = (self.eta/np.sqrt(v_t[i])+self.eps)\r\n",
        "\r\n",
        "      W_updated = self.W - np.multiply(self.v_t_sqrt,delta_W_memory)#equation 2\r\n",
        "      self.previous_v = np.copy(v_t)\r\n",
        "      return W_updated\r\n",
        "\r\n",
        "  ################################################################################\r\n",
        "    \r\n",
        "    #Computing adam gradient descent\r\n",
        "    def do_adam(self, delta_W_memory, input, ground_truth, index):\r\n",
        "      \r\n",
        "      self.vt_hat_sqrt=np.copy(self.W_zeros)\r\n",
        "      m_t = np.multiply(self.beta_1 , self.previous_m) + np.multiply((1-self.beta_1) , delta_W_memory)\r\n",
        "      v_t = np.multiply(self.beta_2 , self.previous_v) + np.multiply( (1-self.beta_2), np.multiply(delta_W_memory,delta_W_memory))\r\n",
        "\r\n",
        "      mt_hat = m_t/(1-np.power(self.beta_1, (self.t+1)))   \r\n",
        "      vt_hat = v_t/(1-np.power(self.beta_2, (self.t+1)))\r\n",
        "\r\n",
        "      for i in range(len(vt_hat)):                  \r\n",
        "          self.vt_hat_sqrt[i]=self.eta/(np.sqrt(vt_hat[i]+self.eps))\r\n",
        "\r\n",
        "      W_updated = self.W - np.multiply(self.vt_hat_sqrt, mt_hat)\r\n",
        "      self.previous_m = np.copy(m_t)\r\n",
        "      self.previous_v = np.copy(v_t)\r\n",
        "      return W_updated\r\n",
        "\r\n",
        "  ################################################################################\r\n",
        "    \r\n",
        "    #Computing nadam gradient descent\r\n",
        "    def do_nadam(self, delta_W_memory, input, ground_truth, index):\r\n",
        "\r\n",
        "      self.vt_hat_sqrt=np.copy(self.W_zeros)\r\n",
        "      m_t = np.multiply(self.beta_1 , self.previous_m) + np.multiply((1-self.beta_1) , delta_W_memory)\r\n",
        "      v_t = np.multiply(self.beta_2 , self.previous_v) + np.multiply( (1-self.beta_2), np.multiply(delta_W_memory,delta_W_memory))\r\n",
        "\r\n",
        "      mt_hat = m_t/(1-np.power(self.beta_1, (self.t+1)))   \r\n",
        "      vt_hat = v_t/(1-np.power(self.beta_2, (self.t+1)))\r\n",
        "\r\n",
        "      for i in range(len(vt_hat)):                  \r\n",
        "          self.vt_hat_sqrt[i]=self.eta/(np.sqrt(vt_hat[i]+self.eps))\r\n",
        "\r\n",
        "      beta_factor = (1-self.beta_1)/(1-np.power(self.beta_1, (self.t+1)))\r\n",
        "      mul_factor = np.multiply(self.beta_1, mt_hat) + np.multiply(beta_factor, delta_W_memory)\r\n",
        "\r\n",
        "      W_updated = self.W - np.multiply(self.vt_hat_sqrt, mul_factor)\r\n",
        "      self.previous_m = np.copy(m_t)\r\n",
        "      self.previous_v = np.copy(v_t)\r\n",
        "      return W_updated\r\n",
        "\r\n",
        "  ################################################################################\r\n",
        "    \r\n",
        "    # Types of activation function\r\n",
        "    def activation_function(self,input):\r\n",
        "\r\n",
        "      if self.activation_type == 'sigmoid':\r\n",
        "        return (1/(1+np.exp(-input)))\r\n",
        "      elif self.activation_type == 'tanh':\r\n",
        "        return (np.tanh(input))\r\n",
        "      elif self.activation_type =='softmax':\r\n",
        "        return np.exp(input)/np.sum(np.exp(input))\r\n",
        "      elif self.activation_type =='ReLU':\r\n",
        "        return np.maximum(0, input)\r\n",
        "      else:\r\n",
        "        print('Activation Function not in list')\r\n",
        "\r\n",
        "  ###############################################################################\r\n",
        "    \r\n",
        "    #Computing derivative of given activation function\r\n",
        "    def activation_function_der(self,input):\r\n",
        "\r\n",
        "      if self.activation_type == 'sigmoid': \r\n",
        "        temp = 1/(1+np.exp(-input))\r\n",
        "        return (temp*(1-temp))\r\n",
        "      elif self.activation_type == 'tanh':\r\n",
        "        return (1-np.multiply(np.tanh(input), np.tanh(input)))\r\n",
        "      elif self.activation_type == 'ReLU':\r\n",
        "        temp = np.sign(input)\r\n",
        "        return np.maximum(0, temp)\r\n",
        "      else:\r\n",
        "        print('Derivative Function not in list')\r\n",
        "\r\n",
        "  ###############################################################################\r\n",
        "\r\n",
        "    # Softmax\r\n",
        "    def softmax(self,x):\r\n",
        "    \r\n",
        "      x = np.exp(x)/np.sum(np.exp(x))\r\n",
        "      x[np.isnan(x)] = 1\r\n",
        "      return x\r\n",
        "  \r\n",
        "  ###############################################################################\r\n",
        "   \r\n",
        "    #Calculating loss and accuracy for traiing and validation set \r\n",
        "    def Loss_Accuracy_calculation(train_true_labels,val_true_labels):\r\n",
        "\r\n",
        "      train_loss = FFN.loss_calculation(FFN.X_train, FFN.Y_train)\r\n",
        "      train_pred_labels = FFN.predict_model(FFN.X_train)\r\n",
        "      validation_loss = FFN.loss_calculation(FFN.X_validation,FFN.Y_validation)\r\n",
        "      val_pred_labels = FFN.predict_model(FFN.X_validation)\r\n",
        "      training_accuracy = sum([1 for i,j in zip(train_pred_labels,train_true_labels) if i==j])/len(train_pred_labels)\r\n",
        "      validation_accuracy = sum([1 for i,j in zip(val_pred_labels,val_true_labels) if i==j])/len(val_pred_labels)\r\n",
        "\r\n",
        "      print('   Train_loss==> ',train_loss)\r\n",
        "      print('   Val_loss====> ',validation_loss)\r\n",
        "      print('')\r\n",
        "      print('   Train_acc==> ',training_accuracy)\r\n",
        "      print('   Val_acc=====> ',validation_accuracy)\r\n",
        "\r\n",
        "  #load dataset\r\n",
        "  (X_train, Y_train), (X_test, Y_test) = fashion_mnist.load_data()\r\n",
        "  class_names = ['T-shirt/top', 'Trouser', 'Pullover', 'Dress', 'Coat',\r\n",
        "                  'Sandal', 'Shirt', 'Sneaker', 'Bag', 'Ankle boot']\r\n",
        "\r\n",
        "\r\n",
        "  # Reshaping dataset\r\n",
        "  X_train = X_train.reshape(len(X_train),784)\r\n",
        "  X_test = X_test.reshape(len(X_test),784)\r\n",
        "\r\n",
        "  # Creating object\r\n",
        "  FFN = nn_from_scratch()\r\n",
        "\r\n",
        "  # Normalizing Dataset\r\n",
        "\r\n",
        "  X_train = (X_train - np.mean(X_train,axis=0))/(np.std(X_train,axis=0) + FFN.eps)\r\n",
        "  X_test = (X_test - np.mean(X_test,axis=0))/(np.std(X_test,axis=0) + FFN.eps)\r\n",
        "\r\n",
        "\r\n",
        "  #splitting train and validation data\r\n",
        "  X_train, X_validation,Y_train,Y_validation = train_test_split(X_train,Y_train, test_size=0.1, shuffle=True)\r\n",
        "  train_true_labels = Y_train\r\n",
        "  val_true_labels = Y_validation\r\n",
        "\r\n",
        "  FFN.X_train = X_train\r\n",
        "  FFN.X_test = X_test\r\n",
        "  FFN.X_validation = X_validation\r\n",
        "\r\n",
        "  #onehot encoding\r\n",
        "  FFN.Y_train = np.eye(FFN.out_dim)[Y_train]\r\n",
        "  FFN.Y_validation = np.eye(FFN.out_dim)[Y_validation]\r\n",
        "\r\n",
        "\r\n",
        "  ###############################################################################\r\n",
        "\r\n",
        "  def Loss_Accuracy_calculation(train_true_labels,val_true_labels):\r\n",
        "    train_loss = FFN.loss_calculation(FFN.X_train, FFN.Y_train)\r\n",
        "    train_pred_labels = FFN.predict_model(FFN.X_train)\r\n",
        "    validation_loss = FFN.loss_calculation(FFN.X_validation,FFN.Y_validation)\r\n",
        "    val_pred_labels = FFN.predict_model(FFN.X_validation)\r\n",
        "    training_accuracy = (sum([1 for i,j in zip(train_pred_labels,train_true_labels) if i==j])/len(train_pred_labels))*100\r\n",
        "    validation_accuracy = (sum([1 for i,j in zip(val_pred_labels,val_true_labels) if i==j])/len(val_pred_labels))*100\r\n",
        "\r\n",
        "    print('   Train_loss==> ',train_loss)\r\n",
        "    print('   Val_loss====> ',validation_loss)\r\n",
        "    print('')\r\n",
        "    print('   Train_acc==> ',training_accuracy)\r\n",
        "    print('   Val_acc=====> ',validation_accuracy)\r\n",
        "\r\n",
        "    test_label = FFN.predict_model(FFN.X_test)      \r\n",
        "\r\n",
        "    accuracy = (sum([1 for i,j in zip(test_label,Y_test) if i==j])/len(Y_test))*100\r\n",
        "    print('Final_accuracy==>  ',accuracy)\r\n",
        "\r\n",
        "    return train_loss,validation_loss,training_accuracy,validation_accuracy,accuracy,test_label\r\n",
        "\r\n",
        "####################################################################################\r\n",
        "  \r\n",
        "  print('epoch===>',0)\r\n",
        "  train_loss,validation_loss,training_accuracy,validation_accuracy,accuracy,test_label = Loss_Accuracy_calculation(train_true_labels,val_true_labels)\r\n",
        "  wandb.log({\"epoch\" : 0,\r\n",
        "          \"accuracy\": accuracy,\r\n",
        "          \"val_accuracy\" : validation_accuracy,\r\n",
        "          \"val_loss\": validation_loss,\r\n",
        "          \"train_loss\": train_loss,\r\n",
        "          \"train_accuracy\":training_accuracy})\r\n",
        "\r\n",
        "  for epoch in range(1,FFN.epoch_num+1):\r\n",
        "    delta_W_memory = np.copy(FFN.W_zeros)\r\n",
        "    time_step = 0\r\n",
        "    print('Epoch==>',epoch)\r\n",
        "\r\n",
        "    No_of_batches = (FFN.X_train).shape[0]//FFN.batch_size\r\n",
        "    for i in range(No_of_batches):\r\n",
        "      FFN.batch_update(i)\r\n",
        "      FFN.t += 1\r\n",
        "      time_step += 1\r\n",
        "    train_loss,validation_loss,training_accuracy,validation_accuracy,accuracy,test_label = Loss_Accuracy_calculation(train_true_labels,val_true_labels)  \r\n",
        "    wandb.log({\"epoch\" : epoch,\r\n",
        "              \"accuracy\": accuracy,\r\n",
        "              \"val_accuracy\" : validation_accuracy,\r\n",
        "              \"val_loss\": validation_loss,\r\n",
        "              \"train_loss\": train_loss,\r\n",
        "              \"train_accuracy\":training_accuracy})\r\n",
        "                \r\n",
        "  wandb.log({\"conf_mat\" : wandb.plot.confusion_matrix(probs=None,\r\n",
        "                        y_true=Y_test, preds=test_label,\r\n",
        "                        class_names=class_names)})\r\n",
        "\r\n",
        "  ################################################################################\r\n",
        "\r\n",
        "  "
      ],
      "execution_count": null,
      "outputs": []
    },
    {
      "cell_type": "code",
      "metadata": {
        "id": "phnetX-zwXEk"
      },
      "source": [
        "sweep_config = {\r\n",
        "    'method': 'random', #grid, random\r\n",
        "    'metric': {\r\n",
        "      'name': 'accuracy',\r\n",
        "      'goal': 'maximize'   \r\n",
        "    },\r\n",
        "    'parameters': {\r\n",
        "        'epochs': {\r\n",
        "            'values': [5,10]\r\n",
        "        },\r\n",
        "        'No_hidden_layer': {\r\n",
        "            'values': [3,4,5]\r\n",
        "        },\r\n",
        "        'learning_rate': {\r\n",
        "            'values': [1e-3, 1e-4]\r\n",
        "        },'Neurons':{\r\n",
        "            'values': [32,64,128]\r\n",
        "        },\r\n",
        "        'weight_decay': {\r\n",
        "            'values': [0,0.0005,0.5]\r\n",
        "        },'mini_batch_size':{\r\n",
        "            'values': [1,16,32,64]\r\n",
        "        },'loss_optimizer_type':{\r\n",
        "            'values': ['vanila','momentum','nag','rmsprop','adam','nadam']\r\n",
        "        },'weight_initialization': {\r\n",
        "            'values': ['random','xavier']\r\n",
        "        },'activation_type':{\r\n",
        "            'values': ['sigmoid','tanh','ReLU']\r\n",
        "        },\r\n",
        "\r\n",
        "    }\r\n",
        "}"
      ],
      "execution_count": null,
      "outputs": []
    },
    {
      "cell_type": "code",
      "metadata": {
        "colab": {
          "base_uri": "https://localhost:8080/"
        },
        "id": "Uod29pZX54p3",
        "outputId": "50f233aa-c697-41c2-b99b-3147056cee54"
      },
      "source": [
        "sweep_id = wandb.sweep(sweep_config, project=\"CS6910_Assignment1\")"
      ],
      "execution_count": null,
      "outputs": [
        {
          "output_type": "stream",
          "text": [
            "Create sweep with ID: 1o5dqarx\n",
            "Sweep URL: https://wandb.ai/vrunda/CS6910_Assignment1/sweeps/1o5dqarx\n"
          ],
          "name": "stdout"
        }
      ]
    },
    {
      "cell_type": "code",
      "metadata": {
        "colab": {
          "base_uri": "https://localhost:8080/",
          "height": 1000,
          "referenced_widgets": [
            "538788a703a1491f82c07bbe2c563643",
            "c69c4afe85c742de986943a79e489966",
            "19d09fa2087e410e83ce2d1fd89c23c4",
            "5a1a68bb32c747129499d87a2bbe640e",
            "433ca260705c4d0eae791ddb3a911a05",
            "1e4556f6258e48db9796c43a29cf4727",
            "f823e62e05094fa180034fbc79a68c6f",
            "d751b2b42f374ee69522d8f9fb41f6dc",
            "ed4d6539ae974f878ccb40f7b7327eac",
            "88c4eebfa2c24563a0d6878c3731ec69",
            "f0601826cab84ec4a937abe3f512d093",
            "59a7a1654552457081b643f4f247cfe8",
            "13b8f2956a7249cfb3e05a2a2bca2335",
            "23f581688be74416a0b1b5b4749e88d4",
            "3bf164c53aec47bda65f257005730c0f",
            "783d2bbead294ec19683098bb4a4292b",
            "761cd6b4b22b44a380a3436e515457fc",
            "202463a83670436296d46c8627d56ed0",
            "295d2b6c79ed4061b5bbb018fc09b7e9",
            "6a24e4b6daa64ec899e2376843b04105",
            "2b05f25a5f224071abd56f0cd60ad79a",
            "5bf029586c144f5db705b640dc432540",
            "02b1cdc21fcb4cf7a6f9a1695cee2fd9",
            "a4700f8cb1474a5cbadc1f30776aa3bc",
            "c90f5b4db3f54d58abf2a76e7dbd6b26",
            "76653a6ccf484068b017e55db13fde62",
            "206f69b91ddc4481b09be7c02a586b4e",
            "97d8c1e749de44808261eae73ef81856",
            "20ba14a826d54972a9330813aa17cb72",
            "c47ff43c4bc04bfbb11edefcb4bd252f",
            "719107252c8f479c85d16cda8a2c370d",
            "8bd09d4da6d04b5d944993a0333a1d01",
            "e50bfd54b0444911830d32f4a54d5432",
            "71cfa9021ae844b1a43d831ce6d99c74",
            "63cc64adbc184e5da72fb75f5cc7dfed",
            "80368915bfae41dda13c16cc52e2aef8",
            "0aadbb552ff14d0fa63118af472aaef0",
            "1cc9c57cde5e47b08f83406f93c78b26",
            "5b122793eb304ebaaebfd10153b83ab8",
            "969fea04ed494573aeba70598c928610",
            "4cd9fcfaf1bb4887810277d9dd8421dd",
            "299a74a19629419899a5f4c1ee6ea0f3",
            "1a4c87e76fa743c28c073c830d9e47ac",
            "ce5d3c0584074dfdadd7f5b5ac741229",
            "dcf00c1af4fc4bb9b710765e7d0719b8",
            "463251b9c944496e868b01a8c71f73ff",
            "6dc9eb780ebf4704a9d679d9955dccca",
            "05a4dc8756f9482ab981557e9a64f243",
            "fece5497cdf1492788df0080b696ab8e",
            "64a362ee8bb64a4cb3389f89c918845a",
            "e000428688b8433ebd00269a23294a70",
            "9dfdff3a401a46179518b8367454f41d",
            "e224c0c699574dadbc46cb3b8f52316f",
            "44e6db156eff4c73b4620cbc59de0b0a",
            "880c6a834a664ac2ba96f8de25114a6c",
            "f52cbade1be24f7b92a7c7f25f621276",
            "4f68bb1def774d12b33d7eaff403d2f2",
            "9caac240f34247d184cd75af33600f97",
            "d7fe064219b44eecae3969a108cf8281",
            "477cc3a7a6844f61859df394bdabf7e9",
            "941855f93c0349e7856daa680d7b5233",
            "4e60bcda3ba64d3da257def1563a1a7f",
            "fe844bdf41984c5481094144d06a056d",
            "f2655d860fbb4f6c9703b81207b93574",
            "463c22bad2c64bc4993a0689cb7f9d22",
            "7b24acf06fe94e9ab45ef020a3639a5c",
            "2255acd4a57842deae922ff2c83c03ba",
            "36b56ec0379d4d5b9e88aa429a0a4dac",
            "0af33bc5001040d7b19cfce5a49c51cf",
            "34c5b9a7c2a0445ca585f1115ebd146e",
            "ada655b9c6ad40b8bbb4eddd9470bd99",
            "11b3366fe75148fb9a638124325e9f01",
            "7d141298fc9b4c349ab09e18a72af1a9",
            "dbd32b42fe604f9eadd12ca09cb9ad8a",
            "9c769bfde8304f1286ebbc5fcd9441ae",
            "3a440853719042778a4246ab6d49e00c",
            "3df3bfe3844b40c0aeefafc96da38dc0",
            "7b2d4022115f400a90fee2d2265c0b5e",
            "b979e311332b41159055565cfdcfbd64",
            "5baec9e3993645acb3e00d0e2a62b15d",
            "452523c6be85496db36c462152e175f6",
            "bcc0f4cfe07d42d1a618fb3d63c54953",
            "28fdcaf2ea474f74b062b6546a26694a",
            "cabb639e8254446bb4cc264d3703b69a",
            "804dd43840804f4eaa5ec90757833aa3",
            "8acdad8b8319416d88f4b99cd3c66d07",
            "2d6a1f3184e943799e7d053e19911290",
            "e7a3bcda99344d1f9acac05fcbf6fe50",
            "c0d82a8cb97741868f59dd315bf2272e",
            "c44fe0575f234b028c19a3d056134e67",
            "6597f666a15247eebe8415893496b182",
            "a9e030d2593841849177233e15e0c51b",
            "3f8c6325694b4df7bc966240674daa25",
            "d17440313f194fd28c3f08013f585847",
            "16a561c9b2e04516ab4cc3e366b8f474",
            "fb03083b06be453fa0586a090570107d",
            "687604f702174c32af8ee95841f4039d",
            "516c3d380ba24e29a96e48342037998e",
            "d36c7e359d094222bd56a256a0400005",
            "a6856750ef0d406b9592079d99f204f1",
            "4b1f5b52fe71490ba2b04f261cffcd62",
            "46e12b50cb2749e7aeca6e2dfd60ecbc",
            "50f952018d5c48e2ad2f094b65939665",
            "1b5dd14f3aeb46848fddcc9ab0ec91ef",
            "84597e14c5984024b8a9ebd57f57db1e",
            "aa3a1cdfdb994e9fa7fc3d5a355ba62a",
            "fd983fb69ee54d319926ffcfdd79a722",
            "ef9adfc44ec04a779baeecbe29889514",
            "6eacb848226f489ab45f3e53d4611704",
            "e7dc77ea66bb4e66b8317675ef4e3f17",
            "ee3c12ae47b74c48b49f15bc0450b8c1",
            "5299218ee86b46d6af1951b268d2b22a",
            "b8dd739c198349f78cecfda5da6330e8",
            "dce10c4b949f49bb84f4b555ec91a3bf",
            "9b251d756ad5423e962ca90986326257",
            "a369f8eba9c24d4599e5bda2cde6fe11",
            "97d3422477f5462aafc9bf2005771c0b",
            "aa77b34ac43f49d38b6781cdb2d8742e",
            "025176ddb108473cb7e3804a8f3e1233",
            "86878ea41a104f38ab19a4cfe25b3c1b",
            "373a889ed3e94c18afc56d468c73969f",
            "9f983a1427d74faabc1c71cc62555d86",
            "a746230f544b45519b6f1b36e7c954a2",
            "416d5b1fc26641ea91facab73e99cf00",
            "9d5cdf3b3a4a4a9e936241ea9327d52b",
            "bf8ffd75339c4cd0a8bae319c82ee449",
            "29184771168243ad820eafabd7fcd295",
            "6f9ed0777251460382b272581d5db4f9",
            "8ffa8ddd564247328a2e94f2c84d25c0",
            "cfef64fc478f4b94abcd981672f5e83a",
            "406d26cd7b2b4a8e842b59fcc2947924",
            "9189f88a34864d01a34d18963bd033f2",
            "9f24b5450cd84c8894f9e7f031d6d18a",
            "e68e83b99d164e718289db1b7a1444d6",
            "5c72339b7e034b428e1a9df9770250cc",
            "246062f7e7f14e90b9c64a7290f2cc84",
            "7566633467894edf8bd3dd83e106e8c0",
            "e25885455534476683265af80542305e",
            "ed437571f34843c2b1ea8bb8108e5b5a",
            "7e6f2b97e3c2440992790b99ac9352a8",
            "f163e3b835ca432090b9970897fc6a5e",
            "c5919baab6034a958b175452e4147977",
            "09c3f77a5185479db25d0708db7c2388",
            "66979c82c46a416bba6696586047fa38",
            "8e47f5d3471b48039939ebd13cc80be2",
            "ef8e502ec79541a5b79dd550e03af7f9",
            "9c3df53bb3304a9f82ad766d1a0da29b",
            "20e5eeb1a011406795e9e011c4500e55",
            "3ce8296ce0a24ceeac0d476b1aab023f",
            "3f032eafa7964206a970c31c5b092d8b",
            "4e20ac8b36a149f3a4c9114765d47191",
            "b2c1f56f77b046da91cecdddba4cb18b",
            "e866a2d772fc41808129db5c043039cf",
            "5b5e12cb34914b5781db2e0f1bd83325",
            "8b1a52b490f7464f864d1cab92d96f3e",
            "e2d201e42f4444d3a85da7b8ae2fd8b8",
            "30b305c2d7574d2ca6e8a2e4befbb462",
            "0b2cc4890f184caf960a66a29b702246",
            "a234afaae05f4cfd858bf224ae6f1083",
            "37e38fb6d16944e58d18d18025acc0d0",
            "eb55ea27d64b4068b92510c901be4b60",
            "0fe43cadc31c47a19e66ae8c14706257",
            "c358efbc0fe249969d452200494c8115",
            "6235f295fe9543fc9ba87059cd19a61f",
            "7a3daadfbc734048b3bc57b775019987",
            "aa971b1e8c87440a827b31ea2a9d62bc",
            "3cd9bb84d91a495c8083f324122f6575",
            "51691ea32eec4d1e9b4d09cc908b6f1e",
            "62be26cd208f4af7b76fbb41b6ffe617",
            "ea5cd5caf0b84a70ad2b3f70f27d3fea",
            "799123caee8e424782f0a6449bafaf32",
            "386ec7b9c5304601b3739b8dc2f9fda3",
            "a74462ad82584241bf041521b325fa5c",
            "bc7041a3b1aa4e2b8bfd6773446cce59",
            "8187835d83354ef1b0aabfa2ac1ddb3c",
            "18372bf3008c49b6b46cd773c2991eee",
            "446419f276644a6897e94d4a64c04150",
            "90059d56291f4add8545eb6922e829e8",
            "e73351af4bd146fc9d1fb5dabca9b47f",
            "f018708f486745f3b8b44ffcb93405a3",
            "0c2b21fdfa8c4949b99a5e61c581c3d1",
            "8862fb36b6db4f15bd82e98fc8118d2b",
            "eb42ae202e944f7fabb0c87a109c6cc5",
            "76243d7da9c9401297451541f0ec48c5",
            "651bb1154a744f97bf04029f57a6a4e6",
            "bcc04c3de1f54dd2afa1cae2ed64039c",
            "26347905cc76478ab27964e822bdfa51",
            "911e17a5aea8441c9edd843e136a995f",
            "74b1ffdb9b294c3f941b80322ff3c130",
            "b75dc248cef34bec97f720f0afee4709",
            "fc6b19c68d9748918b593c28ab774b97",
            "055ff455a86e4ab38830c7494801f766",
            "461fca796df34a7a9609d40325c5594f",
            "0849e39ec4814952b2dd2ca35d04f824",
            "dc5b35e6cd4f4623867b8d297863bcce",
            "5884b786be064a4995cb09247dfe7ccc",
            "a41f45c1e3854c01819c4cee505a7f9a",
            "a058e18c767c41d489869f11a1fc371e",
            "eaa43deff9624e7b9f70c0819000ed9e",
            "c78fd4c43eac49f69e133accb4f32e21",
            "7e0164adede041769c49b90faed6f698",
            "8f0f99d28b6a4e1984f534733d496364",
            "c1fd8e30b3f3442d8c5786c8b058afca",
            "f1bfcc15f29a43a38f8160a406f8c148",
            "5a9e9367bb9647158cec0188c2c41e5f",
            "22209b9c3ae24c88805bf62c7f745edc",
            "00e2ff27d44e46acb76fea89d555ca60",
            "e0abc6b657a24fc2980510b5ba3d44c0",
            "261e2386090c405bb16dabf8c45c9e48",
            "60ea63310932472f8d6cbdd08a392f0d",
            "3ac6ae77081345eebf91939bb074069f",
            "cb1937d007424ceebf43a78249c2d128",
            "dc1ead9c13894415ac2fba2254f9b75d",
            "25629763163847c896a1b1272f876e24",
            "05bdfc3c6ae648e2bacaddca6f4f621f",
            "0be38074790c4fe2b972029d67cb4389",
            "94d907651c8e4de5ad63a2d83cc3f051",
            "3aa89df2f7d6450dae8b09c10ad56eb3",
            "63bc001096854712a7156dcf25561efa",
            "4c5408e98b0b4403b465323aa8eac1cc",
            "df5f36446d2448ff85f53c1290b65255",
            "f84405f6f7674a4288b99a850e4e8344",
            "3cf0abcbe3f04b7db7f090827c8bba0b",
            "c020e8b5176446cf8ee896ec905930b2",
            "f9426fdad717436fa3a89ae013501561",
            "d4b0224bbd4b439bb42ff678192c992a",
            "218132de3fc34d72a79f8012097ebbb1",
            "419a68dd35a9477595572640905daae3",
            "9cb483797c1843508e9c58131d7f8bbb",
            "e25917e402f84fe0b03a538251528db6",
            "8940520e7b59494fbbe27b99ddb04506",
            "91dc291a51e44296ab4f0ed9896814fd",
            "2e32f02287644906a54eb77813329954",
            "272b3fb92e4d4a8499744c2259370993",
            "01e6513ac3014dc0bd5f458677e8d7e8",
            "f1bcb8510519412586fd8ab860e06e91",
            "3aa90758b2dc448f887a262f0a56e6a5",
            "82831afd0c6e41fea241cca1b9d641ab",
            "a16917da60de41f98489d5de58436de8",
            "5ddf67a0f20a4ce3b3c83ce5ada446b1",
            "cb30eb3f6fa84ed0a3fe4ba90329f24b",
            "b8930695067c401ca82a18c115c0674e",
            "0ea2dd6535bd4cf58c3677e69ab008a6",
            "b920de09ca644c9da445ff05c0d99437",
            "9ed2a731928f47ff83c477eb584e9615",
            "306865a20d284a01b236009dc538f2ad",
            "33e9907045474234a208a622df77498e",
            "8f5ea706812a42bfa0fbf97e9832bf49",
            "f257c73036da45139a1771cc03eddf5e",
            "e6c0f378e84a4f20a89774beba9e1f4f",
            "bd8b97fdad4a4a51be0ec9c82ea95695",
            "0cdceba7b7604c07af369ff72ca7516d",
            "ada1dc3144324b4f8cdd2b59bd1687d7",
            "bd6d67458b4843c8afd886d6105edd82",
            "53c27ba0e2ac44c0ae6cbd72de136ac7",
            "fdee0e1a28c2483dbf07da96658afb3a",
            "dbd619eb30484ea5ac574a90897efca5",
            "e549d803cb12491497be33560cd4c460",
            "83dcc62d9d6d4181a72dfe363f54e422",
            "a37cd31e9deb4dd6b9ca58861eca3846",
            "ced098a9e75c47d79dac9487bb2f3e4d",
            "11a4f5653c92435e96cbbe620093bf6d",
            "a1456635cdf740798ec1650a9a73c454",
            "f042664e687c4c439fcbb079b8e688c9",
            "1c1b2510fdfb4a1aa6ba3b274d097093",
            "82c8109631e64849bd9c05372251f33b",
            "f55c558318b24b428466fb8d20477f8d",
            "fe1a3a7f39ea4f05a41f3a9b1add8ad8",
            "9160c76ff87d4414873aa11c5d36d145",
            "200019697510464c82fe75ba26bb7300",
            "e91359093da34ca8a0feb3ff16bf64db",
            "bd4d9f1ea0854f69892390888e6afca5",
            "b07f75c2a3a54388a4d8565740fe280f",
            "cff430497be34f4c920bd269e4cd0859",
            "2434e7a5baa449ea985ea5e27e1a4d88",
            "0c9ead8a31b14bcfaec6c1f7874ca364",
            "f319a70a266d4533b7a5b0ef2c9118bb",
            "9a60e65647d94576b3f33fc75b076fa7",
            "cc51a34c60f9410ab3dba74e95cded47",
            "c23575ce09dc4488ae4496cd8c937f18",
            "6de85de8a0ea4e8f9fab3cf8b2326227",
            "1f35f0d77010443ab5cf4f5a4430bacc",
            "711a9546c1be4afd84ac7bfcd98a7372",
            "7465bf641a4a4aaea4699916e6f85c2c",
            "9f2f243b5e0c439ba9d4e4f84e93e252",
            "d0826452e42b488d836a1f06d2841049",
            "d494d806b7974ff7bf6ae17a3c281c61",
            "44398e3f1ff34ae29f30421c13237d1a",
            "78de8c67e4004c3c92295701ee253b98",
            "c570a8e4e668451289910eec5af6c3e1",
            "289755a9fd29433592b59b0508182dce",
            "51ec9084df0d407e86715a124afec1db",
            "feb56f1a53e64747b615417f33d2e33c",
            "ded5fb8a467944828643b41266d6fafc",
            "27e45682387842e59164ef14e32b3d2b",
            "1052ea99681b4dc4bb2d3daa3b85990a",
            "c3d86cce72af43f6a7f8af91b56a9fad"
          ]
        },
        "id": "8hrl_4Tn6BOX",
        "outputId": "de4269ec-39b3-4ff1-9d6d-5568dbaf1b6e"
      },
      "source": [
        "wandb.agent(sweep_id, train,count = 100)"
      ],
      "execution_count": null,
      "outputs": [
        {
          "output_type": "stream",
          "text": [
            "\u001b[34m\u001b[1mwandb\u001b[0m: Agent Starting Run: 3gfxz89q with config:\n",
            "\u001b[34m\u001b[1mwandb\u001b[0m: \tNeurons: 32\n",
            "\u001b[34m\u001b[1mwandb\u001b[0m: \tNo_hidden_layer: 5\n",
            "\u001b[34m\u001b[1mwandb\u001b[0m: \tactivation_type: ReLU\n",
            "\u001b[34m\u001b[1mwandb\u001b[0m: \tepochs: 5\n",
            "\u001b[34m\u001b[1mwandb\u001b[0m: \tlearning_rate: 0.0001\n",
            "\u001b[34m\u001b[1mwandb\u001b[0m: \tloss_optimizer_type: nadam\n",
            "\u001b[34m\u001b[1mwandb\u001b[0m: \tmini_batch_size: 64\n",
            "\u001b[34m\u001b[1mwandb\u001b[0m: \tweight_decay: 0.0005\n",
            "\u001b[34m\u001b[1mwandb\u001b[0m: \tweight_initialization: random\n",
            "\u001b[34m\u001b[1mwandb\u001b[0m: \u001b[33mWARNING\u001b[0m Ignored wandb.init() arg project when running a sweep\n"
          ],
          "name": "stderr"
        },
        {
          "output_type": "display_data",
          "data": {
            "text/html": [
              "\n",
              "                Tracking run with wandb version 0.10.22<br/>\n",
              "                Syncing run <strong style=\"color:#cdcd00\">mild-sweep-1</strong> to <a href=\"https://wandb.ai\" target=\"_blank\">Weights & Biases</a> <a href=\"https://docs.wandb.com/integrations/jupyter.html\" target=\"_blank\">(Documentation)</a>.<br/>\n",
              "                Project page: <a href=\"https://wandb.ai/vrunda/CS6910_Assignment1\" target=\"_blank\">https://wandb.ai/vrunda/CS6910_Assignment1</a><br/>\n",
              "                Sweep page: <a href=\"https://wandb.ai/vrunda/CS6910_Assignment1/sweeps/1o5dqarx\" target=\"_blank\">https://wandb.ai/vrunda/CS6910_Assignment1/sweeps/1o5dqarx</a><br/>\n",
              "Run page: <a href=\"https://wandb.ai/vrunda/CS6910_Assignment1/runs/3gfxz89q\" target=\"_blank\">https://wandb.ai/vrunda/CS6910_Assignment1/runs/3gfxz89q</a><br/>\n",
              "                Run data is saved locally in <code>/content/wandb/run-20210314_224721-3gfxz89q</code><br/><br/>\n",
              "            "
            ],
            "text/plain": [
              "<IPython.core.display.HTML object>"
            ]
          },
          "metadata": {
            "tags": []
          }
        },
        {
          "output_type": "stream",
          "text": [
            "/usr/local/lib/python3.7/dist-packages/numpy/lib/function_base.py:792: VisibleDeprecationWarning: Creating an ndarray from ragged nested sequences (which is a list-or-tuple of lists-or-tuples-or ndarrays with different lengths or shapes) is deprecated. If you meant to do this, you must specify 'dtype=object' when creating the ndarray\n",
            "  return array(a, order=order, subok=subok, copy=True)\n"
          ],
          "name": "stderr"
        },
        {
          "output_type": "stream",
          "text": [
            "epoch===> 0\n",
            "   Train_loss==>  2.313226759087145\n",
            "   Val_loss====>  2.3126950468318\n",
            "\n",
            "   Train_acc==>  11.103703703703703\n",
            "   Val_acc=====>  11.333333333333332\n",
            "Final_accuracy==>   10.71\n",
            "Epoch==> 1\n"
          ],
          "name": "stdout"
        },
        {
          "output_type": "stream",
          "text": [
            "/usr/local/lib/python3.7/dist-packages/ipykernel_launcher.py:164: VisibleDeprecationWarning: Creating an ndarray from ragged nested sequences (which is a list-or-tuple of lists-or-tuples-or ndarrays with different lengths or shapes) is deprecated. If you meant to do this, you must specify 'dtype=object' when creating the ndarray\n",
            "/usr/local/lib/python3.7/dist-packages/ipykernel_launcher.py:318: VisibleDeprecationWarning: Creating an ndarray from ragged nested sequences (which is a list-or-tuple of lists-or-tuples-or ndarrays with different lengths or shapes) is deprecated. If you meant to do this, you must specify 'dtype=object' when creating the ndarray\n",
            "/usr/local/lib/python3.7/dist-packages/ipykernel_launcher.py:169: VisibleDeprecationWarning: Creating an ndarray from ragged nested sequences (which is a list-or-tuple of lists-or-tuples-or ndarrays with different lengths or shapes) is deprecated. If you meant to do this, you must specify 'dtype=object' when creating the ndarray\n"
          ],
          "name": "stderr"
        },
        {
          "output_type": "stream",
          "text": [
            "   Train_loss==>  0.6818197837931285\n",
            "   Val_loss====>  0.6837114258656299\n",
            "\n",
            "   Train_acc==>  74.09259259259258\n",
            "   Val_acc=====>  73.85000000000001\n",
            "Final_accuracy==>   73.86\n",
            "Epoch==> 2\n",
            "   Train_loss==>  0.5400097473847606\n",
            "   Val_loss====>  0.5408218170542948\n",
            "\n",
            "   Train_acc==>  78.9388888888889\n",
            "   Val_acc=====>  79.03333333333333\n",
            "Final_accuracy==>   78.08\n",
            "Epoch==> 3\n",
            "   Train_loss==>  0.47926450171829194\n",
            "   Val_loss====>  0.48046535608714147\n",
            "\n",
            "   Train_acc==>  82.30740740740741\n",
            "   Val_acc=====>  82.33333333333334\n",
            "Final_accuracy==>   81.13\n",
            "Epoch==> 4\n",
            "   Train_loss==>  0.44580247079207425\n",
            "   Val_loss====>  0.4498394901594803\n",
            "\n",
            "   Train_acc==>  83.84814814814816\n",
            "   Val_acc=====>  83.91666666666666\n",
            "Final_accuracy==>   82.27\n",
            "Epoch==> 5\n",
            "   Train_loss==>  0.4239401200833761\n",
            "   Val_loss====>  0.43178816572411105\n",
            "\n",
            "   Train_acc==>  84.68148148148148\n",
            "   Val_acc=====>  84.53333333333333\n",
            "Final_accuracy==>   83.02000000000001\n"
          ],
          "name": "stdout"
        },
        {
          "output_type": "display_data",
          "data": {
            "text/html": [
              "<br/>Waiting for W&B process to finish, PID 1567<br/>Program ended successfully."
            ],
            "text/plain": [
              "<IPython.core.display.HTML object>"
            ]
          },
          "metadata": {
            "tags": []
          }
        },
        {
          "output_type": "display_data",
          "data": {
            "application/vnd.jupyter.widget-view+json": {
              "model_id": "538788a703a1491f82c07bbe2c563643",
              "version_major": 2,
              "version_minor": 0
            },
            "text/plain": [
              "VBox(children=(Label(value=' 0.00MB of 0.00MB uploaded (0.00MB deduped)\\r'), FloatProgress(value=0.16210045662…"
            ]
          },
          "metadata": {
            "tags": []
          }
        },
        {
          "output_type": "display_data",
          "data": {
            "text/html": [
              "Find user logs for this run at: <code>/content/wandb/run-20210314_224721-3gfxz89q/logs/debug.log</code>"
            ],
            "text/plain": [
              "<IPython.core.display.HTML object>"
            ]
          },
          "metadata": {
            "tags": []
          }
        },
        {
          "output_type": "display_data",
          "data": {
            "text/html": [
              "Find internal logs for this run at: <code>/content/wandb/run-20210314_224721-3gfxz89q/logs/debug-internal.log</code>"
            ],
            "text/plain": [
              "<IPython.core.display.HTML object>"
            ]
          },
          "metadata": {
            "tags": []
          }
        },
        {
          "output_type": "display_data",
          "data": {
            "text/html": [
              "<h3>Run summary:</h3><br/><style>\n",
              "    table.wandb td:nth-child(1) { padding: 0 10px; text-align: right }\n",
              "    </style><table class=\"wandb\">\n",
              "<tr><td>epoch</td><td>5</td></tr><tr><td>accuracy</td><td>83.02</td></tr><tr><td>val_accuracy</td><td>84.53333</td></tr><tr><td>val_loss</td><td>0.43179</td></tr><tr><td>train_loss</td><td>0.42394</td></tr><tr><td>train_accuracy</td><td>84.68148</td></tr><tr><td>_runtime</td><td>307</td></tr><tr><td>_timestamp</td><td>1615762348</td></tr><tr><td>_step</td><td>6</td></tr></table>"
            ],
            "text/plain": [
              "<IPython.core.display.HTML object>"
            ]
          },
          "metadata": {
            "tags": []
          }
        },
        {
          "output_type": "display_data",
          "data": {
            "text/html": [
              "<h3>Run history:</h3><br/><style>\n",
              "    table.wandb td:nth-child(1) { padding: 0 10px; text-align: right }\n",
              "    </style><table class=\"wandb\">\n",
              "<tr><td>epoch</td><td>▁▂▄▅▇█</td></tr><tr><td>accuracy</td><td>▁▇████</td></tr><tr><td>val_accuracy</td><td>▁▇▇███</td></tr><tr><td>val_loss</td><td>█▂▁▁▁▁</td></tr><tr><td>train_loss</td><td>█▂▁▁▁▁</td></tr><tr><td>train_accuracy</td><td>▁▇▇███</td></tr><tr><td>_runtime</td><td>▁▂▄▅▇██</td></tr><tr><td>_timestamp</td><td>▁▂▄▅▇██</td></tr><tr><td>_step</td><td>▁▂▃▅▆▇█</td></tr></table><br/>"
            ],
            "text/plain": [
              "<IPython.core.display.HTML object>"
            ]
          },
          "metadata": {
            "tags": []
          }
        },
        {
          "output_type": "display_data",
          "data": {
            "text/html": [
              "Synced 5 W&B file(s), 1 media file(s), 0 artifact file(s) and 0 other file(s)"
            ],
            "text/plain": [
              "<IPython.core.display.HTML object>"
            ]
          },
          "metadata": {
            "tags": []
          }
        },
        {
          "output_type": "display_data",
          "data": {
            "text/html": [
              "\n",
              "                    <br/>Synced <strong style=\"color:#cdcd00\">mild-sweep-1</strong>: <a href=\"https://wandb.ai/vrunda/CS6910_Assignment1/runs/3gfxz89q\" target=\"_blank\">https://wandb.ai/vrunda/CS6910_Assignment1/runs/3gfxz89q</a><br/>\n",
              "                "
            ],
            "text/plain": [
              "<IPython.core.display.HTML object>"
            ]
          },
          "metadata": {
            "tags": []
          }
        },
        {
          "output_type": "stream",
          "text": [
            "\u001b[34m\u001b[1mwandb\u001b[0m: Agent Starting Run: amb9f56b with config:\n",
            "\u001b[34m\u001b[1mwandb\u001b[0m: \tNeurons: 32\n",
            "\u001b[34m\u001b[1mwandb\u001b[0m: \tNo_hidden_layer: 4\n",
            "\u001b[34m\u001b[1mwandb\u001b[0m: \tactivation_type: ReLU\n",
            "\u001b[34m\u001b[1mwandb\u001b[0m: \tepochs: 5\n",
            "\u001b[34m\u001b[1mwandb\u001b[0m: \tlearning_rate: 0.0001\n",
            "\u001b[34m\u001b[1mwandb\u001b[0m: \tloss_optimizer_type: momentum\n",
            "\u001b[34m\u001b[1mwandb\u001b[0m: \tmini_batch_size: 64\n",
            "\u001b[34m\u001b[1mwandb\u001b[0m: \tweight_decay: 0\n",
            "\u001b[34m\u001b[1mwandb\u001b[0m: \tweight_initialization: xavier\n",
            "\u001b[34m\u001b[1mwandb\u001b[0m: \u001b[33mWARNING\u001b[0m Ignored wandb.init() arg project when running a sweep\n"
          ],
          "name": "stderr"
        },
        {
          "output_type": "display_data",
          "data": {
            "text/html": [
              "\n",
              "                Tracking run with wandb version 0.10.22<br/>\n",
              "                Syncing run <strong style=\"color:#cdcd00\">graceful-sweep-2</strong> to <a href=\"https://wandb.ai\" target=\"_blank\">Weights & Biases</a> <a href=\"https://docs.wandb.com/integrations/jupyter.html\" target=\"_blank\">(Documentation)</a>.<br/>\n",
              "                Project page: <a href=\"https://wandb.ai/vrunda/CS6910_Assignment1\" target=\"_blank\">https://wandb.ai/vrunda/CS6910_Assignment1</a><br/>\n",
              "                Sweep page: <a href=\"https://wandb.ai/vrunda/CS6910_Assignment1/sweeps/1o5dqarx\" target=\"_blank\">https://wandb.ai/vrunda/CS6910_Assignment1/sweeps/1o5dqarx</a><br/>\n",
              "Run page: <a href=\"https://wandb.ai/vrunda/CS6910_Assignment1/runs/amb9f56b\" target=\"_blank\">https://wandb.ai/vrunda/CS6910_Assignment1/runs/amb9f56b</a><br/>\n",
              "                Run data is saved locally in <code>/content/wandb/run-20210314_225234-amb9f56b</code><br/><br/>\n",
              "            "
            ],
            "text/plain": [
              "<IPython.core.display.HTML object>"
            ]
          },
          "metadata": {
            "tags": []
          }
        },
        {
          "output_type": "stream",
          "text": [
            "epoch===> 0\n",
            "   Train_loss==>  2.387073347773612\n",
            "   Val_loss====>  2.387379708064564\n",
            "\n",
            "   Train_acc==>  12.827777777777778\n",
            "   Val_acc=====>  13.316666666666666\n",
            "Final_accuracy==>   12.590000000000002\n",
            "Epoch==> 1\n"
          ],
          "name": "stdout"
        },
        {
          "output_type": "stream",
          "text": [
            "/usr/local/lib/python3.7/dist-packages/ipykernel_launcher.py:238: VisibleDeprecationWarning: Creating an ndarray from ragged nested sequences (which is a list-or-tuple of lists-or-tuples-or ndarrays with different lengths or shapes) is deprecated. If you meant to do this, you must specify 'dtype=object' when creating the ndarray\n"
          ],
          "name": "stderr"
        },
        {
          "output_type": "stream",
          "text": [
            "   Train_loss==>  1.7898014207035988\n",
            "   Val_loss====>  1.788367703941151\n",
            "\n",
            "   Train_acc==>  40.45740740740741\n",
            "   Val_acc=====>  40.11666666666667\n",
            "Final_accuracy==>   40.38\n",
            "Epoch==> 2\n",
            "   Train_loss==>  1.3614767611428487\n",
            "   Val_loss====>  1.3585978410468833\n",
            "\n",
            "   Train_acc==>  61.9537037037037\n",
            "   Val_acc=====>  62.0\n",
            "Final_accuracy==>   61.79\n",
            "Epoch==> 3\n",
            "   Train_loss==>  1.038881042679952\n",
            "   Val_loss====>  1.0322628874647444\n",
            "\n",
            "   Train_acc==>  66.0962962962963\n",
            "   Val_acc=====>  66.63333333333334\n",
            "Final_accuracy==>   66.53\n",
            "Epoch==> 4\n",
            "   Train_loss==>  0.8318810012426413\n",
            "   Val_loss====>  0.8231777696802016\n",
            "\n",
            "   Train_acc==>  71.47037037037038\n",
            "   Val_acc=====>  72.73333333333333\n",
            "Final_accuracy==>   71.95\n",
            "Epoch==> 5\n",
            "   Train_loss==>  0.7277519781731475\n",
            "   Val_loss====>  0.7222430400533257\n",
            "\n",
            "   Train_acc==>  74.26481481481481\n",
            "   Val_acc=====>  75.25\n",
            "Final_accuracy==>   74.45\n"
          ],
          "name": "stdout"
        },
        {
          "output_type": "display_data",
          "data": {
            "text/html": [
              "<br/>Waiting for W&B process to finish, PID 1635<br/>Program ended successfully."
            ],
            "text/plain": [
              "<IPython.core.display.HTML object>"
            ]
          },
          "metadata": {
            "tags": []
          }
        },
        {
          "output_type": "display_data",
          "data": {
            "application/vnd.jupyter.widget-view+json": {
              "model_id": "ed4d6539ae974f878ccb40f7b7327eac",
              "version_major": 2,
              "version_minor": 0
            },
            "text/plain": [
              "VBox(children=(Label(value=' 0.00MB of 0.00MB uploaded (0.00MB deduped)\\r'), FloatProgress(value=0.16177727143…"
            ]
          },
          "metadata": {
            "tags": []
          }
        },
        {
          "output_type": "display_data",
          "data": {
            "text/html": [
              "Find user logs for this run at: <code>/content/wandb/run-20210314_225234-amb9f56b/logs/debug.log</code>"
            ],
            "text/plain": [
              "<IPython.core.display.HTML object>"
            ]
          },
          "metadata": {
            "tags": []
          }
        },
        {
          "output_type": "display_data",
          "data": {
            "text/html": [
              "Find internal logs for this run at: <code>/content/wandb/run-20210314_225234-amb9f56b/logs/debug-internal.log</code>"
            ],
            "text/plain": [
              "<IPython.core.display.HTML object>"
            ]
          },
          "metadata": {
            "tags": []
          }
        },
        {
          "output_type": "display_data",
          "data": {
            "text/html": [
              "<h3>Run summary:</h3><br/><style>\n",
              "    table.wandb td:nth-child(1) { padding: 0 10px; text-align: right }\n",
              "    </style><table class=\"wandb\">\n",
              "<tr><td>epoch</td><td>5</td></tr><tr><td>accuracy</td><td>74.45</td></tr><tr><td>val_accuracy</td><td>75.25</td></tr><tr><td>val_loss</td><td>0.72224</td></tr><tr><td>train_loss</td><td>0.72775</td></tr><tr><td>train_accuracy</td><td>74.26481</td></tr><tr><td>_runtime</td><td>267</td></tr><tr><td>_timestamp</td><td>1615762621</td></tr><tr><td>_step</td><td>6</td></tr></table>"
            ],
            "text/plain": [
              "<IPython.core.display.HTML object>"
            ]
          },
          "metadata": {
            "tags": []
          }
        },
        {
          "output_type": "display_data",
          "data": {
            "text/html": [
              "<h3>Run history:</h3><br/><style>\n",
              "    table.wandb td:nth-child(1) { padding: 0 10px; text-align: right }\n",
              "    </style><table class=\"wandb\">\n",
              "<tr><td>epoch</td><td>▁▂▄▅▇█</td></tr><tr><td>accuracy</td><td>▁▄▇▇██</td></tr><tr><td>val_accuracy</td><td>▁▄▇▇██</td></tr><tr><td>val_loss</td><td>█▅▄▂▁▁</td></tr><tr><td>train_loss</td><td>█▅▄▂▁▁</td></tr><tr><td>train_accuracy</td><td>▁▄▇▇██</td></tr><tr><td>_runtime</td><td>▁▂▄▅▇██</td></tr><tr><td>_timestamp</td><td>▁▂▄▅▇██</td></tr><tr><td>_step</td><td>▁▂▃▅▆▇█</td></tr></table><br/>"
            ],
            "text/plain": [
              "<IPython.core.display.HTML object>"
            ]
          },
          "metadata": {
            "tags": []
          }
        },
        {
          "output_type": "display_data",
          "data": {
            "text/html": [
              "Synced 5 W&B file(s), 1 media file(s), 0 artifact file(s) and 0 other file(s)"
            ],
            "text/plain": [
              "<IPython.core.display.HTML object>"
            ]
          },
          "metadata": {
            "tags": []
          }
        },
        {
          "output_type": "display_data",
          "data": {
            "text/html": [
              "\n",
              "                    <br/>Synced <strong style=\"color:#cdcd00\">graceful-sweep-2</strong>: <a href=\"https://wandb.ai/vrunda/CS6910_Assignment1/runs/amb9f56b\" target=\"_blank\">https://wandb.ai/vrunda/CS6910_Assignment1/runs/amb9f56b</a><br/>\n",
              "                "
            ],
            "text/plain": [
              "<IPython.core.display.HTML object>"
            ]
          },
          "metadata": {
            "tags": []
          }
        },
        {
          "output_type": "stream",
          "text": [
            "\u001b[34m\u001b[1mwandb\u001b[0m: Agent Starting Run: ptf2vu8c with config:\n",
            "\u001b[34m\u001b[1mwandb\u001b[0m: \tNeurons: 32\n",
            "\u001b[34m\u001b[1mwandb\u001b[0m: \tNo_hidden_layer: 3\n",
            "\u001b[34m\u001b[1mwandb\u001b[0m: \tactivation_type: ReLU\n",
            "\u001b[34m\u001b[1mwandb\u001b[0m: \tepochs: 10\n",
            "\u001b[34m\u001b[1mwandb\u001b[0m: \tlearning_rate: 0.0001\n",
            "\u001b[34m\u001b[1mwandb\u001b[0m: \tloss_optimizer_type: vanila\n",
            "\u001b[34m\u001b[1mwandb\u001b[0m: \tmini_batch_size: 64\n",
            "\u001b[34m\u001b[1mwandb\u001b[0m: \tweight_decay: 0\n",
            "\u001b[34m\u001b[1mwandb\u001b[0m: \tweight_initialization: xavier\n",
            "\u001b[34m\u001b[1mwandb\u001b[0m: \u001b[33mWARNING\u001b[0m Ignored wandb.init() arg project when running a sweep\n"
          ],
          "name": "stderr"
        },
        {
          "output_type": "display_data",
          "data": {
            "text/html": [
              "\n",
              "                Tracking run with wandb version 0.10.22<br/>\n",
              "                Syncing run <strong style=\"color:#cdcd00\">glowing-sweep-3</strong> to <a href=\"https://wandb.ai\" target=\"_blank\">Weights & Biases</a> <a href=\"https://docs.wandb.com/integrations/jupyter.html\" target=\"_blank\">(Documentation)</a>.<br/>\n",
              "                Project page: <a href=\"https://wandb.ai/vrunda/CS6910_Assignment1\" target=\"_blank\">https://wandb.ai/vrunda/CS6910_Assignment1</a><br/>\n",
              "                Sweep page: <a href=\"https://wandb.ai/vrunda/CS6910_Assignment1/sweeps/1o5dqarx\" target=\"_blank\">https://wandb.ai/vrunda/CS6910_Assignment1/sweeps/1o5dqarx</a><br/>\n",
              "Run page: <a href=\"https://wandb.ai/vrunda/CS6910_Assignment1/runs/ptf2vu8c\" target=\"_blank\">https://wandb.ai/vrunda/CS6910_Assignment1/runs/ptf2vu8c</a><br/>\n",
              "                Run data is saved locally in <code>/content/wandb/run-20210314_225711-ptf2vu8c</code><br/><br/>\n",
              "            "
            ],
            "text/plain": [
              "<IPython.core.display.HTML object>"
            ]
          },
          "metadata": {
            "tags": []
          }
        },
        {
          "output_type": "stream",
          "text": [
            "epoch===> 0\n",
            "   Train_loss==>  2.5082224497050585\n",
            "   Val_loss====>  2.5068978066854433\n",
            "\n",
            "   Train_acc==>  12.262962962962963\n",
            "   Val_acc=====>  12.6\n",
            "Final_accuracy==>   12.16\n",
            "Epoch==> 1\n"
          ],
          "name": "stdout"
        },
        {
          "output_type": "stream",
          "text": [
            "/usr/local/lib/python3.7/dist-packages/ipykernel_launcher.py:230: VisibleDeprecationWarning: Creating an ndarray from ragged nested sequences (which is a list-or-tuple of lists-or-tuples-or ndarrays with different lengths or shapes) is deprecated. If you meant to do this, you must specify 'dtype=object' when creating the ndarray\n"
          ],
          "name": "stderr"
        },
        {
          "output_type": "stream",
          "text": [
            "   Train_loss==>  2.2898511437175717\n",
            "   Val_loss====>  2.2882264613698076\n",
            "\n",
            "   Train_acc==>  17.418518518518518\n",
            "   Val_acc=====>  18.016666666666666\n",
            "Final_accuracy==>   16.96\n",
            "Epoch==> 2\n",
            "   Train_loss==>  2.1388344065222977\n",
            "   Val_loss====>  2.1371795934457807\n",
            "\n",
            "   Train_acc==>  26.50925925925926\n",
            "   Val_acc=====>  26.78333333333333\n",
            "Final_accuracy==>   26.27\n",
            "Epoch==> 3\n",
            "   Train_loss==>  2.0237781903292986\n",
            "   Val_loss====>  2.021972283685867\n",
            "\n",
            "   Train_acc==>  31.34444444444445\n",
            "   Val_acc=====>  31.55\n",
            "Final_accuracy==>   31.1\n",
            "Epoch==> 4\n",
            "   Train_loss==>  1.9245760026265022\n",
            "   Val_loss====>  1.9231311647817388\n",
            "\n",
            "   Train_acc==>  35.71296296296296\n",
            "   Val_acc=====>  35.65\n",
            "Final_accuracy==>   35.08\n",
            "Epoch==> 5\n",
            "   Train_loss==>  1.8334415335857148\n",
            "   Val_loss====>  1.832375174564655\n",
            "\n",
            "   Train_acc==>  39.93333333333333\n",
            "   Val_acc=====>  40.166666666666664\n",
            "Final_accuracy==>   38.98\n",
            "Epoch==> 6\n",
            "   Train_loss==>  1.7481283766021747\n",
            "   Val_loss====>  1.7473068190110004\n",
            "\n",
            "   Train_acc==>  44.42407407407407\n",
            "   Val_acc=====>  44.583333333333336\n",
            "Final_accuracy==>   43.35\n",
            "Epoch==> 7\n",
            "   Train_loss==>  1.6672653562655857\n",
            "   Val_loss====>  1.6670109743971921\n",
            "\n",
            "   Train_acc==>  48.898148148148145\n",
            "   Val_acc=====>  48.91666666666667\n",
            "Final_accuracy==>   47.63\n",
            "Epoch==> 8\n",
            "   Train_loss==>  1.5901210445993639\n",
            "   Val_loss====>  1.5907035408926131\n",
            "\n",
            "   Train_acc==>  52.35740740740741\n",
            "   Val_acc=====>  51.983333333333334\n",
            "Final_accuracy==>   51.239999999999995\n",
            "Epoch==> 9\n",
            "   Train_loss==>  1.5163623126262151\n",
            "   Val_loss====>  1.5177918596254956\n",
            "\n",
            "   Train_acc==>  54.65555555555556\n",
            "   Val_acc=====>  54.11666666666667\n",
            "Final_accuracy==>   53.71\n",
            "Epoch==> 10\n",
            "   Train_loss==>  1.4458216856933024\n",
            "   Val_loss====>  1.4483242820330986\n",
            "\n",
            "   Train_acc==>  56.18518518518518\n",
            "   Val_acc=====>  55.7\n",
            "Final_accuracy==>   55.26\n"
          ],
          "name": "stdout"
        },
        {
          "output_type": "display_data",
          "data": {
            "text/html": [
              "<br/>Waiting for W&B process to finish, PID 1667<br/>Program ended successfully."
            ],
            "text/plain": [
              "<IPython.core.display.HTML object>"
            ]
          },
          "metadata": {
            "tags": []
          }
        },
        {
          "output_type": "display_data",
          "data": {
            "application/vnd.jupyter.widget-view+json": {
              "model_id": "761cd6b4b22b44a380a3436e515457fc",
              "version_major": 2,
              "version_minor": 0
            },
            "text/plain": [
              "VBox(children=(Label(value=' 0.00MB of 0.00MB uploaded (0.00MB deduped)\\r'), FloatProgress(value=0.17656857301…"
            ]
          },
          "metadata": {
            "tags": []
          }
        },
        {
          "output_type": "display_data",
          "data": {
            "text/html": [
              "Find user logs for this run at: <code>/content/wandb/run-20210314_225711-ptf2vu8c/logs/debug.log</code>"
            ],
            "text/plain": [
              "<IPython.core.display.HTML object>"
            ]
          },
          "metadata": {
            "tags": []
          }
        },
        {
          "output_type": "display_data",
          "data": {
            "text/html": [
              "Find internal logs for this run at: <code>/content/wandb/run-20210314_225711-ptf2vu8c/logs/debug-internal.log</code>"
            ],
            "text/plain": [
              "<IPython.core.display.HTML object>"
            ]
          },
          "metadata": {
            "tags": []
          }
        },
        {
          "output_type": "display_data",
          "data": {
            "text/html": [
              "<h3>Run summary:</h3><br/><style>\n",
              "    table.wandb td:nth-child(1) { padding: 0 10px; text-align: right }\n",
              "    </style><table class=\"wandb\">\n",
              "<tr><td>epoch</td><td>10</td></tr><tr><td>accuracy</td><td>55.26</td></tr><tr><td>val_accuracy</td><td>55.7</td></tr><tr><td>val_loss</td><td>1.44832</td></tr><tr><td>train_loss</td><td>1.44582</td></tr><tr><td>train_accuracy</td><td>56.18519</td></tr><tr><td>_runtime</td><td>444</td></tr><tr><td>_timestamp</td><td>1615763075</td></tr><tr><td>_step</td><td>11</td></tr></table>"
            ],
            "text/plain": [
              "<IPython.core.display.HTML object>"
            ]
          },
          "metadata": {
            "tags": []
          }
        },
        {
          "output_type": "display_data",
          "data": {
            "text/html": [
              "<h3>Run history:</h3><br/><style>\n",
              "    table.wandb td:nth-child(1) { padding: 0 10px; text-align: right }\n",
              "    </style><table class=\"wandb\">\n",
              "<tr><td>epoch</td><td>▁▂▂▃▄▅▅▆▇▇█</td></tr><tr><td>accuracy</td><td>▁▂▃▄▅▅▆▇▇██</td></tr><tr><td>val_accuracy</td><td>▁▂▃▄▅▅▆▇▇██</td></tr><tr><td>val_loss</td><td>█▇▆▅▄▄▃▂▂▁▁</td></tr><tr><td>train_loss</td><td>█▇▆▅▄▄▃▂▂▁▁</td></tr><tr><td>train_accuracy</td><td>▁▂▃▄▅▅▆▇▇██</td></tr><tr><td>_runtime</td><td>▁▂▂▃▄▄▅▆▇▇██</td></tr><tr><td>_timestamp</td><td>▁▂▂▃▄▄▅▆▇▇██</td></tr><tr><td>_step</td><td>▁▂▂▃▄▄▅▅▆▇▇█</td></tr></table><br/>"
            ],
            "text/plain": [
              "<IPython.core.display.HTML object>"
            ]
          },
          "metadata": {
            "tags": []
          }
        },
        {
          "output_type": "display_data",
          "data": {
            "text/html": [
              "Synced 5 W&B file(s), 1 media file(s), 0 artifact file(s) and 0 other file(s)"
            ],
            "text/plain": [
              "<IPython.core.display.HTML object>"
            ]
          },
          "metadata": {
            "tags": []
          }
        },
        {
          "output_type": "display_data",
          "data": {
            "text/html": [
              "\n",
              "                    <br/>Synced <strong style=\"color:#cdcd00\">glowing-sweep-3</strong>: <a href=\"https://wandb.ai/vrunda/CS6910_Assignment1/runs/ptf2vu8c\" target=\"_blank\">https://wandb.ai/vrunda/CS6910_Assignment1/runs/ptf2vu8c</a><br/>\n",
              "                "
            ],
            "text/plain": [
              "<IPython.core.display.HTML object>"
            ]
          },
          "metadata": {
            "tags": []
          }
        },
        {
          "output_type": "stream",
          "text": [
            "\u001b[34m\u001b[1mwandb\u001b[0m: Agent Starting Run: e1jhgnze with config:\n",
            "\u001b[34m\u001b[1mwandb\u001b[0m: \tNeurons: 128\n",
            "\u001b[34m\u001b[1mwandb\u001b[0m: \tNo_hidden_layer: 5\n",
            "\u001b[34m\u001b[1mwandb\u001b[0m: \tactivation_type: sigmoid\n",
            "\u001b[34m\u001b[1mwandb\u001b[0m: \tepochs: 10\n",
            "\u001b[34m\u001b[1mwandb\u001b[0m: \tlearning_rate: 0.001\n",
            "\u001b[34m\u001b[1mwandb\u001b[0m: \tloss_optimizer_type: adam\n",
            "\u001b[34m\u001b[1mwandb\u001b[0m: \tmini_batch_size: 1\n",
            "\u001b[34m\u001b[1mwandb\u001b[0m: \tweight_decay: 0\n",
            "\u001b[34m\u001b[1mwandb\u001b[0m: \tweight_initialization: random\n",
            "\u001b[34m\u001b[1mwandb\u001b[0m: \u001b[33mWARNING\u001b[0m Ignored wandb.init() arg project when running a sweep\n"
          ],
          "name": "stderr"
        },
        {
          "output_type": "display_data",
          "data": {
            "text/html": [
              "\n",
              "                Tracking run with wandb version 0.10.22<br/>\n",
              "                Syncing run <strong style=\"color:#cdcd00\">daily-sweep-4</strong> to <a href=\"https://wandb.ai\" target=\"_blank\">Weights & Biases</a> <a href=\"https://docs.wandb.com/integrations/jupyter.html\" target=\"_blank\">(Documentation)</a>.<br/>\n",
              "                Project page: <a href=\"https://wandb.ai/vrunda/CS6910_Assignment1\" target=\"_blank\">https://wandb.ai/vrunda/CS6910_Assignment1</a><br/>\n",
              "                Sweep page: <a href=\"https://wandb.ai/vrunda/CS6910_Assignment1/sweeps/1o5dqarx\" target=\"_blank\">https://wandb.ai/vrunda/CS6910_Assignment1/sweeps/1o5dqarx</a><br/>\n",
              "Run page: <a href=\"https://wandb.ai/vrunda/CS6910_Assignment1/runs/e1jhgnze\" target=\"_blank\">https://wandb.ai/vrunda/CS6910_Assignment1/runs/e1jhgnze</a><br/>\n",
              "                Run data is saved locally in <code>/content/wandb/run-20210314_230445-e1jhgnze</code><br/><br/>\n",
              "            "
            ],
            "text/plain": [
              "<IPython.core.display.HTML object>"
            ]
          },
          "metadata": {
            "tags": []
          }
        },
        {
          "output_type": "stream",
          "text": [
            "epoch===> 0\n",
            "   Train_loss==>  2.5175399158154406\n",
            "   Val_loss====>  2.5138388665179687\n",
            "\n",
            "   Train_acc==>  9.974074074074075\n",
            "   Val_acc=====>  10.233333333333333\n",
            "Final_accuracy==>   10.0\n",
            "Epoch==> 1\n"
          ],
          "name": "stdout"
        },
        {
          "output_type": "stream",
          "text": [
            "/usr/local/lib/python3.7/dist-packages/ipykernel_launcher.py:295: VisibleDeprecationWarning: Creating an ndarray from ragged nested sequences (which is a list-or-tuple of lists-or-tuples-or ndarrays with different lengths or shapes) is deprecated. If you meant to do this, you must specify 'dtype=object' when creating the ndarray\n"
          ],
          "name": "stderr"
        },
        {
          "output_type": "stream",
          "text": [
            "   Train_loss==>  0.45469262249565157\n",
            "   Val_loss====>  0.4865586330122323\n",
            "\n",
            "   Train_acc==>  84.08333333333333\n",
            "   Val_acc=====>  83.01666666666667\n",
            "Final_accuracy==>   82.19999999999999\n",
            "Epoch==> 2\n",
            "   Train_loss==>  0.41093457899335867\n",
            "   Val_loss====>  0.4425154116324822\n",
            "\n",
            "   Train_acc==>  85.44074074074074\n",
            "   Val_acc=====>  84.75\n",
            "Final_accuracy==>   83.67\n",
            "Epoch==> 3\n",
            "   Train_loss==>  0.388412262466465\n",
            "   Val_loss====>  0.4311694693689328\n",
            "\n",
            "   Train_acc==>  86.13148148148149\n",
            "   Val_acc=====>  85.11666666666666\n",
            "Final_accuracy==>   84.26\n",
            "Epoch==> 4\n",
            "   Train_loss==>  0.38028700802646215\n",
            "   Val_loss====>  0.4250355190430068\n",
            "\n",
            "   Train_acc==>  86.41111111111111\n",
            "   Val_acc=====>  85.46666666666667\n",
            "Final_accuracy==>   84.31\n",
            "Epoch==> 5\n"
          ],
          "name": "stdout"
        },
        {
          "output_type": "stream",
          "text": [
            "/usr/local/lib/python3.7/dist-packages/ipykernel_launcher.py:329: RuntimeWarning: overflow encountered in exp\n"
          ],
          "name": "stderr"
        },
        {
          "output_type": "stream",
          "text": [
            "   Train_loss==>  0.35505885841196694\n",
            "   Val_loss====>  0.4010866040221126\n",
            "\n",
            "   Train_acc==>  87.44444444444444\n",
            "   Val_acc=====>  86.53333333333333\n",
            "Final_accuracy==>   84.8\n",
            "Epoch==> 6\n"
          ],
          "name": "stdout"
        },
        {
          "output_type": "stream",
          "text": [
            "/usr/local/lib/python3.7/dist-packages/ipykernel_launcher.py:345: RuntimeWarning: overflow encountered in exp\n"
          ],
          "name": "stderr"
        },
        {
          "output_type": "stream",
          "text": [
            "   Train_loss==>  0.36026030274891596\n",
            "   Val_loss====>  0.4134050549562658\n",
            "\n",
            "   Train_acc==>  87.45925925925926\n",
            "   Val_acc=====>  86.21666666666667\n",
            "Final_accuracy==>   85.37\n",
            "Epoch==> 7\n",
            "   Train_loss==>  0.36176722744347745\n",
            "   Val_loss====>  0.41378063056376\n",
            "\n",
            "   Train_acc==>  86.96111111111111\n",
            "   Val_acc=====>  85.63333333333333\n",
            "Final_accuracy==>   84.63000000000001\n",
            "Epoch==> 8\n",
            "   Train_loss==>  0.35273834656465325\n",
            "   Val_loss====>  0.401685927486568\n",
            "\n",
            "   Train_acc==>  87.39074074074074\n",
            "   Val_acc=====>  86.1\n",
            "Final_accuracy==>   85.00999999999999\n",
            "Epoch==> 9\n",
            "   Train_loss==>  0.3360261987800783\n",
            "   Val_loss====>  0.39888084992266676\n",
            "\n",
            "   Train_acc==>  88.28888888888888\n",
            "   Val_acc=====>  86.6\n",
            "Final_accuracy==>   85.91\n",
            "Epoch==> 10\n",
            "   Train_loss==>  0.3326930013793322\n",
            "   Val_loss====>  0.4063565129126409\n",
            "\n",
            "   Train_acc==>  88.52037037037037\n",
            "   Val_acc=====>  86.78333333333333\n",
            "Final_accuracy==>   85.77\n"
          ],
          "name": "stdout"
        },
        {
          "output_type": "display_data",
          "data": {
            "text/html": [
              "<br/>Waiting for W&B process to finish, PID 1699<br/>Program ended successfully."
            ],
            "text/plain": [
              "<IPython.core.display.HTML object>"
            ]
          },
          "metadata": {
            "tags": []
          }
        },
        {
          "output_type": "display_data",
          "data": {
            "application/vnd.jupyter.widget-view+json": {
              "model_id": "c90f5b4db3f54d58abf2a76e7dbd6b26",
              "version_major": 2,
              "version_minor": 0
            },
            "text/plain": [
              "VBox(children=(Label(value=' 0.00MB of 0.00MB uploaded (0.00MB deduped)\\r'), FloatProgress(value=0.17830109335…"
            ]
          },
          "metadata": {
            "tags": []
          }
        },
        {
          "output_type": "display_data",
          "data": {
            "text/html": [
              "Find user logs for this run at: <code>/content/wandb/run-20210314_230445-e1jhgnze/logs/debug.log</code>"
            ],
            "text/plain": [
              "<IPython.core.display.HTML object>"
            ]
          },
          "metadata": {
            "tags": []
          }
        },
        {
          "output_type": "display_data",
          "data": {
            "text/html": [
              "Find internal logs for this run at: <code>/content/wandb/run-20210314_230445-e1jhgnze/logs/debug-internal.log</code>"
            ],
            "text/plain": [
              "<IPython.core.display.HTML object>"
            ]
          },
          "metadata": {
            "tags": []
          }
        },
        {
          "output_type": "display_data",
          "data": {
            "text/html": [
              "<h3>Run summary:</h3><br/><style>\n",
              "    table.wandb td:nth-child(1) { padding: 0 10px; text-align: right }\n",
              "    </style><table class=\"wandb\">\n",
              "<tr><td>epoch</td><td>10</td></tr><tr><td>accuracy</td><td>85.77</td></tr><tr><td>val_accuracy</td><td>86.78333</td></tr><tr><td>val_loss</td><td>0.40636</td></tr><tr><td>train_loss</td><td>0.33269</td></tr><tr><td>train_accuracy</td><td>88.52037</td></tr><tr><td>_runtime</td><td>4494</td></tr><tr><td>_timestamp</td><td>1615767579</td></tr><tr><td>_step</td><td>11</td></tr></table>"
            ],
            "text/plain": [
              "<IPython.core.display.HTML object>"
            ]
          },
          "metadata": {
            "tags": []
          }
        },
        {
          "output_type": "display_data",
          "data": {
            "text/html": [
              "<h3>Run history:</h3><br/><style>\n",
              "    table.wandb td:nth-child(1) { padding: 0 10px; text-align: right }\n",
              "    </style><table class=\"wandb\">\n",
              "<tr><td>epoch</td><td>▁▂▂▃▄▅▅▆▇▇█</td></tr><tr><td>accuracy</td><td>▁██████████</td></tr><tr><td>val_accuracy</td><td>▁██████████</td></tr><tr><td>val_loss</td><td>█▁▁▁▁▁▁▁▁▁▁</td></tr><tr><td>train_loss</td><td>█▁▁▁▁▁▁▁▁▁▁</td></tr><tr><td>train_accuracy</td><td>▁██████████</td></tr><tr><td>_runtime</td><td>▁▂▂▃▄▄▅▆▇▇██</td></tr><tr><td>_timestamp</td><td>▁▂▂▃▄▄▅▆▇▇██</td></tr><tr><td>_step</td><td>▁▂▂▃▄▄▅▅▆▇▇█</td></tr></table><br/>"
            ],
            "text/plain": [
              "<IPython.core.display.HTML object>"
            ]
          },
          "metadata": {
            "tags": []
          }
        },
        {
          "output_type": "display_data",
          "data": {
            "text/html": [
              "Synced 5 W&B file(s), 1 media file(s), 0 artifact file(s) and 0 other file(s)"
            ],
            "text/plain": [
              "<IPython.core.display.HTML object>"
            ]
          },
          "metadata": {
            "tags": []
          }
        },
        {
          "output_type": "display_data",
          "data": {
            "text/html": [
              "\n",
              "                    <br/>Synced <strong style=\"color:#cdcd00\">daily-sweep-4</strong>: <a href=\"https://wandb.ai/vrunda/CS6910_Assignment1/runs/e1jhgnze\" target=\"_blank\">https://wandb.ai/vrunda/CS6910_Assignment1/runs/e1jhgnze</a><br/>\n",
              "                "
            ],
            "text/plain": [
              "<IPython.core.display.HTML object>"
            ]
          },
          "metadata": {
            "tags": []
          }
        },
        {
          "output_type": "stream",
          "text": [
            "\u001b[34m\u001b[1mwandb\u001b[0m: Agent Starting Run: 58iry3ej with config:\n",
            "\u001b[34m\u001b[1mwandb\u001b[0m: \tNeurons: 64\n",
            "\u001b[34m\u001b[1mwandb\u001b[0m: \tNo_hidden_layer: 4\n",
            "\u001b[34m\u001b[1mwandb\u001b[0m: \tactivation_type: sigmoid\n",
            "\u001b[34m\u001b[1mwandb\u001b[0m: \tepochs: 10\n",
            "\u001b[34m\u001b[1mwandb\u001b[0m: \tlearning_rate: 0.0001\n",
            "\u001b[34m\u001b[1mwandb\u001b[0m: \tloss_optimizer_type: nag\n",
            "\u001b[34m\u001b[1mwandb\u001b[0m: \tmini_batch_size: 32\n",
            "\u001b[34m\u001b[1mwandb\u001b[0m: \tweight_decay: 0.5\n",
            "\u001b[34m\u001b[1mwandb\u001b[0m: \tweight_initialization: random\n",
            "\u001b[34m\u001b[1mwandb\u001b[0m: \u001b[33mWARNING\u001b[0m Ignored wandb.init() arg project when running a sweep\n"
          ],
          "name": "stderr"
        },
        {
          "output_type": "display_data",
          "data": {
            "text/html": [
              "\n",
              "                Tracking run with wandb version 0.10.22<br/>\n",
              "                Syncing run <strong style=\"color:#cdcd00\">decent-sweep-5</strong> to <a href=\"https://wandb.ai\" target=\"_blank\">Weights & Biases</a> <a href=\"https://docs.wandb.com/integrations/jupyter.html\" target=\"_blank\">(Documentation)</a>.<br/>\n",
              "                Project page: <a href=\"https://wandb.ai/vrunda/CS6910_Assignment1\" target=\"_blank\">https://wandb.ai/vrunda/CS6910_Assignment1</a><br/>\n",
              "                Sweep page: <a href=\"https://wandb.ai/vrunda/CS6910_Assignment1/sweeps/1o5dqarx\" target=\"_blank\">https://wandb.ai/vrunda/CS6910_Assignment1/sweeps/1o5dqarx</a><br/>\n",
              "Run page: <a href=\"https://wandb.ai/vrunda/CS6910_Assignment1/runs/58iry3ej\" target=\"_blank\">https://wandb.ai/vrunda/CS6910_Assignment1/runs/58iry3ej</a><br/>\n",
              "                Run data is saved locally in <code>/content/wandb/run-20210315_001949-58iry3ej</code><br/><br/>\n",
              "            "
            ],
            "text/plain": [
              "<IPython.core.display.HTML object>"
            ]
          },
          "metadata": {
            "tags": []
          }
        },
        {
          "output_type": "stream",
          "text": [
            "epoch===> 0\n",
            "   Train_loss==>  2.351160040667474\n",
            "   Val_loss====>  2.351490147169753\n",
            "\n",
            "   Train_acc==>  10.064814814814815\n",
            "   Val_acc=====>  9.416666666666666\n",
            "Final_accuracy==>   10.0\n",
            "Epoch==> 1\n"
          ],
          "name": "stdout"
        },
        {
          "output_type": "stream",
          "text": [
            "/usr/local/lib/python3.7/dist-packages/ipykernel_launcher.py:247: VisibleDeprecationWarning: Creating an ndarray from ragged nested sequences (which is a list-or-tuple of lists-or-tuples-or ndarrays with different lengths or shapes) is deprecated. If you meant to do this, you must specify 'dtype=object' when creating the ndarray\n",
            "/usr/local/lib/python3.7/dist-packages/ipykernel_launcher.py:254: VisibleDeprecationWarning: Creating an ndarray from ragged nested sequences (which is a list-or-tuple of lists-or-tuples-or ndarrays with different lengths or shapes) is deprecated. If you meant to do this, you must specify 'dtype=object' when creating the ndarray\n"
          ],
          "name": "stderr"
        },
        {
          "output_type": "stream",
          "text": [
            "   Train_loss==>  2.3049468183833537\n",
            "   Val_loss====>  2.3050067306497883\n",
            "\n",
            "   Train_acc==>  10.016666666666667\n",
            "   Val_acc=====>  9.85\n",
            "Final_accuracy==>   10.0\n",
            "Epoch==> 2\n",
            "   Train_loss==>  2.30259758099332\n",
            "   Val_loss====>  2.3026950321839537\n",
            "\n",
            "   Train_acc==>  10.016666666666667\n",
            "   Val_acc=====>  9.85\n",
            "Final_accuracy==>   10.0\n",
            "Epoch==> 3\n",
            "   Train_loss==>  2.295839858445098\n",
            "   Val_loss====>  2.295974318913439\n",
            "\n",
            "   Train_acc==>  10.016666666666667\n",
            "   Val_acc=====>  9.85\n",
            "Final_accuracy==>   10.0\n",
            "Epoch==> 4\n",
            "   Train_loss==>  2.0749866710611573\n",
            "   Val_loss====>  2.0756319386152655\n",
            "\n",
            "   Train_acc==>  20.22962962962963\n",
            "   Val_acc=====>  20.616666666666667\n",
            "Final_accuracy==>   20.51\n",
            "Epoch==> 5\n",
            "   Train_loss==>  1.6283923256059452\n",
            "   Val_loss====>  1.6258533225143703\n",
            "\n",
            "   Train_acc==>  34.87407407407407\n",
            "   Val_acc=====>  34.56666666666667\n",
            "Final_accuracy==>   34.96\n",
            "Epoch==> 6\n",
            "   Train_loss==>  1.5035921243884538\n",
            "   Val_loss====>  1.5001314676170965\n",
            "\n",
            "   Train_acc==>  39.51296296296296\n",
            "   Val_acc=====>  39.5\n",
            "Final_accuracy==>   39.69\n",
            "Epoch==> 7\n",
            "   Train_loss==>  1.3169822374351017\n",
            "   Val_loss====>  1.3163593309267554\n",
            "\n",
            "   Train_acc==>  45.12222222222223\n",
            "   Val_acc=====>  44.85\n",
            "Final_accuracy==>   44.58\n",
            "Epoch==> 8\n",
            "   Train_loss==>  1.2178995669662087\n",
            "   Val_loss====>  1.2182321504640807\n",
            "\n",
            "   Train_acc==>  56.925925925925924\n",
            "   Val_acc=====>  57.31666666666667\n",
            "Final_accuracy==>   56.120000000000005\n",
            "Epoch==> 9\n",
            "   Train_loss==>  1.138811267931813\n",
            "   Val_loss====>  1.1405333345993303\n",
            "\n",
            "   Train_acc==>  61.15185185185186\n",
            "   Val_acc=====>  61.266666666666666\n",
            "Final_accuracy==>   60.099999999999994\n",
            "Epoch==> 10\n",
            "   Train_loss==>  1.0677390057813099\n",
            "   Val_loss====>  1.07092371233902\n",
            "\n",
            "   Train_acc==>  65.62407407407407\n",
            "   Val_acc=====>  66.11666666666667\n",
            "Final_accuracy==>   64.60000000000001\n"
          ],
          "name": "stdout"
        },
        {
          "output_type": "display_data",
          "data": {
            "text/html": [
              "<br/>Waiting for W&B process to finish, PID 1731<br/>Program ended successfully."
            ],
            "text/plain": [
              "<IPython.core.display.HTML object>"
            ]
          },
          "metadata": {
            "tags": []
          }
        },
        {
          "output_type": "display_data",
          "data": {
            "application/vnd.jupyter.widget-view+json": {
              "model_id": "76653a6ccf484068b017e55db13fde62",
              "version_major": 2,
              "version_minor": 0
            },
            "text/plain": [
              "VBox(children=(Label(value=' 0.00MB of 0.00MB uploaded (0.00MB deduped)\\r'), FloatProgress(value=0.17800167926…"
            ]
          },
          "metadata": {
            "tags": []
          }
        },
        {
          "output_type": "display_data",
          "data": {
            "text/html": [
              "Find user logs for this run at: <code>/content/wandb/run-20210315_001949-58iry3ej/logs/debug.log</code>"
            ],
            "text/plain": [
              "<IPython.core.display.HTML object>"
            ]
          },
          "metadata": {
            "tags": []
          }
        },
        {
          "output_type": "display_data",
          "data": {
            "text/html": [
              "Find internal logs for this run at: <code>/content/wandb/run-20210315_001949-58iry3ej/logs/debug-internal.log</code>"
            ],
            "text/plain": [
              "<IPython.core.display.HTML object>"
            ]
          },
          "metadata": {
            "tags": []
          }
        },
        {
          "output_type": "display_data",
          "data": {
            "text/html": [
              "<h3>Run summary:</h3><br/><style>\n",
              "    table.wandb td:nth-child(1) { padding: 0 10px; text-align: right }\n",
              "    </style><table class=\"wandb\">\n",
              "<tr><td>epoch</td><td>10</td></tr><tr><td>accuracy</td><td>64.6</td></tr><tr><td>val_accuracy</td><td>66.11667</td></tr><tr><td>val_loss</td><td>1.07092</td></tr><tr><td>train_loss</td><td>1.06774</td></tr><tr><td>train_accuracy</td><td>65.62407</td></tr><tr><td>_runtime</td><td>1226</td></tr><tr><td>_timestamp</td><td>1615768815</td></tr><tr><td>_step</td><td>11</td></tr></table>"
            ],
            "text/plain": [
              "<IPython.core.display.HTML object>"
            ]
          },
          "metadata": {
            "tags": []
          }
        },
        {
          "output_type": "display_data",
          "data": {
            "text/html": [
              "<h3>Run history:</h3><br/><style>\n",
              "    table.wandb td:nth-child(1) { padding: 0 10px; text-align: right }\n",
              "    </style><table class=\"wandb\">\n",
              "<tr><td>epoch</td><td>▁▂▂▃▄▅▅▆▇▇█</td></tr><tr><td>accuracy</td><td>▁▁▁▁▂▄▅▅▇▇█</td></tr><tr><td>val_accuracy</td><td>▁▁▁▁▂▄▅▅▇▇█</td></tr><tr><td>val_loss</td><td>████▆▄▃▂▂▁▁</td></tr><tr><td>train_loss</td><td>████▆▄▃▂▂▁▁</td></tr><tr><td>train_accuracy</td><td>▁▁▁▁▂▄▅▅▇▇█</td></tr><tr><td>_runtime</td><td>▁▂▂▃▄▅▅▆▇▇██</td></tr><tr><td>_timestamp</td><td>▁▂▂▃▄▅▅▆▇▇██</td></tr><tr><td>_step</td><td>▁▂▂▃▄▄▅▅▆▇▇█</td></tr></table><br/>"
            ],
            "text/plain": [
              "<IPython.core.display.HTML object>"
            ]
          },
          "metadata": {
            "tags": []
          }
        },
        {
          "output_type": "display_data",
          "data": {
            "text/html": [
              "Synced 5 W&B file(s), 1 media file(s), 0 artifact file(s) and 0 other file(s)"
            ],
            "text/plain": [
              "<IPython.core.display.HTML object>"
            ]
          },
          "metadata": {
            "tags": []
          }
        },
        {
          "output_type": "display_data",
          "data": {
            "text/html": [
              "\n",
              "                    <br/>Synced <strong style=\"color:#cdcd00\">decent-sweep-5</strong>: <a href=\"https://wandb.ai/vrunda/CS6910_Assignment1/runs/58iry3ej\" target=\"_blank\">https://wandb.ai/vrunda/CS6910_Assignment1/runs/58iry3ej</a><br/>\n",
              "                "
            ],
            "text/plain": [
              "<IPython.core.display.HTML object>"
            ]
          },
          "metadata": {
            "tags": []
          }
        },
        {
          "output_type": "stream",
          "text": [
            "\u001b[34m\u001b[1mwandb\u001b[0m: Agent Starting Run: sov7qzv9 with config:\n",
            "\u001b[34m\u001b[1mwandb\u001b[0m: \tNeurons: 128\n",
            "\u001b[34m\u001b[1mwandb\u001b[0m: \tNo_hidden_layer: 5\n",
            "\u001b[34m\u001b[1mwandb\u001b[0m: \tactivation_type: ReLU\n",
            "\u001b[34m\u001b[1mwandb\u001b[0m: \tepochs: 5\n",
            "\u001b[34m\u001b[1mwandb\u001b[0m: \tlearning_rate: 0.0001\n",
            "\u001b[34m\u001b[1mwandb\u001b[0m: \tloss_optimizer_type: adam\n",
            "\u001b[34m\u001b[1mwandb\u001b[0m: \tmini_batch_size: 16\n",
            "\u001b[34m\u001b[1mwandb\u001b[0m: \tweight_decay: 0.5\n",
            "\u001b[34m\u001b[1mwandb\u001b[0m: \tweight_initialization: random\n",
            "\u001b[34m\u001b[1mwandb\u001b[0m: \u001b[33mWARNING\u001b[0m Ignored wandb.init() arg project when running a sweep\n"
          ],
          "name": "stderr"
        },
        {
          "output_type": "display_data",
          "data": {
            "text/html": [
              "\n",
              "                Tracking run with wandb version 0.10.22<br/>\n",
              "                Syncing run <strong style=\"color:#cdcd00\">lyric-sweep-6</strong> to <a href=\"https://wandb.ai\" target=\"_blank\">Weights & Biases</a> <a href=\"https://docs.wandb.com/integrations/jupyter.html\" target=\"_blank\">(Documentation)</a>.<br/>\n",
              "                Project page: <a href=\"https://wandb.ai/vrunda/CS6910_Assignment1\" target=\"_blank\">https://wandb.ai/vrunda/CS6910_Assignment1</a><br/>\n",
              "                Sweep page: <a href=\"https://wandb.ai/vrunda/CS6910_Assignment1/sweeps/1o5dqarx\" target=\"_blank\">https://wandb.ai/vrunda/CS6910_Assignment1/sweeps/1o5dqarx</a><br/>\n",
              "Run page: <a href=\"https://wandb.ai/vrunda/CS6910_Assignment1/runs/sov7qzv9\" target=\"_blank\">https://wandb.ai/vrunda/CS6910_Assignment1/runs/sov7qzv9</a><br/>\n",
              "                Run data is saved locally in <code>/content/wandb/run-20210315_004025-sov7qzv9</code><br/><br/>\n",
              "            "
            ],
            "text/plain": [
              "<IPython.core.display.HTML object>"
            ]
          },
          "metadata": {
            "tags": []
          }
        },
        {
          "output_type": "stream",
          "text": [
            "epoch===> 0\n",
            "   Train_loss==>  2.598406995521838\n",
            "   Val_loss====>  2.5695534386665906\n",
            "\n",
            "   Train_acc==>  14.796296296296296\n",
            "   Val_acc=====>  15.016666666666667\n",
            "Final_accuracy==>   14.81\n",
            "Epoch==> 1\n",
            "   Train_loss==>  0.3885922777615289\n",
            "   Val_loss====>  0.4202568723654335\n",
            "\n",
            "   Train_acc==>  85.92962962962963\n",
            "   Val_acc=====>  84.46666666666667\n",
            "Final_accuracy==>   84.17999999999999\n",
            "Epoch==> 2\n",
            "   Train_loss==>  0.340618288723779\n",
            "   Val_loss====>  0.37690637978792413\n",
            "\n",
            "   Train_acc==>  87.61851851851851\n",
            "   Val_acc=====>  86.43333333333332\n",
            "Final_accuracy==>   85.57000000000001\n",
            "Epoch==> 3\n",
            "   Train_loss==>  0.31692512396220185\n",
            "   Val_loss====>  0.35716592260693564\n",
            "\n",
            "   Train_acc==>  88.48333333333333\n",
            "   Val_acc=====>  87.26666666666667\n",
            "Final_accuracy==>   86.31\n",
            "Epoch==> 4\n",
            "   Train_loss==>  0.3002937763234569\n",
            "   Val_loss====>  0.34483478673687123\n",
            "\n",
            "   Train_acc==>  89.14074074074074\n",
            "   Val_acc=====>  87.53333333333333\n",
            "Final_accuracy==>   86.74\n",
            "Epoch==> 5\n",
            "   Train_loss==>  0.28740660832991505\n",
            "   Val_loss====>  0.3370433098090666\n",
            "\n",
            "   Train_acc==>  89.64259259259259\n",
            "   Val_acc=====>  87.51666666666667\n",
            "Final_accuracy==>   86.92\n"
          ],
          "name": "stdout"
        },
        {
          "output_type": "display_data",
          "data": {
            "text/html": [
              "<br/>Waiting for W&B process to finish, PID 1763<br/>Program ended successfully."
            ],
            "text/plain": [
              "<IPython.core.display.HTML object>"
            ]
          },
          "metadata": {
            "tags": []
          }
        },
        {
          "output_type": "display_data",
          "data": {
            "application/vnd.jupyter.widget-view+json": {
              "model_id": "71cfa9021ae844b1a43d831ce6d99c74",
              "version_major": 2,
              "version_minor": 0
            },
            "text/plain": [
              "VBox(children=(Label(value=' 0.00MB of 0.00MB uploaded (0.00MB deduped)\\r'), FloatProgress(value=1.0, max=1.0)…"
            ]
          },
          "metadata": {
            "tags": []
          }
        },
        {
          "output_type": "display_data",
          "data": {
            "text/html": [
              "Find user logs for this run at: <code>/content/wandb/run-20210315_004025-sov7qzv9/logs/debug.log</code>"
            ],
            "text/plain": [
              "<IPython.core.display.HTML object>"
            ]
          },
          "metadata": {
            "tags": []
          }
        },
        {
          "output_type": "display_data",
          "data": {
            "text/html": [
              "Find internal logs for this run at: <code>/content/wandb/run-20210315_004025-sov7qzv9/logs/debug-internal.log</code>"
            ],
            "text/plain": [
              "<IPython.core.display.HTML object>"
            ]
          },
          "metadata": {
            "tags": []
          }
        },
        {
          "output_type": "display_data",
          "data": {
            "text/html": [
              "<h3>Run summary:</h3><br/><style>\n",
              "    table.wandb td:nth-child(1) { padding: 0 10px; text-align: right }\n",
              "    </style><table class=\"wandb\">\n",
              "<tr><td>epoch</td><td>5</td></tr><tr><td>accuracy</td><td>86.92</td></tr><tr><td>val_accuracy</td><td>87.51667</td></tr><tr><td>val_loss</td><td>0.33704</td></tr><tr><td>train_loss</td><td>0.28741</td></tr><tr><td>train_accuracy</td><td>89.64259</td></tr><tr><td>_runtime</td><td>678</td></tr><tr><td>_timestamp</td><td>1615769503</td></tr><tr><td>_step</td><td>6</td></tr></table>"
            ],
            "text/plain": [
              "<IPython.core.display.HTML object>"
            ]
          },
          "metadata": {
            "tags": []
          }
        },
        {
          "output_type": "display_data",
          "data": {
            "text/html": [
              "<h3>Run history:</h3><br/><style>\n",
              "    table.wandb td:nth-child(1) { padding: 0 10px; text-align: right }\n",
              "    </style><table class=\"wandb\">\n",
              "<tr><td>epoch</td><td>▁▂▄▅▇█</td></tr><tr><td>accuracy</td><td>▁█████</td></tr><tr><td>val_accuracy</td><td>▁█████</td></tr><tr><td>val_loss</td><td>█▁▁▁▁▁</td></tr><tr><td>train_loss</td><td>█▁▁▁▁▁</td></tr><tr><td>train_accuracy</td><td>▁█████</td></tr><tr><td>_runtime</td><td>▁▂▄▅▇██</td></tr><tr><td>_timestamp</td><td>▁▂▄▅▇██</td></tr><tr><td>_step</td><td>▁▂▃▅▆▇█</td></tr></table><br/>"
            ],
            "text/plain": [
              "<IPython.core.display.HTML object>"
            ]
          },
          "metadata": {
            "tags": []
          }
        },
        {
          "output_type": "display_data",
          "data": {
            "text/html": [
              "Synced 5 W&B file(s), 1 media file(s), 0 artifact file(s) and 0 other file(s)"
            ],
            "text/plain": [
              "<IPython.core.display.HTML object>"
            ]
          },
          "metadata": {
            "tags": []
          }
        },
        {
          "output_type": "display_data",
          "data": {
            "text/html": [
              "\n",
              "                    <br/>Synced <strong style=\"color:#cdcd00\">lyric-sweep-6</strong>: <a href=\"https://wandb.ai/vrunda/CS6910_Assignment1/runs/sov7qzv9\" target=\"_blank\">https://wandb.ai/vrunda/CS6910_Assignment1/runs/sov7qzv9</a><br/>\n",
              "                "
            ],
            "text/plain": [
              "<IPython.core.display.HTML object>"
            ]
          },
          "metadata": {
            "tags": []
          }
        },
        {
          "output_type": "stream",
          "text": [
            "\u001b[34m\u001b[1mwandb\u001b[0m: Agent Starting Run: svbzdyir with config:\n",
            "\u001b[34m\u001b[1mwandb\u001b[0m: \tNeurons: 64\n",
            "\u001b[34m\u001b[1mwandb\u001b[0m: \tNo_hidden_layer: 3\n",
            "\u001b[34m\u001b[1mwandb\u001b[0m: \tactivation_type: sigmoid\n",
            "\u001b[34m\u001b[1mwandb\u001b[0m: \tepochs: 10\n",
            "\u001b[34m\u001b[1mwandb\u001b[0m: \tlearning_rate: 0.0001\n",
            "\u001b[34m\u001b[1mwandb\u001b[0m: \tloss_optimizer_type: nadam\n",
            "\u001b[34m\u001b[1mwandb\u001b[0m: \tmini_batch_size: 1\n",
            "\u001b[34m\u001b[1mwandb\u001b[0m: \tweight_decay: 0\n",
            "\u001b[34m\u001b[1mwandb\u001b[0m: \tweight_initialization: random\n",
            "\u001b[34m\u001b[1mwandb\u001b[0m: \u001b[33mWARNING\u001b[0m Ignored wandb.init() arg project when running a sweep\n"
          ],
          "name": "stderr"
        },
        {
          "output_type": "display_data",
          "data": {
            "text/html": [
              "\n",
              "                Tracking run with wandb version 0.10.22<br/>\n",
              "                Syncing run <strong style=\"color:#cdcd00\">fragrant-sweep-7</strong> to <a href=\"https://wandb.ai\" target=\"_blank\">Weights & Biases</a> <a href=\"https://docs.wandb.com/integrations/jupyter.html\" target=\"_blank\">(Documentation)</a>.<br/>\n",
              "                Project page: <a href=\"https://wandb.ai/vrunda/CS6910_Assignment1\" target=\"_blank\">https://wandb.ai/vrunda/CS6910_Assignment1</a><br/>\n",
              "                Sweep page: <a href=\"https://wandb.ai/vrunda/CS6910_Assignment1/sweeps/1o5dqarx\" target=\"_blank\">https://wandb.ai/vrunda/CS6910_Assignment1/sweeps/1o5dqarx</a><br/>\n",
              "Run page: <a href=\"https://wandb.ai/vrunda/CS6910_Assignment1/runs/svbzdyir\" target=\"_blank\">https://wandb.ai/vrunda/CS6910_Assignment1/runs/svbzdyir</a><br/>\n",
              "                Run data is saved locally in <code>/content/wandb/run-20210315_005153-svbzdyir</code><br/><br/>\n",
              "            "
            ],
            "text/plain": [
              "<IPython.core.display.HTML object>"
            ]
          },
          "metadata": {
            "tags": []
          }
        },
        {
          "output_type": "stream",
          "text": [
            "epoch===> 0\n",
            "   Train_loss==>  2.3428742729759438\n",
            "   Val_loss====>  2.3467581082918594\n",
            "\n",
            "   Train_acc==>  10.033333333333333\n",
            "   Val_acc=====>  9.700000000000001\n",
            "Final_accuracy==>   10.0\n",
            "Epoch==> 1\n",
            "   Train_loss==>  0.5051818647162823\n",
            "   Val_loss====>  0.5173607748092464\n",
            "\n",
            "   Train_acc==>  80.96111111111111\n",
            "   Val_acc=====>  80.38333333333333\n",
            "Final_accuracy==>   79.69000000000001\n",
            "Epoch==> 2\n",
            "   Train_loss==>  0.39803384969747735\n",
            "   Val_loss====>  0.4254517446135861\n",
            "\n",
            "   Train_acc==>  86.31666666666666\n",
            "   Val_acc=====>  85.5\n",
            "Final_accuracy==>   84.19\n",
            "Epoch==> 3\n",
            "   Train_loss==>  0.3536716874428675\n",
            "   Val_loss====>  0.39324480545749263\n",
            "\n",
            "   Train_acc==>  87.62777777777778\n",
            "   Val_acc=====>  86.18333333333334\n",
            "Final_accuracy==>   84.89\n",
            "Epoch==> 4\n",
            "   Train_loss==>  0.327224540148767\n",
            "   Val_loss====>  0.3767682413285749\n",
            "\n",
            "   Train_acc==>  88.55\n",
            "   Val_acc=====>  86.86666666666667\n",
            "Final_accuracy==>   85.52\n",
            "Epoch==> 5\n",
            "   Train_loss==>  0.30804170392346614\n",
            "   Val_loss====>  0.3686575209792069\n",
            "\n",
            "   Train_acc==>  89.10925925925926\n",
            "   Val_acc=====>  87.23333333333333\n",
            "Final_accuracy==>   85.82\n",
            "Epoch==> 6\n",
            "   Train_loss==>  0.2920503540907788\n",
            "   Val_loss====>  0.36411964813416203\n",
            "\n",
            "   Train_acc==>  89.67222222222222\n",
            "   Val_acc=====>  87.41666666666667\n",
            "Final_accuracy==>   86.15\n",
            "Epoch==> 7\n",
            "   Train_loss==>  0.27902574668736363\n",
            "   Val_loss====>  0.3632502784297949\n",
            "\n",
            "   Train_acc==>  90.14814814814814\n",
            "   Val_acc=====>  87.56666666666668\n",
            "Final_accuracy==>   86.24000000000001\n",
            "Epoch==> 8\n",
            "   Train_loss==>  0.26704885612044044\n",
            "   Val_loss====>  0.36308611798572676\n",
            "\n",
            "   Train_acc==>  90.58518518518518\n",
            "   Val_acc=====>  87.46666666666667\n",
            "Final_accuracy==>   86.49\n",
            "Epoch==> 9\n",
            "   Train_loss==>  0.2562502487890194\n",
            "   Val_loss====>  0.3644680255617148\n",
            "\n",
            "   Train_acc==>  90.97037037037038\n",
            "   Val_acc=====>  87.56666666666668\n",
            "Final_accuracy==>   86.46000000000001\n",
            "Epoch==> 10\n",
            "   Train_loss==>  0.24626407565817973\n",
            "   Val_loss====>  0.3670712683993335\n",
            "\n",
            "   Train_acc==>  91.3425925925926\n",
            "   Val_acc=====>  87.78333333333333\n",
            "Final_accuracy==>   86.69\n"
          ],
          "name": "stdout"
        },
        {
          "output_type": "display_data",
          "data": {
            "text/html": [
              "<br/>Waiting for W&B process to finish, PID 1795<br/>Program ended successfully."
            ],
            "text/plain": [
              "<IPython.core.display.HTML object>"
            ]
          },
          "metadata": {
            "tags": []
          }
        },
        {
          "output_type": "display_data",
          "data": {
            "application/vnd.jupyter.widget-view+json": {
              "model_id": "299a74a19629419899a5f4c1ee6ea0f3",
              "version_major": 2,
              "version_minor": 0
            },
            "text/plain": [
              "VBox(children=(Label(value=' 0.00MB of 0.00MB uploaded (0.00MB deduped)\\r'), FloatProgress(value=0.17820117680…"
            ]
          },
          "metadata": {
            "tags": []
          }
        },
        {
          "output_type": "display_data",
          "data": {
            "text/html": [
              "Find user logs for this run at: <code>/content/wandb/run-20210315_005153-svbzdyir/logs/debug.log</code>"
            ],
            "text/plain": [
              "<IPython.core.display.HTML object>"
            ]
          },
          "metadata": {
            "tags": []
          }
        },
        {
          "output_type": "display_data",
          "data": {
            "text/html": [
              "Find internal logs for this run at: <code>/content/wandb/run-20210315_005153-svbzdyir/logs/debug-internal.log</code>"
            ],
            "text/plain": [
              "<IPython.core.display.HTML object>"
            ]
          },
          "metadata": {
            "tags": []
          }
        },
        {
          "output_type": "display_data",
          "data": {
            "text/html": [
              "<h3>Run summary:</h3><br/><style>\n",
              "    table.wandb td:nth-child(1) { padding: 0 10px; text-align: right }\n",
              "    </style><table class=\"wandb\">\n",
              "<tr><td>epoch</td><td>10</td></tr><tr><td>accuracy</td><td>86.69</td></tr><tr><td>val_accuracy</td><td>87.78333</td></tr><tr><td>val_loss</td><td>0.36707</td></tr><tr><td>train_loss</td><td>0.24626</td></tr><tr><td>train_accuracy</td><td>91.34259</td></tr><tr><td>_runtime</td><td>2245</td></tr><tr><td>_timestamp</td><td>1615771758</td></tr><tr><td>_step</td><td>11</td></tr></table>"
            ],
            "text/plain": [
              "<IPython.core.display.HTML object>"
            ]
          },
          "metadata": {
            "tags": []
          }
        },
        {
          "output_type": "display_data",
          "data": {
            "text/html": [
              "<h3>Run history:</h3><br/><style>\n",
              "    table.wandb td:nth-child(1) { padding: 0 10px; text-align: right }\n",
              "    </style><table class=\"wandb\">\n",
              "<tr><td>epoch</td><td>▁▂▂▃▄▅▅▆▇▇█</td></tr><tr><td>accuracy</td><td>▁▇█████████</td></tr><tr><td>val_accuracy</td><td>▁▇█████████</td></tr><tr><td>val_loss</td><td>█▂▁▁▁▁▁▁▁▁▁</td></tr><tr><td>train_loss</td><td>█▂▂▁▁▁▁▁▁▁▁</td></tr><tr><td>train_accuracy</td><td>▁▇█████████</td></tr><tr><td>_runtime</td><td>▁▂▂▃▄▄▅▆▇▇██</td></tr><tr><td>_timestamp</td><td>▁▂▂▃▄▄▅▆▇▇██</td></tr><tr><td>_step</td><td>▁▂▂▃▄▄▅▅▆▇▇█</td></tr></table><br/>"
            ],
            "text/plain": [
              "<IPython.core.display.HTML object>"
            ]
          },
          "metadata": {
            "tags": []
          }
        },
        {
          "output_type": "display_data",
          "data": {
            "text/html": [
              "Synced 5 W&B file(s), 1 media file(s), 0 artifact file(s) and 0 other file(s)"
            ],
            "text/plain": [
              "<IPython.core.display.HTML object>"
            ]
          },
          "metadata": {
            "tags": []
          }
        },
        {
          "output_type": "display_data",
          "data": {
            "text/html": [
              "\n",
              "                    <br/>Synced <strong style=\"color:#cdcd00\">fragrant-sweep-7</strong>: <a href=\"https://wandb.ai/vrunda/CS6910_Assignment1/runs/svbzdyir\" target=\"_blank\">https://wandb.ai/vrunda/CS6910_Assignment1/runs/svbzdyir</a><br/>\n",
              "                "
            ],
            "text/plain": [
              "<IPython.core.display.HTML object>"
            ]
          },
          "metadata": {
            "tags": []
          }
        },
        {
          "output_type": "stream",
          "text": [
            "\u001b[34m\u001b[1mwandb\u001b[0m: Agent Starting Run: bss95o0w with config:\n",
            "\u001b[34m\u001b[1mwandb\u001b[0m: \tNeurons: 32\n",
            "\u001b[34m\u001b[1mwandb\u001b[0m: \tNo_hidden_layer: 5\n",
            "\u001b[34m\u001b[1mwandb\u001b[0m: \tactivation_type: sigmoid\n",
            "\u001b[34m\u001b[1mwandb\u001b[0m: \tepochs: 5\n",
            "\u001b[34m\u001b[1mwandb\u001b[0m: \tlearning_rate: 0.0001\n",
            "\u001b[34m\u001b[1mwandb\u001b[0m: \tloss_optimizer_type: rmsprop\n",
            "\u001b[34m\u001b[1mwandb\u001b[0m: \tmini_batch_size: 16\n",
            "\u001b[34m\u001b[1mwandb\u001b[0m: \tweight_decay: 0.5\n",
            "\u001b[34m\u001b[1mwandb\u001b[0m: \tweight_initialization: xavier\n",
            "\u001b[34m\u001b[1mwandb\u001b[0m: \u001b[33mWARNING\u001b[0m Ignored wandb.init() arg project when running a sweep\n"
          ],
          "name": "stderr"
        },
        {
          "output_type": "display_data",
          "data": {
            "text/html": [
              "\n",
              "                Tracking run with wandb version 0.10.22<br/>\n",
              "                Syncing run <strong style=\"color:#cdcd00\">glorious-sweep-8</strong> to <a href=\"https://wandb.ai\" target=\"_blank\">Weights & Biases</a> <a href=\"https://docs.wandb.com/integrations/jupyter.html\" target=\"_blank\">(Documentation)</a>.<br/>\n",
              "                Project page: <a href=\"https://wandb.ai/vrunda/CS6910_Assignment1\" target=\"_blank\">https://wandb.ai/vrunda/CS6910_Assignment1</a><br/>\n",
              "                Sweep page: <a href=\"https://wandb.ai/vrunda/CS6910_Assignment1/sweeps/1o5dqarx\" target=\"_blank\">https://wandb.ai/vrunda/CS6910_Assignment1/sweeps/1o5dqarx</a><br/>\n",
              "Run page: <a href=\"https://wandb.ai/vrunda/CS6910_Assignment1/runs/bss95o0w\" target=\"_blank\">https://wandb.ai/vrunda/CS6910_Assignment1/runs/bss95o0w</a><br/>\n",
              "                Run data is saved locally in <code>/content/wandb/run-20210315_012928-bss95o0w</code><br/><br/>\n",
              "            "
            ],
            "text/plain": [
              "<IPython.core.display.HTML object>"
            ]
          },
          "metadata": {
            "tags": []
          }
        },
        {
          "output_type": "stream",
          "text": [
            "epoch===> 0\n",
            "   Train_loss==>  2.4362116979776394\n",
            "   Val_loss====>  2.4458849285922373\n",
            "\n",
            "   Train_acc==>  9.994444444444445\n",
            "   Val_acc=====>  10.05\n",
            "Final_accuracy==>   10.0\n",
            "Epoch==> 1\n"
          ],
          "name": "stdout"
        },
        {
          "output_type": "stream",
          "text": [
            "/usr/local/lib/python3.7/dist-packages/ipykernel_launcher.py:276: VisibleDeprecationWarning: Creating an ndarray from ragged nested sequences (which is a list-or-tuple of lists-or-tuples-or ndarrays with different lengths or shapes) is deprecated. If you meant to do this, you must specify 'dtype=object' when creating the ndarray\n"
          ],
          "name": "stderr"
        },
        {
          "output_type": "stream",
          "text": [
            "   Train_loss==>  1.9933861705665812\n",
            "   Val_loss====>  1.993274763837299\n",
            "\n",
            "   Train_acc==>  23.412962962962965\n",
            "   Val_acc=====>  23.366666666666667\n",
            "Final_accuracy==>   23.1\n",
            "Epoch==> 2\n",
            "   Train_loss==>  1.5708271902773772\n",
            "   Val_loss====>  1.5741752682526058\n",
            "\n",
            "   Train_acc==>  29.94074074074074\n",
            "   Val_acc=====>  30.06666666666667\n",
            "Final_accuracy==>   30.11\n",
            "Epoch==> 3\n",
            "   Train_loss==>  1.4355749961488706\n",
            "   Val_loss====>  1.4413321792266398\n",
            "\n",
            "   Train_acc==>  36.75185185185185\n",
            "   Val_acc=====>  36.75\n",
            "Final_accuracy==>   36.370000000000005\n",
            "Epoch==> 4\n",
            "   Train_loss==>  1.3742577972922392\n",
            "   Val_loss====>  1.3794181080922878\n",
            "\n",
            "   Train_acc==>  44.98518518518518\n",
            "   Val_acc=====>  45.016666666666666\n",
            "Final_accuracy==>   44.690000000000005\n",
            "Epoch==> 5\n",
            "   Train_loss==>  1.3061559553863527\n",
            "   Val_loss====>  1.3090438303250367\n",
            "\n",
            "   Train_acc==>  53.00185185185185\n",
            "   Val_acc=====>  53.03333333333333\n",
            "Final_accuracy==>   52.410000000000004\n"
          ],
          "name": "stdout"
        },
        {
          "output_type": "display_data",
          "data": {
            "text/html": [
              "<br/>Waiting for W&B process to finish, PID 1827<br/>Program ended successfully."
            ],
            "text/plain": [
              "<IPython.core.display.HTML object>"
            ]
          },
          "metadata": {
            "tags": []
          }
        },
        {
          "output_type": "display_data",
          "data": {
            "application/vnd.jupyter.widget-view+json": {
              "model_id": "64a362ee8bb64a4cb3389f89c918845a",
              "version_major": 2,
              "version_minor": 0
            },
            "text/plain": [
              "VBox(children=(Label(value=' 0.00MB of 0.00MB uploaded (0.00MB deduped)\\r'), FloatProgress(value=1.0, max=1.0)…"
            ]
          },
          "metadata": {
            "tags": []
          }
        },
        {
          "output_type": "display_data",
          "data": {
            "text/html": [
              "Find user logs for this run at: <code>/content/wandb/run-20210315_012928-bss95o0w/logs/debug.log</code>"
            ],
            "text/plain": [
              "<IPython.core.display.HTML object>"
            ]
          },
          "metadata": {
            "tags": []
          }
        },
        {
          "output_type": "display_data",
          "data": {
            "text/html": [
              "Find internal logs for this run at: <code>/content/wandb/run-20210315_012928-bss95o0w/logs/debug-internal.log</code>"
            ],
            "text/plain": [
              "<IPython.core.display.HTML object>"
            ]
          },
          "metadata": {
            "tags": []
          }
        },
        {
          "output_type": "display_data",
          "data": {
            "text/html": [
              "<h3>Run summary:</h3><br/><style>\n",
              "    table.wandb td:nth-child(1) { padding: 0 10px; text-align: right }\n",
              "    </style><table class=\"wandb\">\n",
              "<tr><td>epoch</td><td>5</td></tr><tr><td>accuracy</td><td>52.41</td></tr><tr><td>val_accuracy</td><td>53.03333</td></tr><tr><td>val_loss</td><td>1.30904</td></tr><tr><td>train_loss</td><td>1.30616</td></tr><tr><td>train_accuracy</td><td>53.00185</td></tr><tr><td>_runtime</td><td>373</td></tr><tr><td>_timestamp</td><td>1615772141</td></tr><tr><td>_step</td><td>6</td></tr></table>"
            ],
            "text/plain": [
              "<IPython.core.display.HTML object>"
            ]
          },
          "metadata": {
            "tags": []
          }
        },
        {
          "output_type": "display_data",
          "data": {
            "text/html": [
              "<h3>Run history:</h3><br/><style>\n",
              "    table.wandb td:nth-child(1) { padding: 0 10px; text-align: right }\n",
              "    </style><table class=\"wandb\">\n",
              "<tr><td>epoch</td><td>▁▂▄▅▇█</td></tr><tr><td>accuracy</td><td>▁▃▄▅▇█</td></tr><tr><td>val_accuracy</td><td>▁▃▄▅▇█</td></tr><tr><td>val_loss</td><td>█▅▃▂▁▁</td></tr><tr><td>train_loss</td><td>█▅▃▂▁▁</td></tr><tr><td>train_accuracy</td><td>▁▃▄▅▇█</td></tr><tr><td>_runtime</td><td>▁▂▄▅▇██</td></tr><tr><td>_timestamp</td><td>▁▂▄▅▇██</td></tr><tr><td>_step</td><td>▁▂▃▅▆▇█</td></tr></table><br/>"
            ],
            "text/plain": [
              "<IPython.core.display.HTML object>"
            ]
          },
          "metadata": {
            "tags": []
          }
        },
        {
          "output_type": "display_data",
          "data": {
            "text/html": [
              "Synced 5 W&B file(s), 1 media file(s), 0 artifact file(s) and 0 other file(s)"
            ],
            "text/plain": [
              "<IPython.core.display.HTML object>"
            ]
          },
          "metadata": {
            "tags": []
          }
        },
        {
          "output_type": "display_data",
          "data": {
            "text/html": [
              "\n",
              "                    <br/>Synced <strong style=\"color:#cdcd00\">glorious-sweep-8</strong>: <a href=\"https://wandb.ai/vrunda/CS6910_Assignment1/runs/bss95o0w\" target=\"_blank\">https://wandb.ai/vrunda/CS6910_Assignment1/runs/bss95o0w</a><br/>\n",
              "                "
            ],
            "text/plain": [
              "<IPython.core.display.HTML object>"
            ]
          },
          "metadata": {
            "tags": []
          }
        },
        {
          "output_type": "stream",
          "text": [
            "\u001b[34m\u001b[1mwandb\u001b[0m: Agent Starting Run: chjhwdq9 with config:\n",
            "\u001b[34m\u001b[1mwandb\u001b[0m: \tNeurons: 128\n",
            "\u001b[34m\u001b[1mwandb\u001b[0m: \tNo_hidden_layer: 4\n",
            "\u001b[34m\u001b[1mwandb\u001b[0m: \tactivation_type: tanh\n",
            "\u001b[34m\u001b[1mwandb\u001b[0m: \tepochs: 10\n",
            "\u001b[34m\u001b[1mwandb\u001b[0m: \tlearning_rate: 0.0001\n",
            "\u001b[34m\u001b[1mwandb\u001b[0m: \tloss_optimizer_type: vanila\n",
            "\u001b[34m\u001b[1mwandb\u001b[0m: \tmini_batch_size: 16\n",
            "\u001b[34m\u001b[1mwandb\u001b[0m: \tweight_decay: 0.5\n",
            "\u001b[34m\u001b[1mwandb\u001b[0m: \tweight_initialization: random\n",
            "\u001b[34m\u001b[1mwandb\u001b[0m: \u001b[33mWARNING\u001b[0m Ignored wandb.init() arg project when running a sweep\n"
          ],
          "name": "stderr"
        },
        {
          "output_type": "display_data",
          "data": {
            "text/html": [
              "\n",
              "                Tracking run with wandb version 0.10.22<br/>\n",
              "                Syncing run <strong style=\"color:#cdcd00\">pious-sweep-9</strong> to <a href=\"https://wandb.ai\" target=\"_blank\">Weights & Biases</a> <a href=\"https://docs.wandb.com/integrations/jupyter.html\" target=\"_blank\">(Documentation)</a>.<br/>\n",
              "                Project page: <a href=\"https://wandb.ai/vrunda/CS6910_Assignment1\" target=\"_blank\">https://wandb.ai/vrunda/CS6910_Assignment1</a><br/>\n",
              "                Sweep page: <a href=\"https://wandb.ai/vrunda/CS6910_Assignment1/sweeps/1o5dqarx\" target=\"_blank\">https://wandb.ai/vrunda/CS6910_Assignment1/sweeps/1o5dqarx</a><br/>\n",
              "Run page: <a href=\"https://wandb.ai/vrunda/CS6910_Assignment1/runs/chjhwdq9\" target=\"_blank\">https://wandb.ai/vrunda/CS6910_Assignment1/runs/chjhwdq9</a><br/>\n",
              "                Run data is saved locally in <code>/content/wandb/run-20210315_013550-chjhwdq9</code><br/><br/>\n",
              "            "
            ],
            "text/plain": [
              "<IPython.core.display.HTML object>"
            ]
          },
          "metadata": {
            "tags": []
          }
        },
        {
          "output_type": "stream",
          "text": [
            "epoch===> 0\n",
            "   Train_loss==>  2.536864000428634\n",
            "   Val_loss====>  2.5396790186617335\n",
            "\n",
            "   Train_acc==>  7.061111111111111\n",
            "   Val_acc=====>  7.249999999999999\n",
            "Final_accuracy==>   7.22\n",
            "Epoch==> 1\n",
            "   Train_loss==>  1.8121860146602982\n",
            "   Val_loss====>  1.8187496356059882\n",
            "\n",
            "   Train_acc==>  44.772222222222226\n",
            "   Val_acc=====>  44.5\n",
            "Final_accuracy==>   43.93\n",
            "Epoch==> 2\n",
            "   Train_loss==>  1.7001447065575581\n",
            "   Val_loss====>  1.706154911167258\n",
            "\n",
            "   Train_acc==>  54.66481481481481\n",
            "   Val_acc=====>  54.53333333333333\n",
            "Final_accuracy==>   54.410000000000004\n",
            "Epoch==> 3\n",
            "   Train_loss==>  1.7334514326896167\n",
            "   Val_loss====>  1.7379624677876626\n",
            "\n",
            "   Train_acc==>  56.46111111111111\n",
            "   Val_acc=====>  56.15\n",
            "Final_accuracy==>   56.61000000000001\n",
            "Epoch==> 4\n",
            "   Train_loss==>  1.8124815933435618\n",
            "   Val_loss====>  1.8155091545123632\n",
            "\n",
            "   Train_acc==>  54.39814814814815\n",
            "   Val_acc=====>  54.48333333333333\n",
            "Final_accuracy==>   54.31\n",
            "Epoch==> 5\n",
            "   Train_loss==>  1.8999572509326386\n",
            "   Val_loss====>  1.9017950708424562\n",
            "\n",
            "   Train_acc==>  50.257407407407406\n",
            "   Val_acc=====>  50.24999999999999\n",
            "Final_accuracy==>   50.129999999999995\n",
            "Epoch==> 6\n",
            "   Train_loss==>  1.9807778967933083\n",
            "   Val_loss====>  1.9817619182966772\n",
            "\n",
            "   Train_acc==>  46.74074074074074\n",
            "   Val_acc=====>  46.666666666666664\n",
            "Final_accuracy==>   46.550000000000004\n",
            "Epoch==> 7\n",
            "   Train_loss==>  2.050293636000067\n",
            "   Val_loss====>  2.0507150486963415\n",
            "\n",
            "   Train_acc==>  43.38148148148148\n",
            "   Val_acc=====>  42.916666666666664\n",
            "Final_accuracy==>   43.11\n",
            "Epoch==> 8\n",
            "   Train_loss==>  2.1083259677202517\n",
            "   Val_loss====>  2.1084111218327566\n",
            "\n",
            "   Train_acc==>  37.620370370370374\n",
            "   Val_acc=====>  37.05\n",
            "Final_accuracy==>   37.5\n",
            "Epoch==> 9\n",
            "   Train_loss==>  2.156194664921464\n",
            "   Val_loss====>  2.156108758747616\n",
            "\n",
            "   Train_acc==>  33.824074074074076\n",
            "   Val_acc=====>  33.35\n",
            "Final_accuracy==>   33.82\n",
            "Epoch==> 10\n",
            "   Train_loss==>  2.1955142880162946\n",
            "   Val_loss====>  2.195369718659631\n",
            "\n",
            "   Train_acc==>  30.06111111111111\n",
            "   Val_acc=====>  29.86666666666667\n",
            "Final_accuracy==>   30.44\n"
          ],
          "name": "stdout"
        },
        {
          "output_type": "display_data",
          "data": {
            "text/html": [
              "<br/>Waiting for W&B process to finish, PID 1859<br/>Program ended successfully."
            ],
            "text/plain": [
              "<IPython.core.display.HTML object>"
            ]
          },
          "metadata": {
            "tags": []
          }
        },
        {
          "output_type": "display_data",
          "data": {
            "application/vnd.jupyter.widget-view+json": {
              "model_id": "9caac240f34247d184cd75af33600f97",
              "version_major": 2,
              "version_minor": 0
            },
            "text/plain": [
              "VBox(children=(Label(value=' 0.00MB of 0.00MB uploaded (0.00MB deduped)\\r'), FloatProgress(value=1.0, max=1.0)…"
            ]
          },
          "metadata": {
            "tags": []
          }
        },
        {
          "output_type": "display_data",
          "data": {
            "text/html": [
              "Find user logs for this run at: <code>/content/wandb/run-20210315_013550-chjhwdq9/logs/debug.log</code>"
            ],
            "text/plain": [
              "<IPython.core.display.HTML object>"
            ]
          },
          "metadata": {
            "tags": []
          }
        },
        {
          "output_type": "display_data",
          "data": {
            "text/html": [
              "Find internal logs for this run at: <code>/content/wandb/run-20210315_013550-chjhwdq9/logs/debug-internal.log</code>"
            ],
            "text/plain": [
              "<IPython.core.display.HTML object>"
            ]
          },
          "metadata": {
            "tags": []
          }
        },
        {
          "output_type": "display_data",
          "data": {
            "text/html": [
              "<h3>Run summary:</h3><br/><style>\n",
              "    table.wandb td:nth-child(1) { padding: 0 10px; text-align: right }\n",
              "    </style><table class=\"wandb\">\n",
              "<tr><td>epoch</td><td>10</td></tr><tr><td>accuracy</td><td>30.44</td></tr><tr><td>val_accuracy</td><td>29.86667</td></tr><tr><td>val_loss</td><td>2.19537</td></tr><tr><td>train_loss</td><td>2.19551</td></tr><tr><td>train_accuracy</td><td>30.06111</td></tr><tr><td>_runtime</td><td>1115</td></tr><tr><td>_timestamp</td><td>1615773265</td></tr><tr><td>_step</td><td>11</td></tr></table>"
            ],
            "text/plain": [
              "<IPython.core.display.HTML object>"
            ]
          },
          "metadata": {
            "tags": []
          }
        },
        {
          "output_type": "display_data",
          "data": {
            "text/html": [
              "<h3>Run history:</h3><br/><style>\n",
              "    table.wandb td:nth-child(1) { padding: 0 10px; text-align: right }\n",
              "    </style><table class=\"wandb\">\n",
              "<tr><td>epoch</td><td>▁▂▂▃▄▅▅▆▇▇█</td></tr><tr><td>accuracy</td><td>▁▆███▇▇▆▅▅▄</td></tr><tr><td>val_accuracy</td><td>▁▆███▇▇▆▅▅▄</td></tr><tr><td>val_loss</td><td>█▂▁▁▂▃▃▄▄▅▅</td></tr><tr><td>train_loss</td><td>█▂▁▁▂▃▃▄▄▅▅</td></tr><tr><td>train_accuracy</td><td>▁▆███▇▇▆▅▅▄</td></tr><tr><td>_runtime</td><td>▁▂▂▃▄▅▅▆▇▇██</td></tr><tr><td>_timestamp</td><td>▁▂▂▃▄▅▅▆▇▇██</td></tr><tr><td>_step</td><td>▁▂▂▃▄▄▅▅▆▇▇█</td></tr></table><br/>"
            ],
            "text/plain": [
              "<IPython.core.display.HTML object>"
            ]
          },
          "metadata": {
            "tags": []
          }
        },
        {
          "output_type": "display_data",
          "data": {
            "text/html": [
              "Synced 5 W&B file(s), 1 media file(s), 0 artifact file(s) and 0 other file(s)"
            ],
            "text/plain": [
              "<IPython.core.display.HTML object>"
            ]
          },
          "metadata": {
            "tags": []
          }
        },
        {
          "output_type": "display_data",
          "data": {
            "text/html": [
              "\n",
              "                    <br/>Synced <strong style=\"color:#cdcd00\">pious-sweep-9</strong>: <a href=\"https://wandb.ai/vrunda/CS6910_Assignment1/runs/chjhwdq9\" target=\"_blank\">https://wandb.ai/vrunda/CS6910_Assignment1/runs/chjhwdq9</a><br/>\n",
              "                "
            ],
            "text/plain": [
              "<IPython.core.display.HTML object>"
            ]
          },
          "metadata": {
            "tags": []
          }
        },
        {
          "output_type": "stream",
          "text": [
            "\u001b[34m\u001b[1mwandb\u001b[0m: Agent Starting Run: u6it14tq with config:\n",
            "\u001b[34m\u001b[1mwandb\u001b[0m: \tNeurons: 128\n",
            "\u001b[34m\u001b[1mwandb\u001b[0m: \tNo_hidden_layer: 4\n",
            "\u001b[34m\u001b[1mwandb\u001b[0m: \tactivation_type: sigmoid\n",
            "\u001b[34m\u001b[1mwandb\u001b[0m: \tepochs: 10\n",
            "\u001b[34m\u001b[1mwandb\u001b[0m: \tlearning_rate: 0.001\n",
            "\u001b[34m\u001b[1mwandb\u001b[0m: \tloss_optimizer_type: vanila\n",
            "\u001b[34m\u001b[1mwandb\u001b[0m: \tmini_batch_size: 64\n",
            "\u001b[34m\u001b[1mwandb\u001b[0m: \tweight_decay: 0\n",
            "\u001b[34m\u001b[1mwandb\u001b[0m: \tweight_initialization: xavier\n",
            "\u001b[34m\u001b[1mwandb\u001b[0m: \u001b[33mWARNING\u001b[0m Ignored wandb.init() arg project when running a sweep\n"
          ],
          "name": "stderr"
        },
        {
          "output_type": "display_data",
          "data": {
            "text/html": [
              "\n",
              "                Tracking run with wandb version 0.10.22<br/>\n",
              "                Syncing run <strong style=\"color:#cdcd00\">northern-sweep-10</strong> to <a href=\"https://wandb.ai\" target=\"_blank\">Weights & Biases</a> <a href=\"https://docs.wandb.com/integrations/jupyter.html\" target=\"_blank\">(Documentation)</a>.<br/>\n",
              "                Project page: <a href=\"https://wandb.ai/vrunda/CS6910_Assignment1\" target=\"_blank\">https://wandb.ai/vrunda/CS6910_Assignment1</a><br/>\n",
              "                Sweep page: <a href=\"https://wandb.ai/vrunda/CS6910_Assignment1/sweeps/1o5dqarx\" target=\"_blank\">https://wandb.ai/vrunda/CS6910_Assignment1/sweeps/1o5dqarx</a><br/>\n",
              "Run page: <a href=\"https://wandb.ai/vrunda/CS6910_Assignment1/runs/u6it14tq\" target=\"_blank\">https://wandb.ai/vrunda/CS6910_Assignment1/runs/u6it14tq</a><br/>\n",
              "                Run data is saved locally in <code>/content/wandb/run-20210315_015435-u6it14tq</code><br/><br/>\n",
              "            "
            ],
            "text/plain": [
              "<IPython.core.display.HTML object>"
            ]
          },
          "metadata": {
            "tags": []
          }
        },
        {
          "output_type": "stream",
          "text": [
            "epoch===> 0\n",
            "   Train_loss==>  2.592843536908062\n",
            "   Val_loss====>  2.5691200418608116\n",
            "\n",
            "   Train_acc==>  9.950000000000001\n",
            "   Val_acc=====>  10.45\n",
            "Final_accuracy==>   10.0\n",
            "Epoch==> 1\n",
            "   Train_loss==>  2.3030596203861107\n",
            "   Val_loss====>  2.3021249073588295\n",
            "\n",
            "   Train_acc==>  10.10925925925926\n",
            "   Val_acc=====>  9.533333333333333\n",
            "Final_accuracy==>   10.059999999999999\n",
            "Epoch==> 2\n",
            "   Train_loss==>  2.301560624255129\n",
            "   Val_loss====>  2.3018237047643053\n",
            "\n",
            "   Train_acc==>  13.614814814814816\n",
            "   Val_acc=====>  12.9\n",
            "Final_accuracy==>   13.850000000000001\n",
            "Epoch==> 3\n",
            "   Train_loss==>  2.301144743096467\n",
            "   Val_loss====>  2.3014611983666065\n",
            "\n",
            "   Train_acc==>  15.233333333333333\n",
            "   Val_acc=====>  14.549999999999999\n",
            "Final_accuracy==>   15.43\n",
            "Epoch==> 4\n",
            "   Train_loss==>  2.300731598484007\n",
            "   Val_loss====>  2.301058742596733\n",
            "\n",
            "   Train_acc==>  15.714814814814815\n",
            "   Val_acc=====>  15.216666666666667\n",
            "Final_accuracy==>   15.9\n",
            "Epoch==> 5\n",
            "   Train_loss==>  2.300314824056491\n",
            "   Val_loss====>  2.30065120727016\n",
            "\n",
            "   Train_acc==>  16.055555555555557\n",
            "   Val_acc=====>  15.45\n",
            "Final_accuracy==>   16.23\n",
            "Epoch==> 6\n",
            "   Train_loss==>  2.2998935625435015\n",
            "   Val_loss====>  2.3002392479357656\n",
            "\n",
            "   Train_acc==>  16.34259259259259\n",
            "   Val_acc=====>  15.85\n",
            "Final_accuracy==>   16.509999999999998\n",
            "Epoch==> 7\n",
            "   Train_loss==>  2.299467068399732\n",
            "   Val_loss====>  2.2998221928003755\n",
            "\n",
            "   Train_acc==>  16.637037037037036\n",
            "   Val_acc=====>  16.150000000000002\n",
            "Final_accuracy==>   16.68\n",
            "Epoch==> 8\n",
            "   Train_loss==>  2.299034577416612\n",
            "   Val_loss====>  2.2993992996792385\n",
            "\n",
            "   Train_acc==>  16.855555555555554\n",
            "   Val_acc=====>  16.316666666666666\n",
            "Final_accuracy==>   16.869999999999997\n",
            "Epoch==> 9\n",
            "   Train_loss==>  2.2985952993652394\n",
            "   Val_loss====>  2.2989697991334417\n",
            "\n",
            "   Train_acc==>  17.025925925925925\n",
            "   Val_acc=====>  16.5\n",
            "Final_accuracy==>   17.080000000000002\n",
            "Epoch==> 10\n",
            "   Train_loss==>  2.298148414080359\n",
            "   Val_loss====>  2.298532892496115\n",
            "\n",
            "   Train_acc==>  17.183333333333334\n",
            "   Val_acc=====>  16.6\n",
            "Final_accuracy==>   17.28\n"
          ],
          "name": "stdout"
        },
        {
          "output_type": "display_data",
          "data": {
            "text/html": [
              "<br/>Waiting for W&B process to finish, PID 1891<br/>Program ended successfully."
            ],
            "text/plain": [
              "<IPython.core.display.HTML object>"
            ]
          },
          "metadata": {
            "tags": []
          }
        },
        {
          "output_type": "display_data",
          "data": {
            "application/vnd.jupyter.widget-view+json": {
              "model_id": "7b24acf06fe94e9ab45ef020a3639a5c",
              "version_major": 2,
              "version_minor": 0
            },
            "text/plain": [
              "VBox(children=(Label(value=' 0.00MB of 0.00MB uploaded (0.00MB deduped)\\r'), FloatProgress(value=0.17890295358…"
            ]
          },
          "metadata": {
            "tags": []
          }
        },
        {
          "output_type": "display_data",
          "data": {
            "text/html": [
              "Find user logs for this run at: <code>/content/wandb/run-20210315_015435-u6it14tq/logs/debug.log</code>"
            ],
            "text/plain": [
              "<IPython.core.display.HTML object>"
            ]
          },
          "metadata": {
            "tags": []
          }
        },
        {
          "output_type": "display_data",
          "data": {
            "text/html": [
              "Find internal logs for this run at: <code>/content/wandb/run-20210315_015435-u6it14tq/logs/debug-internal.log</code>"
            ],
            "text/plain": [
              "<IPython.core.display.HTML object>"
            ]
          },
          "metadata": {
            "tags": []
          }
        },
        {
          "output_type": "display_data",
          "data": {
            "text/html": [
              "<h3>Run summary:</h3><br/><style>\n",
              "    table.wandb td:nth-child(1) { padding: 0 10px; text-align: right }\n",
              "    </style><table class=\"wandb\">\n",
              "<tr><td>epoch</td><td>10</td></tr><tr><td>accuracy</td><td>17.28</td></tr><tr><td>val_accuracy</td><td>16.6</td></tr><tr><td>val_loss</td><td>2.29853</td></tr><tr><td>train_loss</td><td>2.29815</td></tr><tr><td>train_accuracy</td><td>17.18333</td></tr><tr><td>_runtime</td><td>1124</td></tr><tr><td>_timestamp</td><td>1615774399</td></tr><tr><td>_step</td><td>11</td></tr></table>"
            ],
            "text/plain": [
              "<IPython.core.display.HTML object>"
            ]
          },
          "metadata": {
            "tags": []
          }
        },
        {
          "output_type": "display_data",
          "data": {
            "text/html": [
              "<h3>Run history:</h3><br/><style>\n",
              "    table.wandb td:nth-child(1) { padding: 0 10px; text-align: right }\n",
              "    </style><table class=\"wandb\">\n",
              "<tr><td>epoch</td><td>▁▂▂▃▄▅▅▆▇▇█</td></tr><tr><td>accuracy</td><td>▁▁▅▆▇▇▇▇███</td></tr><tr><td>val_accuracy</td><td>▂▁▄▆▇▇▇████</td></tr><tr><td>val_loss</td><td>█▁▁▁▁▁▁▁▁▁▁</td></tr><tr><td>train_loss</td><td>█▁▁▁▁▁▁▁▁▁▁</td></tr><tr><td>train_accuracy</td><td>▁▁▅▆▇▇▇▇███</td></tr><tr><td>_runtime</td><td>▁▂▂▃▄▄▅▆▇▇██</td></tr><tr><td>_timestamp</td><td>▁▂▂▃▄▄▅▆▇▇██</td></tr><tr><td>_step</td><td>▁▂▂▃▄▄▅▅▆▇▇█</td></tr></table><br/>"
            ],
            "text/plain": [
              "<IPython.core.display.HTML object>"
            ]
          },
          "metadata": {
            "tags": []
          }
        },
        {
          "output_type": "display_data",
          "data": {
            "text/html": [
              "Synced 5 W&B file(s), 1 media file(s), 0 artifact file(s) and 0 other file(s)"
            ],
            "text/plain": [
              "<IPython.core.display.HTML object>"
            ]
          },
          "metadata": {
            "tags": []
          }
        },
        {
          "output_type": "display_data",
          "data": {
            "text/html": [
              "\n",
              "                    <br/>Synced <strong style=\"color:#cdcd00\">northern-sweep-10</strong>: <a href=\"https://wandb.ai/vrunda/CS6910_Assignment1/runs/u6it14tq\" target=\"_blank\">https://wandb.ai/vrunda/CS6910_Assignment1/runs/u6it14tq</a><br/>\n",
              "                "
            ],
            "text/plain": [
              "<IPython.core.display.HTML object>"
            ]
          },
          "metadata": {
            "tags": []
          }
        },
        {
          "output_type": "stream",
          "text": [
            "\u001b[34m\u001b[1mwandb\u001b[0m: Agent Starting Run: d1e3enjg with config:\n",
            "\u001b[34m\u001b[1mwandb\u001b[0m: \tNeurons: 64\n",
            "\u001b[34m\u001b[1mwandb\u001b[0m: \tNo_hidden_layer: 5\n",
            "\u001b[34m\u001b[1mwandb\u001b[0m: \tactivation_type: tanh\n",
            "\u001b[34m\u001b[1mwandb\u001b[0m: \tepochs: 10\n",
            "\u001b[34m\u001b[1mwandb\u001b[0m: \tlearning_rate: 0.0001\n",
            "\u001b[34m\u001b[1mwandb\u001b[0m: \tloss_optimizer_type: vanila\n",
            "\u001b[34m\u001b[1mwandb\u001b[0m: \tmini_batch_size: 16\n",
            "\u001b[34m\u001b[1mwandb\u001b[0m: \tweight_decay: 0.0005\n",
            "\u001b[34m\u001b[1mwandb\u001b[0m: \tweight_initialization: random\n",
            "\u001b[34m\u001b[1mwandb\u001b[0m: \u001b[33mWARNING\u001b[0m Ignored wandb.init() arg project when running a sweep\n"
          ],
          "name": "stderr"
        },
        {
          "output_type": "display_data",
          "data": {
            "text/html": [
              "\n",
              "                Tracking run with wandb version 0.10.22<br/>\n",
              "                Syncing run <strong style=\"color:#cdcd00\">comfy-sweep-11</strong> to <a href=\"https://wandb.ai\" target=\"_blank\">Weights & Biases</a> <a href=\"https://docs.wandb.com/integrations/jupyter.html\" target=\"_blank\">(Documentation)</a>.<br/>\n",
              "                Project page: <a href=\"https://wandb.ai/vrunda/CS6910_Assignment1\" target=\"_blank\">https://wandb.ai/vrunda/CS6910_Assignment1</a><br/>\n",
              "                Sweep page: <a href=\"https://wandb.ai/vrunda/CS6910_Assignment1/sweeps/1o5dqarx\" target=\"_blank\">https://wandb.ai/vrunda/CS6910_Assignment1/sweeps/1o5dqarx</a><br/>\n",
              "Run page: <a href=\"https://wandb.ai/vrunda/CS6910_Assignment1/runs/d1e3enjg\" target=\"_blank\">https://wandb.ai/vrunda/CS6910_Assignment1/runs/d1e3enjg</a><br/>\n",
              "                Run data is saved locally in <code>/content/wandb/run-20210315_021328-d1e3enjg</code><br/><br/>\n",
              "            "
            ],
            "text/plain": [
              "<IPython.core.display.HTML object>"
            ]
          },
          "metadata": {
            "tags": []
          }
        },
        {
          "output_type": "stream",
          "text": [
            "epoch===> 0\n",
            "   Train_loss==>  2.2856269515826937\n",
            "   Val_loss====>  2.2839852682305226\n",
            "\n",
            "   Train_acc==>  9.577777777777778\n",
            "   Val_acc=====>  9.716666666666667\n",
            "Final_accuracy==>   9.45\n",
            "Epoch==> 1\n",
            "   Train_loss==>  2.148627960987966\n",
            "   Val_loss====>  2.1469546930069616\n",
            "\n",
            "   Train_acc==>  20.833333333333336\n",
            "   Val_acc=====>  20.549999999999997\n",
            "Final_accuracy==>   20.62\n",
            "Epoch==> 2\n",
            "   Train_loss==>  2.0074438364172575\n",
            "   Val_loss====>  2.0052367541427425\n",
            "\n",
            "   Train_acc==>  33.04814814814815\n",
            "   Val_acc=====>  33.46666666666667\n",
            "Final_accuracy==>   31.830000000000002\n",
            "Epoch==> 3\n",
            "   Train_loss==>  1.8650883800432896\n",
            "   Val_loss====>  1.8619424004325005\n",
            "\n",
            "   Train_acc==>  43.8074074074074\n",
            "   Val_acc=====>  43.583333333333336\n",
            "Final_accuracy==>   42.559999999999995\n",
            "Epoch==> 4\n",
            "   Train_loss==>  1.7333543495800672\n",
            "   Val_loss====>  1.7292484159239945\n",
            "\n",
            "   Train_acc==>  51.35925925925926\n",
            "   Val_acc=====>  51.416666666666664\n",
            "Final_accuracy==>   50.07\n",
            "Epoch==> 5\n",
            "   Train_loss==>  1.6186995111835831\n",
            "   Val_loss====>  1.6139275894329954\n",
            "\n",
            "   Train_acc==>  56.059259259259264\n",
            "   Val_acc=====>  56.18333333333333\n",
            "Final_accuracy==>   55.21\n",
            "Epoch==> 6\n",
            "   Train_loss==>  1.5204456380447233\n",
            "   Val_loss====>  1.5153398780898533\n",
            "\n",
            "   Train_acc==>  58.78333333333333\n",
            "   Val_acc=====>  58.71666666666666\n",
            "Final_accuracy==>   58.089999999999996\n",
            "Epoch==> 7\n",
            "   Train_loss==>  1.4349605594146473\n",
            "   Val_loss====>  1.4297286060312022\n",
            "\n",
            "   Train_acc==>  60.851851851851855\n",
            "   Val_acc=====>  60.95\n",
            "Final_accuracy==>   60.29\n",
            "Epoch==> 8\n",
            "   Train_loss==>  1.3588738202936332\n",
            "   Val_loss====>  1.3536144295438475\n",
            "\n",
            "   Train_acc==>  62.85925925925926\n",
            "   Val_acc=====>  62.73333333333333\n",
            "Final_accuracy==>   62.4\n",
            "Epoch==> 9\n",
            "   Train_loss==>  1.2902081082525931\n",
            "   Val_loss====>  1.2849763150739617\n",
            "\n",
            "   Train_acc==>  64.59814814814816\n",
            "   Val_acc=====>  65.0\n",
            "Final_accuracy==>   64.46\n",
            "Epoch==> 10\n",
            "   Train_loss==>  1.2280883776169276\n",
            "   Val_loss====>  1.2229308323925696\n",
            "\n",
            "   Train_acc==>  66.19814814814815\n",
            "   Val_acc=====>  66.55\n",
            "Final_accuracy==>   65.95\n"
          ],
          "name": "stdout"
        },
        {
          "output_type": "display_data",
          "data": {
            "text/html": [
              "<br/>Waiting for W&B process to finish, PID 1923<br/>Program ended successfully."
            ],
            "text/plain": [
              "<IPython.core.display.HTML object>"
            ]
          },
          "metadata": {
            "tags": []
          }
        },
        {
          "output_type": "display_data",
          "data": {
            "application/vnd.jupyter.widget-view+json": {
              "model_id": "dbd32b42fe604f9eadd12ca09cb9ad8a",
              "version_major": 2,
              "version_minor": 0
            },
            "text/plain": [
              "VBox(children=(Label(value=' 0.00MB of 0.00MB uploaded (0.00MB deduped)\\r'), FloatProgress(value=1.0, max=1.0)…"
            ]
          },
          "metadata": {
            "tags": []
          }
        },
        {
          "output_type": "display_data",
          "data": {
            "text/html": [
              "Find user logs for this run at: <code>/content/wandb/run-20210315_021328-d1e3enjg/logs/debug.log</code>"
            ],
            "text/plain": [
              "<IPython.core.display.HTML object>"
            ]
          },
          "metadata": {
            "tags": []
          }
        },
        {
          "output_type": "display_data",
          "data": {
            "text/html": [
              "Find internal logs for this run at: <code>/content/wandb/run-20210315_021328-d1e3enjg/logs/debug-internal.log</code>"
            ],
            "text/plain": [
              "<IPython.core.display.HTML object>"
            ]
          },
          "metadata": {
            "tags": []
          }
        },
        {
          "output_type": "display_data",
          "data": {
            "text/html": [
              "<h3>Run summary:</h3><br/><style>\n",
              "    table.wandb td:nth-child(1) { padding: 0 10px; text-align: right }\n",
              "    </style><table class=\"wandb\">\n",
              "<tr><td>epoch</td><td>10</td></tr><tr><td>accuracy</td><td>65.95</td></tr><tr><td>val_accuracy</td><td>66.55</td></tr><tr><td>val_loss</td><td>1.22293</td></tr><tr><td>train_loss</td><td>1.22809</td></tr><tr><td>train_accuracy</td><td>66.19815</td></tr><tr><td>_runtime</td><td>831</td></tr><tr><td>_timestamp</td><td>1615775239</td></tr><tr><td>_step</td><td>11</td></tr></table>"
            ],
            "text/plain": [
              "<IPython.core.display.HTML object>"
            ]
          },
          "metadata": {
            "tags": []
          }
        },
        {
          "output_type": "display_data",
          "data": {
            "text/html": [
              "<h3>Run history:</h3><br/><style>\n",
              "    table.wandb td:nth-child(1) { padding: 0 10px; text-align: right }\n",
              "    </style><table class=\"wandb\">\n",
              "<tr><td>epoch</td><td>▁▂▂▃▄▅▅▆▇▇█</td></tr><tr><td>accuracy</td><td>▁▂▄▅▆▇▇▇███</td></tr><tr><td>val_accuracy</td><td>▁▂▄▅▆▇▇▇███</td></tr><tr><td>val_loss</td><td>█▇▆▅▄▄▃▂▂▁▁</td></tr><tr><td>train_loss</td><td>█▇▆▅▄▄▃▂▂▁▁</td></tr><tr><td>train_accuracy</td><td>▁▂▄▅▆▇▇▇███</td></tr><tr><td>_runtime</td><td>▁▂▂▃▄▅▅▆▇▇██</td></tr><tr><td>_timestamp</td><td>▁▂▂▃▄▅▅▆▇▇██</td></tr><tr><td>_step</td><td>▁▂▂▃▄▄▅▅▆▇▇█</td></tr></table><br/>"
            ],
            "text/plain": [
              "<IPython.core.display.HTML object>"
            ]
          },
          "metadata": {
            "tags": []
          }
        },
        {
          "output_type": "display_data",
          "data": {
            "text/html": [
              "Synced 5 W&B file(s), 1 media file(s), 0 artifact file(s) and 0 other file(s)"
            ],
            "text/plain": [
              "<IPython.core.display.HTML object>"
            ]
          },
          "metadata": {
            "tags": []
          }
        },
        {
          "output_type": "display_data",
          "data": {
            "text/html": [
              "\n",
              "                    <br/>Synced <strong style=\"color:#cdcd00\">comfy-sweep-11</strong>: <a href=\"https://wandb.ai/vrunda/CS6910_Assignment1/runs/d1e3enjg\" target=\"_blank\">https://wandb.ai/vrunda/CS6910_Assignment1/runs/d1e3enjg</a><br/>\n",
              "                "
            ],
            "text/plain": [
              "<IPython.core.display.HTML object>"
            ]
          },
          "metadata": {
            "tags": []
          }
        },
        {
          "output_type": "stream",
          "text": [
            "\u001b[34m\u001b[1mwandb\u001b[0m: Agent Starting Run: ec8snp7x with config:\n",
            "\u001b[34m\u001b[1mwandb\u001b[0m: \tNeurons: 128\n",
            "\u001b[34m\u001b[1mwandb\u001b[0m: \tNo_hidden_layer: 3\n",
            "\u001b[34m\u001b[1mwandb\u001b[0m: \tactivation_type: ReLU\n",
            "\u001b[34m\u001b[1mwandb\u001b[0m: \tepochs: 10\n",
            "\u001b[34m\u001b[1mwandb\u001b[0m: \tlearning_rate: 0.001\n",
            "\u001b[34m\u001b[1mwandb\u001b[0m: \tloss_optimizer_type: vanila\n",
            "\u001b[34m\u001b[1mwandb\u001b[0m: \tmini_batch_size: 16\n",
            "\u001b[34m\u001b[1mwandb\u001b[0m: \tweight_decay: 0.0005\n",
            "\u001b[34m\u001b[1mwandb\u001b[0m: \tweight_initialization: random\n",
            "\u001b[34m\u001b[1mwandb\u001b[0m: \u001b[33mWARNING\u001b[0m Ignored wandb.init() arg project when running a sweep\n"
          ],
          "name": "stderr"
        },
        {
          "output_type": "display_data",
          "data": {
            "text/html": [
              "\n",
              "                Tracking run with wandb version 0.10.22<br/>\n",
              "                Syncing run <strong style=\"color:#cdcd00\">floral-sweep-12</strong> to <a href=\"https://wandb.ai\" target=\"_blank\">Weights & Biases</a> <a href=\"https://docs.wandb.com/integrations/jupyter.html\" target=\"_blank\">(Documentation)</a>.<br/>\n",
              "                Project page: <a href=\"https://wandb.ai/vrunda/CS6910_Assignment1\" target=\"_blank\">https://wandb.ai/vrunda/CS6910_Assignment1</a><br/>\n",
              "                Sweep page: <a href=\"https://wandb.ai/vrunda/CS6910_Assignment1/sweeps/1o5dqarx\" target=\"_blank\">https://wandb.ai/vrunda/CS6910_Assignment1/sweeps/1o5dqarx</a><br/>\n",
              "Run page: <a href=\"https://wandb.ai/vrunda/CS6910_Assignment1/runs/ec8snp7x\" target=\"_blank\">https://wandb.ai/vrunda/CS6910_Assignment1/runs/ec8snp7x</a><br/>\n",
              "                Run data is saved locally in <code>/content/wandb/run-20210315_022729-ec8snp7x</code><br/><br/>\n",
              "            "
            ],
            "text/plain": [
              "<IPython.core.display.HTML object>"
            ]
          },
          "metadata": {
            "tags": []
          }
        },
        {
          "output_type": "stream",
          "text": [
            "epoch===> 0\n",
            "   Train_loss==>  2.8116758657897374\n",
            "   Val_loss====>  2.832033549225645\n",
            "\n",
            "   Train_acc==>  11.557407407407409\n",
            "   Val_acc=====>  11.200000000000001\n",
            "Final_accuracy==>   11.540000000000001\n",
            "Epoch==> 1\n",
            "   Train_loss==>  0.634497467437914\n",
            "   Val_loss====>  0.6447940818390832\n",
            "\n",
            "   Train_acc==>  77.68333333333334\n",
            "   Val_acc=====>  77.83333333333333\n",
            "Final_accuracy==>   76.81\n",
            "Epoch==> 2\n",
            "   Train_loss==>  0.5337953898628283\n",
            "   Val_loss====>  0.545238331472029\n",
            "\n",
            "   Train_acc==>  80.97777777777779\n",
            "   Val_acc=====>  80.78333333333333\n",
            "Final_accuracy==>   79.77\n",
            "Epoch==> 3\n",
            "   Train_loss==>  0.4855157818880766\n",
            "   Val_loss====>  0.49852517294138654\n",
            "\n",
            "   Train_acc==>  82.58703703703704\n",
            "   Val_acc=====>  82.28333333333333\n",
            "Final_accuracy==>   81.21000000000001\n",
            "Epoch==> 4\n",
            "   Train_loss==>  0.45501208402202153\n",
            "   Val_loss====>  0.4698547149875526\n",
            "\n",
            "   Train_acc==>  83.54814814814814\n",
            "   Val_acc=====>  83.01666666666667\n",
            "Final_accuracy==>   82.03\n",
            "Epoch==> 5\n",
            "   Train_loss==>  0.4330824405081813\n",
            "   Val_loss====>  0.4499581312170482\n",
            "\n",
            "   Train_acc==>  84.29814814814814\n",
            "   Val_acc=====>  83.71666666666667\n",
            "Final_accuracy==>   82.59\n",
            "Epoch==> 6\n",
            "   Train_loss==>  0.41622132957331087\n",
            "   Val_loss====>  0.43517148814527823\n",
            "\n",
            "   Train_acc==>  84.90555555555555\n",
            "   Val_acc=====>  84.45\n",
            "Final_accuracy==>   83.05\n",
            "Epoch==> 7\n",
            "   Train_loss==>  0.40238620873642983\n",
            "   Val_loss====>  0.423169737296736\n",
            "\n",
            "   Train_acc==>  85.41111111111111\n",
            "   Val_acc=====>  84.75\n",
            "Final_accuracy==>   83.41\n",
            "Epoch==> 8\n",
            "   Train_loss==>  0.39081008894984975\n",
            "   Val_loss====>  0.4136603955761119\n",
            "\n",
            "   Train_acc==>  85.79444444444444\n",
            "   Val_acc=====>  85.28333333333333\n",
            "Final_accuracy==>   83.74000000000001\n",
            "Epoch==> 9\n",
            "   Train_loss==>  0.3808898149492354\n",
            "   Val_loss====>  0.4056160314277149\n",
            "\n",
            "   Train_acc==>  86.16296296296296\n",
            "   Val_acc=====>  85.66666666666667\n",
            "Final_accuracy==>   84.13000000000001\n",
            "Epoch==> 10\n",
            "   Train_loss==>  0.37216654038544433\n",
            "   Val_loss====>  0.3989521450345031\n",
            "\n",
            "   Train_acc==>  86.47592592592592\n",
            "   Val_acc=====>  85.95\n",
            "Final_accuracy==>   84.45\n"
          ],
          "name": "stdout"
        },
        {
          "output_type": "display_data",
          "data": {
            "text/html": [
              "<br/>Waiting for W&B process to finish, PID 1955<br/>Program ended successfully."
            ],
            "text/plain": [
              "<IPython.core.display.HTML object>"
            ]
          },
          "metadata": {
            "tags": []
          }
        },
        {
          "output_type": "display_data",
          "data": {
            "application/vnd.jupyter.widget-view+json": {
              "model_id": "bcc0f4cfe07d42d1a618fb3d63c54953",
              "version_major": 2,
              "version_minor": 0
            },
            "text/plain": [
              "VBox(children=(Label(value=' 0.00MB of 0.00MB uploaded (0.00MB deduped)\\r'), FloatProgress(value=0.17810137216…"
            ]
          },
          "metadata": {
            "tags": []
          }
        },
        {
          "output_type": "display_data",
          "data": {
            "text/html": [
              "Find user logs for this run at: <code>/content/wandb/run-20210315_022729-ec8snp7x/logs/debug.log</code>"
            ],
            "text/plain": [
              "<IPython.core.display.HTML object>"
            ]
          },
          "metadata": {
            "tags": []
          }
        },
        {
          "output_type": "display_data",
          "data": {
            "text/html": [
              "Find internal logs for this run at: <code>/content/wandb/run-20210315_022729-ec8snp7x/logs/debug-internal.log</code>"
            ],
            "text/plain": [
              "<IPython.core.display.HTML object>"
            ]
          },
          "metadata": {
            "tags": []
          }
        },
        {
          "output_type": "display_data",
          "data": {
            "text/html": [
              "<h3>Run summary:</h3><br/><style>\n",
              "    table.wandb td:nth-child(1) { padding: 0 10px; text-align: right }\n",
              "    </style><table class=\"wandb\">\n",
              "<tr><td>epoch</td><td>10</td></tr><tr><td>accuracy</td><td>84.45</td></tr><tr><td>val_accuracy</td><td>85.95</td></tr><tr><td>val_loss</td><td>0.39895</td></tr><tr><td>train_loss</td><td>0.37217</td></tr><tr><td>train_accuracy</td><td>86.47593</td></tr><tr><td>_runtime</td><td>901</td></tr><tr><td>_timestamp</td><td>1615776150</td></tr><tr><td>_step</td><td>11</td></tr></table>"
            ],
            "text/plain": [
              "<IPython.core.display.HTML object>"
            ]
          },
          "metadata": {
            "tags": []
          }
        },
        {
          "output_type": "display_data",
          "data": {
            "text/html": [
              "<h3>Run history:</h3><br/><style>\n",
              "    table.wandb td:nth-child(1) { padding: 0 10px; text-align: right }\n",
              "    </style><table class=\"wandb\">\n",
              "<tr><td>epoch</td><td>▁▂▂▃▄▅▅▆▇▇█</td></tr><tr><td>accuracy</td><td>▁▇█████████</td></tr><tr><td>val_accuracy</td><td>▁▇█████████</td></tr><tr><td>val_loss</td><td>█▂▁▁▁▁▁▁▁▁▁</td></tr><tr><td>train_loss</td><td>█▂▁▁▁▁▁▁▁▁▁</td></tr><tr><td>train_accuracy</td><td>▁▇▇████████</td></tr><tr><td>_runtime</td><td>▁▂▂▃▄▅▅▆▇▇██</td></tr><tr><td>_timestamp</td><td>▁▂▂▃▄▅▅▆▇▇██</td></tr><tr><td>_step</td><td>▁▂▂▃▄▄▅▅▆▇▇█</td></tr></table><br/>"
            ],
            "text/plain": [
              "<IPython.core.display.HTML object>"
            ]
          },
          "metadata": {
            "tags": []
          }
        },
        {
          "output_type": "display_data",
          "data": {
            "text/html": [
              "Synced 5 W&B file(s), 1 media file(s), 0 artifact file(s) and 0 other file(s)"
            ],
            "text/plain": [
              "<IPython.core.display.HTML object>"
            ]
          },
          "metadata": {
            "tags": []
          }
        },
        {
          "output_type": "display_data",
          "data": {
            "text/html": [
              "\n",
              "                    <br/>Synced <strong style=\"color:#cdcd00\">floral-sweep-12</strong>: <a href=\"https://wandb.ai/vrunda/CS6910_Assignment1/runs/ec8snp7x\" target=\"_blank\">https://wandb.ai/vrunda/CS6910_Assignment1/runs/ec8snp7x</a><br/>\n",
              "                "
            ],
            "text/plain": [
              "<IPython.core.display.HTML object>"
            ]
          },
          "metadata": {
            "tags": []
          }
        },
        {
          "output_type": "stream",
          "text": [
            "\u001b[34m\u001b[1mwandb\u001b[0m: Agent Starting Run: 8d7y21ab with config:\n",
            "\u001b[34m\u001b[1mwandb\u001b[0m: \tNeurons: 64\n",
            "\u001b[34m\u001b[1mwandb\u001b[0m: \tNo_hidden_layer: 3\n",
            "\u001b[34m\u001b[1mwandb\u001b[0m: \tactivation_type: ReLU\n",
            "\u001b[34m\u001b[1mwandb\u001b[0m: \tepochs: 10\n",
            "\u001b[34m\u001b[1mwandb\u001b[0m: \tlearning_rate: 0.0001\n",
            "\u001b[34m\u001b[1mwandb\u001b[0m: \tloss_optimizer_type: vanila\n",
            "\u001b[34m\u001b[1mwandb\u001b[0m: \tmini_batch_size: 16\n",
            "\u001b[34m\u001b[1mwandb\u001b[0m: \tweight_decay: 0.5\n",
            "\u001b[34m\u001b[1mwandb\u001b[0m: \tweight_initialization: xavier\n",
            "\u001b[34m\u001b[1mwandb\u001b[0m: \u001b[33mWARNING\u001b[0m Ignored wandb.init() arg project when running a sweep\n"
          ],
          "name": "stderr"
        },
        {
          "output_type": "display_data",
          "data": {
            "text/html": [
              "\n",
              "                Tracking run with wandb version 0.10.22<br/>\n",
              "                Syncing run <strong style=\"color:#cdcd00\">polished-sweep-13</strong> to <a href=\"https://wandb.ai\" target=\"_blank\">Weights & Biases</a> <a href=\"https://docs.wandb.com/integrations/jupyter.html\" target=\"_blank\">(Documentation)</a>.<br/>\n",
              "                Project page: <a href=\"https://wandb.ai/vrunda/CS6910_Assignment1\" target=\"_blank\">https://wandb.ai/vrunda/CS6910_Assignment1</a><br/>\n",
              "                Sweep page: <a href=\"https://wandb.ai/vrunda/CS6910_Assignment1/sweeps/1o5dqarx\" target=\"_blank\">https://wandb.ai/vrunda/CS6910_Assignment1/sweeps/1o5dqarx</a><br/>\n",
              "Run page: <a href=\"https://wandb.ai/vrunda/CS6910_Assignment1/runs/8d7y21ab\" target=\"_blank\">https://wandb.ai/vrunda/CS6910_Assignment1/runs/8d7y21ab</a><br/>\n",
              "                Run data is saved locally in <code>/content/wandb/run-20210315_024240-8d7y21ab</code><br/><br/>\n",
              "            "
            ],
            "text/plain": [
              "<IPython.core.display.HTML object>"
            ]
          },
          "metadata": {
            "tags": []
          }
        },
        {
          "output_type": "stream",
          "text": [
            "epoch===> 0\n",
            "   Train_loss==>  2.59323025284976\n",
            "   Val_loss====>  2.597274287701731\n",
            "\n",
            "   Train_acc==>  14.822222222222223\n",
            "   Val_acc=====>  14.783333333333335\n",
            "Final_accuracy==>   15.36\n",
            "Epoch==> 1\n",
            "   Train_loss==>  2.0423021681998605\n",
            "   Val_loss====>  2.045908556651266\n",
            "\n",
            "   Train_acc==>  39.37222222222222\n",
            "   Val_acc=====>  39.08333333333333\n",
            "Final_accuracy==>   39.1\n",
            "Epoch==> 2\n",
            "   Train_loss==>  1.9752977263697882\n",
            "   Val_loss====>  1.9774043052997914\n",
            "\n",
            "   Train_acc==>  50.47407407407407\n",
            "   Val_acc=====>  50.78333333333334\n",
            "Final_accuracy==>   50.06\n",
            "Epoch==> 3\n",
            "   Train_loss==>  1.9883706500452785\n",
            "   Val_loss====>  1.9894440268982672\n",
            "\n",
            "   Train_acc==>  52.2\n",
            "   Val_acc=====>  52.25\n",
            "Final_accuracy==>   51.62\n",
            "Epoch==> 4\n",
            "   Train_loss==>  2.029153293496772\n",
            "   Val_loss====>  2.0297444495737706\n",
            "\n",
            "   Train_acc==>  51.54444444444445\n",
            "   Val_acc=====>  51.300000000000004\n",
            "Final_accuracy==>   50.690000000000005\n",
            "Epoch==> 5\n",
            "   Train_loss==>  2.079437875022447\n",
            "   Val_loss====>  2.0797011195498465\n",
            "\n",
            "   Train_acc==>  50.977777777777774\n",
            "   Val_acc=====>  50.43333333333333\n",
            "Final_accuracy==>   50.370000000000005\n",
            "Epoch==> 6\n",
            "   Train_loss==>  2.128693456223283\n",
            "   Val_loss====>  2.128777852502079\n",
            "\n",
            "   Train_acc==>  48.7962962962963\n",
            "   Val_acc=====>  48.68333333333334\n",
            "Final_accuracy==>   48.15\n",
            "Epoch==> 7\n",
            "   Train_loss==>  2.17201704625206\n",
            "   Val_loss====>  2.172013700805862\n",
            "\n",
            "   Train_acc==>  42.114814814814814\n",
            "   Val_acc=====>  41.41666666666667\n",
            "Final_accuracy==>   41.410000000000004\n",
            "Epoch==> 8\n",
            "   Train_loss==>  2.2078757465881216\n",
            "   Val_loss====>  2.207833074113114\n",
            "\n",
            "   Train_acc==>  37.355555555555554\n",
            "   Val_acc=====>  37.083333333333336\n",
            "Final_accuracy==>   37.13\n",
            "Epoch==> 9\n",
            "   Train_loss==>  2.236177675984686\n",
            "   Val_loss====>  2.236121425730482\n",
            "\n",
            "   Train_acc==>  32.30740740740741\n",
            "   Val_acc=====>  32.983333333333334\n",
            "Final_accuracy==>   32.6\n",
            "Epoch==> 10\n",
            "   Train_loss==>  2.257634264457514\n",
            "   Val_loss====>  2.2575703438651273\n",
            "\n",
            "   Train_acc==>  28.496296296296297\n",
            "   Val_acc=====>  28.749999999999996\n",
            "Final_accuracy==>   28.349999999999998\n"
          ],
          "name": "stdout"
        },
        {
          "output_type": "display_data",
          "data": {
            "text/html": [
              "<br/>Waiting for W&B process to finish, PID 1987<br/>Program ended successfully."
            ],
            "text/plain": [
              "<IPython.core.display.HTML object>"
            ]
          },
          "metadata": {
            "tags": []
          }
        },
        {
          "output_type": "display_data",
          "data": {
            "application/vnd.jupyter.widget-view+json": {
              "model_id": "c44fe0575f234b028c19a3d056134e67",
              "version_major": 2,
              "version_minor": 0
            },
            "text/plain": [
              "VBox(children=(Label(value=' 0.00MB of 0.00MB uploaded (0.00MB deduped)\\r'), FloatProgress(value=1.0, max=1.0)…"
            ]
          },
          "metadata": {
            "tags": []
          }
        },
        {
          "output_type": "display_data",
          "data": {
            "text/html": [
              "Find user logs for this run at: <code>/content/wandb/run-20210315_024240-8d7y21ab/logs/debug.log</code>"
            ],
            "text/plain": [
              "<IPython.core.display.HTML object>"
            ]
          },
          "metadata": {
            "tags": []
          }
        },
        {
          "output_type": "display_data",
          "data": {
            "text/html": [
              "Find internal logs for this run at: <code>/content/wandb/run-20210315_024240-8d7y21ab/logs/debug-internal.log</code>"
            ],
            "text/plain": [
              "<IPython.core.display.HTML object>"
            ]
          },
          "metadata": {
            "tags": []
          }
        },
        {
          "output_type": "display_data",
          "data": {
            "text/html": [
              "<h3>Run summary:</h3><br/><style>\n",
              "    table.wandb td:nth-child(1) { padding: 0 10px; text-align: right }\n",
              "    </style><table class=\"wandb\">\n",
              "<tr><td>epoch</td><td>10</td></tr><tr><td>accuracy</td><td>28.35</td></tr><tr><td>val_accuracy</td><td>28.75</td></tr><tr><td>val_loss</td><td>2.25757</td></tr><tr><td>train_loss</td><td>2.25763</td></tr><tr><td>train_accuracy</td><td>28.4963</td></tr><tr><td>_runtime</td><td>634</td></tr><tr><td>_timestamp</td><td>1615776794</td></tr><tr><td>_step</td><td>11</td></tr></table>"
            ],
            "text/plain": [
              "<IPython.core.display.HTML object>"
            ]
          },
          "metadata": {
            "tags": []
          }
        },
        {
          "output_type": "display_data",
          "data": {
            "text/html": [
              "<h3>Run history:</h3><br/><style>\n",
              "    table.wandb td:nth-child(1) { padding: 0 10px; text-align: right }\n",
              "    </style><table class=\"wandb\">\n",
              "<tr><td>epoch</td><td>▁▂▂▃▄▅▅▆▇▇█</td></tr><tr><td>accuracy</td><td>▁▆████▇▆▅▄▄</td></tr><tr><td>val_accuracy</td><td>▁▆████▇▆▅▄▄</td></tr><tr><td>val_loss</td><td>█▂▁▁▂▂▃▃▄▄▄</td></tr><tr><td>train_loss</td><td>█▂▁▁▂▂▃▃▄▄▄</td></tr><tr><td>train_accuracy</td><td>▁▆████▇▆▅▄▄</td></tr><tr><td>_runtime</td><td>▁▂▂▃▄▅▅▆▇▇██</td></tr><tr><td>_timestamp</td><td>▁▂▂▃▄▅▅▆▇▇██</td></tr><tr><td>_step</td><td>▁▂▂▃▄▄▅▅▆▇▇█</td></tr></table><br/>"
            ],
            "text/plain": [
              "<IPython.core.display.HTML object>"
            ]
          },
          "metadata": {
            "tags": []
          }
        },
        {
          "output_type": "display_data",
          "data": {
            "text/html": [
              "Synced 5 W&B file(s), 1 media file(s), 0 artifact file(s) and 0 other file(s)"
            ],
            "text/plain": [
              "<IPython.core.display.HTML object>"
            ]
          },
          "metadata": {
            "tags": []
          }
        },
        {
          "output_type": "display_data",
          "data": {
            "text/html": [
              "\n",
              "                    <br/>Synced <strong style=\"color:#cdcd00\">polished-sweep-13</strong>: <a href=\"https://wandb.ai/vrunda/CS6910_Assignment1/runs/8d7y21ab\" target=\"_blank\">https://wandb.ai/vrunda/CS6910_Assignment1/runs/8d7y21ab</a><br/>\n",
              "                "
            ],
            "text/plain": [
              "<IPython.core.display.HTML object>"
            ]
          },
          "metadata": {
            "tags": []
          }
        },
        {
          "output_type": "stream",
          "text": [
            "\u001b[34m\u001b[1mwandb\u001b[0m: Agent Starting Run: nev0imaa with config:\n",
            "\u001b[34m\u001b[1mwandb\u001b[0m: \tNeurons: 32\n",
            "\u001b[34m\u001b[1mwandb\u001b[0m: \tNo_hidden_layer: 3\n",
            "\u001b[34m\u001b[1mwandb\u001b[0m: \tactivation_type: tanh\n",
            "\u001b[34m\u001b[1mwandb\u001b[0m: \tepochs: 5\n",
            "\u001b[34m\u001b[1mwandb\u001b[0m: \tlearning_rate: 0.0001\n",
            "\u001b[34m\u001b[1mwandb\u001b[0m: \tloss_optimizer_type: vanila\n",
            "\u001b[34m\u001b[1mwandb\u001b[0m: \tmini_batch_size: 32\n",
            "\u001b[34m\u001b[1mwandb\u001b[0m: \tweight_decay: 0.5\n",
            "\u001b[34m\u001b[1mwandb\u001b[0m: \tweight_initialization: xavier\n",
            "\u001b[34m\u001b[1mwandb\u001b[0m: \u001b[33mWARNING\u001b[0m Ignored wandb.init() arg project when running a sweep\n"
          ],
          "name": "stderr"
        },
        {
          "output_type": "display_data",
          "data": {
            "text/html": [
              "\n",
              "                Tracking run with wandb version 0.10.22<br/>\n",
              "                Syncing run <strong style=\"color:#cdcd00\">wise-sweep-14</strong> to <a href=\"https://wandb.ai\" target=\"_blank\">Weights & Biases</a> <a href=\"https://docs.wandb.com/integrations/jupyter.html\" target=\"_blank\">(Documentation)</a>.<br/>\n",
              "                Project page: <a href=\"https://wandb.ai/vrunda/CS6910_Assignment1\" target=\"_blank\">https://wandb.ai/vrunda/CS6910_Assignment1</a><br/>\n",
              "                Sweep page: <a href=\"https://wandb.ai/vrunda/CS6910_Assignment1/sweeps/1o5dqarx\" target=\"_blank\">https://wandb.ai/vrunda/CS6910_Assignment1/sweeps/1o5dqarx</a><br/>\n",
              "Run page: <a href=\"https://wandb.ai/vrunda/CS6910_Assignment1/runs/nev0imaa\" target=\"_blank\">https://wandb.ai/vrunda/CS6910_Assignment1/runs/nev0imaa</a><br/>\n",
              "                Run data is saved locally in <code>/content/wandb/run-20210315_025324-nev0imaa</code><br/><br/>\n",
              "            "
            ],
            "text/plain": [
              "<IPython.core.display.HTML object>"
            ]
          },
          "metadata": {
            "tags": []
          }
        },
        {
          "output_type": "stream",
          "text": [
            "epoch===> 0\n",
            "   Train_loss==>  2.456652680174782\n",
            "   Val_loss====>  2.454848725328564\n",
            "\n",
            "   Train_acc==>  10.477777777777778\n",
            "   Val_acc=====>  10.316666666666666\n",
            "Final_accuracy==>   10.67\n",
            "Epoch==> 1\n",
            "   Train_loss==>  2.102401209696883\n",
            "   Val_loss====>  2.0978209373270524\n",
            "\n",
            "   Train_acc==>  31.894444444444442\n",
            "   Val_acc=====>  31.016666666666666\n",
            "Final_accuracy==>   31.540000000000003\n",
            "Epoch==> 2\n",
            "   Train_loss==>  1.9633952632518137\n",
            "   Val_loss====>  1.9586224288488878\n",
            "\n",
            "   Train_acc==>  44.01851851851852\n",
            "   Val_acc=====>  44.583333333333336\n",
            "Final_accuracy==>   44.1\n",
            "Epoch==> 3\n",
            "   Train_loss==>  1.9154850937524288\n",
            "   Val_loss====>  1.911167180312281\n",
            "\n",
            "   Train_acc==>  50.08518518518519\n",
            "   Val_acc=====>  50.68333333333334\n",
            "Final_accuracy==>   49.980000000000004\n",
            "Epoch==> 4\n",
            "   Train_loss==>  1.907233113291914\n",
            "   Val_loss====>  1.903443136668872\n",
            "\n",
            "   Train_acc==>  53.50555555555555\n",
            "   Val_acc=====>  54.43333333333334\n",
            "Final_accuracy==>   53.63\n",
            "Epoch==> 5\n",
            "   Train_loss==>  1.9189416469067742\n",
            "   Val_loss====>  1.9156784957643647\n",
            "\n",
            "   Train_acc==>  55.42037037037038\n",
            "   Val_acc=====>  56.15\n",
            "Final_accuracy==>   55.67999999999999\n"
          ],
          "name": "stdout"
        },
        {
          "output_type": "display_data",
          "data": {
            "text/html": [
              "<br/>Waiting for W&B process to finish, PID 2019<br/>Program ended successfully."
            ],
            "text/plain": [
              "<IPython.core.display.HTML object>"
            ]
          },
          "metadata": {
            "tags": []
          }
        },
        {
          "output_type": "display_data",
          "data": {
            "application/vnd.jupyter.widget-view+json": {
              "model_id": "516c3d380ba24e29a96e48342037998e",
              "version_major": 2,
              "version_minor": 0
            },
            "text/plain": [
              "VBox(children=(Label(value=' 0.00MB of 0.00MB uploaded (0.00MB deduped)\\r'), FloatProgress(value=0.17706013363…"
            ]
          },
          "metadata": {
            "tags": []
          }
        },
        {
          "output_type": "display_data",
          "data": {
            "text/html": [
              "Find user logs for this run at: <code>/content/wandb/run-20210315_025324-nev0imaa/logs/debug.log</code>"
            ],
            "text/plain": [
              "<IPython.core.display.HTML object>"
            ]
          },
          "metadata": {
            "tags": []
          }
        },
        {
          "output_type": "display_data",
          "data": {
            "text/html": [
              "Find internal logs for this run at: <code>/content/wandb/run-20210315_025324-nev0imaa/logs/debug-internal.log</code>"
            ],
            "text/plain": [
              "<IPython.core.display.HTML object>"
            ]
          },
          "metadata": {
            "tags": []
          }
        },
        {
          "output_type": "display_data",
          "data": {
            "text/html": [
              "<h3>Run summary:</h3><br/><style>\n",
              "    table.wandb td:nth-child(1) { padding: 0 10px; text-align: right }\n",
              "    </style><table class=\"wandb\">\n",
              "<tr><td>epoch</td><td>5</td></tr><tr><td>accuracy</td><td>55.68</td></tr><tr><td>val_accuracy</td><td>56.15</td></tr><tr><td>val_loss</td><td>1.91568</td></tr><tr><td>train_loss</td><td>1.91894</td></tr><tr><td>train_accuracy</td><td>55.42037</td></tr><tr><td>_runtime</td><td>239</td></tr><tr><td>_timestamp</td><td>1615777043</td></tr><tr><td>_step</td><td>6</td></tr></table>"
            ],
            "text/plain": [
              "<IPython.core.display.HTML object>"
            ]
          },
          "metadata": {
            "tags": []
          }
        },
        {
          "output_type": "display_data",
          "data": {
            "text/html": [
              "<h3>Run history:</h3><br/><style>\n",
              "    table.wandb td:nth-child(1) { padding: 0 10px; text-align: right }\n",
              "    </style><table class=\"wandb\">\n",
              "<tr><td>epoch</td><td>▁▂▄▅▇█</td></tr><tr><td>accuracy</td><td>▁▄▆▇██</td></tr><tr><td>val_accuracy</td><td>▁▄▆▇██</td></tr><tr><td>val_loss</td><td>█▃▂▁▁▁</td></tr><tr><td>train_loss</td><td>█▃▂▁▁▁</td></tr><tr><td>train_accuracy</td><td>▁▄▆▇██</td></tr><tr><td>_runtime</td><td>▁▂▄▅▇██</td></tr><tr><td>_timestamp</td><td>▁▂▄▅▇██</td></tr><tr><td>_step</td><td>▁▂▃▅▆▇█</td></tr></table><br/>"
            ],
            "text/plain": [
              "<IPython.core.display.HTML object>"
            ]
          },
          "metadata": {
            "tags": []
          }
        },
        {
          "output_type": "display_data",
          "data": {
            "text/html": [
              "Synced 5 W&B file(s), 1 media file(s), 0 artifact file(s) and 0 other file(s)"
            ],
            "text/plain": [
              "<IPython.core.display.HTML object>"
            ]
          },
          "metadata": {
            "tags": []
          }
        },
        {
          "output_type": "display_data",
          "data": {
            "text/html": [
              "\n",
              "                    <br/>Synced <strong style=\"color:#cdcd00\">wise-sweep-14</strong>: <a href=\"https://wandb.ai/vrunda/CS6910_Assignment1/runs/nev0imaa\" target=\"_blank\">https://wandb.ai/vrunda/CS6910_Assignment1/runs/nev0imaa</a><br/>\n",
              "                "
            ],
            "text/plain": [
              "<IPython.core.display.HTML object>"
            ]
          },
          "metadata": {
            "tags": []
          }
        },
        {
          "output_type": "stream",
          "text": [
            "\u001b[34m\u001b[1mwandb\u001b[0m: Agent Starting Run: ov5b617b with config:\n",
            "\u001b[34m\u001b[1mwandb\u001b[0m: \tNeurons: 64\n",
            "\u001b[34m\u001b[1mwandb\u001b[0m: \tNo_hidden_layer: 5\n",
            "\u001b[34m\u001b[1mwandb\u001b[0m: \tactivation_type: sigmoid\n",
            "\u001b[34m\u001b[1mwandb\u001b[0m: \tepochs: 5\n",
            "\u001b[34m\u001b[1mwandb\u001b[0m: \tlearning_rate: 0.001\n",
            "\u001b[34m\u001b[1mwandb\u001b[0m: \tloss_optimizer_type: momentum\n",
            "\u001b[34m\u001b[1mwandb\u001b[0m: \tmini_batch_size: 64\n",
            "\u001b[34m\u001b[1mwandb\u001b[0m: \tweight_decay: 0.0005\n",
            "\u001b[34m\u001b[1mwandb\u001b[0m: \tweight_initialization: random\n",
            "\u001b[34m\u001b[1mwandb\u001b[0m: \u001b[33mWARNING\u001b[0m Ignored wandb.init() arg project when running a sweep\n"
          ],
          "name": "stderr"
        },
        {
          "output_type": "display_data",
          "data": {
            "text/html": [
              "\n",
              "                Tracking run with wandb version 0.10.22<br/>\n",
              "                Syncing run <strong style=\"color:#cdcd00\">deft-sweep-15</strong> to <a href=\"https://wandb.ai\" target=\"_blank\">Weights & Biases</a> <a href=\"https://docs.wandb.com/integrations/jupyter.html\" target=\"_blank\">(Documentation)</a>.<br/>\n",
              "                Project page: <a href=\"https://wandb.ai/vrunda/CS6910_Assignment1\" target=\"_blank\">https://wandb.ai/vrunda/CS6910_Assignment1</a><br/>\n",
              "                Sweep page: <a href=\"https://wandb.ai/vrunda/CS6910_Assignment1/sweeps/1o5dqarx\" target=\"_blank\">https://wandb.ai/vrunda/CS6910_Assignment1/sweeps/1o5dqarx</a><br/>\n",
              "Run page: <a href=\"https://wandb.ai/vrunda/CS6910_Assignment1/runs/ov5b617b\" target=\"_blank\">https://wandb.ai/vrunda/CS6910_Assignment1/runs/ov5b617b</a><br/>\n",
              "                Run data is saved locally in <code>/content/wandb/run-20210315_025732-ov5b617b</code><br/><br/>\n",
              "            "
            ],
            "text/plain": [
              "<IPython.core.display.HTML object>"
            ]
          },
          "metadata": {
            "tags": []
          }
        },
        {
          "output_type": "stream",
          "text": [
            "epoch===> 0\n",
            "   Train_loss==>  2.3326838202003035\n",
            "   Val_loss====>  2.329303604415436\n",
            "\n",
            "   Train_acc==>  9.96111111111111\n",
            "   Val_acc=====>  10.35\n",
            "Final_accuracy==>   10.0\n",
            "Epoch==> 1\n",
            "   Train_loss==>  2.3034518016611343\n",
            "   Val_loss====>  2.3033030613449657\n",
            "\n",
            "   Train_acc==>  10.040740740740741\n",
            "   Val_acc=====>  9.633333333333335\n",
            "Final_accuracy==>   10.0\n",
            "Epoch==> 2\n",
            "   Train_loss==>  2.3034221361498854\n",
            "   Val_loss====>  2.3032732501234077\n",
            "\n",
            "   Train_acc==>  10.040740740740741\n",
            "   Val_acc=====>  9.633333333333335\n",
            "Final_accuracy==>   10.0\n",
            "Epoch==> 3\n",
            "   Train_loss==>  2.3033926795101283\n",
            "   Val_loss====>  2.303243645219222\n",
            "\n",
            "   Train_acc==>  10.040740740740741\n",
            "   Val_acc=====>  9.633333333333335\n",
            "Final_accuracy==>   10.0\n",
            "Epoch==> 4\n",
            "   Train_loss==>  2.303363338971709\n",
            "   Val_loss====>  2.3032141548612617\n",
            "\n",
            "   Train_acc==>  10.040740740740741\n",
            "   Val_acc=====>  9.633333333333335\n",
            "Final_accuracy==>   10.0\n",
            "Epoch==> 5\n",
            "   Train_loss==>  2.3033340225882903\n",
            "   Val_loss====>  2.3031846880132663\n",
            "\n",
            "   Train_acc==>  10.040740740740741\n",
            "   Val_acc=====>  9.633333333333335\n",
            "Final_accuracy==>   10.0\n"
          ],
          "name": "stdout"
        },
        {
          "output_type": "display_data",
          "data": {
            "text/html": [
              "<br/>Waiting for W&B process to finish, PID 2051<br/>Program ended successfully."
            ],
            "text/plain": [
              "<IPython.core.display.HTML object>"
            ]
          },
          "metadata": {
            "tags": []
          }
        },
        {
          "output_type": "display_data",
          "data": {
            "application/vnd.jupyter.widget-view+json": {
              "model_id": "aa3a1cdfdb994e9fa7fc3d5a355ba62a",
              "version_major": 2,
              "version_minor": 0
            },
            "text/plain": [
              "VBox(children=(Label(value=' 0.00MB of 0.00MB uploaded (0.00MB deduped)\\r'), FloatProgress(value=0.17925591882…"
            ]
          },
          "metadata": {
            "tags": []
          }
        },
        {
          "output_type": "display_data",
          "data": {
            "text/html": [
              "Find user logs for this run at: <code>/content/wandb/run-20210315_025732-ov5b617b/logs/debug.log</code>"
            ],
            "text/plain": [
              "<IPython.core.display.HTML object>"
            ]
          },
          "metadata": {
            "tags": []
          }
        },
        {
          "output_type": "display_data",
          "data": {
            "text/html": [
              "Find internal logs for this run at: <code>/content/wandb/run-20210315_025732-ov5b617b/logs/debug-internal.log</code>"
            ],
            "text/plain": [
              "<IPython.core.display.HTML object>"
            ]
          },
          "metadata": {
            "tags": []
          }
        },
        {
          "output_type": "display_data",
          "data": {
            "text/html": [
              "<h3>Run summary:</h3><br/><style>\n",
              "    table.wandb td:nth-child(1) { padding: 0 10px; text-align: right }\n",
              "    </style><table class=\"wandb\">\n",
              "<tr><td>epoch</td><td>5</td></tr><tr><td>accuracy</td><td>10.0</td></tr><tr><td>val_accuracy</td><td>9.63333</td></tr><tr><td>val_loss</td><td>2.30318</td></tr><tr><td>train_loss</td><td>2.30333</td></tr><tr><td>train_accuracy</td><td>10.04074</td></tr><tr><td>_runtime</td><td>473</td></tr><tr><td>_timestamp</td><td>1615777525</td></tr><tr><td>_step</td><td>6</td></tr></table>"
            ],
            "text/plain": [
              "<IPython.core.display.HTML object>"
            ]
          },
          "metadata": {
            "tags": []
          }
        },
        {
          "output_type": "display_data",
          "data": {
            "text/html": [
              "<h3>Run history:</h3><br/><style>\n",
              "    table.wandb td:nth-child(1) { padding: 0 10px; text-align: right }\n",
              "    </style><table class=\"wandb\">\n",
              "<tr><td>epoch</td><td>▁▂▄▅▇█</td></tr><tr><td>accuracy</td><td>▁▁▁▁▁▁</td></tr><tr><td>val_accuracy</td><td>█▁▁▁▁▁</td></tr><tr><td>val_loss</td><td>█▁▁▁▁▁</td></tr><tr><td>train_loss</td><td>█▁▁▁▁▁</td></tr><tr><td>train_accuracy</td><td>▁█████</td></tr><tr><td>_runtime</td><td>▁▂▄▅▇██</td></tr><tr><td>_timestamp</td><td>▁▂▄▅▇██</td></tr><tr><td>_step</td><td>▁▂▃▅▆▇█</td></tr></table><br/>"
            ],
            "text/plain": [
              "<IPython.core.display.HTML object>"
            ]
          },
          "metadata": {
            "tags": []
          }
        },
        {
          "output_type": "display_data",
          "data": {
            "text/html": [
              "Synced 5 W&B file(s), 1 media file(s), 0 artifact file(s) and 0 other file(s)"
            ],
            "text/plain": [
              "<IPython.core.display.HTML object>"
            ]
          },
          "metadata": {
            "tags": []
          }
        },
        {
          "output_type": "display_data",
          "data": {
            "text/html": [
              "\n",
              "                    <br/>Synced <strong style=\"color:#cdcd00\">deft-sweep-15</strong>: <a href=\"https://wandb.ai/vrunda/CS6910_Assignment1/runs/ov5b617b\" target=\"_blank\">https://wandb.ai/vrunda/CS6910_Assignment1/runs/ov5b617b</a><br/>\n",
              "                "
            ],
            "text/plain": [
              "<IPython.core.display.HTML object>"
            ]
          },
          "metadata": {
            "tags": []
          }
        },
        {
          "output_type": "stream",
          "text": [
            "\u001b[34m\u001b[1mwandb\u001b[0m: Agent Starting Run: 76lls9zb with config:\n",
            "\u001b[34m\u001b[1mwandb\u001b[0m: \tNeurons: 128\n",
            "\u001b[34m\u001b[1mwandb\u001b[0m: \tNo_hidden_layer: 3\n",
            "\u001b[34m\u001b[1mwandb\u001b[0m: \tactivation_type: ReLU\n",
            "\u001b[34m\u001b[1mwandb\u001b[0m: \tepochs: 5\n",
            "\u001b[34m\u001b[1mwandb\u001b[0m: \tlearning_rate: 0.001\n",
            "\u001b[34m\u001b[1mwandb\u001b[0m: \tloss_optimizer_type: nag\n",
            "\u001b[34m\u001b[1mwandb\u001b[0m: \tmini_batch_size: 1\n",
            "\u001b[34m\u001b[1mwandb\u001b[0m: \tweight_decay: 0.5\n",
            "\u001b[34m\u001b[1mwandb\u001b[0m: \tweight_initialization: xavier\n",
            "\u001b[34m\u001b[1mwandb\u001b[0m: \u001b[33mWARNING\u001b[0m Ignored wandb.init() arg project when running a sweep\n"
          ],
          "name": "stderr"
        },
        {
          "output_type": "display_data",
          "data": {
            "text/html": [
              "\n",
              "                Tracking run with wandb version 0.10.22<br/>\n",
              "                Syncing run <strong style=\"color:#cdcd00\">daily-sweep-16</strong> to <a href=\"https://wandb.ai\" target=\"_blank\">Weights & Biases</a> <a href=\"https://docs.wandb.com/integrations/jupyter.html\" target=\"_blank\">(Documentation)</a>.<br/>\n",
              "                Project page: <a href=\"https://wandb.ai/vrunda/CS6910_Assignment1\" target=\"_blank\">https://wandb.ai/vrunda/CS6910_Assignment1</a><br/>\n",
              "                Sweep page: <a href=\"https://wandb.ai/vrunda/CS6910_Assignment1/sweeps/1o5dqarx\" target=\"_blank\">https://wandb.ai/vrunda/CS6910_Assignment1/sweeps/1o5dqarx</a><br/>\n",
              "Run page: <a href=\"https://wandb.ai/vrunda/CS6910_Assignment1/runs/76lls9zb\" target=\"_blank\">https://wandb.ai/vrunda/CS6910_Assignment1/runs/76lls9zb</a><br/>\n",
              "                Run data is saved locally in <code>/content/wandb/run-20210315_030539-76lls9zb</code><br/><br/>\n",
              "            "
            ],
            "text/plain": [
              "<IPython.core.display.HTML object>"
            ]
          },
          "metadata": {
            "tags": []
          }
        },
        {
          "output_type": "stream",
          "text": [
            "epoch===> 0\n",
            "   Train_loss==>  2.472113747568911\n",
            "   Val_loss====>  2.4675545387369513\n",
            "\n",
            "   Train_acc==>  9.481481481481481\n",
            "   Val_acc=====>  9.633333333333335\n",
            "Final_accuracy==>   9.21\n",
            "Epoch==> 1\n",
            "   Train_loss==>  0.6616711863415928\n",
            "   Val_loss====>  0.6811734550857393\n",
            "\n",
            "   Train_acc==>  77.0462962962963\n",
            "   Val_acc=====>  75.96666666666667\n",
            "Final_accuracy==>   76.03\n",
            "Epoch==> 2\n",
            "   Train_loss==>  0.6660880382846169\n",
            "   Val_loss====>  0.6873213925207341\n",
            "\n",
            "   Train_acc==>  76.9537037037037\n",
            "   Val_acc=====>  75.8\n",
            "Final_accuracy==>   75.87\n",
            "Epoch==> 3\n",
            "   Train_loss==>  0.6679491715075817\n",
            "   Val_loss====>  0.6893945195780855\n",
            "\n",
            "   Train_acc==>  76.83703703703704\n",
            "   Val_acc=====>  75.78333333333333\n",
            "Final_accuracy==>   75.81\n",
            "Epoch==> 4\n",
            "   Train_loss==>  0.672436781805056\n",
            "   Val_loss====>  0.6934989495229653\n",
            "\n",
            "   Train_acc==>  76.67777777777778\n",
            "   Val_acc=====>  75.81666666666666\n",
            "Final_accuracy==>   75.53999999999999\n",
            "Epoch==> 5\n",
            "   Train_loss==>  0.6728148615246929\n",
            "   Val_loss====>  0.6941508392642014\n",
            "\n",
            "   Train_acc==>  76.7425925925926\n",
            "   Val_acc=====>  75.8\n",
            "Final_accuracy==>   75.69\n"
          ],
          "name": "stdout"
        },
        {
          "output_type": "display_data",
          "data": {
            "text/html": [
              "<br/>Waiting for W&B process to finish, PID 2083<br/>Program ended successfully."
            ],
            "text/plain": [
              "<IPython.core.display.HTML object>"
            ]
          },
          "metadata": {
            "tags": []
          }
        },
        {
          "output_type": "display_data",
          "data": {
            "application/vnd.jupyter.widget-view+json": {
              "model_id": "dce10c4b949f49bb84f4b555ec91a3bf",
              "version_major": 2,
              "version_minor": 0
            },
            "text/plain": [
              "VBox(children=(Label(value=' 0.00MB of 0.00MB uploaded (0.00MB deduped)\\r'), FloatProgress(value=0.17770326906…"
            ]
          },
          "metadata": {
            "tags": []
          }
        },
        {
          "output_type": "display_data",
          "data": {
            "text/html": [
              "Find user logs for this run at: <code>/content/wandb/run-20210315_030539-76lls9zb/logs/debug.log</code>"
            ],
            "text/plain": [
              "<IPython.core.display.HTML object>"
            ]
          },
          "metadata": {
            "tags": []
          }
        },
        {
          "output_type": "display_data",
          "data": {
            "text/html": [
              "Find internal logs for this run at: <code>/content/wandb/run-20210315_030539-76lls9zb/logs/debug-internal.log</code>"
            ],
            "text/plain": [
              "<IPython.core.display.HTML object>"
            ]
          },
          "metadata": {
            "tags": []
          }
        },
        {
          "output_type": "display_data",
          "data": {
            "text/html": [
              "<h3>Run summary:</h3><br/><style>\n",
              "    table.wandb td:nth-child(1) { padding: 0 10px; text-align: right }\n",
              "    </style><table class=\"wandb\">\n",
              "<tr><td>epoch</td><td>5</td></tr><tr><td>accuracy</td><td>75.69</td></tr><tr><td>val_accuracy</td><td>75.8</td></tr><tr><td>val_loss</td><td>0.69415</td></tr><tr><td>train_loss</td><td>0.67281</td></tr><tr><td>train_accuracy</td><td>76.74259</td></tr><tr><td>_runtime</td><td>1462</td></tr><tr><td>_timestamp</td><td>1615779001</td></tr><tr><td>_step</td><td>6</td></tr></table>"
            ],
            "text/plain": [
              "<IPython.core.display.HTML object>"
            ]
          },
          "metadata": {
            "tags": []
          }
        },
        {
          "output_type": "display_data",
          "data": {
            "text/html": [
              "<h3>Run history:</h3><br/><style>\n",
              "    table.wandb td:nth-child(1) { padding: 0 10px; text-align: right }\n",
              "    </style><table class=\"wandb\">\n",
              "<tr><td>epoch</td><td>▁▂▄▅▇█</td></tr><tr><td>accuracy</td><td>▁█████</td></tr><tr><td>val_accuracy</td><td>▁█████</td></tr><tr><td>val_loss</td><td>█▁▁▁▁▁</td></tr><tr><td>train_loss</td><td>█▁▁▁▁▁</td></tr><tr><td>train_accuracy</td><td>▁█████</td></tr><tr><td>_runtime</td><td>▁▂▄▅▇██</td></tr><tr><td>_timestamp</td><td>▁▂▄▅▇██</td></tr><tr><td>_step</td><td>▁▂▃▅▆▇█</td></tr></table><br/>"
            ],
            "text/plain": [
              "<IPython.core.display.HTML object>"
            ]
          },
          "metadata": {
            "tags": []
          }
        },
        {
          "output_type": "display_data",
          "data": {
            "text/html": [
              "Synced 5 W&B file(s), 1 media file(s), 0 artifact file(s) and 0 other file(s)"
            ],
            "text/plain": [
              "<IPython.core.display.HTML object>"
            ]
          },
          "metadata": {
            "tags": []
          }
        },
        {
          "output_type": "display_data",
          "data": {
            "text/html": [
              "\n",
              "                    <br/>Synced <strong style=\"color:#cdcd00\">daily-sweep-16</strong>: <a href=\"https://wandb.ai/vrunda/CS6910_Assignment1/runs/76lls9zb\" target=\"_blank\">https://wandb.ai/vrunda/CS6910_Assignment1/runs/76lls9zb</a><br/>\n",
              "                "
            ],
            "text/plain": [
              "<IPython.core.display.HTML object>"
            ]
          },
          "metadata": {
            "tags": []
          }
        },
        {
          "output_type": "stream",
          "text": [
            "\u001b[34m\u001b[1mwandb\u001b[0m: Agent Starting Run: gqacqf3f with config:\n",
            "\u001b[34m\u001b[1mwandb\u001b[0m: \tNeurons: 64\n",
            "\u001b[34m\u001b[1mwandb\u001b[0m: \tNo_hidden_layer: 4\n",
            "\u001b[34m\u001b[1mwandb\u001b[0m: \tactivation_type: ReLU\n",
            "\u001b[34m\u001b[1mwandb\u001b[0m: \tepochs: 10\n",
            "\u001b[34m\u001b[1mwandb\u001b[0m: \tlearning_rate: 0.001\n",
            "\u001b[34m\u001b[1mwandb\u001b[0m: \tloss_optimizer_type: nadam\n",
            "\u001b[34m\u001b[1mwandb\u001b[0m: \tmini_batch_size: 16\n",
            "\u001b[34m\u001b[1mwandb\u001b[0m: \tweight_decay: 0.0005\n",
            "\u001b[34m\u001b[1mwandb\u001b[0m: \tweight_initialization: xavier\n",
            "\u001b[34m\u001b[1mwandb\u001b[0m: \u001b[33mWARNING\u001b[0m Ignored wandb.init() arg project when running a sweep\n"
          ],
          "name": "stderr"
        },
        {
          "output_type": "display_data",
          "data": {
            "text/html": [
              "\n",
              "                Tracking run with wandb version 0.10.22<br/>\n",
              "                Syncing run <strong style=\"color:#cdcd00\">visionary-sweep-17</strong> to <a href=\"https://wandb.ai\" target=\"_blank\">Weights & Biases</a> <a href=\"https://docs.wandb.com/integrations/jupyter.html\" target=\"_blank\">(Documentation)</a>.<br/>\n",
              "                Project page: <a href=\"https://wandb.ai/vrunda/CS6910_Assignment1\" target=\"_blank\">https://wandb.ai/vrunda/CS6910_Assignment1</a><br/>\n",
              "                Sweep page: <a href=\"https://wandb.ai/vrunda/CS6910_Assignment1/sweeps/1o5dqarx\" target=\"_blank\">https://wandb.ai/vrunda/CS6910_Assignment1/sweeps/1o5dqarx</a><br/>\n",
              "Run page: <a href=\"https://wandb.ai/vrunda/CS6910_Assignment1/runs/gqacqf3f\" target=\"_blank\">https://wandb.ai/vrunda/CS6910_Assignment1/runs/gqacqf3f</a><br/>\n",
              "                Run data is saved locally in <code>/content/wandb/run-20210315_033011-gqacqf3f</code><br/><br/>\n",
              "            "
            ],
            "text/plain": [
              "<IPython.core.display.HTML object>"
            ]
          },
          "metadata": {
            "tags": []
          }
        },
        {
          "output_type": "stream",
          "text": [
            "epoch===> 0\n",
            "   Train_loss==>  2.528206263628485\n",
            "   Val_loss====>  2.525548634163264\n",
            "\n",
            "   Train_acc==>  12.262962962962963\n",
            "   Val_acc=====>  12.2\n",
            "Final_accuracy==>   12.09\n",
            "Epoch==> 1\n",
            "   Train_loss==>  0.3550050719731795\n",
            "   Val_loss====>  0.3960056305975854\n",
            "\n",
            "   Train_acc==>  87.07592592592593\n",
            "   Val_acc=====>  85.51666666666667\n",
            "Final_accuracy==>   85.21\n",
            "Epoch==> 2\n",
            "   Train_loss==>  0.3481034842854303\n",
            "   Val_loss====>  0.40625046451301994\n",
            "\n",
            "   Train_acc==>  87.46851851851852\n",
            "   Val_acc=====>  85.26666666666667\n",
            "Final_accuracy==>   85.00999999999999\n",
            "Epoch==> 3\n",
            "   Train_loss==>  0.3146317952408137\n",
            "   Val_loss====>  0.3858004831336869\n",
            "\n",
            "   Train_acc==>  88.71296296296296\n",
            "   Val_acc=====>  86.4\n",
            "Final_accuracy==>   86.0\n",
            "Epoch==> 4\n",
            "   Train_loss==>  0.2882411052130057\n",
            "   Val_loss====>  0.3767197641975448\n",
            "\n",
            "   Train_acc==>  89.47037037037036\n",
            "   Val_acc=====>  86.86666666666667\n",
            "Final_accuracy==>   86.83999999999999\n",
            "Epoch==> 5\n",
            "   Train_loss==>  0.2690884402505875\n",
            "   Val_loss====>  0.35658462613958214\n",
            "\n",
            "   Train_acc==>  90.2074074074074\n",
            "   Val_acc=====>  87.5\n",
            "Final_accuracy==>   87.07000000000001\n",
            "Epoch==> 6\n",
            "   Train_loss==>  0.2663690600889451\n",
            "   Val_loss====>  0.37598155973983377\n",
            "\n",
            "   Train_acc==>  90.06296296296297\n",
            "   Val_acc=====>  86.98333333333333\n",
            "Final_accuracy==>   86.58\n",
            "Epoch==> 7\n",
            "   Train_loss==>  0.2532214126866405\n",
            "   Val_loss====>  0.38005376938340163\n",
            "\n",
            "   Train_acc==>  90.55555555555556\n",
            "   Val_acc=====>  87.03333333333333\n",
            "Final_accuracy==>   86.61\n",
            "Epoch==> 8\n",
            "   Train_loss==>  0.23302003809034924\n",
            "   Val_loss====>  0.3749610911958195\n",
            "\n",
            "   Train_acc==>  91.3\n",
            "   Val_acc=====>  87.41666666666667\n",
            "Final_accuracy==>   87.12\n",
            "Epoch==> 9\n",
            "   Train_loss==>  0.23515593645761246\n",
            "   Val_loss====>  0.3755924308700529\n",
            "\n",
            "   Train_acc==>  91.31481481481481\n",
            "   Val_acc=====>  87.71666666666667\n",
            "Final_accuracy==>   87.0\n",
            "Epoch==> 10\n",
            "   Train_loss==>  0.2308649635020539\n",
            "   Val_loss====>  0.4014968679134134\n",
            "\n",
            "   Train_acc==>  91.42407407407407\n",
            "   Val_acc=====>  87.38333333333334\n",
            "Final_accuracy==>   87.01\n"
          ],
          "name": "stdout"
        },
        {
          "output_type": "display_data",
          "data": {
            "text/html": [
              "<br/>Waiting for W&B process to finish, PID 2115<br/>Program ended successfully."
            ],
            "text/plain": [
              "<IPython.core.display.HTML object>"
            ]
          },
          "metadata": {
            "tags": []
          }
        },
        {
          "output_type": "display_data",
          "data": {
            "application/vnd.jupyter.widget-view+json": {
              "model_id": "9f983a1427d74faabc1c71cc62555d86",
              "version_major": 2,
              "version_minor": 0
            },
            "text/plain": [
              "VBox(children=(Label(value=' 0.00MB of 0.00MB uploaded (0.00MB deduped)\\r'), FloatProgress(value=1.0, max=1.0)…"
            ]
          },
          "metadata": {
            "tags": []
          }
        },
        {
          "output_type": "display_data",
          "data": {
            "text/html": [
              "Find user logs for this run at: <code>/content/wandb/run-20210315_033011-gqacqf3f/logs/debug.log</code>"
            ],
            "text/plain": [
              "<IPython.core.display.HTML object>"
            ]
          },
          "metadata": {
            "tags": []
          }
        },
        {
          "output_type": "display_data",
          "data": {
            "text/html": [
              "Find internal logs for this run at: <code>/content/wandb/run-20210315_033011-gqacqf3f/logs/debug-internal.log</code>"
            ],
            "text/plain": [
              "<IPython.core.display.HTML object>"
            ]
          },
          "metadata": {
            "tags": []
          }
        },
        {
          "output_type": "display_data",
          "data": {
            "text/html": [
              "<h3>Run summary:</h3><br/><style>\n",
              "    table.wandb td:nth-child(1) { padding: 0 10px; text-align: right }\n",
              "    </style><table class=\"wandb\">\n",
              "<tr><td>epoch</td><td>10</td></tr><tr><td>accuracy</td><td>87.01</td></tr><tr><td>val_accuracy</td><td>87.38333</td></tr><tr><td>val_loss</td><td>0.4015</td></tr><tr><td>train_loss</td><td>0.23086</td></tr><tr><td>train_accuracy</td><td>91.42407</td></tr><tr><td>_runtime</td><td>804</td></tr><tr><td>_timestamp</td><td>1615779815</td></tr><tr><td>_step</td><td>11</td></tr></table>"
            ],
            "text/plain": [
              "<IPython.core.display.HTML object>"
            ]
          },
          "metadata": {
            "tags": []
          }
        },
        {
          "output_type": "display_data",
          "data": {
            "text/html": [
              "<h3>Run history:</h3><br/><style>\n",
              "    table.wandb td:nth-child(1) { padding: 0 10px; text-align: right }\n",
              "    </style><table class=\"wandb\">\n",
              "<tr><td>epoch</td><td>▁▂▂▃▄▅▅▆▇▇█</td></tr><tr><td>accuracy</td><td>▁██████████</td></tr><tr><td>val_accuracy</td><td>▁██████████</td></tr><tr><td>val_loss</td><td>█▁▁▁▁▁▁▁▁▁▁</td></tr><tr><td>train_loss</td><td>█▁▁▁▁▁▁▁▁▁▁</td></tr><tr><td>train_accuracy</td><td>▁██████████</td></tr><tr><td>_runtime</td><td>▁▂▂▃▄▅▅▆▇▇██</td></tr><tr><td>_timestamp</td><td>▁▂▂▃▄▅▅▆▇▇██</td></tr><tr><td>_step</td><td>▁▂▂▃▄▄▅▅▆▇▇█</td></tr></table><br/>"
            ],
            "text/plain": [
              "<IPython.core.display.HTML object>"
            ]
          },
          "metadata": {
            "tags": []
          }
        },
        {
          "output_type": "display_data",
          "data": {
            "text/html": [
              "Synced 5 W&B file(s), 1 media file(s), 0 artifact file(s) and 0 other file(s)"
            ],
            "text/plain": [
              "<IPython.core.display.HTML object>"
            ]
          },
          "metadata": {
            "tags": []
          }
        },
        {
          "output_type": "display_data",
          "data": {
            "text/html": [
              "\n",
              "                    <br/>Synced <strong style=\"color:#cdcd00\">visionary-sweep-17</strong>: <a href=\"https://wandb.ai/vrunda/CS6910_Assignment1/runs/gqacqf3f\" target=\"_blank\">https://wandb.ai/vrunda/CS6910_Assignment1/runs/gqacqf3f</a><br/>\n",
              "                "
            ],
            "text/plain": [
              "<IPython.core.display.HTML object>"
            ]
          },
          "metadata": {
            "tags": []
          }
        },
        {
          "output_type": "stream",
          "text": [
            "\u001b[34m\u001b[1mwandb\u001b[0m: Agent Starting Run: ik9jy5hc with config:\n",
            "\u001b[34m\u001b[1mwandb\u001b[0m: \tNeurons: 64\n",
            "\u001b[34m\u001b[1mwandb\u001b[0m: \tNo_hidden_layer: 3\n",
            "\u001b[34m\u001b[1mwandb\u001b[0m: \tactivation_type: ReLU\n",
            "\u001b[34m\u001b[1mwandb\u001b[0m: \tepochs: 5\n",
            "\u001b[34m\u001b[1mwandb\u001b[0m: \tlearning_rate: 0.001\n",
            "\u001b[34m\u001b[1mwandb\u001b[0m: \tloss_optimizer_type: vanila\n",
            "\u001b[34m\u001b[1mwandb\u001b[0m: \tmini_batch_size: 64\n",
            "\u001b[34m\u001b[1mwandb\u001b[0m: \tweight_decay: 0.0005\n",
            "\u001b[34m\u001b[1mwandb\u001b[0m: \tweight_initialization: xavier\n",
            "\u001b[34m\u001b[1mwandb\u001b[0m: \u001b[33mWARNING\u001b[0m Ignored wandb.init() arg project when running a sweep\n"
          ],
          "name": "stderr"
        },
        {
          "output_type": "display_data",
          "data": {
            "text/html": [
              "\n",
              "                Tracking run with wandb version 0.10.22<br/>\n",
              "                Syncing run <strong style=\"color:#cdcd00\">denim-sweep-18</strong> to <a href=\"https://wandb.ai\" target=\"_blank\">Weights & Biases</a> <a href=\"https://docs.wandb.com/integrations/jupyter.html\" target=\"_blank\">(Documentation)</a>.<br/>\n",
              "                Project page: <a href=\"https://wandb.ai/vrunda/CS6910_Assignment1\" target=\"_blank\">https://wandb.ai/vrunda/CS6910_Assignment1</a><br/>\n",
              "                Sweep page: <a href=\"https://wandb.ai/vrunda/CS6910_Assignment1/sweeps/1o5dqarx\" target=\"_blank\">https://wandb.ai/vrunda/CS6910_Assignment1/sweeps/1o5dqarx</a><br/>\n",
              "Run page: <a href=\"https://wandb.ai/vrunda/CS6910_Assignment1/runs/ik9jy5hc\" target=\"_blank\">https://wandb.ai/vrunda/CS6910_Assignment1/runs/ik9jy5hc</a><br/>\n",
              "                Run data is saved locally in <code>/content/wandb/run-20210315_034345-ik9jy5hc</code><br/><br/>\n",
              "            "
            ],
            "text/plain": [
              "<IPython.core.display.HTML object>"
            ]
          },
          "metadata": {
            "tags": []
          }
        },
        {
          "output_type": "stream",
          "text": [
            "epoch===> 0\n",
            "   Train_loss==>  2.452725745594929\n",
            "   Val_loss====>  2.4450102780408427\n",
            "\n",
            "   Train_acc==>  5.714814814814815\n",
            "   Val_acc=====>  6.183333333333333\n",
            "Final_accuracy==>   5.67\n",
            "Epoch==> 1\n",
            "   Train_loss==>  1.1543808425876423\n",
            "   Val_loss====>  1.145529873517999\n",
            "\n",
            "   Train_acc==>  65.65925925925926\n",
            "   Val_acc=====>  66.78333333333333\n",
            "Final_accuracy==>   65.4\n",
            "Epoch==> 2\n",
            "   Train_loss==>  0.8096097441523759\n",
            "   Val_loss====>  0.8035898317402843\n",
            "\n",
            "   Train_acc==>  72.62037037037037\n",
            "   Val_acc=====>  73.08333333333333\n",
            "Final_accuracy==>   71.97\n",
            "Epoch==> 3\n",
            "   Train_loss==>  0.6881709277141113\n",
            "   Val_loss====>  0.6837135287917763\n",
            "\n",
            "   Train_acc==>  75.22037037037038\n",
            "   Val_acc=====>  75.55\n",
            "Final_accuracy==>   74.92\n",
            "Epoch==> 4\n",
            "   Train_loss==>  0.6248796190955663\n",
            "   Val_loss====>  0.6208019963010838\n",
            "\n",
            "   Train_acc==>  76.97037037037036\n",
            "   Val_acc=====>  77.21666666666667\n",
            "Final_accuracy==>   76.62\n",
            "Epoch==> 5\n",
            "   Train_loss==>  0.5835167754978625\n",
            "   Val_loss====>  0.5792840893903103\n",
            "\n",
            "   Train_acc==>  78.3111111111111\n",
            "   Val_acc=====>  78.33333333333333\n",
            "Final_accuracy==>   77.57\n"
          ],
          "name": "stdout"
        },
        {
          "output_type": "display_data",
          "data": {
            "text/html": [
              "<br/>Waiting for W&B process to finish, PID 2147<br/>Program ended successfully."
            ],
            "text/plain": [
              "<IPython.core.display.HTML object>"
            ]
          },
          "metadata": {
            "tags": []
          }
        },
        {
          "output_type": "display_data",
          "data": {
            "application/vnd.jupyter.widget-view+json": {
              "model_id": "cfef64fc478f4b94abcd981672f5e83a",
              "version_major": 2,
              "version_minor": 0
            },
            "text/plain": [
              "VBox(children=(Label(value=' 0.00MB of 0.00MB uploaded (0.00MB deduped)\\r'), FloatProgress(value=1.0, max=1.0)…"
            ]
          },
          "metadata": {
            "tags": []
          }
        },
        {
          "output_type": "display_data",
          "data": {
            "text/html": [
              "Find user logs for this run at: <code>/content/wandb/run-20210315_034345-ik9jy5hc/logs/debug.log</code>"
            ],
            "text/plain": [
              "<IPython.core.display.HTML object>"
            ]
          },
          "metadata": {
            "tags": []
          }
        },
        {
          "output_type": "display_data",
          "data": {
            "text/html": [
              "Find internal logs for this run at: <code>/content/wandb/run-20210315_034345-ik9jy5hc/logs/debug-internal.log</code>"
            ],
            "text/plain": [
              "<IPython.core.display.HTML object>"
            ]
          },
          "metadata": {
            "tags": []
          }
        },
        {
          "output_type": "display_data",
          "data": {
            "text/html": [
              "<h3>Run summary:</h3><br/><style>\n",
              "    table.wandb td:nth-child(1) { padding: 0 10px; text-align: right }\n",
              "    </style><table class=\"wandb\">\n",
              "<tr><td>epoch</td><td>5</td></tr><tr><td>accuracy</td><td>77.57</td></tr><tr><td>val_accuracy</td><td>78.33333</td></tr><tr><td>val_loss</td><td>0.57928</td></tr><tr><td>train_loss</td><td>0.58352</td></tr><tr><td>train_accuracy</td><td>78.31111</td></tr><tr><td>_runtime</td><td>319</td></tr><tr><td>_timestamp</td><td>1615780144</td></tr><tr><td>_step</td><td>6</td></tr></table>"
            ],
            "text/plain": [
              "<IPython.core.display.HTML object>"
            ]
          },
          "metadata": {
            "tags": []
          }
        },
        {
          "output_type": "display_data",
          "data": {
            "text/html": [
              "<h3>Run history:</h3><br/><style>\n",
              "    table.wandb td:nth-child(1) { padding: 0 10px; text-align: right }\n",
              "    </style><table class=\"wandb\">\n",
              "<tr><td>epoch</td><td>▁▂▄▅▇█</td></tr><tr><td>accuracy</td><td>▁▇▇███</td></tr><tr><td>val_accuracy</td><td>▁▇▇███</td></tr><tr><td>val_loss</td><td>█▃▂▁▁▁</td></tr><tr><td>train_loss</td><td>█▃▂▁▁▁</td></tr><tr><td>train_accuracy</td><td>▁▇▇███</td></tr><tr><td>_runtime</td><td>▁▂▄▅▇██</td></tr><tr><td>_timestamp</td><td>▁▂▄▅▇██</td></tr><tr><td>_step</td><td>▁▂▃▅▆▇█</td></tr></table><br/>"
            ],
            "text/plain": [
              "<IPython.core.display.HTML object>"
            ]
          },
          "metadata": {
            "tags": []
          }
        },
        {
          "output_type": "display_data",
          "data": {
            "text/html": [
              "Synced 5 W&B file(s), 1 media file(s), 0 artifact file(s) and 0 other file(s)"
            ],
            "text/plain": [
              "<IPython.core.display.HTML object>"
            ]
          },
          "metadata": {
            "tags": []
          }
        },
        {
          "output_type": "display_data",
          "data": {
            "text/html": [
              "\n",
              "                    <br/>Synced <strong style=\"color:#cdcd00\">denim-sweep-18</strong>: <a href=\"https://wandb.ai/vrunda/CS6910_Assignment1/runs/ik9jy5hc\" target=\"_blank\">https://wandb.ai/vrunda/CS6910_Assignment1/runs/ik9jy5hc</a><br/>\n",
              "                "
            ],
            "text/plain": [
              "<IPython.core.display.HTML object>"
            ]
          },
          "metadata": {
            "tags": []
          }
        },
        {
          "output_type": "stream",
          "text": [
            "\u001b[34m\u001b[1mwandb\u001b[0m: Agent Starting Run: c39ibvo4 with config:\n",
            "\u001b[34m\u001b[1mwandb\u001b[0m: \tNeurons: 32\n",
            "\u001b[34m\u001b[1mwandb\u001b[0m: \tNo_hidden_layer: 5\n",
            "\u001b[34m\u001b[1mwandb\u001b[0m: \tactivation_type: sigmoid\n",
            "\u001b[34m\u001b[1mwandb\u001b[0m: \tepochs: 5\n",
            "\u001b[34m\u001b[1mwandb\u001b[0m: \tlearning_rate: 0.0001\n",
            "\u001b[34m\u001b[1mwandb\u001b[0m: \tloss_optimizer_type: nag\n",
            "\u001b[34m\u001b[1mwandb\u001b[0m: \tmini_batch_size: 1\n",
            "\u001b[34m\u001b[1mwandb\u001b[0m: \tweight_decay: 0\n",
            "\u001b[34m\u001b[1mwandb\u001b[0m: \tweight_initialization: xavier\n",
            "\u001b[34m\u001b[1mwandb\u001b[0m: \u001b[33mWARNING\u001b[0m Ignored wandb.init() arg project when running a sweep\n"
          ],
          "name": "stderr"
        },
        {
          "output_type": "display_data",
          "data": {
            "text/html": [
              "\n",
              "                Tracking run with wandb version 0.10.22<br/>\n",
              "                Syncing run <strong style=\"color:#cdcd00\">wandering-sweep-19</strong> to <a href=\"https://wandb.ai\" target=\"_blank\">Weights & Biases</a> <a href=\"https://docs.wandb.com/integrations/jupyter.html\" target=\"_blank\">(Documentation)</a>.<br/>\n",
              "                Project page: <a href=\"https://wandb.ai/vrunda/CS6910_Assignment1\" target=\"_blank\">https://wandb.ai/vrunda/CS6910_Assignment1</a><br/>\n",
              "                Sweep page: <a href=\"https://wandb.ai/vrunda/CS6910_Assignment1/sweeps/1o5dqarx\" target=\"_blank\">https://wandb.ai/vrunda/CS6910_Assignment1/sweeps/1o5dqarx</a><br/>\n",
              "Run page: <a href=\"https://wandb.ai/vrunda/CS6910_Assignment1/runs/c39ibvo4\" target=\"_blank\">https://wandb.ai/vrunda/CS6910_Assignment1/runs/c39ibvo4</a><br/>\n",
              "                Run data is saved locally in <code>/content/wandb/run-20210315_034914-c39ibvo4</code><br/><br/>\n",
              "            "
            ],
            "text/plain": [
              "<IPython.core.display.HTML object>"
            ]
          },
          "metadata": {
            "tags": []
          }
        },
        {
          "output_type": "stream",
          "text": [
            "epoch===> 0\n",
            "   Train_loss==>  2.433274975966859\n",
            "   Val_loss====>  2.4278762284313053\n",
            "\n",
            "   Train_acc==>  9.968518518518518\n",
            "   Val_acc=====>  10.283333333333333\n",
            "Final_accuracy==>   10.0\n",
            "Epoch==> 1\n",
            "   Train_loss==>  2.303443942212701\n",
            "   Val_loss====>  2.304247719165615\n",
            "\n",
            "   Train_acc==>  10.051851851851852\n",
            "   Val_acc=====>  9.533333333333333\n",
            "Final_accuracy==>   10.0\n",
            "Epoch==> 2\n",
            "   Train_loss==>  2.3020430359905606\n",
            "   Val_loss====>  2.3028231993885795\n",
            "\n",
            "   Train_acc==>  10.051851851851852\n",
            "   Val_acc=====>  9.533333333333333\n",
            "Final_accuracy==>   10.0\n",
            "Epoch==> 3\n",
            "   Train_loss==>  2.2989882953167036\n",
            "   Val_loss====>  2.2997353636320272\n",
            "\n",
            "   Train_acc==>  10.051851851851852\n",
            "   Val_acc=====>  9.533333333333333\n",
            "Final_accuracy==>   10.0\n",
            "Epoch==> 4\n",
            "   Train_loss==>  2.2854190929559475\n",
            "   Val_loss====>  2.286042821152411\n",
            "\n",
            "   Train_acc==>  10.051851851851852\n",
            "   Val_acc=====>  9.533333333333333\n",
            "Final_accuracy==>   10.0\n",
            "Epoch==> 5\n",
            "   Train_loss==>  1.8664120438489584\n",
            "   Val_loss====>  1.8636176969756246\n",
            "\n",
            "   Train_acc==>  23.40925925925926\n",
            "   Val_acc=====>  22.716666666666665\n",
            "Final_accuracy==>   23.630000000000003\n"
          ],
          "name": "stdout"
        },
        {
          "output_type": "display_data",
          "data": {
            "text/html": [
              "<br/>Waiting for W&B process to finish, PID 2179<br/>Program ended successfully."
            ],
            "text/plain": [
              "<IPython.core.display.HTML object>"
            ]
          },
          "metadata": {
            "tags": []
          }
        },
        {
          "output_type": "display_data",
          "data": {
            "application/vnd.jupyter.widget-view+json": {
              "model_id": "e25885455534476683265af80542305e",
              "version_major": 2,
              "version_minor": 0
            },
            "text/plain": [
              "VBox(children=(Label(value=' 0.00MB of 0.00MB uploaded (0.00MB deduped)\\r'), FloatProgress(value=1.0, max=1.0)…"
            ]
          },
          "metadata": {
            "tags": []
          }
        },
        {
          "output_type": "display_data",
          "data": {
            "text/html": [
              "Find user logs for this run at: <code>/content/wandb/run-20210315_034914-c39ibvo4/logs/debug.log</code>"
            ],
            "text/plain": [
              "<IPython.core.display.HTML object>"
            ]
          },
          "metadata": {
            "tags": []
          }
        },
        {
          "output_type": "display_data",
          "data": {
            "text/html": [
              "Find internal logs for this run at: <code>/content/wandb/run-20210315_034914-c39ibvo4/logs/debug-internal.log</code>"
            ],
            "text/plain": [
              "<IPython.core.display.HTML object>"
            ]
          },
          "metadata": {
            "tags": []
          }
        },
        {
          "output_type": "display_data",
          "data": {
            "text/html": [
              "<h3>Run summary:</h3><br/><style>\n",
              "    table.wandb td:nth-child(1) { padding: 0 10px; text-align: right }\n",
              "    </style><table class=\"wandb\">\n",
              "<tr><td>epoch</td><td>5</td></tr><tr><td>accuracy</td><td>23.63</td></tr><tr><td>val_accuracy</td><td>22.71667</td></tr><tr><td>val_loss</td><td>1.86362</td></tr><tr><td>train_loss</td><td>1.86641</td></tr><tr><td>train_accuracy</td><td>23.40926</td></tr><tr><td>_runtime</td><td>635</td></tr><tr><td>_timestamp</td><td>1615780789</td></tr><tr><td>_step</td><td>6</td></tr></table>"
            ],
            "text/plain": [
              "<IPython.core.display.HTML object>"
            ]
          },
          "metadata": {
            "tags": []
          }
        },
        {
          "output_type": "display_data",
          "data": {
            "text/html": [
              "<h3>Run history:</h3><br/><style>\n",
              "    table.wandb td:nth-child(1) { padding: 0 10px; text-align: right }\n",
              "    </style><table class=\"wandb\">\n",
              "<tr><td>epoch</td><td>▁▂▄▅▇█</td></tr><tr><td>accuracy</td><td>▁▁▁▁▁█</td></tr><tr><td>val_accuracy</td><td>▁▁▁▁▁█</td></tr><tr><td>val_loss</td><td>█▆▆▆▆▁</td></tr><tr><td>train_loss</td><td>█▆▆▆▆▁</td></tr><tr><td>train_accuracy</td><td>▁▁▁▁▁█</td></tr><tr><td>_runtime</td><td>▁▂▄▅▇██</td></tr><tr><td>_timestamp</td><td>▁▂▄▅▇██</td></tr><tr><td>_step</td><td>▁▂▃▅▆▇█</td></tr></table><br/>"
            ],
            "text/plain": [
              "<IPython.core.display.HTML object>"
            ]
          },
          "metadata": {
            "tags": []
          }
        },
        {
          "output_type": "display_data",
          "data": {
            "text/html": [
              "Synced 5 W&B file(s), 1 media file(s), 0 artifact file(s) and 0 other file(s)"
            ],
            "text/plain": [
              "<IPython.core.display.HTML object>"
            ]
          },
          "metadata": {
            "tags": []
          }
        },
        {
          "output_type": "display_data",
          "data": {
            "text/html": [
              "\n",
              "                    <br/>Synced <strong style=\"color:#cdcd00\">wandering-sweep-19</strong>: <a href=\"https://wandb.ai/vrunda/CS6910_Assignment1/runs/c39ibvo4\" target=\"_blank\">https://wandb.ai/vrunda/CS6910_Assignment1/runs/c39ibvo4</a><br/>\n",
              "                "
            ],
            "text/plain": [
              "<IPython.core.display.HTML object>"
            ]
          },
          "metadata": {
            "tags": []
          }
        },
        {
          "output_type": "stream",
          "text": [
            "\u001b[34m\u001b[1mwandb\u001b[0m: Agent Starting Run: 0zssocb3 with config:\n",
            "\u001b[34m\u001b[1mwandb\u001b[0m: \tNeurons: 64\n",
            "\u001b[34m\u001b[1mwandb\u001b[0m: \tNo_hidden_layer: 3\n",
            "\u001b[34m\u001b[1mwandb\u001b[0m: \tactivation_type: sigmoid\n",
            "\u001b[34m\u001b[1mwandb\u001b[0m: \tepochs: 10\n",
            "\u001b[34m\u001b[1mwandb\u001b[0m: \tlearning_rate: 0.0001\n",
            "\u001b[34m\u001b[1mwandb\u001b[0m: \tloss_optimizer_type: nag\n",
            "\u001b[34m\u001b[1mwandb\u001b[0m: \tmini_batch_size: 1\n",
            "\u001b[34m\u001b[1mwandb\u001b[0m: \tweight_decay: 0.5\n",
            "\u001b[34m\u001b[1mwandb\u001b[0m: \tweight_initialization: random\n",
            "\u001b[34m\u001b[1mwandb\u001b[0m: \u001b[33mWARNING\u001b[0m Ignored wandb.init() arg project when running a sweep\n"
          ],
          "name": "stderr"
        },
        {
          "output_type": "display_data",
          "data": {
            "text/html": [
              "\n",
              "                Tracking run with wandb version 0.10.22<br/>\n",
              "                Syncing run <strong style=\"color:#cdcd00\">pious-sweep-20</strong> to <a href=\"https://wandb.ai\" target=\"_blank\">Weights & Biases</a> <a href=\"https://docs.wandb.com/integrations/jupyter.html\" target=\"_blank\">(Documentation)</a>.<br/>\n",
              "                Project page: <a href=\"https://wandb.ai/vrunda/CS6910_Assignment1\" target=\"_blank\">https://wandb.ai/vrunda/CS6910_Assignment1</a><br/>\n",
              "                Sweep page: <a href=\"https://wandb.ai/vrunda/CS6910_Assignment1/sweeps/1o5dqarx\" target=\"_blank\">https://wandb.ai/vrunda/CS6910_Assignment1/sweeps/1o5dqarx</a><br/>\n",
              "Run page: <a href=\"https://wandb.ai/vrunda/CS6910_Assignment1/runs/0zssocb3\" target=\"_blank\">https://wandb.ai/vrunda/CS6910_Assignment1/runs/0zssocb3</a><br/>\n",
              "                Run data is saved locally in <code>/content/wandb/run-20210315_035959-0zssocb3</code><br/><br/>\n",
              "            "
            ],
            "text/plain": [
              "<IPython.core.display.HTML object>"
            ]
          },
          "metadata": {
            "tags": []
          }
        },
        {
          "output_type": "stream",
          "text": [
            "epoch===> 0\n",
            "   Train_loss==>  2.3796611319110985\n",
            "   Val_loss====>  2.378826832646693\n",
            "\n",
            "   Train_acc==>  9.985185185185186\n",
            "   Val_acc=====>  10.133333333333333\n",
            "Final_accuracy==>   10.0\n",
            "Epoch==> 1\n",
            "   Train_loss==>  2.303518799507455\n",
            "   Val_loss====>  2.303179273396526\n",
            "\n",
            "   Train_acc==>  9.981481481481481\n",
            "   Val_acc=====>  10.166666666666666\n",
            "Final_accuracy==>   10.0\n",
            "Epoch==> 2\n",
            "   Train_loss==>  2.303515957970501\n",
            "   Val_loss====>  2.303178674407294\n",
            "\n",
            "   Train_acc==>  9.981481481481481\n",
            "   Val_acc=====>  10.166666666666666\n",
            "Final_accuracy==>   10.0\n",
            "Epoch==> 3\n",
            "   Train_loss==>  2.3035157705754354\n",
            "   Val_loss====>  2.303178593258234\n",
            "\n",
            "   Train_acc==>  9.981481481481481\n",
            "   Val_acc=====>  10.166666666666666\n",
            "Final_accuracy==>   10.0\n",
            "Epoch==> 4\n",
            "   Train_loss==>  2.3035157588756143\n",
            "   Val_loss====>  2.3031785881418347\n",
            "\n",
            "   Train_acc==>  9.981481481481481\n",
            "   Val_acc=====>  10.166666666666666\n",
            "Final_accuracy==>   10.0\n",
            "Epoch==> 5\n",
            "   Train_loss==>  2.3035157581346604\n",
            "   Val_loss====>  2.3031785878174706\n",
            "\n",
            "   Train_acc==>  9.981481481481481\n",
            "   Val_acc=====>  10.166666666666666\n",
            "Final_accuracy==>   10.0\n",
            "Epoch==> 6\n",
            "   Train_loss==>  2.3035157580877277\n",
            "   Val_loss====>  2.3031785877969155\n",
            "\n",
            "   Train_acc==>  9.981481481481481\n",
            "   Val_acc=====>  10.166666666666666\n",
            "Final_accuracy==>   10.0\n",
            "Epoch==> 7\n",
            "   Train_loss==>  2.3035157580847576\n",
            "   Val_loss====>  2.3031785877956144\n",
            "\n",
            "   Train_acc==>  9.981481481481481\n",
            "   Val_acc=====>  10.166666666666666\n",
            "Final_accuracy==>   10.0\n",
            "Epoch==> 8\n",
            "   Train_loss==>  2.3035157580845698\n",
            "   Val_loss====>  2.303178587795532\n",
            "\n",
            "   Train_acc==>  9.981481481481481\n",
            "   Val_acc=====>  10.166666666666666\n",
            "Final_accuracy==>   10.0\n",
            "Epoch==> 9\n",
            "   Train_loss==>  2.3035157580845578\n",
            "   Val_loss====>  2.3031785877955264\n",
            "\n",
            "   Train_acc==>  9.981481481481481\n",
            "   Val_acc=====>  10.166666666666666\n",
            "Final_accuracy==>   10.0\n",
            "Epoch==> 10\n",
            "   Train_loss==>  2.3035157580845573\n",
            "   Val_loss====>  2.3031785877955264\n",
            "\n",
            "   Train_acc==>  9.981481481481481\n",
            "   Val_acc=====>  10.166666666666666\n",
            "Final_accuracy==>   10.0\n"
          ],
          "name": "stdout"
        },
        {
          "output_type": "display_data",
          "data": {
            "text/html": [
              "<br/>Waiting for W&B process to finish, PID 2211<br/>Program ended successfully."
            ],
            "text/plain": [
              "<IPython.core.display.HTML object>"
            ]
          },
          "metadata": {
            "tags": []
          }
        },
        {
          "output_type": "display_data",
          "data": {
            "application/vnd.jupyter.widget-view+json": {
              "model_id": "ef8e502ec79541a5b79dd550e03af7f9",
              "version_major": 2,
              "version_minor": 0
            },
            "text/plain": [
              "VBox(children=(Label(value=' 0.00MB of 0.00MB uploaded (0.00MB deduped)\\r'), FloatProgress(value=1.0, max=1.0)…"
            ]
          },
          "metadata": {
            "tags": []
          }
        },
        {
          "output_type": "display_data",
          "data": {
            "text/html": [
              "Find user logs for this run at: <code>/content/wandb/run-20210315_035959-0zssocb3/logs/debug.log</code>"
            ],
            "text/plain": [
              "<IPython.core.display.HTML object>"
            ]
          },
          "metadata": {
            "tags": []
          }
        },
        {
          "output_type": "display_data",
          "data": {
            "text/html": [
              "Find internal logs for this run at: <code>/content/wandb/run-20210315_035959-0zssocb3/logs/debug-internal.log</code>"
            ],
            "text/plain": [
              "<IPython.core.display.HTML object>"
            ]
          },
          "metadata": {
            "tags": []
          }
        },
        {
          "output_type": "display_data",
          "data": {
            "text/html": [
              "<h3>Run summary:</h3><br/><style>\n",
              "    table.wandb td:nth-child(1) { padding: 0 10px; text-align: right }\n",
              "    </style><table class=\"wandb\">\n",
              "<tr><td>epoch</td><td>10</td></tr><tr><td>accuracy</td><td>10.0</td></tr><tr><td>val_accuracy</td><td>10.16667</td></tr><tr><td>val_loss</td><td>2.30318</td></tr><tr><td>train_loss</td><td>2.30352</td></tr><tr><td>train_accuracy</td><td>9.98148</td></tr><tr><td>_runtime</td><td>1676</td></tr><tr><td>_timestamp</td><td>1615782475</td></tr><tr><td>_step</td><td>11</td></tr></table>"
            ],
            "text/plain": [
              "<IPython.core.display.HTML object>"
            ]
          },
          "metadata": {
            "tags": []
          }
        },
        {
          "output_type": "display_data",
          "data": {
            "text/html": [
              "<h3>Run history:</h3><br/><style>\n",
              "    table.wandb td:nth-child(1) { padding: 0 10px; text-align: right }\n",
              "    </style><table class=\"wandb\">\n",
              "<tr><td>epoch</td><td>▁▂▂▃▄▅▅▆▇▇█</td></tr><tr><td>accuracy</td><td>▁▁▁▁▁▁▁▁▁▁▁</td></tr><tr><td>val_accuracy</td><td>▁██████████</td></tr><tr><td>val_loss</td><td>█▁▁▁▁▁▁▁▁▁▁</td></tr><tr><td>train_loss</td><td>█▁▁▁▁▁▁▁▁▁▁</td></tr><tr><td>train_accuracy</td><td>█▁▁▁▁▁▁▁▁▁▁</td></tr><tr><td>_runtime</td><td>▁▂▂▃▄▅▅▆▇▇██</td></tr><tr><td>_timestamp</td><td>▁▂▂▃▄▅▅▆▇▇██</td></tr><tr><td>_step</td><td>▁▂▂▃▄▄▅▅▆▇▇█</td></tr></table><br/>"
            ],
            "text/plain": [
              "<IPython.core.display.HTML object>"
            ]
          },
          "metadata": {
            "tags": []
          }
        },
        {
          "output_type": "display_data",
          "data": {
            "text/html": [
              "Synced 5 W&B file(s), 1 media file(s), 0 artifact file(s) and 0 other file(s)"
            ],
            "text/plain": [
              "<IPython.core.display.HTML object>"
            ]
          },
          "metadata": {
            "tags": []
          }
        },
        {
          "output_type": "display_data",
          "data": {
            "text/html": [
              "\n",
              "                    <br/>Synced <strong style=\"color:#cdcd00\">pious-sweep-20</strong>: <a href=\"https://wandb.ai/vrunda/CS6910_Assignment1/runs/0zssocb3\" target=\"_blank\">https://wandb.ai/vrunda/CS6910_Assignment1/runs/0zssocb3</a><br/>\n",
              "                "
            ],
            "text/plain": [
              "<IPython.core.display.HTML object>"
            ]
          },
          "metadata": {
            "tags": []
          }
        },
        {
          "output_type": "stream",
          "text": [
            "\u001b[34m\u001b[1mwandb\u001b[0m: Agent Starting Run: 1a9fq5he with config:\n",
            "\u001b[34m\u001b[1mwandb\u001b[0m: \tNeurons: 128\n",
            "\u001b[34m\u001b[1mwandb\u001b[0m: \tNo_hidden_layer: 4\n",
            "\u001b[34m\u001b[1mwandb\u001b[0m: \tactivation_type: sigmoid\n",
            "\u001b[34m\u001b[1mwandb\u001b[0m: \tepochs: 5\n",
            "\u001b[34m\u001b[1mwandb\u001b[0m: \tlearning_rate: 0.001\n",
            "\u001b[34m\u001b[1mwandb\u001b[0m: \tloss_optimizer_type: adam\n",
            "\u001b[34m\u001b[1mwandb\u001b[0m: \tmini_batch_size: 64\n",
            "\u001b[34m\u001b[1mwandb\u001b[0m: \tweight_decay: 0\n",
            "\u001b[34m\u001b[1mwandb\u001b[0m: \tweight_initialization: xavier\n",
            "\u001b[34m\u001b[1mwandb\u001b[0m: \u001b[33mWARNING\u001b[0m Ignored wandb.init() arg project when running a sweep\n"
          ],
          "name": "stderr"
        },
        {
          "output_type": "display_data",
          "data": {
            "text/html": [
              "\n",
              "                Tracking run with wandb version 0.10.22<br/>\n",
              "                Syncing run <strong style=\"color:#cdcd00\">deep-sweep-21</strong> to <a href=\"https://wandb.ai\" target=\"_blank\">Weights & Biases</a> <a href=\"https://docs.wandb.com/integrations/jupyter.html\" target=\"_blank\">(Documentation)</a>.<br/>\n",
              "                Project page: <a href=\"https://wandb.ai/vrunda/CS6910_Assignment1\" target=\"_blank\">https://wandb.ai/vrunda/CS6910_Assignment1</a><br/>\n",
              "                Sweep page: <a href=\"https://wandb.ai/vrunda/CS6910_Assignment1/sweeps/1o5dqarx\" target=\"_blank\">https://wandb.ai/vrunda/CS6910_Assignment1/sweeps/1o5dqarx</a><br/>\n",
              "Run page: <a href=\"https://wandb.ai/vrunda/CS6910_Assignment1/runs/1a9fq5he\" target=\"_blank\">https://wandb.ai/vrunda/CS6910_Assignment1/runs/1a9fq5he</a><br/>\n",
              "                Run data is saved locally in <code>/content/wandb/run-20210315_042805-1a9fq5he</code><br/><br/>\n",
              "            "
            ],
            "text/plain": [
              "<IPython.core.display.HTML object>"
            ]
          },
          "metadata": {
            "tags": []
          }
        },
        {
          "output_type": "stream",
          "text": [
            "epoch===> 0\n",
            "   Train_loss==>  2.472887345673163\n",
            "   Val_loss====>  2.4630946135837504\n",
            "\n",
            "   Train_acc==>  9.97962962962963\n",
            "   Val_acc=====>  10.183333333333334\n",
            "Final_accuracy==>   10.0\n",
            "Epoch==> 1\n",
            "   Train_loss==>  0.4308664800505064\n",
            "   Val_loss====>  0.4428664388179395\n",
            "\n",
            "   Train_acc==>  85.42962962962963\n",
            "   Val_acc=====>  85.15\n",
            "Final_accuracy==>   83.52000000000001\n",
            "Epoch==> 2\n",
            "   Train_loss==>  0.34983566537879973\n",
            "   Val_loss====>  0.38424143685947826\n",
            "\n",
            "   Train_acc==>  87.92962962962963\n",
            "   Val_acc=====>  86.5\n",
            "Final_accuracy==>   85.22\n",
            "Epoch==> 3\n",
            "   Train_loss==>  0.3053345111232238\n",
            "   Val_loss====>  0.35810925700880397\n",
            "\n",
            "   Train_acc==>  89.38333333333334\n",
            "   Val_acc=====>  87.38333333333334\n",
            "Final_accuracy==>   86.15\n",
            "Epoch==> 4\n",
            "   Train_loss==>  0.28133485868942226\n",
            "   Val_loss====>  0.3513145393612178\n",
            "\n",
            "   Train_acc==>  90.08333333333334\n",
            "   Val_acc=====>  87.68333333333334\n",
            "Final_accuracy==>   86.38\n",
            "Epoch==> 5\n",
            "   Train_loss==>  0.2610510866335708\n",
            "   Val_loss====>  0.3494544255945353\n",
            "\n",
            "   Train_acc==>  90.77962962962964\n",
            "   Val_acc=====>  88.05\n",
            "Final_accuracy==>   86.56\n"
          ],
          "name": "stdout"
        },
        {
          "output_type": "display_data",
          "data": {
            "text/html": [
              "<br/>Waiting for W&B process to finish, PID 2243<br/>Program ended successfully."
            ],
            "text/plain": [
              "<IPython.core.display.HTML object>"
            ]
          },
          "metadata": {
            "tags": []
          }
        },
        {
          "output_type": "display_data",
          "data": {
            "application/vnd.jupyter.widget-view+json": {
              "model_id": "5b5e12cb34914b5781db2e0f1bd83325",
              "version_major": 2,
              "version_minor": 0
            },
            "text/plain": [
              "VBox(children=(Label(value=' 0.00MB of 0.00MB uploaded (0.00MB deduped)\\r'), FloatProgress(value=0.17810137216…"
            ]
          },
          "metadata": {
            "tags": []
          }
        },
        {
          "output_type": "display_data",
          "data": {
            "text/html": [
              "Find user logs for this run at: <code>/content/wandb/run-20210315_042805-1a9fq5he/logs/debug.log</code>"
            ],
            "text/plain": [
              "<IPython.core.display.HTML object>"
            ]
          },
          "metadata": {
            "tags": []
          }
        },
        {
          "output_type": "display_data",
          "data": {
            "text/html": [
              "Find internal logs for this run at: <code>/content/wandb/run-20210315_042805-1a9fq5he/logs/debug-internal.log</code>"
            ],
            "text/plain": [
              "<IPython.core.display.HTML object>"
            ]
          },
          "metadata": {
            "tags": []
          }
        },
        {
          "output_type": "display_data",
          "data": {
            "text/html": [
              "<h3>Run summary:</h3><br/><style>\n",
              "    table.wandb td:nth-child(1) { padding: 0 10px; text-align: right }\n",
              "    </style><table class=\"wandb\">\n",
              "<tr><td>epoch</td><td>5</td></tr><tr><td>accuracy</td><td>86.56</td></tr><tr><td>val_accuracy</td><td>88.05</td></tr><tr><td>val_loss</td><td>0.34945</td></tr><tr><td>train_loss</td><td>0.26105</td></tr><tr><td>train_accuracy</td><td>90.77963</td></tr><tr><td>_runtime</td><td>601</td></tr><tr><td>_timestamp</td><td>1615783086</td></tr><tr><td>_step</td><td>6</td></tr></table>"
            ],
            "text/plain": [
              "<IPython.core.display.HTML object>"
            ]
          },
          "metadata": {
            "tags": []
          }
        },
        {
          "output_type": "display_data",
          "data": {
            "text/html": [
              "<h3>Run history:</h3><br/><style>\n",
              "    table.wandb td:nth-child(1) { padding: 0 10px; text-align: right }\n",
              "    </style><table class=\"wandb\">\n",
              "<tr><td>epoch</td><td>▁▂▄▅▇█</td></tr><tr><td>accuracy</td><td>▁█████</td></tr><tr><td>val_accuracy</td><td>▁█████</td></tr><tr><td>val_loss</td><td>█▁▁▁▁▁</td></tr><tr><td>train_loss</td><td>█▂▁▁▁▁</td></tr><tr><td>train_accuracy</td><td>▁█████</td></tr><tr><td>_runtime</td><td>▁▂▄▅▇██</td></tr><tr><td>_timestamp</td><td>▁▂▄▅▇██</td></tr><tr><td>_step</td><td>▁▂▃▅▆▇█</td></tr></table><br/>"
            ],
            "text/plain": [
              "<IPython.core.display.HTML object>"
            ]
          },
          "metadata": {
            "tags": []
          }
        },
        {
          "output_type": "display_data",
          "data": {
            "text/html": [
              "Synced 5 W&B file(s), 1 media file(s), 0 artifact file(s) and 0 other file(s)"
            ],
            "text/plain": [
              "<IPython.core.display.HTML object>"
            ]
          },
          "metadata": {
            "tags": []
          }
        },
        {
          "output_type": "display_data",
          "data": {
            "text/html": [
              "\n",
              "                    <br/>Synced <strong style=\"color:#cdcd00\">deep-sweep-21</strong>: <a href=\"https://wandb.ai/vrunda/CS6910_Assignment1/runs/1a9fq5he\" target=\"_blank\">https://wandb.ai/vrunda/CS6910_Assignment1/runs/1a9fq5he</a><br/>\n",
              "                "
            ],
            "text/plain": [
              "<IPython.core.display.HTML object>"
            ]
          },
          "metadata": {
            "tags": []
          }
        },
        {
          "output_type": "stream",
          "text": [
            "\u001b[34m\u001b[1mwandb\u001b[0m: Agent Starting Run: tnq08wtd with config:\n",
            "\u001b[34m\u001b[1mwandb\u001b[0m: \tNeurons: 32\n",
            "\u001b[34m\u001b[1mwandb\u001b[0m: \tNo_hidden_layer: 5\n",
            "\u001b[34m\u001b[1mwandb\u001b[0m: \tactivation_type: sigmoid\n",
            "\u001b[34m\u001b[1mwandb\u001b[0m: \tepochs: 5\n",
            "\u001b[34m\u001b[1mwandb\u001b[0m: \tlearning_rate: 0.0001\n",
            "\u001b[34m\u001b[1mwandb\u001b[0m: \tloss_optimizer_type: momentum\n",
            "\u001b[34m\u001b[1mwandb\u001b[0m: \tmini_batch_size: 16\n",
            "\u001b[34m\u001b[1mwandb\u001b[0m: \tweight_decay: 0\n",
            "\u001b[34m\u001b[1mwandb\u001b[0m: \tweight_initialization: random\n",
            "\u001b[34m\u001b[1mwandb\u001b[0m: \u001b[33mWARNING\u001b[0m Ignored wandb.init() arg project when running a sweep\n"
          ],
          "name": "stderr"
        },
        {
          "output_type": "display_data",
          "data": {
            "text/html": [
              "\n",
              "                Tracking run with wandb version 0.10.22<br/>\n",
              "                Syncing run <strong style=\"color:#cdcd00\">visionary-sweep-22</strong> to <a href=\"https://wandb.ai\" target=\"_blank\">Weights & Biases</a> <a href=\"https://docs.wandb.com/integrations/jupyter.html\" target=\"_blank\">(Documentation)</a>.<br/>\n",
              "                Project page: <a href=\"https://wandb.ai/vrunda/CS6910_Assignment1\" target=\"_blank\">https://wandb.ai/vrunda/CS6910_Assignment1</a><br/>\n",
              "                Sweep page: <a href=\"https://wandb.ai/vrunda/CS6910_Assignment1/sweeps/1o5dqarx\" target=\"_blank\">https://wandb.ai/vrunda/CS6910_Assignment1/sweeps/1o5dqarx</a><br/>\n",
              "Run page: <a href=\"https://wandb.ai/vrunda/CS6910_Assignment1/runs/tnq08wtd\" target=\"_blank\">https://wandb.ai/vrunda/CS6910_Assignment1/runs/tnq08wtd</a><br/>\n",
              "                Run data is saved locally in <code>/content/wandb/run-20210315_043819-tnq08wtd</code><br/><br/>\n",
              "            "
            ],
            "text/plain": [
              "<IPython.core.display.HTML object>"
            ]
          },
          "metadata": {
            "tags": []
          }
        },
        {
          "output_type": "stream",
          "text": [
            "epoch===> 0\n",
            "   Train_loss==>  2.3489099753223983\n",
            "   Val_loss====>  2.3500842315504102\n",
            "\n",
            "   Train_acc==>  10.005555555555555\n",
            "   Val_acc=====>  9.950000000000001\n",
            "Final_accuracy==>   10.0\n",
            "Epoch==> 1\n",
            "   Train_loss==>  2.3027079396115884\n",
            "   Val_loss====>  2.3028642745968098\n",
            "\n",
            "   Train_acc==>  10.018518518518519\n",
            "   Val_acc=====>  9.833333333333332\n",
            "Final_accuracy==>   10.0\n",
            "Epoch==> 2\n",
            "   Train_loss==>  2.3026431411853983\n",
            "   Val_loss====>  2.3027653396617414\n",
            "\n",
            "   Train_acc==>  10.018518518518519\n",
            "   Val_acc=====>  9.833333333333332\n",
            "Final_accuracy==>   10.0\n",
            "Epoch==> 3\n",
            "   Train_loss==>  2.3026418937723183\n",
            "   Val_loss====>  2.3027626289934457\n",
            "\n",
            "   Train_acc==>  10.018518518518519\n",
            "   Val_acc=====>  9.833333333333332\n",
            "Final_accuracy==>   10.0\n",
            "Epoch==> 4\n",
            "   Train_loss==>  2.302641526386126\n",
            "   Val_loss====>  2.3027622031180326\n",
            "\n",
            "   Train_acc==>  10.018518518518519\n",
            "   Val_acc=====>  9.833333333333332\n",
            "Final_accuracy==>   10.0\n",
            "Epoch==> 5\n",
            "   Train_loss==>  2.3026411905475523\n",
            "   Val_loss====>  2.302761868131331\n",
            "\n",
            "   Train_acc==>  10.018518518518519\n",
            "   Val_acc=====>  9.833333333333332\n",
            "Final_accuracy==>   10.0\n"
          ],
          "name": "stdout"
        },
        {
          "output_type": "display_data",
          "data": {
            "text/html": [
              "<br/>Waiting for W&B process to finish, PID 2275<br/>Program ended successfully."
            ],
            "text/plain": [
              "<IPython.core.display.HTML object>"
            ]
          },
          "metadata": {
            "tags": []
          }
        },
        {
          "output_type": "display_data",
          "data": {
            "application/vnd.jupyter.widget-view+json": {
              "model_id": "0fe43cadc31c47a19e66ae8c14706257",
              "version_major": 2,
              "version_minor": 0
            },
            "text/plain": [
              "VBox(children=(Label(value=' 0.00MB of 0.00MB uploaded (0.00MB deduped)\\r'), FloatProgress(value=0.17925591882…"
            ]
          },
          "metadata": {
            "tags": []
          }
        },
        {
          "output_type": "display_data",
          "data": {
            "text/html": [
              "Find user logs for this run at: <code>/content/wandb/run-20210315_043819-tnq08wtd/logs/debug.log</code>"
            ],
            "text/plain": [
              "<IPython.core.display.HTML object>"
            ]
          },
          "metadata": {
            "tags": []
          }
        },
        {
          "output_type": "display_data",
          "data": {
            "text/html": [
              "Find internal logs for this run at: <code>/content/wandb/run-20210315_043819-tnq08wtd/logs/debug-internal.log</code>"
            ],
            "text/plain": [
              "<IPython.core.display.HTML object>"
            ]
          },
          "metadata": {
            "tags": []
          }
        },
        {
          "output_type": "display_data",
          "data": {
            "text/html": [
              "<h3>Run summary:</h3><br/><style>\n",
              "    table.wandb td:nth-child(1) { padding: 0 10px; text-align: right }\n",
              "    </style><table class=\"wandb\">\n",
              "<tr><td>epoch</td><td>5</td></tr><tr><td>accuracy</td><td>10.0</td></tr><tr><td>val_accuracy</td><td>9.83333</td></tr><tr><td>val_loss</td><td>2.30276</td></tr><tr><td>train_loss</td><td>2.30264</td></tr><tr><td>train_accuracy</td><td>10.01852</td></tr><tr><td>_runtime</td><td>362</td></tr><tr><td>_timestamp</td><td>1615783461</td></tr><tr><td>_step</td><td>6</td></tr></table>"
            ],
            "text/plain": [
              "<IPython.core.display.HTML object>"
            ]
          },
          "metadata": {
            "tags": []
          }
        },
        {
          "output_type": "display_data",
          "data": {
            "text/html": [
              "<h3>Run history:</h3><br/><style>\n",
              "    table.wandb td:nth-child(1) { padding: 0 10px; text-align: right }\n",
              "    </style><table class=\"wandb\">\n",
              "<tr><td>epoch</td><td>▁▂▄▅▇█</td></tr><tr><td>accuracy</td><td>▁▁▁▁▁▁</td></tr><tr><td>val_accuracy</td><td>█▁▁▁▁▁</td></tr><tr><td>val_loss</td><td>█▁▁▁▁▁</td></tr><tr><td>train_loss</td><td>█▁▁▁▁▁</td></tr><tr><td>train_accuracy</td><td>▁█████</td></tr><tr><td>_runtime</td><td>▁▂▄▅▇██</td></tr><tr><td>_timestamp</td><td>▁▂▄▅▇██</td></tr><tr><td>_step</td><td>▁▂▃▅▆▇█</td></tr></table><br/>"
            ],
            "text/plain": [
              "<IPython.core.display.HTML object>"
            ]
          },
          "metadata": {
            "tags": []
          }
        },
        {
          "output_type": "display_data",
          "data": {
            "text/html": [
              "Synced 5 W&B file(s), 1 media file(s), 0 artifact file(s) and 0 other file(s)"
            ],
            "text/plain": [
              "<IPython.core.display.HTML object>"
            ]
          },
          "metadata": {
            "tags": []
          }
        },
        {
          "output_type": "display_data",
          "data": {
            "text/html": [
              "\n",
              "                    <br/>Synced <strong style=\"color:#cdcd00\">visionary-sweep-22</strong>: <a href=\"https://wandb.ai/vrunda/CS6910_Assignment1/runs/tnq08wtd\" target=\"_blank\">https://wandb.ai/vrunda/CS6910_Assignment1/runs/tnq08wtd</a><br/>\n",
              "                "
            ],
            "text/plain": [
              "<IPython.core.display.HTML object>"
            ]
          },
          "metadata": {
            "tags": []
          }
        },
        {
          "output_type": "stream",
          "text": [
            "\u001b[34m\u001b[1mwandb\u001b[0m: Agent Starting Run: zjq9wten with config:\n",
            "\u001b[34m\u001b[1mwandb\u001b[0m: \tNeurons: 64\n",
            "\u001b[34m\u001b[1mwandb\u001b[0m: \tNo_hidden_layer: 3\n",
            "\u001b[34m\u001b[1mwandb\u001b[0m: \tactivation_type: ReLU\n",
            "\u001b[34m\u001b[1mwandb\u001b[0m: \tepochs: 10\n",
            "\u001b[34m\u001b[1mwandb\u001b[0m: \tlearning_rate: 0.001\n",
            "\u001b[34m\u001b[1mwandb\u001b[0m: \tloss_optimizer_type: vanila\n",
            "\u001b[34m\u001b[1mwandb\u001b[0m: \tmini_batch_size: 1\n",
            "\u001b[34m\u001b[1mwandb\u001b[0m: \tweight_decay: 0\n",
            "\u001b[34m\u001b[1mwandb\u001b[0m: \tweight_initialization: xavier\n",
            "\u001b[34m\u001b[1mwandb\u001b[0m: \u001b[33mWARNING\u001b[0m Ignored wandb.init() arg project when running a sweep\n"
          ],
          "name": "stderr"
        },
        {
          "output_type": "display_data",
          "data": {
            "text/html": [
              "\n",
              "                Tracking run with wandb version 0.10.22<br/>\n",
              "                Syncing run <strong style=\"color:#cdcd00\">lemon-sweep-23</strong> to <a href=\"https://wandb.ai\" target=\"_blank\">Weights & Biases</a> <a href=\"https://docs.wandb.com/integrations/jupyter.html\" target=\"_blank\">(Documentation)</a>.<br/>\n",
              "                Project page: <a href=\"https://wandb.ai/vrunda/CS6910_Assignment1\" target=\"_blank\">https://wandb.ai/vrunda/CS6910_Assignment1</a><br/>\n",
              "                Sweep page: <a href=\"https://wandb.ai/vrunda/CS6910_Assignment1/sweeps/1o5dqarx\" target=\"_blank\">https://wandb.ai/vrunda/CS6910_Assignment1/sweeps/1o5dqarx</a><br/>\n",
              "Run page: <a href=\"https://wandb.ai/vrunda/CS6910_Assignment1/runs/zjq9wten\" target=\"_blank\">https://wandb.ai/vrunda/CS6910_Assignment1/runs/zjq9wten</a><br/>\n",
              "                Run data is saved locally in <code>/content/wandb/run-20210315_044430-zjq9wten</code><br/><br/>\n",
              "            "
            ],
            "text/plain": [
              "<IPython.core.display.HTML object>"
            ]
          },
          "metadata": {
            "tags": []
          }
        },
        {
          "output_type": "stream",
          "text": [
            "epoch===> 0\n",
            "   Train_loss==>  2.4503572761592127\n",
            "   Val_loss====>  2.437123219308672\n",
            "\n",
            "   Train_acc==>  6.9296296296296305\n",
            "   Val_acc=====>  7.199999999999999\n",
            "Final_accuracy==>   7.340000000000001\n",
            "Epoch==> 1\n",
            "   Train_loss==>  0.39272740050488014\n",
            "   Val_loss====>  0.4043932288884197\n",
            "\n",
            "   Train_acc==>  85.71851851851852\n",
            "   Val_acc=====>  85.85000000000001\n",
            "Final_accuracy==>   83.87\n",
            "Epoch==> 2\n",
            "   Train_loss==>  0.3393508093198749\n",
            "   Val_loss====>  0.3692092763743544\n",
            "\n",
            "   Train_acc==>  87.47777777777777\n",
            "   Val_acc=====>  86.93333333333332\n",
            "Final_accuracy==>   85.22\n",
            "Epoch==> 3\n",
            "   Train_loss==>  0.3124206551163606\n",
            "   Val_loss====>  0.35492834955511376\n",
            "\n",
            "   Train_acc==>  88.37592592592593\n",
            "   Val_acc=====>  87.73333333333333\n",
            "Final_accuracy==>   85.86\n",
            "Epoch==> 4\n",
            "   Train_loss==>  0.28783239593294985\n",
            "   Val_loss====>  0.34062461705037794\n",
            "\n",
            "   Train_acc==>  89.22407407407408\n",
            "   Val_acc=====>  88.06666666666668\n",
            "Final_accuracy==>   86.27\n",
            "Epoch==> 5\n",
            "   Train_loss==>  0.2737346522828133\n",
            "   Val_loss====>  0.3353577776958073\n",
            "\n",
            "   Train_acc==>  89.79629629629629\n",
            "   Val_acc=====>  88.41666666666667\n",
            "Final_accuracy==>   86.39\n",
            "Epoch==> 6\n",
            "   Train_loss==>  0.2585618670609824\n",
            "   Val_loss====>  0.3286002962645807\n",
            "\n",
            "   Train_acc==>  90.42777777777778\n",
            "   Val_acc=====>  88.63333333333333\n",
            "Final_accuracy==>   86.85000000000001\n",
            "Epoch==> 7\n",
            "   Train_loss==>  0.24783985072317577\n",
            "   Val_loss====>  0.32795553542386285\n",
            "\n",
            "   Train_acc==>  90.81481481481481\n",
            "   Val_acc=====>  88.98333333333333\n",
            "Final_accuracy==>   86.77\n",
            "Epoch==> 8\n",
            "   Train_loss==>  0.24009975029478867\n",
            "   Val_loss====>  0.33256215528106314\n",
            "\n",
            "   Train_acc==>  91.11851851851853\n",
            "   Val_acc=====>  88.93333333333334\n",
            "Final_accuracy==>   86.83\n",
            "Epoch==> 9\n",
            "   Train_loss==>  0.23391196065481984\n",
            "   Val_loss====>  0.33873582347266307\n",
            "\n",
            "   Train_acc==>  91.31851851851852\n",
            "   Val_acc=====>  88.96666666666667\n",
            "Final_accuracy==>   86.89\n",
            "Epoch==> 10\n",
            "   Train_loss==>  0.2203668821901179\n",
            "   Val_loss====>  0.34015620530584867\n",
            "\n",
            "   Train_acc==>  91.82777777777777\n",
            "   Val_acc=====>  88.94999999999999\n",
            "Final_accuracy==>   86.99\n"
          ],
          "name": "stdout"
        },
        {
          "output_type": "display_data",
          "data": {
            "text/html": [
              "<br/>Waiting for W&B process to finish, PID 2307<br/>Program ended successfully."
            ],
            "text/plain": [
              "<IPython.core.display.HTML object>"
            ]
          },
          "metadata": {
            "tags": []
          }
        },
        {
          "output_type": "display_data",
          "data": {
            "application/vnd.jupyter.widget-view+json": {
              "model_id": "ea5cd5caf0b84a70ad2b3f70f27d3fea",
              "version_minor": 0,
              "version_major": 2
            },
            "text/plain": [
              "VBox(children=(Label(value=' 0.00MB of 0.00MB uploaded (0.00MB deduped)\\r'), FloatProgress(value=0.17835109366…"
            ]
          },
          "metadata": {
            "tags": []
          }
        },
        {
          "output_type": "display_data",
          "data": {
            "text/html": [
              "Find user logs for this run at: <code>/content/wandb/run-20210315_044430-zjq9wten/logs/debug.log</code>"
            ],
            "text/plain": [
              "<IPython.core.display.HTML object>"
            ]
          },
          "metadata": {
            "tags": []
          }
        },
        {
          "output_type": "display_data",
          "data": {
            "text/html": [
              "Find internal logs for this run at: <code>/content/wandb/run-20210315_044430-zjq9wten/logs/debug-internal.log</code>"
            ],
            "text/plain": [
              "<IPython.core.display.HTML object>"
            ]
          },
          "metadata": {
            "tags": []
          }
        },
        {
          "output_type": "display_data",
          "data": {
            "text/html": [
              "<h3>Run summary:</h3><br/><style>\n",
              "    table.wandb td:nth-child(1) { padding: 0 10px; text-align: right }\n",
              "    </style><table class=\"wandb\">\n",
              "<tr><td>epoch</td><td>10</td></tr><tr><td>accuracy</td><td>86.99</td></tr><tr><td>val_accuracy</td><td>88.95</td></tr><tr><td>val_loss</td><td>0.34016</td></tr><tr><td>train_loss</td><td>0.22037</td></tr><tr><td>train_accuracy</td><td>91.82778</td></tr><tr><td>_runtime</td><td>894</td></tr><tr><td>_timestamp</td><td>1615784365</td></tr><tr><td>_step</td><td>11</td></tr></table>"
            ],
            "text/plain": [
              "<IPython.core.display.HTML object>"
            ]
          },
          "metadata": {
            "tags": []
          }
        },
        {
          "output_type": "display_data",
          "data": {
            "text/html": [
              "<h3>Run history:</h3><br/><style>\n",
              "    table.wandb td:nth-child(1) { padding: 0 10px; text-align: right }\n",
              "    </style><table class=\"wandb\">\n",
              "<tr><td>epoch</td><td>▁▂▂▃▄▅▅▆▇▇█</td></tr><tr><td>accuracy</td><td>▁██████████</td></tr><tr><td>val_accuracy</td><td>▁██████████</td></tr><tr><td>val_loss</td><td>█▁▁▁▁▁▁▁▁▁▁</td></tr><tr><td>train_loss</td><td>█▂▁▁▁▁▁▁▁▁▁</td></tr><tr><td>train_accuracy</td><td>▁▇█████████</td></tr><tr><td>_runtime</td><td>▁▂▂▃▄▅▅▆▇▇██</td></tr><tr><td>_timestamp</td><td>▁▂▂▃▄▅▅▆▇▇██</td></tr><tr><td>_step</td><td>▁▂▂▃▄▄▅▅▆▇▇█</td></tr></table><br/>"
            ],
            "text/plain": [
              "<IPython.core.display.HTML object>"
            ]
          },
          "metadata": {
            "tags": []
          }
        },
        {
          "output_type": "display_data",
          "data": {
            "text/html": [
              "Synced 5 W&B file(s), 1 media file(s), 0 artifact file(s) and 0 other file(s)"
            ],
            "text/plain": [
              "<IPython.core.display.HTML object>"
            ]
          },
          "metadata": {
            "tags": []
          }
        },
        {
          "output_type": "display_data",
          "data": {
            "text/html": [
              "\n",
              "                    <br/>Synced <strong style=\"color:#cdcd00\">lemon-sweep-23</strong>: <a href=\"https://wandb.ai/vrunda/CS6910_Assignment1/runs/zjq9wten\" target=\"_blank\">https://wandb.ai/vrunda/CS6910_Assignment1/runs/zjq9wten</a><br/>\n",
              "                "
            ],
            "text/plain": [
              "<IPython.core.display.HTML object>"
            ]
          },
          "metadata": {
            "tags": []
          }
        },
        {
          "output_type": "stream",
          "text": [
            "\u001b[34m\u001b[1mwandb\u001b[0m: Agent Starting Run: 0to0t113 with config:\n",
            "\u001b[34m\u001b[1mwandb\u001b[0m: \tNeurons: 64\n",
            "\u001b[34m\u001b[1mwandb\u001b[0m: \tNo_hidden_layer: 5\n",
            "\u001b[34m\u001b[1mwandb\u001b[0m: \tactivation_type: ReLU\n",
            "\u001b[34m\u001b[1mwandb\u001b[0m: \tepochs: 10\n",
            "\u001b[34m\u001b[1mwandb\u001b[0m: \tlearning_rate: 0.0001\n",
            "\u001b[34m\u001b[1mwandb\u001b[0m: \tloss_optimizer_type: vanila\n",
            "\u001b[34m\u001b[1mwandb\u001b[0m: \tmini_batch_size: 32\n",
            "\u001b[34m\u001b[1mwandb\u001b[0m: \tweight_decay: 0.5\n",
            "\u001b[34m\u001b[1mwandb\u001b[0m: \tweight_initialization: xavier\n",
            "\u001b[34m\u001b[1mwandb\u001b[0m: \u001b[33mWARNING\u001b[0m Ignored wandb.init() arg project when running a sweep\n"
          ],
          "name": "stderr"
        },
        {
          "output_type": "display_data",
          "data": {
            "text/html": [
              "\n",
              "                Tracking run with wandb version 0.10.22<br/>\n",
              "                Syncing run <strong style=\"color:#cdcd00\">volcanic-sweep-24</strong> to <a href=\"https://wandb.ai\" target=\"_blank\">Weights & Biases</a> <a href=\"https://docs.wandb.com/integrations/jupyter.html\" target=\"_blank\">(Documentation)</a>.<br/>\n",
              "                Project page: <a href=\"https://wandb.ai/vrunda/CS6910_Assignment1\" target=\"_blank\">https://wandb.ai/vrunda/CS6910_Assignment1</a><br/>\n",
              "                Sweep page: <a href=\"https://wandb.ai/vrunda/CS6910_Assignment1/sweeps/1o5dqarx\" target=\"_blank\">https://wandb.ai/vrunda/CS6910_Assignment1/sweeps/1o5dqarx</a><br/>\n",
              "Run page: <a href=\"https://wandb.ai/vrunda/CS6910_Assignment1/runs/0to0t113\" target=\"_blank\">https://wandb.ai/vrunda/CS6910_Assignment1/runs/0to0t113</a><br/>\n",
              "                Run data is saved locally in <code>/content/wandb/run-20210315_045935-0to0t113</code><br/><br/>\n",
              "            "
            ],
            "text/plain": [
              "<IPython.core.display.HTML object>"
            ]
          },
          "metadata": {
            "tags": []
          }
        },
        {
          "output_type": "stream",
          "text": [
            "epoch===> 0\n",
            "   Train_loss==>  2.327327507370668\n",
            "   Val_loss====>  2.3239220436118746\n",
            "\n",
            "   Train_acc==>  14.25925925925926\n",
            "   Val_acc=====>  14.316666666666666\n",
            "Final_accuracy==>   13.88\n",
            "Epoch==> 1\n",
            "   Train_loss==>  2.261667728543224\n",
            "   Val_loss====>  2.258355837395379\n",
            "\n",
            "   Train_acc==>  20.255555555555553\n",
            "   Val_acc=====>  20.583333333333336\n",
            "Final_accuracy==>   20.24\n",
            "Epoch==> 2\n",
            "   Train_loss==>  2.250098475207469\n",
            "   Val_loss====>  2.247182294836652\n",
            "\n",
            "   Train_acc==>  24.624074074074073\n",
            "   Val_acc=====>  24.55\n",
            "Final_accuracy==>   24.68\n",
            "Epoch==> 3\n",
            "   Train_loss==>  2.2556644068257725\n",
            "   Val_loss====>  2.2532836895080948\n",
            "\n",
            "   Train_acc==>  27.285185185185185\n",
            "   Val_acc=====>  27.150000000000002\n",
            "Final_accuracy==>   27.439999999999998\n",
            "Epoch==> 4\n",
            "   Train_loss==>  2.2660029182711265\n",
            "   Val_loss====>  2.2640315079987863\n",
            "\n",
            "   Train_acc==>  28.505555555555556\n",
            "   Val_acc=====>  28.666666666666668\n",
            "Final_accuracy==>   28.610000000000003\n",
            "Epoch==> 5\n",
            "   Train_loss==>  2.2762857100110048\n",
            "   Val_loss====>  2.2746028777065765\n",
            "\n",
            "   Train_acc==>  27.994444444444444\n",
            "   Val_acc=====>  28.316666666666666\n",
            "Final_accuracy==>   28.110000000000003\n",
            "Epoch==> 6\n",
            "   Train_loss==>  2.284844096223663\n",
            "   Val_loss====>  2.2833665706168453\n",
            "\n",
            "   Train_acc==>  24.92962962962963\n",
            "   Val_acc=====>  24.71666666666667\n",
            "Final_accuracy==>   24.6\n",
            "Epoch==> 7\n",
            "   Train_loss==>  2.2912921507411466\n",
            "   Val_loss====>  2.290007119399092\n",
            "\n",
            "   Train_acc==>  18.214814814814815\n",
            "   Val_acc=====>  18.166666666666668\n",
            "Final_accuracy==>   18.08\n",
            "Epoch==> 8\n",
            "   Train_loss==>  2.295784563758387\n",
            "   Val_loss====>  2.294643358736681\n",
            "\n",
            "   Train_acc==>  11.214814814814815\n",
            "   Val_acc=====>  11.083333333333334\n",
            "Final_accuracy==>   11.41\n",
            "Epoch==> 9\n",
            "   Train_loss==>  2.2987608065879903\n",
            "   Val_loss====>  2.2977399510887633\n",
            "\n",
            "   Train_acc==>  10.088888888888889\n",
            "   Val_acc=====>  9.866666666666667\n",
            "Final_accuracy==>   10.059999999999999\n",
            "Epoch==> 10\n",
            "   Train_loss==>  2.3005955649643215\n",
            "   Val_loss====>  2.299665998527735\n",
            "\n",
            "   Train_acc==>  10.024074074074074\n",
            "   Val_acc=====>  9.8\n",
            "Final_accuracy==>   10.0\n"
          ],
          "name": "stdout"
        },
        {
          "output_type": "display_data",
          "data": {
            "text/html": [
              "<br/>Waiting for W&B process to finish, PID 2339<br/>Program ended successfully."
            ],
            "text/plain": [
              "<IPython.core.display.HTML object>"
            ]
          },
          "metadata": {
            "tags": []
          }
        },
        {
          "output_type": "display_data",
          "data": {
            "application/vnd.jupyter.widget-view+json": {
              "model_id": "90059d56291f4add8545eb6922e829e8",
              "version_minor": 0,
              "version_major": 2
            },
            "text/plain": [
              "VBox(children=(Label(value=' 0.00MB of 0.00MB uploaded (0.00MB deduped)\\r'), FloatProgress(value=1.0, max=1.0)…"
            ]
          },
          "metadata": {
            "tags": []
          }
        },
        {
          "output_type": "display_data",
          "data": {
            "text/html": [
              "Find user logs for this run at: <code>/content/wandb/run-20210315_045935-0to0t113/logs/debug.log</code>"
            ],
            "text/plain": [
              "<IPython.core.display.HTML object>"
            ]
          },
          "metadata": {
            "tags": []
          }
        },
        {
          "output_type": "display_data",
          "data": {
            "text/html": [
              "Find internal logs for this run at: <code>/content/wandb/run-20210315_045935-0to0t113/logs/debug-internal.log</code>"
            ],
            "text/plain": [
              "<IPython.core.display.HTML object>"
            ]
          },
          "metadata": {
            "tags": []
          }
        },
        {
          "output_type": "display_data",
          "data": {
            "text/html": [
              "<h3>Run summary:</h3><br/><style>\n",
              "    table.wandb td:nth-child(1) { padding: 0 10px; text-align: right }\n",
              "    </style><table class=\"wandb\">\n",
              "<tr><td>epoch</td><td>10</td></tr><tr><td>accuracy</td><td>10.0</td></tr><tr><td>val_accuracy</td><td>9.8</td></tr><tr><td>val_loss</td><td>2.29967</td></tr><tr><td>train_loss</td><td>2.3006</td></tr><tr><td>train_accuracy</td><td>10.02407</td></tr><tr><td>_runtime</td><td>769</td></tr><tr><td>_timestamp</td><td>1615785145</td></tr><tr><td>_step</td><td>11</td></tr></table>"
            ],
            "text/plain": [
              "<IPython.core.display.HTML object>"
            ]
          },
          "metadata": {
            "tags": []
          }
        },
        {
          "output_type": "display_data",
          "data": {
            "text/html": [
              "<h3>Run history:</h3><br/><style>\n",
              "    table.wandb td:nth-child(1) { padding: 0 10px; text-align: right }\n",
              "    </style><table class=\"wandb\">\n",
              "<tr><td>epoch</td><td>▁▂▂▃▄▅▅▆▇▇█</td></tr><tr><td>accuracy</td><td>▂▅▇███▆▄▂▁▁</td></tr><tr><td>val_accuracy</td><td>▃▅▆▇██▇▄▁▁▁</td></tr><tr><td>val_loss</td><td>█▂▁▂▃▄▄▅▅▆▆</td></tr><tr><td>train_loss</td><td>█▂▁▂▂▃▄▅▅▅▆</td></tr><tr><td>train_accuracy</td><td>▃▅▇███▇▄▁▁▁</td></tr><tr><td>_runtime</td><td>▁▂▂▃▄▅▅▆▇▇██</td></tr><tr><td>_timestamp</td><td>▁▂▂▃▄▅▅▆▇▇██</td></tr><tr><td>_step</td><td>▁▂▂▃▄▄▅▅▆▇▇█</td></tr></table><br/>"
            ],
            "text/plain": [
              "<IPython.core.display.HTML object>"
            ]
          },
          "metadata": {
            "tags": []
          }
        },
        {
          "output_type": "display_data",
          "data": {
            "text/html": [
              "Synced 5 W&B file(s), 1 media file(s), 0 artifact file(s) and 0 other file(s)"
            ],
            "text/plain": [
              "<IPython.core.display.HTML object>"
            ]
          },
          "metadata": {
            "tags": []
          }
        },
        {
          "output_type": "display_data",
          "data": {
            "text/html": [
              "\n",
              "                    <br/>Synced <strong style=\"color:#cdcd00\">volcanic-sweep-24</strong>: <a href=\"https://wandb.ai/vrunda/CS6910_Assignment1/runs/0to0t113\" target=\"_blank\">https://wandb.ai/vrunda/CS6910_Assignment1/runs/0to0t113</a><br/>\n",
              "                "
            ],
            "text/plain": [
              "<IPython.core.display.HTML object>"
            ]
          },
          "metadata": {
            "tags": []
          }
        },
        {
          "output_type": "stream",
          "text": [
            "\u001b[34m\u001b[1mwandb\u001b[0m: Agent Starting Run: ddb9acmf with config:\n",
            "\u001b[34m\u001b[1mwandb\u001b[0m: \tNeurons: 32\n",
            "\u001b[34m\u001b[1mwandb\u001b[0m: \tNo_hidden_layer: 5\n",
            "\u001b[34m\u001b[1mwandb\u001b[0m: \tactivation_type: tanh\n",
            "\u001b[34m\u001b[1mwandb\u001b[0m: \tepochs: 10\n",
            "\u001b[34m\u001b[1mwandb\u001b[0m: \tlearning_rate: 0.0001\n",
            "\u001b[34m\u001b[1mwandb\u001b[0m: \tloss_optimizer_type: momentum\n",
            "\u001b[34m\u001b[1mwandb\u001b[0m: \tmini_batch_size: 1\n",
            "\u001b[34m\u001b[1mwandb\u001b[0m: \tweight_decay: 0.5\n",
            "\u001b[34m\u001b[1mwandb\u001b[0m: \tweight_initialization: random\n",
            "\u001b[34m\u001b[1mwandb\u001b[0m: \u001b[33mWARNING\u001b[0m Ignored wandb.init() arg project when running a sweep\n"
          ],
          "name": "stderr"
        },
        {
          "output_type": "display_data",
          "data": {
            "text/html": [
              "\n",
              "                Tracking run with wandb version 0.10.22<br/>\n",
              "                Syncing run <strong style=\"color:#cdcd00\">solar-sweep-25</strong> to <a href=\"https://wandb.ai\" target=\"_blank\">Weights & Biases</a> <a href=\"https://docs.wandb.com/integrations/jupyter.html\" target=\"_blank\">(Documentation)</a>.<br/>\n",
              "                Project page: <a href=\"https://wandb.ai/vrunda/CS6910_Assignment1\" target=\"_blank\">https://wandb.ai/vrunda/CS6910_Assignment1</a><br/>\n",
              "                Sweep page: <a href=\"https://wandb.ai/vrunda/CS6910_Assignment1/sweeps/1o5dqarx\" target=\"_blank\">https://wandb.ai/vrunda/CS6910_Assignment1/sweeps/1o5dqarx</a><br/>\n",
              "Run page: <a href=\"https://wandb.ai/vrunda/CS6910_Assignment1/runs/ddb9acmf\" target=\"_blank\">https://wandb.ai/vrunda/CS6910_Assignment1/runs/ddb9acmf</a><br/>\n",
              "                Run data is saved locally in <code>/content/wandb/run-20210315_051235-ddb9acmf</code><br/><br/>\n",
              "            "
            ],
            "text/plain": [
              "<IPython.core.display.HTML object>"
            ]
          },
          "metadata": {
            "tags": []
          }
        },
        {
          "output_type": "stream",
          "text": [
            "epoch===> 0\n",
            "   Train_loss==>  2.319187130965326\n",
            "   Val_loss====>  2.31644495308116\n",
            "\n",
            "   Train_acc==>  9.207407407407407\n",
            "   Val_acc=====>  10.383333333333333\n",
            "Final_accuracy==>   9.29\n",
            "Epoch==> 1\n",
            "   Train_loss==>  1.6879947126332757\n",
            "   Val_loss====>  1.6851070428064465\n",
            "\n",
            "   Train_acc==>  20.96851851851852\n",
            "   Val_acc=====>  21.083333333333336\n",
            "Final_accuracy==>   21.099999999999998\n",
            "Epoch==> 2\n",
            "   Train_loss==>  1.6846009589931534\n",
            "   Val_loss====>  1.6816439592170336\n",
            "\n",
            "   Train_acc==>  21.094444444444445\n",
            "   Val_acc=====>  21.233333333333334\n",
            "Final_accuracy==>   21.18\n",
            "Epoch==> 3\n",
            "   Train_loss==>  1.6820666266415438\n",
            "   Val_loss====>  1.679253201265992\n",
            "\n",
            "   Train_acc==>  21.27037037037037\n",
            "   Val_acc=====>  21.283333333333335\n",
            "Final_accuracy==>   21.36\n",
            "Epoch==> 4\n",
            "   Train_loss==>  1.6769466509423387\n",
            "   Val_loss====>  1.6744206658891914\n",
            "\n",
            "   Train_acc==>  21.61296296296296\n",
            "   Val_acc=====>  21.766666666666666\n",
            "Final_accuracy==>   21.65\n",
            "Epoch==> 5\n",
            "   Train_loss==>  1.6638707349760982\n",
            "   Val_loss====>  1.6611406485333742\n",
            "\n",
            "   Train_acc==>  26.855555555555554\n",
            "   Val_acc=====>  26.016666666666666\n",
            "Final_accuracy==>   26.58\n",
            "Epoch==> 6\n",
            "   Train_loss==>  1.6588425600760044\n",
            "   Val_loss====>  1.6557140754484583\n",
            "\n",
            "   Train_acc==>  27.96111111111111\n",
            "   Val_acc=====>  27.516666666666666\n",
            "Final_accuracy==>   27.62\n",
            "Epoch==> 7\n",
            "   Train_loss==>  1.6583389335011571\n",
            "   Val_loss====>  1.6551282151594526\n",
            "\n",
            "   Train_acc==>  28.335185185185185\n",
            "   Val_acc=====>  27.96666666666667\n",
            "Final_accuracy==>   28.34\n",
            "Epoch==> 8\n",
            "   Train_loss==>  1.6583024819064807\n",
            "   Val_loss====>  1.6550650838462782\n",
            "\n",
            "   Train_acc==>  29.37037037037037\n",
            "   Val_acc=====>  28.95\n",
            "Final_accuracy==>   29.38\n",
            "Epoch==> 9\n",
            "   Train_loss==>  1.6583016644251996\n",
            "   Val_loss====>  1.6550651763244835\n",
            "\n",
            "   Train_acc==>  27.120370370370374\n",
            "   Val_acc=====>  27.083333333333332\n",
            "Final_accuracy==>   27.16\n",
            "Epoch==> 10\n",
            "   Train_loss==>  1.6583054434683593\n",
            "   Val_loss====>  1.6550664438738203\n",
            "\n",
            "   Train_acc==>  24.58703703703704\n",
            "   Val_acc=====>  24.866666666666667\n",
            "Final_accuracy==>   24.48\n"
          ],
          "name": "stdout"
        },
        {
          "output_type": "display_data",
          "data": {
            "text/html": [
              "<br/>Waiting for W&B process to finish, PID 2371<br/>Program ended successfully."
            ],
            "text/plain": [
              "<IPython.core.display.HTML object>"
            ]
          },
          "metadata": {
            "tags": []
          }
        },
        {
          "output_type": "display_data",
          "data": {
            "application/vnd.jupyter.widget-view+json": {
              "model_id": "bcc04c3de1f54dd2afa1cae2ed64039c",
              "version_minor": 0,
              "version_major": 2
            },
            "text/plain": [
              "VBox(children=(Label(value=' 0.00MB of 0.00MB uploaded (0.00MB deduped)\\r'), FloatProgress(value=0.17830109335…"
            ]
          },
          "metadata": {
            "tags": []
          }
        },
        {
          "output_type": "display_data",
          "data": {
            "text/html": [
              "Find user logs for this run at: <code>/content/wandb/run-20210315_051235-ddb9acmf/logs/debug.log</code>"
            ],
            "text/plain": [
              "<IPython.core.display.HTML object>"
            ]
          },
          "metadata": {
            "tags": []
          }
        },
        {
          "output_type": "display_data",
          "data": {
            "text/html": [
              "Find internal logs for this run at: <code>/content/wandb/run-20210315_051235-ddb9acmf/logs/debug-internal.log</code>"
            ],
            "text/plain": [
              "<IPython.core.display.HTML object>"
            ]
          },
          "metadata": {
            "tags": []
          }
        },
        {
          "output_type": "display_data",
          "data": {
            "text/html": [
              "<h3>Run summary:</h3><br/><style>\n",
              "    table.wandb td:nth-child(1) { padding: 0 10px; text-align: right }\n",
              "    </style><table class=\"wandb\">\n",
              "<tr><td>epoch</td><td>10</td></tr><tr><td>accuracy</td><td>24.48</td></tr><tr><td>val_accuracy</td><td>24.86667</td></tr><tr><td>val_loss</td><td>1.65507</td></tr><tr><td>train_loss</td><td>1.65831</td></tr><tr><td>train_accuracy</td><td>24.58704</td></tr><tr><td>_runtime</td><td>746</td></tr><tr><td>_timestamp</td><td>1615785901</td></tr><tr><td>_step</td><td>11</td></tr></table>"
            ],
            "text/plain": [
              "<IPython.core.display.HTML object>"
            ]
          },
          "metadata": {
            "tags": []
          }
        },
        {
          "output_type": "display_data",
          "data": {
            "text/html": [
              "<h3>Run history:</h3><br/><style>\n",
              "    table.wandb td:nth-child(1) { padding: 0 10px; text-align: right }\n",
              "    </style><table class=\"wandb\">\n",
              "<tr><td>epoch</td><td>▁▂▂▃▄▅▅▆▇▇█</td></tr><tr><td>accuracy</td><td>▁▅▅▅▅▇▇██▇▆</td></tr><tr><td>val_accuracy</td><td>▁▅▅▅▅▇▇██▇▆</td></tr><tr><td>val_loss</td><td>█▁▁▁▁▁▁▁▁▁▁</td></tr><tr><td>train_loss</td><td>█▁▁▁▁▁▁▁▁▁▁</td></tr><tr><td>train_accuracy</td><td>▁▅▅▅▅▇███▇▆</td></tr><tr><td>_runtime</td><td>▁▂▂▃▄▅▅▆▇▇██</td></tr><tr><td>_timestamp</td><td>▁▂▂▃▄▅▅▆▇▇██</td></tr><tr><td>_step</td><td>▁▂▂▃▄▄▅▅▆▇▇█</td></tr></table><br/>"
            ],
            "text/plain": [
              "<IPython.core.display.HTML object>"
            ]
          },
          "metadata": {
            "tags": []
          }
        },
        {
          "output_type": "display_data",
          "data": {
            "text/html": [
              "Synced 5 W&B file(s), 1 media file(s), 0 artifact file(s) and 0 other file(s)"
            ],
            "text/plain": [
              "<IPython.core.display.HTML object>"
            ]
          },
          "metadata": {
            "tags": []
          }
        },
        {
          "output_type": "display_data",
          "data": {
            "text/html": [
              "\n",
              "                    <br/>Synced <strong style=\"color:#cdcd00\">solar-sweep-25</strong>: <a href=\"https://wandb.ai/vrunda/CS6910_Assignment1/runs/ddb9acmf\" target=\"_blank\">https://wandb.ai/vrunda/CS6910_Assignment1/runs/ddb9acmf</a><br/>\n",
              "                "
            ],
            "text/plain": [
              "<IPython.core.display.HTML object>"
            ]
          },
          "metadata": {
            "tags": []
          }
        },
        {
          "output_type": "stream",
          "text": [
            "\u001b[34m\u001b[1mwandb\u001b[0m: Agent Starting Run: 1puhekd6 with config:\n",
            "\u001b[34m\u001b[1mwandb\u001b[0m: \tNeurons: 32\n",
            "\u001b[34m\u001b[1mwandb\u001b[0m: \tNo_hidden_layer: 4\n",
            "\u001b[34m\u001b[1mwandb\u001b[0m: \tactivation_type: tanh\n",
            "\u001b[34m\u001b[1mwandb\u001b[0m: \tepochs: 10\n",
            "\u001b[34m\u001b[1mwandb\u001b[0m: \tlearning_rate: 0.0001\n",
            "\u001b[34m\u001b[1mwandb\u001b[0m: \tloss_optimizer_type: vanila\n",
            "\u001b[34m\u001b[1mwandb\u001b[0m: \tmini_batch_size: 1\n",
            "\u001b[34m\u001b[1mwandb\u001b[0m: \tweight_decay: 0\n",
            "\u001b[34m\u001b[1mwandb\u001b[0m: \tweight_initialization: random\n",
            "\u001b[34m\u001b[1mwandb\u001b[0m: \u001b[33mWARNING\u001b[0m Ignored wandb.init() arg project when running a sweep\n"
          ],
          "name": "stderr"
        },
        {
          "output_type": "display_data",
          "data": {
            "text/html": [
              "\n",
              "                Tracking run with wandb version 0.10.22<br/>\n",
              "                Syncing run <strong style=\"color:#cdcd00\">youthful-sweep-26</strong> to <a href=\"https://wandb.ai\" target=\"_blank\">Weights & Biases</a> <a href=\"https://docs.wandb.com/integrations/jupyter.html\" target=\"_blank\">(Documentation)</a>.<br/>\n",
              "                Project page: <a href=\"https://wandb.ai/vrunda/CS6910_Assignment1\" target=\"_blank\">https://wandb.ai/vrunda/CS6910_Assignment1</a><br/>\n",
              "                Sweep page: <a href=\"https://wandb.ai/vrunda/CS6910_Assignment1/sweeps/1o5dqarx\" target=\"_blank\">https://wandb.ai/vrunda/CS6910_Assignment1/sweeps/1o5dqarx</a><br/>\n",
              "Run page: <a href=\"https://wandb.ai/vrunda/CS6910_Assignment1/runs/1puhekd6\" target=\"_blank\">https://wandb.ai/vrunda/CS6910_Assignment1/runs/1puhekd6</a><br/>\n",
              "                Run data is saved locally in <code>/content/wandb/run-20210315_052513-1puhekd6</code><br/><br/>\n",
              "            "
            ],
            "text/plain": [
              "<IPython.core.display.HTML object>"
            ]
          },
          "metadata": {
            "tags": []
          }
        },
        {
          "output_type": "stream",
          "text": [
            "epoch===> 0\n",
            "   Train_loss==>  2.3196704983606775\n",
            "   Val_loss====>  2.3189527868738278\n",
            "\n",
            "   Train_acc==>  10.455555555555556\n",
            "   Val_acc=====>  10.549999999999999\n",
            "Final_accuracy==>   10.75\n",
            "Epoch==> 1\n",
            "   Train_loss==>  1.6460836034432842\n",
            "   Val_loss====>  1.644860054914904\n",
            "\n",
            "   Train_acc==>  43.298148148148144\n",
            "   Val_acc=====>  42.833333333333336\n",
            "Final_accuracy==>   43.480000000000004\n",
            "Epoch==> 2\n",
            "   Train_loss==>  1.1563343211679036\n",
            "   Val_loss====>  1.1546533221534736\n",
            "\n",
            "   Train_acc==>  56.52222222222222\n",
            "   Val_acc=====>  56.65\n",
            "Final_accuracy==>   55.98\n",
            "Epoch==> 3\n",
            "   Train_loss==>  0.9306983999137929\n",
            "   Val_loss====>  0.9301471821928984\n",
            "\n",
            "   Train_acc==>  65.72962962962963\n",
            "   Val_acc=====>  65.76666666666667\n",
            "Final_accuracy==>   64.92999999999999\n",
            "Epoch==> 4\n",
            "   Train_loss==>  0.8034532207459436\n",
            "   Val_loss====>  0.8054278669364394\n",
            "\n",
            "   Train_acc==>  70.20185185185184\n",
            "   Val_acc=====>  70.19999999999999\n",
            "Final_accuracy==>   69.33\n",
            "Epoch==> 5\n",
            "   Train_loss==>  0.7286908880830574\n",
            "   Val_loss====>  0.7333560826945712\n",
            "\n",
            "   Train_acc==>  72.58703703703704\n",
            "   Val_acc=====>  72.41666666666666\n",
            "Final_accuracy==>   71.41\n",
            "Epoch==> 6\n",
            "   Train_loss==>  0.6793771185050697\n",
            "   Val_loss====>  0.6865997115575283\n",
            "\n",
            "   Train_acc==>  74.35000000000001\n",
            "   Val_acc=====>  74.13333333333333\n",
            "Final_accuracy==>   72.54\n",
            "Epoch==> 7\n",
            "   Train_loss==>  0.643417689567075\n",
            "   Val_loss====>  0.6536505815728307\n",
            "\n",
            "   Train_acc==>  75.67222222222222\n",
            "   Val_acc=====>  75.08333333333333\n",
            "Final_accuracy==>   74.18\n",
            "Epoch==> 8\n",
            "   Train_loss==>  0.6146943543623609\n",
            "   Val_loss====>  0.6284211063064269\n",
            "\n",
            "   Train_acc==>  76.84074074074074\n",
            "   Val_acc=====>  76.21666666666667\n",
            "Final_accuracy==>   75.38\n",
            "Epoch==> 9\n",
            "   Train_loss==>  0.5897964625664586\n",
            "   Val_loss====>  0.607411076605851\n",
            "\n",
            "   Train_acc==>  78.18518518518518\n",
            "   Val_acc=====>  77.33333333333333\n",
            "Final_accuracy==>   76.81\n",
            "Epoch==> 10\n",
            "   Train_loss==>  0.5667901749392793\n",
            "   Val_loss====>  0.5888312625931068\n",
            "\n",
            "   Train_acc==>  79.4037037037037\n",
            "   Val_acc=====>  78.51666666666667\n",
            "Final_accuracy==>   77.9\n"
          ],
          "name": "stdout"
        },
        {
          "output_type": "display_data",
          "data": {
            "text/html": [
              "<br/>Waiting for W&B process to finish, PID 2403<br/>Program ended successfully."
            ],
            "text/plain": [
              "<IPython.core.display.HTML object>"
            ]
          },
          "metadata": {
            "tags": []
          }
        },
        {
          "output_type": "display_data",
          "data": {
            "application/vnd.jupyter.widget-view+json": {
              "model_id": "0849e39ec4814952b2dd2ca35d04f824",
              "version_minor": 0,
              "version_major": 2
            },
            "text/plain": [
              "VBox(children=(Label(value=' 0.00MB of 0.00MB uploaded (0.00MB deduped)\\r'), FloatProgress(value=0.17795187465…"
            ]
          },
          "metadata": {
            "tags": []
          }
        },
        {
          "output_type": "display_data",
          "data": {
            "text/html": [
              "Find user logs for this run at: <code>/content/wandb/run-20210315_052513-1puhekd6/logs/debug.log</code>"
            ],
            "text/plain": [
              "<IPython.core.display.HTML object>"
            ]
          },
          "metadata": {
            "tags": []
          }
        },
        {
          "output_type": "display_data",
          "data": {
            "text/html": [
              "Find internal logs for this run at: <code>/content/wandb/run-20210315_052513-1puhekd6/logs/debug-internal.log</code>"
            ],
            "text/plain": [
              "<IPython.core.display.HTML object>"
            ]
          },
          "metadata": {
            "tags": []
          }
        },
        {
          "output_type": "display_data",
          "data": {
            "text/html": [
              "<h3>Run summary:</h3><br/><style>\n",
              "    table.wandb td:nth-child(1) { padding: 0 10px; text-align: right }\n",
              "    </style><table class=\"wandb\">\n",
              "<tr><td>epoch</td><td>10</td></tr><tr><td>accuracy</td><td>77.9</td></tr><tr><td>val_accuracy</td><td>78.51667</td></tr><tr><td>val_loss</td><td>0.58883</td></tr><tr><td>train_loss</td><td>0.56679</td></tr><tr><td>train_accuracy</td><td>79.4037</td></tr><tr><td>_runtime</td><td>622</td></tr><tr><td>_timestamp</td><td>1615786535</td></tr><tr><td>_step</td><td>11</td></tr></table>"
            ],
            "text/plain": [
              "<IPython.core.display.HTML object>"
            ]
          },
          "metadata": {
            "tags": []
          }
        },
        {
          "output_type": "display_data",
          "data": {
            "text/html": [
              "<h3>Run history:</h3><br/><style>\n",
              "    table.wandb td:nth-child(1) { padding: 0 10px; text-align: right }\n",
              "    </style><table class=\"wandb\">\n",
              "<tr><td>epoch</td><td>▁▂▂▃▄▅▅▆▇▇█</td></tr><tr><td>accuracy</td><td>▁▄▆▇▇▇▇████</td></tr><tr><td>val_accuracy</td><td>▁▄▆▇▇▇█████</td></tr><tr><td>val_loss</td><td>█▅▃▂▂▂▁▁▁▁▁</td></tr><tr><td>train_loss</td><td>█▅▃▂▂▂▁▁▁▁▁</td></tr><tr><td>train_accuracy</td><td>▁▄▆▇▇▇▇████</td></tr><tr><td>_runtime</td><td>▁▂▂▃▄▅▅▆▇▇██</td></tr><tr><td>_timestamp</td><td>▁▂▂▃▄▅▅▆▇▇██</td></tr><tr><td>_step</td><td>▁▂▂▃▄▄▅▅▆▇▇█</td></tr></table><br/>"
            ],
            "text/plain": [
              "<IPython.core.display.HTML object>"
            ]
          },
          "metadata": {
            "tags": []
          }
        },
        {
          "output_type": "display_data",
          "data": {
            "text/html": [
              "Synced 5 W&B file(s), 1 media file(s), 0 artifact file(s) and 0 other file(s)"
            ],
            "text/plain": [
              "<IPython.core.display.HTML object>"
            ]
          },
          "metadata": {
            "tags": []
          }
        },
        {
          "output_type": "display_data",
          "data": {
            "text/html": [
              "\n",
              "                    <br/>Synced <strong style=\"color:#cdcd00\">youthful-sweep-26</strong>: <a href=\"https://wandb.ai/vrunda/CS6910_Assignment1/runs/1puhekd6\" target=\"_blank\">https://wandb.ai/vrunda/CS6910_Assignment1/runs/1puhekd6</a><br/>\n",
              "                "
            ],
            "text/plain": [
              "<IPython.core.display.HTML object>"
            ]
          },
          "metadata": {
            "tags": []
          }
        },
        {
          "output_type": "stream",
          "text": [
            "\u001b[34m\u001b[1mwandb\u001b[0m: Agent Starting Run: nvlhs7ip with config:\n",
            "\u001b[34m\u001b[1mwandb\u001b[0m: \tNeurons: 128\n",
            "\u001b[34m\u001b[1mwandb\u001b[0m: \tNo_hidden_layer: 3\n",
            "\u001b[34m\u001b[1mwandb\u001b[0m: \tactivation_type: sigmoid\n",
            "\u001b[34m\u001b[1mwandb\u001b[0m: \tepochs: 5\n",
            "\u001b[34m\u001b[1mwandb\u001b[0m: \tlearning_rate: 0.0001\n",
            "\u001b[34m\u001b[1mwandb\u001b[0m: \tloss_optimizer_type: adam\n",
            "\u001b[34m\u001b[1mwandb\u001b[0m: \tmini_batch_size: 32\n",
            "\u001b[34m\u001b[1mwandb\u001b[0m: \tweight_decay: 0.5\n",
            "\u001b[34m\u001b[1mwandb\u001b[0m: \tweight_initialization: random\n",
            "\u001b[34m\u001b[1mwandb\u001b[0m: \u001b[33mWARNING\u001b[0m Ignored wandb.init() arg project when running a sweep\n"
          ],
          "name": "stderr"
        },
        {
          "output_type": "display_data",
          "data": {
            "text/html": [
              "\n",
              "                Tracking run with wandb version 0.10.22<br/>\n",
              "                Syncing run <strong style=\"color:#cdcd00\">decent-sweep-27</strong> to <a href=\"https://wandb.ai\" target=\"_blank\">Weights & Biases</a> <a href=\"https://docs.wandb.com/integrations/jupyter.html\" target=\"_blank\">(Documentation)</a>.<br/>\n",
              "                Project page: <a href=\"https://wandb.ai/vrunda/CS6910_Assignment1\" target=\"_blank\">https://wandb.ai/vrunda/CS6910_Assignment1</a><br/>\n",
              "                Sweep page: <a href=\"https://wandb.ai/vrunda/CS6910_Assignment1/sweeps/1o5dqarx\" target=\"_blank\">https://wandb.ai/vrunda/CS6910_Assignment1/sweeps/1o5dqarx</a><br/>\n",
              "Run page: <a href=\"https://wandb.ai/vrunda/CS6910_Assignment1/runs/nvlhs7ip\" target=\"_blank\">https://wandb.ai/vrunda/CS6910_Assignment1/runs/nvlhs7ip</a><br/>\n",
              "                Run data is saved locally in <code>/content/wandb/run-20210315_053545-nvlhs7ip</code><br/><br/>\n",
              "            "
            ],
            "text/plain": [
              "<IPython.core.display.HTML object>"
            ]
          },
          "metadata": {
            "tags": []
          }
        },
        {
          "output_type": "stream",
          "text": [
            "epoch===> 0\n",
            "   Train_loss==>  2.5182745384928635\n",
            "   Val_loss====>  2.5183944587960383\n",
            "\n",
            "   Train_acc==>  9.977777777777778\n",
            "   Val_acc=====>  10.2\n",
            "Final_accuracy==>   10.0\n",
            "Epoch==> 1\n",
            "   Train_loss==>  0.8694264710527914\n",
            "   Val_loss====>  0.8707675457020696\n",
            "\n",
            "   Train_acc==>  74.88148148148149\n",
            "   Val_acc=====>  75.0\n",
            "Final_accuracy==>   74.06\n",
            "Epoch==> 2\n",
            "   Train_loss==>  0.5999540885585728\n",
            "   Val_loss====>  0.6059562301064244\n",
            "\n",
            "   Train_acc==>  79.85925925925926\n",
            "   Val_acc=====>  79.23333333333333\n",
            "Final_accuracy==>   78.49000000000001\n",
            "Epoch==> 3\n",
            "   Train_loss==>  0.5107876389539608\n",
            "   Val_loss====>  0.5220070913492304\n",
            "\n",
            "   Train_acc==>  82.98518518518519\n",
            "   Val_acc=====>  82.06666666666666\n",
            "Final_accuracy==>   81.35\n",
            "Epoch==> 4\n",
            "   Train_loss==>  0.46650815957945335\n",
            "   Val_loss====>  0.48142641966023403\n",
            "\n",
            "   Train_acc==>  84.47962962962963\n",
            "   Val_acc=====>  83.81666666666666\n",
            "Final_accuracy==>   82.82000000000001\n",
            "Epoch==> 5\n",
            "   Train_loss==>  0.43988538217802947\n",
            "   Val_loss====>  0.45749985319528075\n",
            "\n",
            "   Train_acc==>  85.2574074074074\n",
            "   Val_acc=====>  84.58333333333333\n",
            "Final_accuracy==>   83.65\n"
          ],
          "name": "stdout"
        },
        {
          "output_type": "display_data",
          "data": {
            "text/html": [
              "<br/>Waiting for W&B process to finish, PID 2435<br/>Program ended successfully."
            ],
            "text/plain": [
              "<IPython.core.display.HTML object>"
            ]
          },
          "metadata": {
            "tags": []
          }
        },
        {
          "output_type": "display_data",
          "data": {
            "application/vnd.jupyter.widget-view+json": {
              "model_id": "8f0f99d28b6a4e1984f534733d496364",
              "version_minor": 0,
              "version_major": 2
            },
            "text/plain": [
              "VBox(children=(Label(value=' 0.00MB of 0.00MB uploaded (0.00MB deduped)\\r'), FloatProgress(value=0.17815126050…"
            ]
          },
          "metadata": {
            "tags": []
          }
        },
        {
          "output_type": "display_data",
          "data": {
            "text/html": [
              "Find user logs for this run at: <code>/content/wandb/run-20210315_053545-nvlhs7ip/logs/debug.log</code>"
            ],
            "text/plain": [
              "<IPython.core.display.HTML object>"
            ]
          },
          "metadata": {
            "tags": []
          }
        },
        {
          "output_type": "display_data",
          "data": {
            "text/html": [
              "Find internal logs for this run at: <code>/content/wandb/run-20210315_053545-nvlhs7ip/logs/debug-internal.log</code>"
            ],
            "text/plain": [
              "<IPython.core.display.HTML object>"
            ]
          },
          "metadata": {
            "tags": []
          }
        },
        {
          "output_type": "display_data",
          "data": {
            "text/html": [
              "<h3>Run summary:</h3><br/><style>\n",
              "    table.wandb td:nth-child(1) { padding: 0 10px; text-align: right }\n",
              "    </style><table class=\"wandb\">\n",
              "<tr><td>epoch</td><td>5</td></tr><tr><td>accuracy</td><td>83.65</td></tr><tr><td>val_accuracy</td><td>84.58333</td></tr><tr><td>val_loss</td><td>0.4575</td></tr><tr><td>train_loss</td><td>0.43989</td></tr><tr><td>train_accuracy</td><td>85.25741</td></tr><tr><td>_runtime</td><td>537</td></tr><tr><td>_timestamp</td><td>1615787082</td></tr><tr><td>_step</td><td>6</td></tr></table>"
            ],
            "text/plain": [
              "<IPython.core.display.HTML object>"
            ]
          },
          "metadata": {
            "tags": []
          }
        },
        {
          "output_type": "display_data",
          "data": {
            "text/html": [
              "<h3>Run history:</h3><br/><style>\n",
              "    table.wandb td:nth-child(1) { padding: 0 10px; text-align: right }\n",
              "    </style><table class=\"wandb\">\n",
              "<tr><td>epoch</td><td>▁▂▄▅▇█</td></tr><tr><td>accuracy</td><td>▁▇████</td></tr><tr><td>val_accuracy</td><td>▁▇▇███</td></tr><tr><td>val_loss</td><td>█▂▂▁▁▁</td></tr><tr><td>train_loss</td><td>█▂▂▁▁▁</td></tr><tr><td>train_accuracy</td><td>▁▇▇███</td></tr><tr><td>_runtime</td><td>▁▂▄▅▇██</td></tr><tr><td>_timestamp</td><td>▁▂▄▅▇██</td></tr><tr><td>_step</td><td>▁▂▃▅▆▇█</td></tr></table><br/>"
            ],
            "text/plain": [
              "<IPython.core.display.HTML object>"
            ]
          },
          "metadata": {
            "tags": []
          }
        },
        {
          "output_type": "display_data",
          "data": {
            "text/html": [
              "Synced 5 W&B file(s), 1 media file(s), 0 artifact file(s) and 0 other file(s)"
            ],
            "text/plain": [
              "<IPython.core.display.HTML object>"
            ]
          },
          "metadata": {
            "tags": []
          }
        },
        {
          "output_type": "display_data",
          "data": {
            "text/html": [
              "\n",
              "                    <br/>Synced <strong style=\"color:#cdcd00\">decent-sweep-27</strong>: <a href=\"https://wandb.ai/vrunda/CS6910_Assignment1/runs/nvlhs7ip\" target=\"_blank\">https://wandb.ai/vrunda/CS6910_Assignment1/runs/nvlhs7ip</a><br/>\n",
              "                "
            ],
            "text/plain": [
              "<IPython.core.display.HTML object>"
            ]
          },
          "metadata": {
            "tags": []
          }
        },
        {
          "output_type": "stream",
          "text": [
            "\u001b[34m\u001b[1mwandb\u001b[0m: Agent Starting Run: fu86ikf2 with config:\n",
            "\u001b[34m\u001b[1mwandb\u001b[0m: \tNeurons: 128\n",
            "\u001b[34m\u001b[1mwandb\u001b[0m: \tNo_hidden_layer: 3\n",
            "\u001b[34m\u001b[1mwandb\u001b[0m: \tactivation_type: ReLU\n",
            "\u001b[34m\u001b[1mwandb\u001b[0m: \tepochs: 10\n",
            "\u001b[34m\u001b[1mwandb\u001b[0m: \tlearning_rate: 0.0001\n",
            "\u001b[34m\u001b[1mwandb\u001b[0m: \tloss_optimizer_type: nadam\n",
            "\u001b[34m\u001b[1mwandb\u001b[0m: \tmini_batch_size: 32\n",
            "\u001b[34m\u001b[1mwandb\u001b[0m: \tweight_decay: 0.0005\n",
            "\u001b[34m\u001b[1mwandb\u001b[0m: \tweight_initialization: random\n",
            "\u001b[34m\u001b[1mwandb\u001b[0m: \u001b[33mWARNING\u001b[0m Ignored wandb.init() arg project when running a sweep\n"
          ],
          "name": "stderr"
        },
        {
          "output_type": "display_data",
          "data": {
            "text/html": [
              "\n",
              "                Tracking run with wandb version 0.10.22<br/>\n",
              "                Syncing run <strong style=\"color:#cdcd00\">iconic-sweep-28</strong> to <a href=\"https://wandb.ai\" target=\"_blank\">Weights & Biases</a> <a href=\"https://docs.wandb.com/integrations/jupyter.html\" target=\"_blank\">(Documentation)</a>.<br/>\n",
              "                Project page: <a href=\"https://wandb.ai/vrunda/CS6910_Assignment1\" target=\"_blank\">https://wandb.ai/vrunda/CS6910_Assignment1</a><br/>\n",
              "                Sweep page: <a href=\"https://wandb.ai/vrunda/CS6910_Assignment1/sweeps/1o5dqarx\" target=\"_blank\">https://wandb.ai/vrunda/CS6910_Assignment1/sweeps/1o5dqarx</a><br/>\n",
              "Run page: <a href=\"https://wandb.ai/vrunda/CS6910_Assignment1/runs/fu86ikf2\" target=\"_blank\">https://wandb.ai/vrunda/CS6910_Assignment1/runs/fu86ikf2</a><br/>\n",
              "                Run data is saved locally in <code>/content/wandb/run-20210315_054454-fu86ikf2</code><br/><br/>\n",
              "            "
            ],
            "text/plain": [
              "<IPython.core.display.HTML object>"
            ]
          },
          "metadata": {
            "tags": []
          }
        },
        {
          "output_type": "stream",
          "text": [
            "epoch===> 0\n",
            "   Train_loss==>  2.914017300939483\n",
            "   Val_loss====>  2.929119532052656\n",
            "\n",
            "   Train_acc==>  5.92037037037037\n",
            "   Val_acc=====>  5.6000000000000005\n",
            "Final_accuracy==>   6.04\n",
            "Epoch==> 1\n",
            "   Train_loss==>  0.4172206053896298\n",
            "   Val_loss====>  0.43392238987668286\n",
            "\n",
            "   Train_acc==>  84.84074074074074\n",
            "   Val_acc=====>  84.38333333333333\n",
            "Final_accuracy==>   82.93\n",
            "Epoch==> 2\n",
            "   Train_loss==>  0.35267683442925496\n",
            "   Val_loss====>  0.3828301406741015\n",
            "\n",
            "   Train_acc==>  87.27592592592592\n",
            "   Val_acc=====>  86.15\n",
            "Final_accuracy==>   84.82\n",
            "Epoch==> 3\n",
            "   Train_loss==>  0.31803607054406646\n",
            "   Val_loss====>  0.3587174499079131\n",
            "\n",
            "   Train_acc==>  88.53333333333333\n",
            "   Val_acc=====>  86.96666666666667\n",
            "Final_accuracy==>   85.7\n",
            "Epoch==> 4\n",
            "   Train_loss==>  0.29367140092461536\n",
            "   Val_loss====>  0.34472935415517564\n",
            "\n",
            "   Train_acc==>  89.48333333333333\n",
            "   Val_acc=====>  87.5\n",
            "Final_accuracy==>   86.41\n",
            "Epoch==> 5\n",
            "   Train_loss==>  0.2738571281189034\n",
            "   Val_loss====>  0.3353766469604313\n",
            "\n",
            "   Train_acc==>  90.12962962962962\n",
            "   Val_acc=====>  87.56666666666668\n",
            "Final_accuracy==>   86.92\n",
            "Epoch==> 6\n",
            "   Train_loss==>  0.25622546752863\n",
            "   Val_loss====>  0.3279300927372656\n",
            "\n",
            "   Train_acc==>  90.7537037037037\n",
            "   Val_acc=====>  87.78333333333333\n",
            "Final_accuracy==>   87.11\n",
            "Epoch==> 7\n",
            "   Train_loss==>  0.2409408631286603\n",
            "   Val_loss====>  0.3229557619864923\n",
            "\n",
            "   Train_acc==>  91.36851851851851\n",
            "   Val_acc=====>  88.13333333333333\n",
            "Final_accuracy==>   87.37\n",
            "Epoch==> 8\n",
            "   Train_loss==>  0.2276445348450394\n",
            "   Val_loss====>  0.32024224177741173\n",
            "\n",
            "   Train_acc==>  91.86111111111111\n",
            "   Val_acc=====>  88.23333333333333\n",
            "Final_accuracy==>   87.69\n",
            "Epoch==> 9\n",
            "   Train_loss==>  0.21562050572614427\n",
            "   Val_loss====>  0.3192845637251134\n",
            "\n",
            "   Train_acc==>  92.33333333333333\n",
            "   Val_acc=====>  88.3\n",
            "Final_accuracy==>   87.76\n",
            "Epoch==> 10\n",
            "   Train_loss==>  0.2047639983925984\n",
            "   Val_loss====>  0.31976038426099784\n",
            "\n",
            "   Train_acc==>  92.71481481481482\n",
            "   Val_acc=====>  88.35\n",
            "Final_accuracy==>   87.88\n"
          ],
          "name": "stdout"
        },
        {
          "output_type": "display_data",
          "data": {
            "text/html": [
              "<br/>Waiting for W&B process to finish, PID 2467<br/>Program ended successfully."
            ],
            "text/plain": [
              "<IPython.core.display.HTML object>"
            ]
          },
          "metadata": {
            "tags": []
          }
        },
        {
          "output_type": "display_data",
          "data": {
            "application/vnd.jupyter.widget-view+json": {
              "model_id": "60ea63310932472f8d6cbdd08a392f0d",
              "version_minor": 0,
              "version_major": 2
            },
            "text/plain": [
              "VBox(children=(Label(value=' 0.00MB of 0.00MB uploaded (0.00MB deduped)\\r'), FloatProgress(value=0.17845117845…"
            ]
          },
          "metadata": {
            "tags": []
          }
        },
        {
          "output_type": "display_data",
          "data": {
            "text/html": [
              "Find user logs for this run at: <code>/content/wandb/run-20210315_054454-fu86ikf2/logs/debug.log</code>"
            ],
            "text/plain": [
              "<IPython.core.display.HTML object>"
            ]
          },
          "metadata": {
            "tags": []
          }
        },
        {
          "output_type": "display_data",
          "data": {
            "text/html": [
              "Find internal logs for this run at: <code>/content/wandb/run-20210315_054454-fu86ikf2/logs/debug-internal.log</code>"
            ],
            "text/plain": [
              "<IPython.core.display.HTML object>"
            ]
          },
          "metadata": {
            "tags": []
          }
        },
        {
          "output_type": "display_data",
          "data": {
            "text/html": [
              "<h3>Run summary:</h3><br/><style>\n",
              "    table.wandb td:nth-child(1) { padding: 0 10px; text-align: right }\n",
              "    </style><table class=\"wandb\">\n",
              "<tr><td>epoch</td><td>10</td></tr><tr><td>accuracy</td><td>87.88</td></tr><tr><td>val_accuracy</td><td>88.35</td></tr><tr><td>val_loss</td><td>0.31976</td></tr><tr><td>train_loss</td><td>0.20476</td></tr><tr><td>train_accuracy</td><td>92.71481</td></tr><tr><td>_runtime</td><td>926</td></tr><tr><td>_timestamp</td><td>1615788020</td></tr><tr><td>_step</td><td>11</td></tr></table>"
            ],
            "text/plain": [
              "<IPython.core.display.HTML object>"
            ]
          },
          "metadata": {
            "tags": []
          }
        },
        {
          "output_type": "display_data",
          "data": {
            "text/html": [
              "<h3>Run history:</h3><br/><style>\n",
              "    table.wandb td:nth-child(1) { padding: 0 10px; text-align: right }\n",
              "    </style><table class=\"wandb\">\n",
              "<tr><td>epoch</td><td>▁▂▂▃▄▅▅▆▇▇█</td></tr><tr><td>accuracy</td><td>▁██████████</td></tr><tr><td>val_accuracy</td><td>▁██████████</td></tr><tr><td>val_loss</td><td>█▁▁▁▁▁▁▁▁▁▁</td></tr><tr><td>train_loss</td><td>█▂▁▁▁▁▁▁▁▁▁</td></tr><tr><td>train_accuracy</td><td>▁▇█████████</td></tr><tr><td>_runtime</td><td>▁▂▂▃▄▅▅▆▇▇██</td></tr><tr><td>_timestamp</td><td>▁▂▂▃▄▅▅▆▇▇██</td></tr><tr><td>_step</td><td>▁▂▂▃▄▄▅▅▆▇▇█</td></tr></table><br/>"
            ],
            "text/plain": [
              "<IPython.core.display.HTML object>"
            ]
          },
          "metadata": {
            "tags": []
          }
        },
        {
          "output_type": "display_data",
          "data": {
            "text/html": [
              "Synced 5 W&B file(s), 1 media file(s), 0 artifact file(s) and 0 other file(s)"
            ],
            "text/plain": [
              "<IPython.core.display.HTML object>"
            ]
          },
          "metadata": {
            "tags": []
          }
        },
        {
          "output_type": "display_data",
          "data": {
            "text/html": [
              "\n",
              "                    <br/>Synced <strong style=\"color:#cdcd00\">iconic-sweep-28</strong>: <a href=\"https://wandb.ai/vrunda/CS6910_Assignment1/runs/fu86ikf2\" target=\"_blank\">https://wandb.ai/vrunda/CS6910_Assignment1/runs/fu86ikf2</a><br/>\n",
              "                "
            ],
            "text/plain": [
              "<IPython.core.display.HTML object>"
            ]
          },
          "metadata": {
            "tags": []
          }
        },
        {
          "output_type": "stream",
          "text": [
            "\u001b[34m\u001b[1mwandb\u001b[0m: Agent Starting Run: tpirbhwe with config:\n",
            "\u001b[34m\u001b[1mwandb\u001b[0m: \tNeurons: 32\n",
            "\u001b[34m\u001b[1mwandb\u001b[0m: \tNo_hidden_layer: 3\n",
            "\u001b[34m\u001b[1mwandb\u001b[0m: \tactivation_type: tanh\n",
            "\u001b[34m\u001b[1mwandb\u001b[0m: \tepochs: 5\n",
            "\u001b[34m\u001b[1mwandb\u001b[0m: \tlearning_rate: 0.0001\n",
            "\u001b[34m\u001b[1mwandb\u001b[0m: \tloss_optimizer_type: nadam\n",
            "\u001b[34m\u001b[1mwandb\u001b[0m: \tmini_batch_size: 1\n",
            "\u001b[34m\u001b[1mwandb\u001b[0m: \tweight_decay: 0.5\n",
            "\u001b[34m\u001b[1mwandb\u001b[0m: \tweight_initialization: xavier\n",
            "\u001b[34m\u001b[1mwandb\u001b[0m: \u001b[33mWARNING\u001b[0m Ignored wandb.init() arg project when running a sweep\n"
          ],
          "name": "stderr"
        },
        {
          "output_type": "display_data",
          "data": {
            "text/html": [
              "\n",
              "                Tracking run with wandb version 0.10.22<br/>\n",
              "                Syncing run <strong style=\"color:#cdcd00\">lucky-sweep-29</strong> to <a href=\"https://wandb.ai\" target=\"_blank\">Weights & Biases</a> <a href=\"https://docs.wandb.com/integrations/jupyter.html\" target=\"_blank\">(Documentation)</a>.<br/>\n",
              "                Project page: <a href=\"https://wandb.ai/vrunda/CS6910_Assignment1\" target=\"_blank\">https://wandb.ai/vrunda/CS6910_Assignment1</a><br/>\n",
              "                Sweep page: <a href=\"https://wandb.ai/vrunda/CS6910_Assignment1/sweeps/1o5dqarx\" target=\"_blank\">https://wandb.ai/vrunda/CS6910_Assignment1/sweeps/1o5dqarx</a><br/>\n",
              "Run page: <a href=\"https://wandb.ai/vrunda/CS6910_Assignment1/runs/tpirbhwe\" target=\"_blank\">https://wandb.ai/vrunda/CS6910_Assignment1/runs/tpirbhwe</a><br/>\n",
              "                Run data is saved locally in <code>/content/wandb/run-20210315_060030-tpirbhwe</code><br/><br/>\n",
              "            "
            ],
            "text/plain": [
              "<IPython.core.display.HTML object>"
            ]
          },
          "metadata": {
            "tags": []
          }
        },
        {
          "output_type": "stream",
          "text": [
            "epoch===> 0\n",
            "   Train_loss==>  2.386553420720514\n",
            "   Val_loss====>  2.3753172979653834\n",
            "\n",
            "   Train_acc==>  14.483333333333334\n",
            "   Val_acc=====>  14.75\n",
            "Final_accuracy==>   14.149999999999999\n",
            "Epoch==> 1\n",
            "   Train_loss==>  0.5627912243695614\n",
            "   Val_loss====>  0.5765676268115841\n",
            "\n",
            "   Train_acc==>  84.16111111111111\n",
            "   Val_acc=====>  83.2\n",
            "Final_accuracy==>   82.77\n",
            "Epoch==> 2\n",
            "   Train_loss==>  0.5511104924028146\n",
            "   Val_loss====>  0.5647639206756557\n",
            "\n",
            "   Train_acc==>  84.38703703703703\n",
            "   Val_acc=====>  83.26666666666667\n",
            "Final_accuracy==>   82.66\n",
            "Epoch==> 3\n",
            "   Train_loss==>  0.546185595140389\n",
            "   Val_loss====>  0.5600262780481915\n",
            "\n",
            "   Train_acc==>  84.47962962962963\n",
            "   Val_acc=====>  83.46666666666667\n",
            "Final_accuracy==>   82.95\n",
            "Epoch==> 4\n",
            "   Train_loss==>  0.544080258263886\n",
            "   Val_loss====>  0.5581062449057556\n",
            "\n",
            "   Train_acc==>  84.53703703703704\n",
            "   Val_acc=====>  83.45\n",
            "Final_accuracy==>   82.94\n",
            "Epoch==> 5\n",
            "   Train_loss==>  0.5426170565198091\n",
            "   Val_loss====>  0.5566836682274876\n",
            "\n",
            "   Train_acc==>  84.58518518518518\n",
            "   Val_acc=====>  83.53333333333333\n",
            "Final_accuracy==>   83.02000000000001\n"
          ],
          "name": "stdout"
        },
        {
          "output_type": "display_data",
          "data": {
            "text/html": [
              "<br/>Waiting for W&B process to finish, PID 2499<br/>Program ended successfully."
            ],
            "text/plain": [
              "<IPython.core.display.HTML object>"
            ]
          },
          "metadata": {
            "tags": []
          }
        },
        {
          "output_type": "display_data",
          "data": {
            "application/vnd.jupyter.widget-view+json": {
              "model_id": "3aa89df2f7d6450dae8b09c10ad56eb3",
              "version_minor": 0,
              "version_major": 2
            },
            "text/plain": [
              "VBox(children=(Label(value=' 0.00MB of 0.00MB uploaded (0.00MB deduped)\\r'), FloatProgress(value=0.17790209790…"
            ]
          },
          "metadata": {
            "tags": []
          }
        },
        {
          "output_type": "display_data",
          "data": {
            "text/html": [
              "Find user logs for this run at: <code>/content/wandb/run-20210315_060030-tpirbhwe/logs/debug.log</code>"
            ],
            "text/plain": [
              "<IPython.core.display.HTML object>"
            ]
          },
          "metadata": {
            "tags": []
          }
        },
        {
          "output_type": "display_data",
          "data": {
            "text/html": [
              "Find internal logs for this run at: <code>/content/wandb/run-20210315_060030-tpirbhwe/logs/debug-internal.log</code>"
            ],
            "text/plain": [
              "<IPython.core.display.HTML object>"
            ]
          },
          "metadata": {
            "tags": []
          }
        },
        {
          "output_type": "display_data",
          "data": {
            "text/html": [
              "<h3>Run summary:</h3><br/><style>\n",
              "    table.wandb td:nth-child(1) { padding: 0 10px; text-align: right }\n",
              "    </style><table class=\"wandb\">\n",
              "<tr><td>epoch</td><td>5</td></tr><tr><td>accuracy</td><td>83.02</td></tr><tr><td>val_accuracy</td><td>83.53333</td></tr><tr><td>val_loss</td><td>0.55668</td></tr><tr><td>train_loss</td><td>0.54262</td></tr><tr><td>train_accuracy</td><td>84.58519</td></tr><tr><td>_runtime</td><td>483</td></tr><tr><td>_timestamp</td><td>1615788513</td></tr><tr><td>_step</td><td>6</td></tr></table>"
            ],
            "text/plain": [
              "<IPython.core.display.HTML object>"
            ]
          },
          "metadata": {
            "tags": []
          }
        },
        {
          "output_type": "display_data",
          "data": {
            "text/html": [
              "<h3>Run history:</h3><br/><style>\n",
              "    table.wandb td:nth-child(1) { padding: 0 10px; text-align: right }\n",
              "    </style><table class=\"wandb\">\n",
              "<tr><td>epoch</td><td>▁▂▄▅▇█</td></tr><tr><td>accuracy</td><td>▁█████</td></tr><tr><td>val_accuracy</td><td>▁█████</td></tr><tr><td>val_loss</td><td>█▁▁▁▁▁</td></tr><tr><td>train_loss</td><td>█▁▁▁▁▁</td></tr><tr><td>train_accuracy</td><td>▁█████</td></tr><tr><td>_runtime</td><td>▁▂▄▅▇██</td></tr><tr><td>_timestamp</td><td>▁▂▄▅▇██</td></tr><tr><td>_step</td><td>▁▂▃▅▆▇█</td></tr></table><br/>"
            ],
            "text/plain": [
              "<IPython.core.display.HTML object>"
            ]
          },
          "metadata": {
            "tags": []
          }
        },
        {
          "output_type": "display_data",
          "data": {
            "text/html": [
              "Synced 5 W&B file(s), 1 media file(s), 0 artifact file(s) and 0 other file(s)"
            ],
            "text/plain": [
              "<IPython.core.display.HTML object>"
            ]
          },
          "metadata": {
            "tags": []
          }
        },
        {
          "output_type": "display_data",
          "data": {
            "text/html": [
              "\n",
              "                    <br/>Synced <strong style=\"color:#cdcd00\">lucky-sweep-29</strong>: <a href=\"https://wandb.ai/vrunda/CS6910_Assignment1/runs/tpirbhwe\" target=\"_blank\">https://wandb.ai/vrunda/CS6910_Assignment1/runs/tpirbhwe</a><br/>\n",
              "                "
            ],
            "text/plain": [
              "<IPython.core.display.HTML object>"
            ]
          },
          "metadata": {
            "tags": []
          }
        },
        {
          "output_type": "stream",
          "text": [
            "\u001b[34m\u001b[1mwandb\u001b[0m: Agent Starting Run: q1nreor7 with config:\n",
            "\u001b[34m\u001b[1mwandb\u001b[0m: \tNeurons: 128\n",
            "\u001b[34m\u001b[1mwandb\u001b[0m: \tNo_hidden_layer: 3\n",
            "\u001b[34m\u001b[1mwandb\u001b[0m: \tactivation_type: tanh\n",
            "\u001b[34m\u001b[1mwandb\u001b[0m: \tepochs: 5\n",
            "\u001b[34m\u001b[1mwandb\u001b[0m: \tlearning_rate: 0.0001\n",
            "\u001b[34m\u001b[1mwandb\u001b[0m: \tloss_optimizer_type: nadam\n",
            "\u001b[34m\u001b[1mwandb\u001b[0m: \tmini_batch_size: 32\n",
            "\u001b[34m\u001b[1mwandb\u001b[0m: \tweight_decay: 0.5\n",
            "\u001b[34m\u001b[1mwandb\u001b[0m: \tweight_initialization: random\n",
            "\u001b[34m\u001b[1mwandb\u001b[0m: \u001b[33mWARNING\u001b[0m Ignored wandb.init() arg project when running a sweep\n"
          ],
          "name": "stderr"
        },
        {
          "output_type": "display_data",
          "data": {
            "text/html": [
              "\n",
              "                Tracking run with wandb version 0.10.22<br/>\n",
              "                Syncing run <strong style=\"color:#cdcd00\">fallen-sweep-30</strong> to <a href=\"https://wandb.ai\" target=\"_blank\">Weights & Biases</a> <a href=\"https://docs.wandb.com/integrations/jupyter.html\" target=\"_blank\">(Documentation)</a>.<br/>\n",
              "                Project page: <a href=\"https://wandb.ai/vrunda/CS6910_Assignment1\" target=\"_blank\">https://wandb.ai/vrunda/CS6910_Assignment1</a><br/>\n",
              "                Sweep page: <a href=\"https://wandb.ai/vrunda/CS6910_Assignment1/sweeps/1o5dqarx\" target=\"_blank\">https://wandb.ai/vrunda/CS6910_Assignment1/sweeps/1o5dqarx</a><br/>\n",
              "Run page: <a href=\"https://wandb.ai/vrunda/CS6910_Assignment1/runs/q1nreor7\" target=\"_blank\">https://wandb.ai/vrunda/CS6910_Assignment1/runs/q1nreor7</a><br/>\n",
              "                Run data is saved locally in <code>/content/wandb/run-20210315_060843-q1nreor7</code><br/><br/>\n",
              "            "
            ],
            "text/plain": [
              "<IPython.core.display.HTML object>"
            ]
          },
          "metadata": {
            "tags": []
          }
        },
        {
          "output_type": "stream",
          "text": [
            "epoch===> 0\n",
            "   Train_loss==>  2.563937601983631\n",
            "   Val_loss====>  2.565809277837478\n",
            "\n",
            "   Train_acc==>  7.738888888888888\n",
            "   Val_acc=====>  7.533333333333333\n",
            "Final_accuracy==>   7.9399999999999995\n",
            "Epoch==> 1\n",
            "   Train_loss==>  0.4427238227566296\n",
            "   Val_loss====>  0.46218425891386716\n",
            "\n",
            "   Train_acc==>  84.6148148148148\n",
            "   Val_acc=====>  83.61666666666666\n",
            "Final_accuracy==>   82.39\n",
            "Epoch==> 2\n",
            "   Train_loss==>  0.37451749895760045\n",
            "   Val_loss====>  0.4039913675591576\n",
            "\n",
            "   Train_acc==>  86.96296296296296\n",
            "   Val_acc=====>  85.68333333333334\n",
            "Final_accuracy==>   84.55\n",
            "Epoch==> 3\n",
            "   Train_loss==>  0.34008033327930903\n",
            "   Val_loss====>  0.3774870845579362\n",
            "\n",
            "   Train_acc==>  88.24814814814815\n",
            "   Val_acc=====>  86.56666666666666\n",
            "Final_accuracy==>   85.52\n",
            "Epoch==> 4\n",
            "   Train_loss==>  0.31730825162067805\n",
            "   Val_loss====>  0.3617947700790916\n",
            "\n",
            "   Train_acc==>  89.08148148148149\n",
            "   Val_acc=====>  87.13333333333333\n",
            "Final_accuracy==>   86.05000000000001\n",
            "Epoch==> 5\n",
            "   Train_loss==>  0.3004153745839063\n",
            "   Val_loss====>  0.3512016207609527\n",
            "\n",
            "   Train_acc==>  89.61481481481482\n",
            "   Val_acc=====>  87.3\n",
            "Final_accuracy==>   86.25\n"
          ],
          "name": "stdout"
        },
        {
          "output_type": "display_data",
          "data": {
            "text/html": [
              "<br/>Waiting for W&B process to finish, PID 2531<br/>Program ended successfully."
            ],
            "text/plain": [
              "<IPython.core.display.HTML object>"
            ]
          },
          "metadata": {
            "tags": []
          }
        },
        {
          "output_type": "display_data",
          "data": {
            "application/vnd.jupyter.widget-view+json": {
              "model_id": "d4b0224bbd4b439bb42ff678192c992a",
              "version_minor": 0,
              "version_major": 2
            },
            "text/plain": [
              "VBox(children=(Label(value=' 0.00MB of 0.00MB uploaded (0.00MB deduped)\\r'), FloatProgress(value=0.17820117680…"
            ]
          },
          "metadata": {
            "tags": []
          }
        },
        {
          "output_type": "display_data",
          "data": {
            "text/html": [
              "Find user logs for this run at: <code>/content/wandb/run-20210315_060843-q1nreor7/logs/debug.log</code>"
            ],
            "text/plain": [
              "<IPython.core.display.HTML object>"
            ]
          },
          "metadata": {
            "tags": []
          }
        },
        {
          "output_type": "display_data",
          "data": {
            "text/html": [
              "Find internal logs for this run at: <code>/content/wandb/run-20210315_060843-q1nreor7/logs/debug-internal.log</code>"
            ],
            "text/plain": [
              "<IPython.core.display.HTML object>"
            ]
          },
          "metadata": {
            "tags": []
          }
        },
        {
          "output_type": "display_data",
          "data": {
            "text/html": [
              "<h3>Run summary:</h3><br/><style>\n",
              "    table.wandb td:nth-child(1) { padding: 0 10px; text-align: right }\n",
              "    </style><table class=\"wandb\">\n",
              "<tr><td>epoch</td><td>5</td></tr><tr><td>accuracy</td><td>86.25</td></tr><tr><td>val_accuracy</td><td>87.3</td></tr><tr><td>val_loss</td><td>0.3512</td></tr><tr><td>train_loss</td><td>0.30042</td></tr><tr><td>train_accuracy</td><td>89.61481</td></tr><tr><td>_runtime</td><td>518</td></tr><tr><td>_timestamp</td><td>1615789041</td></tr><tr><td>_step</td><td>6</td></tr></table>"
            ],
            "text/plain": [
              "<IPython.core.display.HTML object>"
            ]
          },
          "metadata": {
            "tags": []
          }
        },
        {
          "output_type": "display_data",
          "data": {
            "text/html": [
              "<h3>Run history:</h3><br/><style>\n",
              "    table.wandb td:nth-child(1) { padding: 0 10px; text-align: right }\n",
              "    </style><table class=\"wandb\">\n",
              "<tr><td>epoch</td><td>▁▂▄▅▇█</td></tr><tr><td>accuracy</td><td>▁█████</td></tr><tr><td>val_accuracy</td><td>▁█████</td></tr><tr><td>val_loss</td><td>█▁▁▁▁▁</td></tr><tr><td>train_loss</td><td>█▁▁▁▁▁</td></tr><tr><td>train_accuracy</td><td>▁█████</td></tr><tr><td>_runtime</td><td>▁▂▄▅▇██</td></tr><tr><td>_timestamp</td><td>▁▂▄▅▇██</td></tr><tr><td>_step</td><td>▁▂▃▅▆▇█</td></tr></table><br/>"
            ],
            "text/plain": [
              "<IPython.core.display.HTML object>"
            ]
          },
          "metadata": {
            "tags": []
          }
        },
        {
          "output_type": "display_data",
          "data": {
            "text/html": [
              "Synced 5 W&B file(s), 1 media file(s), 0 artifact file(s) and 0 other file(s)"
            ],
            "text/plain": [
              "<IPython.core.display.HTML object>"
            ]
          },
          "metadata": {
            "tags": []
          }
        },
        {
          "output_type": "display_data",
          "data": {
            "text/html": [
              "\n",
              "                    <br/>Synced <strong style=\"color:#cdcd00\">fallen-sweep-30</strong>: <a href=\"https://wandb.ai/vrunda/CS6910_Assignment1/runs/q1nreor7\" target=\"_blank\">https://wandb.ai/vrunda/CS6910_Assignment1/runs/q1nreor7</a><br/>\n",
              "                "
            ],
            "text/plain": [
              "<IPython.core.display.HTML object>"
            ]
          },
          "metadata": {
            "tags": []
          }
        },
        {
          "output_type": "stream",
          "text": [
            "\u001b[34m\u001b[1mwandb\u001b[0m: Agent Starting Run: 1uh45vz8 with config:\n",
            "\u001b[34m\u001b[1mwandb\u001b[0m: \tNeurons: 64\n",
            "\u001b[34m\u001b[1mwandb\u001b[0m: \tNo_hidden_layer: 5\n",
            "\u001b[34m\u001b[1mwandb\u001b[0m: \tactivation_type: ReLU\n",
            "\u001b[34m\u001b[1mwandb\u001b[0m: \tepochs: 5\n",
            "\u001b[34m\u001b[1mwandb\u001b[0m: \tlearning_rate: 0.0001\n",
            "\u001b[34m\u001b[1mwandb\u001b[0m: \tloss_optimizer_type: nag\n",
            "\u001b[34m\u001b[1mwandb\u001b[0m: \tmini_batch_size: 16\n",
            "\u001b[34m\u001b[1mwandb\u001b[0m: \tweight_decay: 0.5\n",
            "\u001b[34m\u001b[1mwandb\u001b[0m: \tweight_initialization: xavier\n",
            "\u001b[34m\u001b[1mwandb\u001b[0m: \u001b[33mWARNING\u001b[0m Ignored wandb.init() arg project when running a sweep\n"
          ],
          "name": "stderr"
        },
        {
          "output_type": "display_data",
          "data": {
            "text/html": [
              "\n",
              "                Tracking run with wandb version 0.10.22<br/>\n",
              "                Syncing run <strong style=\"color:#cdcd00\">gentle-sweep-31</strong> to <a href=\"https://wandb.ai\" target=\"_blank\">Weights & Biases</a> <a href=\"https://docs.wandb.com/integrations/jupyter.html\" target=\"_blank\">(Documentation)</a>.<br/>\n",
              "                Project page: <a href=\"https://wandb.ai/vrunda/CS6910_Assignment1\" target=\"_blank\">https://wandb.ai/vrunda/CS6910_Assignment1</a><br/>\n",
              "                Sweep page: <a href=\"https://wandb.ai/vrunda/CS6910_Assignment1/sweeps/1o5dqarx\" target=\"_blank\">https://wandb.ai/vrunda/CS6910_Assignment1/sweeps/1o5dqarx</a><br/>\n",
              "Run page: <a href=\"https://wandb.ai/vrunda/CS6910_Assignment1/runs/1uh45vz8\" target=\"_blank\">https://wandb.ai/vrunda/CS6910_Assignment1/runs/1uh45vz8</a><br/>\n",
              "                Run data is saved locally in <code>/content/wandb/run-20210315_061733-1uh45vz8</code><br/><br/>\n",
              "            "
            ],
            "text/plain": [
              "<IPython.core.display.HTML object>"
            ]
          },
          "metadata": {
            "tags": []
          }
        },
        {
          "output_type": "stream",
          "text": [
            "epoch===> 0\n",
            "   Train_loss==>  2.382209950344276\n",
            "   Val_loss====>  2.3758198498906267\n",
            "\n",
            "   Train_acc==>  9.753703703703703\n",
            "   Val_acc=====>  9.683333333333334\n",
            "Final_accuracy==>   9.77\n",
            "Epoch==> 1\n",
            "   Train_loss==>  0.3750747404544897\n",
            "   Val_loss====>  0.4108351036624134\n",
            "\n",
            "   Train_acc==>  86.36666666666667\n",
            "   Val_acc=====>  84.81666666666666\n",
            "Final_accuracy==>   84.44\n",
            "Epoch==> 2\n",
            "   Train_loss==>  0.3401065621087372\n",
            "   Val_loss====>  0.38867244527596284\n",
            "\n",
            "   Train_acc==>  87.63888888888889\n",
            "   Val_acc=====>  85.66666666666667\n",
            "Final_accuracy==>   85.3\n",
            "Epoch==> 3\n",
            "   Train_loss==>  0.3197206637340162\n",
            "   Val_loss====>  0.37642082739204397\n",
            "\n",
            "   Train_acc==>  88.42962962962963\n",
            "   Val_acc=====>  86.15\n",
            "Final_accuracy==>   85.68\n",
            "Epoch==> 4\n",
            "   Train_loss==>  0.30544158990080433\n",
            "   Val_loss====>  0.36787565111042675\n",
            "\n",
            "   Train_acc==>  89.00555555555556\n",
            "   Val_acc=====>  86.53333333333333\n",
            "Final_accuracy==>   86.07000000000001\n",
            "Epoch==> 5\n",
            "   Train_loss==>  0.29408561400134714\n",
            "   Val_loss====>  0.36187211925959356\n",
            "\n",
            "   Train_acc==>  89.42962962962963\n",
            "   Val_acc=====>  86.91666666666666\n",
            "Final_accuracy==>   86.3\n"
          ],
          "name": "stdout"
        },
        {
          "output_type": "display_data",
          "data": {
            "text/html": [
              "<br/>Waiting for W&B process to finish, PID 2563<br/>Program ended successfully."
            ],
            "text/plain": [
              "<IPython.core.display.HTML object>"
            ]
          },
          "metadata": {
            "tags": []
          }
        },
        {
          "output_type": "display_data",
          "data": {
            "application/vnd.jupyter.widget-view+json": {
              "model_id": "272b3fb92e4d4a8499744c2259370993",
              "version_minor": 0,
              "version_major": 2
            },
            "text/plain": [
              "VBox(children=(Label(value=' 0.00MB of 0.00MB uploaded (0.00MB deduped)\\r'), FloatProgress(value=1.0, max=1.0)…"
            ]
          },
          "metadata": {
            "tags": []
          }
        },
        {
          "output_type": "display_data",
          "data": {
            "text/html": [
              "Find user logs for this run at: <code>/content/wandb/run-20210315_061733-1uh45vz8/logs/debug.log</code>"
            ],
            "text/plain": [
              "<IPython.core.display.HTML object>"
            ]
          },
          "metadata": {
            "tags": []
          }
        },
        {
          "output_type": "display_data",
          "data": {
            "text/html": [
              "Find internal logs for this run at: <code>/content/wandb/run-20210315_061733-1uh45vz8/logs/debug-internal.log</code>"
            ],
            "text/plain": [
              "<IPython.core.display.HTML object>"
            ]
          },
          "metadata": {
            "tags": []
          }
        },
        {
          "output_type": "display_data",
          "data": {
            "text/html": [
              "<h3>Run summary:</h3><br/><style>\n",
              "    table.wandb td:nth-child(1) { padding: 0 10px; text-align: right }\n",
              "    </style><table class=\"wandb\">\n",
              "<tr><td>epoch</td><td>5</td></tr><tr><td>accuracy</td><td>86.3</td></tr><tr><td>val_accuracy</td><td>86.91667</td></tr><tr><td>val_loss</td><td>0.36187</td></tr><tr><td>train_loss</td><td>0.29409</td></tr><tr><td>train_accuracy</td><td>89.42963</td></tr><tr><td>_runtime</td><td>618</td></tr><tr><td>_timestamp</td><td>1615789671</td></tr><tr><td>_step</td><td>6</td></tr></table>"
            ],
            "text/plain": [
              "<IPython.core.display.HTML object>"
            ]
          },
          "metadata": {
            "tags": []
          }
        },
        {
          "output_type": "display_data",
          "data": {
            "text/html": [
              "<h3>Run history:</h3><br/><style>\n",
              "    table.wandb td:nth-child(1) { padding: 0 10px; text-align: right }\n",
              "    </style><table class=\"wandb\">\n",
              "<tr><td>epoch</td><td>▁▂▄▅▇█</td></tr><tr><td>accuracy</td><td>▁█████</td></tr><tr><td>val_accuracy</td><td>▁█████</td></tr><tr><td>val_loss</td><td>█▁▁▁▁▁</td></tr><tr><td>train_loss</td><td>█▁▁▁▁▁</td></tr><tr><td>train_accuracy</td><td>▁█████</td></tr><tr><td>_runtime</td><td>▁▂▄▅▇██</td></tr><tr><td>_timestamp</td><td>▁▂▄▅▇██</td></tr><tr><td>_step</td><td>▁▂▃▅▆▇█</td></tr></table><br/>"
            ],
            "text/plain": [
              "<IPython.core.display.HTML object>"
            ]
          },
          "metadata": {
            "tags": []
          }
        },
        {
          "output_type": "display_data",
          "data": {
            "text/html": [
              "Synced 5 W&B file(s), 1 media file(s), 0 artifact file(s) and 0 other file(s)"
            ],
            "text/plain": [
              "<IPython.core.display.HTML object>"
            ]
          },
          "metadata": {
            "tags": []
          }
        },
        {
          "output_type": "display_data",
          "data": {
            "text/html": [
              "\n",
              "                    <br/>Synced <strong style=\"color:#cdcd00\">gentle-sweep-31</strong>: <a href=\"https://wandb.ai/vrunda/CS6910_Assignment1/runs/1uh45vz8\" target=\"_blank\">https://wandb.ai/vrunda/CS6910_Assignment1/runs/1uh45vz8</a><br/>\n",
              "                "
            ],
            "text/plain": [
              "<IPython.core.display.HTML object>"
            ]
          },
          "metadata": {
            "tags": []
          }
        },
        {
          "output_type": "stream",
          "text": [
            "\u001b[34m\u001b[1mwandb\u001b[0m: Agent Starting Run: z836mpdt with config:\n",
            "\u001b[34m\u001b[1mwandb\u001b[0m: \tNeurons: 64\n",
            "\u001b[34m\u001b[1mwandb\u001b[0m: \tNo_hidden_layer: 3\n",
            "\u001b[34m\u001b[1mwandb\u001b[0m: \tactivation_type: sigmoid\n",
            "\u001b[34m\u001b[1mwandb\u001b[0m: \tepochs: 5\n",
            "\u001b[34m\u001b[1mwandb\u001b[0m: \tlearning_rate: 0.001\n",
            "\u001b[34m\u001b[1mwandb\u001b[0m: \tloss_optimizer_type: nadam\n",
            "\u001b[34m\u001b[1mwandb\u001b[0m: \tmini_batch_size: 16\n",
            "\u001b[34m\u001b[1mwandb\u001b[0m: \tweight_decay: 0.0005\n",
            "\u001b[34m\u001b[1mwandb\u001b[0m: \tweight_initialization: xavier\n",
            "\u001b[34m\u001b[1mwandb\u001b[0m: \u001b[33mWARNING\u001b[0m Ignored wandb.init() arg project when running a sweep\n"
          ],
          "name": "stderr"
        },
        {
          "output_type": "display_data",
          "data": {
            "text/html": [
              "\n",
              "                Tracking run with wandb version 0.10.22<br/>\n",
              "                Syncing run <strong style=\"color:#cdcd00\">chocolate-sweep-32</strong> to <a href=\"https://wandb.ai\" target=\"_blank\">Weights & Biases</a> <a href=\"https://docs.wandb.com/integrations/jupyter.html\" target=\"_blank\">(Documentation)</a>.<br/>\n",
              "                Project page: <a href=\"https://wandb.ai/vrunda/CS6910_Assignment1\" target=\"_blank\">https://wandb.ai/vrunda/CS6910_Assignment1</a><br/>\n",
              "                Sweep page: <a href=\"https://wandb.ai/vrunda/CS6910_Assignment1/sweeps/1o5dqarx\" target=\"_blank\">https://wandb.ai/vrunda/CS6910_Assignment1/sweeps/1o5dqarx</a><br/>\n",
              "Run page: <a href=\"https://wandb.ai/vrunda/CS6910_Assignment1/runs/z836mpdt\" target=\"_blank\">https://wandb.ai/vrunda/CS6910_Assignment1/runs/z836mpdt</a><br/>\n",
              "                Run data is saved locally in <code>/content/wandb/run-20210315_062801-z836mpdt</code><br/><br/>\n",
              "            "
            ],
            "text/plain": [
              "<IPython.core.display.HTML object>"
            ]
          },
          "metadata": {
            "tags": []
          }
        },
        {
          "output_type": "stream",
          "text": [
            "epoch===> 0\n",
            "   Train_loss==>  2.4692097628060536\n",
            "   Val_loss====>  2.4718490849923027\n",
            "\n",
            "   Train_acc==>  10.011111111111111\n",
            "   Val_acc=====>  9.9\n",
            "Final_accuracy==>   10.0\n",
            "Epoch==> 1\n",
            "   Train_loss==>  0.39280055253079554\n",
            "   Val_loss====>  0.42713778748415937\n",
            "\n",
            "   Train_acc==>  86.13148148148149\n",
            "   Val_acc=====>  84.66666666666667\n",
            "Final_accuracy==>   83.67999999999999\n",
            "Epoch==> 2\n",
            "   Train_loss==>  0.35011264494884375\n",
            "   Val_loss====>  0.3982750011669017\n",
            "\n",
            "   Train_acc==>  87.48518518518519\n",
            "   Val_acc=====>  85.48333333333333\n",
            "Final_accuracy==>   84.63000000000001\n",
            "Epoch==> 3\n",
            "   Train_loss==>  0.3202525077502459\n",
            "   Val_loss====>  0.38561885569161797\n",
            "\n",
            "   Train_acc==>  88.56481481481482\n",
            "   Val_acc=====>  86.11666666666666\n",
            "Final_accuracy==>   85.33\n",
            "Epoch==> 4\n",
            "   Train_loss==>  0.30470487243622496\n",
            "   Val_loss====>  0.3876111684172442\n",
            "\n",
            "   Train_acc==>  89.03518518518518\n",
            "   Val_acc=====>  86.13333333333333\n",
            "Final_accuracy==>   85.25\n",
            "Epoch==> 5\n",
            "   Train_loss==>  0.2863700806202629\n",
            "   Val_loss====>  0.38363100542000134\n",
            "\n",
            "   Train_acc==>  89.66481481481482\n",
            "   Val_acc=====>  86.15\n",
            "Final_accuracy==>   85.87\n"
          ],
          "name": "stdout"
        },
        {
          "output_type": "display_data",
          "data": {
            "text/html": [
              "<br/>Waiting for W&B process to finish, PID 2595<br/>Program ended successfully."
            ],
            "text/plain": [
              "<IPython.core.display.HTML object>"
            ]
          },
          "metadata": {
            "tags": []
          }
        },
        {
          "output_type": "display_data",
          "data": {
            "application/vnd.jupyter.widget-view+json": {
              "model_id": "b8930695067c401ca82a18c115c0674e",
              "version_minor": 0,
              "version_major": 2
            },
            "text/plain": [
              "VBox(children=(Label(value=' 0.00MB of 0.00MB uploaded (0.00MB deduped)\\r'), FloatProgress(value=1.0, max=1.0)…"
            ]
          },
          "metadata": {
            "tags": []
          }
        },
        {
          "output_type": "display_data",
          "data": {
            "text/html": [
              "Find user logs for this run at: <code>/content/wandb/run-20210315_062801-z836mpdt/logs/debug.log</code>"
            ],
            "text/plain": [
              "<IPython.core.display.HTML object>"
            ]
          },
          "metadata": {
            "tags": []
          }
        },
        {
          "output_type": "display_data",
          "data": {
            "text/html": [
              "Find internal logs for this run at: <code>/content/wandb/run-20210315_062801-z836mpdt/logs/debug-internal.log</code>"
            ],
            "text/plain": [
              "<IPython.core.display.HTML object>"
            ]
          },
          "metadata": {
            "tags": []
          }
        },
        {
          "output_type": "display_data",
          "data": {
            "text/html": [
              "<h3>Run summary:</h3><br/><style>\n",
              "    table.wandb td:nth-child(1) { padding: 0 10px; text-align: right }\n",
              "    </style><table class=\"wandb\">\n",
              "<tr><td>epoch</td><td>5</td></tr><tr><td>accuracy</td><td>85.87</td></tr><tr><td>val_accuracy</td><td>86.15</td></tr><tr><td>val_loss</td><td>0.38363</td></tr><tr><td>train_loss</td><td>0.28637</td></tr><tr><td>train_accuracy</td><td>89.66481</td></tr><tr><td>_runtime</td><td>409</td></tr><tr><td>_timestamp</td><td>1615790090</td></tr><tr><td>_step</td><td>6</td></tr></table>"
            ],
            "text/plain": [
              "<IPython.core.display.HTML object>"
            ]
          },
          "metadata": {
            "tags": []
          }
        },
        {
          "output_type": "display_data",
          "data": {
            "text/html": [
              "<h3>Run history:</h3><br/><style>\n",
              "    table.wandb td:nth-child(1) { padding: 0 10px; text-align: right }\n",
              "    </style><table class=\"wandb\">\n",
              "<tr><td>epoch</td><td>▁▂▄▅▇█</td></tr><tr><td>accuracy</td><td>▁█████</td></tr><tr><td>val_accuracy</td><td>▁█████</td></tr><tr><td>val_loss</td><td>█▁▁▁▁▁</td></tr><tr><td>train_loss</td><td>█▁▁▁▁▁</td></tr><tr><td>train_accuracy</td><td>▁█████</td></tr><tr><td>_runtime</td><td>▁▂▄▅▇██</td></tr><tr><td>_timestamp</td><td>▁▂▄▅▇██</td></tr><tr><td>_step</td><td>▁▂▃▅▆▇█</td></tr></table><br/>"
            ],
            "text/plain": [
              "<IPython.core.display.HTML object>"
            ]
          },
          "metadata": {
            "tags": []
          }
        },
        {
          "output_type": "display_data",
          "data": {
            "text/html": [
              "Synced 5 W&B file(s), 1 media file(s), 0 artifact file(s) and 0 other file(s)"
            ],
            "text/plain": [
              "<IPython.core.display.HTML object>"
            ]
          },
          "metadata": {
            "tags": []
          }
        },
        {
          "output_type": "display_data",
          "data": {
            "text/html": [
              "\n",
              "                    <br/>Synced <strong style=\"color:#cdcd00\">chocolate-sweep-32</strong>: <a href=\"https://wandb.ai/vrunda/CS6910_Assignment1/runs/z836mpdt\" target=\"_blank\">https://wandb.ai/vrunda/CS6910_Assignment1/runs/z836mpdt</a><br/>\n",
              "                "
            ],
            "text/plain": [
              "<IPython.core.display.HTML object>"
            ]
          },
          "metadata": {
            "tags": []
          }
        },
        {
          "output_type": "stream",
          "text": [
            "\u001b[34m\u001b[1mwandb\u001b[0m: Agent Starting Run: mjrp24g0 with config:\n",
            "\u001b[34m\u001b[1mwandb\u001b[0m: \tNeurons: 128\n",
            "\u001b[34m\u001b[1mwandb\u001b[0m: \tNo_hidden_layer: 5\n",
            "\u001b[34m\u001b[1mwandb\u001b[0m: \tactivation_type: sigmoid\n",
            "\u001b[34m\u001b[1mwandb\u001b[0m: \tepochs: 5\n",
            "\u001b[34m\u001b[1mwandb\u001b[0m: \tlearning_rate: 0.001\n",
            "\u001b[34m\u001b[1mwandb\u001b[0m: \tloss_optimizer_type: adam\n",
            "\u001b[34m\u001b[1mwandb\u001b[0m: \tmini_batch_size: 32\n",
            "\u001b[34m\u001b[1mwandb\u001b[0m: \tweight_decay: 0\n",
            "\u001b[34m\u001b[1mwandb\u001b[0m: \tweight_initialization: xavier\n",
            "\u001b[34m\u001b[1mwandb\u001b[0m: \u001b[33mWARNING\u001b[0m Ignored wandb.init() arg project when running a sweep\n"
          ],
          "name": "stderr"
        },
        {
          "output_type": "display_data",
          "data": {
            "text/html": [
              "\n",
              "                Tracking run with wandb version 0.10.22<br/>\n",
              "                Syncing run <strong style=\"color:#cdcd00\">jolly-sweep-33</strong> to <a href=\"https://wandb.ai\" target=\"_blank\">Weights & Biases</a> <a href=\"https://docs.wandb.com/integrations/jupyter.html\" target=\"_blank\">(Documentation)</a>.<br/>\n",
              "                Project page: <a href=\"https://wandb.ai/vrunda/CS6910_Assignment1\" target=\"_blank\">https://wandb.ai/vrunda/CS6910_Assignment1</a><br/>\n",
              "                Sweep page: <a href=\"https://wandb.ai/vrunda/CS6910_Assignment1/sweeps/1o5dqarx\" target=\"_blank\">https://wandb.ai/vrunda/CS6910_Assignment1/sweeps/1o5dqarx</a><br/>\n",
              "Run page: <a href=\"https://wandb.ai/vrunda/CS6910_Assignment1/runs/mjrp24g0\" target=\"_blank\">https://wandb.ai/vrunda/CS6910_Assignment1/runs/mjrp24g0</a><br/>\n",
              "                Run data is saved locally in <code>/content/wandb/run-20210315_063501-mjrp24g0</code><br/><br/>\n",
              "            "
            ],
            "text/plain": [
              "<IPython.core.display.HTML object>"
            ]
          },
          "metadata": {
            "tags": []
          }
        },
        {
          "output_type": "stream",
          "text": [
            "epoch===> 0\n",
            "   Train_loss==>  2.5332613087489606\n",
            "   Val_loss====>  2.5361723712399424\n",
            "\n",
            "   Train_acc==>  10.044444444444444\n",
            "   Val_acc=====>  9.6\n",
            "Final_accuracy==>   10.0\n",
            "Epoch==> 1\n",
            "   Train_loss==>  0.4952218291624592\n",
            "   Val_loss====>  0.5223279271698692\n",
            "\n",
            "   Train_acc==>  83.57962962962962\n",
            "   Val_acc=====>  82.63333333333334\n",
            "Final_accuracy==>   81.77\n",
            "Epoch==> 2\n",
            "   Train_loss==>  0.3839856692643083\n",
            "   Val_loss====>  0.4252780708259899\n",
            "\n",
            "   Train_acc==>  87.20925925925927\n",
            "   Val_acc=====>  85.13333333333334\n",
            "Final_accuracy==>   84.59\n",
            "Epoch==> 3\n",
            "   Train_loss==>  0.3438126187150945\n",
            "   Val_loss====>  0.40039262038521634\n",
            "\n",
            "   Train_acc==>  88.29444444444444\n",
            "   Val_acc=====>  85.38333333333334\n",
            "Final_accuracy==>   85.2\n",
            "Epoch==> 4\n",
            "   Train_loss==>  0.31666406059989494\n",
            "   Val_loss====>  0.38720237948620434\n",
            "\n",
            "   Train_acc==>  89.13888888888889\n",
            "   Val_acc=====>  86.01666666666667\n",
            "Final_accuracy==>   85.69\n",
            "Epoch==> 5\n",
            "   Train_loss==>  0.29099007256434084\n",
            "   Val_loss====>  0.373617580135931\n",
            "\n",
            "   Train_acc==>  89.88888888888889\n",
            "   Val_acc=====>  86.31666666666666\n",
            "Final_accuracy==>   86.04\n"
          ],
          "name": "stdout"
        },
        {
          "output_type": "display_data",
          "data": {
            "text/html": [
              "<br/>Waiting for W&B process to finish, PID 2627<br/>Program ended successfully."
            ],
            "text/plain": [
              "<IPython.core.display.HTML object>"
            ]
          },
          "metadata": {
            "tags": []
          }
        },
        {
          "output_type": "display_data",
          "data": {
            "application/vnd.jupyter.widget-view+json": {
              "model_id": "e6c0f378e84a4f20a89774beba9e1f4f",
              "version_minor": 0,
              "version_major": 2
            },
            "text/plain": [
              "VBox(children=(Label(value=' 0.00MB of 0.00MB uploaded (0.00MB deduped)\\r'), FloatProgress(value=1.0, max=1.0)…"
            ]
          },
          "metadata": {
            "tags": []
          }
        },
        {
          "output_type": "display_data",
          "data": {
            "text/html": [
              "Find user logs for this run at: <code>/content/wandb/run-20210315_063501-mjrp24g0/logs/debug.log</code>"
            ],
            "text/plain": [
              "<IPython.core.display.HTML object>"
            ]
          },
          "metadata": {
            "tags": []
          }
        },
        {
          "output_type": "display_data",
          "data": {
            "text/html": [
              "Find internal logs for this run at: <code>/content/wandb/run-20210315_063501-mjrp24g0/logs/debug-internal.log</code>"
            ],
            "text/plain": [
              "<IPython.core.display.HTML object>"
            ]
          },
          "metadata": {
            "tags": []
          }
        },
        {
          "output_type": "display_data",
          "data": {
            "text/html": [
              "<h3>Run summary:</h3><br/><style>\n",
              "    table.wandb td:nth-child(1) { padding: 0 10px; text-align: right }\n",
              "    </style><table class=\"wandb\">\n",
              "<tr><td>epoch</td><td>5</td></tr><tr><td>accuracy</td><td>86.04</td></tr><tr><td>val_accuracy</td><td>86.31667</td></tr><tr><td>val_loss</td><td>0.37362</td></tr><tr><td>train_loss</td><td>0.29099</td></tr><tr><td>train_accuracy</td><td>89.88889</td></tr><tr><td>_runtime</td><td>747</td></tr><tr><td>_timestamp</td><td>1615790848</td></tr><tr><td>_step</td><td>6</td></tr></table>"
            ],
            "text/plain": [
              "<IPython.core.display.HTML object>"
            ]
          },
          "metadata": {
            "tags": []
          }
        },
        {
          "output_type": "display_data",
          "data": {
            "text/html": [
              "<h3>Run history:</h3><br/><style>\n",
              "    table.wandb td:nth-child(1) { padding: 0 10px; text-align: right }\n",
              "    </style><table class=\"wandb\">\n",
              "<tr><td>epoch</td><td>▁▂▄▅▇█</td></tr><tr><td>accuracy</td><td>▁█████</td></tr><tr><td>val_accuracy</td><td>▁█████</td></tr><tr><td>val_loss</td><td>█▁▁▁▁▁</td></tr><tr><td>train_loss</td><td>█▂▁▁▁▁</td></tr><tr><td>train_accuracy</td><td>▁▇████</td></tr><tr><td>_runtime</td><td>▁▂▄▅▇██</td></tr><tr><td>_timestamp</td><td>▁▂▄▅▇██</td></tr><tr><td>_step</td><td>▁▂▃▅▆▇█</td></tr></table><br/>"
            ],
            "text/plain": [
              "<IPython.core.display.HTML object>"
            ]
          },
          "metadata": {
            "tags": []
          }
        },
        {
          "output_type": "display_data",
          "data": {
            "text/html": [
              "Synced 5 W&B file(s), 1 media file(s), 0 artifact file(s) and 0 other file(s)"
            ],
            "text/plain": [
              "<IPython.core.display.HTML object>"
            ]
          },
          "metadata": {
            "tags": []
          }
        },
        {
          "output_type": "display_data",
          "data": {
            "text/html": [
              "\n",
              "                    <br/>Synced <strong style=\"color:#cdcd00\">jolly-sweep-33</strong>: <a href=\"https://wandb.ai/vrunda/CS6910_Assignment1/runs/mjrp24g0\" target=\"_blank\">https://wandb.ai/vrunda/CS6910_Assignment1/runs/mjrp24g0</a><br/>\n",
              "                "
            ],
            "text/plain": [
              "<IPython.core.display.HTML object>"
            ]
          },
          "metadata": {
            "tags": []
          }
        },
        {
          "output_type": "stream",
          "text": [
            "\u001b[34m\u001b[1mwandb\u001b[0m: Agent Starting Run: 3sjanuvy with config:\n",
            "\u001b[34m\u001b[1mwandb\u001b[0m: \tNeurons: 32\n",
            "\u001b[34m\u001b[1mwandb\u001b[0m: \tNo_hidden_layer: 3\n",
            "\u001b[34m\u001b[1mwandb\u001b[0m: \tactivation_type: ReLU\n",
            "\u001b[34m\u001b[1mwandb\u001b[0m: \tepochs: 5\n",
            "\u001b[34m\u001b[1mwandb\u001b[0m: \tlearning_rate: 0.0001\n",
            "\u001b[34m\u001b[1mwandb\u001b[0m: \tloss_optimizer_type: rmsprop\n",
            "\u001b[34m\u001b[1mwandb\u001b[0m: \tmini_batch_size: 64\n",
            "\u001b[34m\u001b[1mwandb\u001b[0m: \tweight_decay: 0\n",
            "\u001b[34m\u001b[1mwandb\u001b[0m: \tweight_initialization: random\n",
            "\u001b[34m\u001b[1mwandb\u001b[0m: \u001b[33mWARNING\u001b[0m Ignored wandb.init() arg project when running a sweep\n"
          ],
          "name": "stderr"
        },
        {
          "output_type": "display_data",
          "data": {
            "text/html": [
              "\n",
              "                Tracking run with wandb version 0.10.22<br/>\n",
              "                Syncing run <strong style=\"color:#cdcd00\">rosy-sweep-34</strong> to <a href=\"https://wandb.ai\" target=\"_blank\">Weights & Biases</a> <a href=\"https://docs.wandb.com/integrations/jupyter.html\" target=\"_blank\">(Documentation)</a>.<br/>\n",
              "                Project page: <a href=\"https://wandb.ai/vrunda/CS6910_Assignment1\" target=\"_blank\">https://wandb.ai/vrunda/CS6910_Assignment1</a><br/>\n",
              "                Sweep page: <a href=\"https://wandb.ai/vrunda/CS6910_Assignment1/sweeps/1o5dqarx\" target=\"_blank\">https://wandb.ai/vrunda/CS6910_Assignment1/sweeps/1o5dqarx</a><br/>\n",
              "Run page: <a href=\"https://wandb.ai/vrunda/CS6910_Assignment1/runs/3sjanuvy\" target=\"_blank\">https://wandb.ai/vrunda/CS6910_Assignment1/runs/3sjanuvy</a><br/>\n",
              "                Run data is saved locally in <code>/content/wandb/run-20210315_064738-3sjanuvy</code><br/><br/>\n",
              "            "
            ],
            "text/plain": [
              "<IPython.core.display.HTML object>"
            ]
          },
          "metadata": {
            "tags": []
          }
        },
        {
          "output_type": "stream",
          "text": [
            "epoch===> 0\n",
            "   Train_loss==>  2.3212576011782797\n",
            "   Val_loss====>  2.319165123275546\n",
            "\n",
            "   Train_acc==>  12.012962962962963\n",
            "   Val_acc=====>  12.016666666666667\n",
            "Final_accuracy==>   11.97\n",
            "Epoch==> 1\n"
          ],
          "name": "stdout"
        },
        {
          "output_type": "stream",
          "text": [
            "/usr/local/lib/python3.7/dist-packages/ipykernel_launcher.py:274: RuntimeWarning: divide by zero encountered in true_divide\n",
            "/usr/local/lib/python3.7/dist-packages/ipykernel_launcher.py:276: RuntimeWarning: invalid value encountered in multiply\n"
          ],
          "name": "stderr"
        },
        {
          "output_type": "stream",
          "text": [
            "   Train_loss==>  -9.99999988922529e-09\n",
            "   Val_loss====>  -9.999999889225291e-09\n",
            "\n",
            "   Train_acc==>  10.075925925925926\n",
            "   Val_acc=====>  9.316666666666666\n",
            "Final_accuracy==>   10.0\n",
            "Epoch==> 2\n",
            "   Train_loss==>  -9.99999988922529e-09\n",
            "   Val_loss====>  -9.999999889225291e-09\n",
            "\n",
            "   Train_acc==>  10.075925925925926\n",
            "   Val_acc=====>  9.316666666666666\n",
            "Final_accuracy==>   10.0\n",
            "Epoch==> 3\n",
            "   Train_loss==>  -9.99999988922529e-09\n",
            "   Val_loss====>  -9.999999889225291e-09\n",
            "\n",
            "   Train_acc==>  10.075925925925926\n",
            "   Val_acc=====>  9.316666666666666\n",
            "Final_accuracy==>   10.0\n",
            "Epoch==> 4\n",
            "   Train_loss==>  -9.99999988922529e-09\n",
            "   Val_loss====>  -9.999999889225291e-09\n",
            "\n",
            "   Train_acc==>  10.075925925925926\n",
            "   Val_acc=====>  9.316666666666666\n",
            "Final_accuracy==>   10.0\n",
            "Epoch==> 5\n",
            "   Train_loss==>  -9.99999988922529e-09\n",
            "   Val_loss====>  -9.999999889225291e-09\n",
            "\n",
            "   Train_acc==>  10.075925925925926\n",
            "   Val_acc=====>  9.316666666666666\n",
            "Final_accuracy==>   10.0\n"
          ],
          "name": "stdout"
        },
        {
          "output_type": "display_data",
          "data": {
            "text/html": [
              "<br/>Waiting for W&B process to finish, PID 2659<br/>Program ended successfully."
            ],
            "text/plain": [
              "<IPython.core.display.HTML object>"
            ]
          },
          "metadata": {
            "tags": []
          }
        },
        {
          "output_type": "display_data",
          "data": {
            "application/vnd.jupyter.widget-view+json": {
              "model_id": "e549d803cb12491497be33560cd4c460",
              "version_minor": 0,
              "version_major": 2
            },
            "text/plain": [
              "VBox(children=(Label(value=' 0.00MB of 0.00MB uploaded (0.00MB deduped)\\r'), FloatProgress(value=0.17925591882…"
            ]
          },
          "metadata": {
            "tags": []
          }
        },
        {
          "output_type": "display_data",
          "data": {
            "text/html": [
              "Find user logs for this run at: <code>/content/wandb/run-20210315_064738-3sjanuvy/logs/debug.log</code>"
            ],
            "text/plain": [
              "<IPython.core.display.HTML object>"
            ]
          },
          "metadata": {
            "tags": []
          }
        },
        {
          "output_type": "display_data",
          "data": {
            "text/html": [
              "Find internal logs for this run at: <code>/content/wandb/run-20210315_064738-3sjanuvy/logs/debug-internal.log</code>"
            ],
            "text/plain": [
              "<IPython.core.display.HTML object>"
            ]
          },
          "metadata": {
            "tags": []
          }
        },
        {
          "output_type": "display_data",
          "data": {
            "text/html": [
              "<h3>Run summary:</h3><br/><style>\n",
              "    table.wandb td:nth-child(1) { padding: 0 10px; text-align: right }\n",
              "    </style><table class=\"wandb\">\n",
              "<tr><td>epoch</td><td>5</td></tr><tr><td>accuracy</td><td>10.0</td></tr><tr><td>val_accuracy</td><td>9.31667</td></tr><tr><td>val_loss</td><td>-0.0</td></tr><tr><td>train_loss</td><td>-0.0</td></tr><tr><td>train_accuracy</td><td>10.07593</td></tr><tr><td>_runtime</td><td>240</td></tr><tr><td>_timestamp</td><td>1615791098</td></tr><tr><td>_step</td><td>6</td></tr></table>"
            ],
            "text/plain": [
              "<IPython.core.display.HTML object>"
            ]
          },
          "metadata": {
            "tags": []
          }
        },
        {
          "output_type": "display_data",
          "data": {
            "text/html": [
              "<h3>Run history:</h3><br/><style>\n",
              "    table.wandb td:nth-child(1) { padding: 0 10px; text-align: right }\n",
              "    </style><table class=\"wandb\">\n",
              "<tr><td>epoch</td><td>▁▂▄▅▇█</td></tr><tr><td>accuracy</td><td>█▁▁▁▁▁</td></tr><tr><td>val_accuracy</td><td>█▁▁▁▁▁</td></tr><tr><td>val_loss</td><td>█▁▁▁▁▁</td></tr><tr><td>train_loss</td><td>█▁▁▁▁▁</td></tr><tr><td>train_accuracy</td><td>█▁▁▁▁▁</td></tr><tr><td>_runtime</td><td>▁▂▄▅▇██</td></tr><tr><td>_timestamp</td><td>▁▂▄▅▇██</td></tr><tr><td>_step</td><td>▁▂▃▅▆▇█</td></tr></table><br/>"
            ],
            "text/plain": [
              "<IPython.core.display.HTML object>"
            ]
          },
          "metadata": {
            "tags": []
          }
        },
        {
          "output_type": "display_data",
          "data": {
            "text/html": [
              "Synced 5 W&B file(s), 1 media file(s), 0 artifact file(s) and 0 other file(s)"
            ],
            "text/plain": [
              "<IPython.core.display.HTML object>"
            ]
          },
          "metadata": {
            "tags": []
          }
        },
        {
          "output_type": "display_data",
          "data": {
            "text/html": [
              "\n",
              "                    <br/>Synced <strong style=\"color:#cdcd00\">rosy-sweep-34</strong>: <a href=\"https://wandb.ai/vrunda/CS6910_Assignment1/runs/3sjanuvy\" target=\"_blank\">https://wandb.ai/vrunda/CS6910_Assignment1/runs/3sjanuvy</a><br/>\n",
              "                "
            ],
            "text/plain": [
              "<IPython.core.display.HTML object>"
            ]
          },
          "metadata": {
            "tags": []
          }
        },
        {
          "output_type": "stream",
          "text": [
            "\u001b[34m\u001b[1mwandb\u001b[0m: Agent Starting Run: hn7jvazg with config:\n",
            "\u001b[34m\u001b[1mwandb\u001b[0m: \tNeurons: 32\n",
            "\u001b[34m\u001b[1mwandb\u001b[0m: \tNo_hidden_layer: 5\n",
            "\u001b[34m\u001b[1mwandb\u001b[0m: \tactivation_type: tanh\n",
            "\u001b[34m\u001b[1mwandb\u001b[0m: \tepochs: 5\n",
            "\u001b[34m\u001b[1mwandb\u001b[0m: \tlearning_rate: 0.0001\n",
            "\u001b[34m\u001b[1mwandb\u001b[0m: \tloss_optimizer_type: momentum\n",
            "\u001b[34m\u001b[1mwandb\u001b[0m: \tmini_batch_size: 1\n",
            "\u001b[34m\u001b[1mwandb\u001b[0m: \tweight_decay: 0.5\n",
            "\u001b[34m\u001b[1mwandb\u001b[0m: \tweight_initialization: random\n",
            "\u001b[34m\u001b[1mwandb\u001b[0m: \u001b[33mWARNING\u001b[0m Ignored wandb.init() arg project when running a sweep\n"
          ],
          "name": "stderr"
        },
        {
          "output_type": "display_data",
          "data": {
            "text/html": [
              "\n",
              "                Tracking run with wandb version 0.10.22<br/>\n",
              "                Syncing run <strong style=\"color:#cdcd00\">dazzling-sweep-35</strong> to <a href=\"https://wandb.ai\" target=\"_blank\">Weights & Biases</a> <a href=\"https://docs.wandb.com/integrations/jupyter.html\" target=\"_blank\">(Documentation)</a>.<br/>\n",
              "                Project page: <a href=\"https://wandb.ai/vrunda/CS6910_Assignment1\" target=\"_blank\">https://wandb.ai/vrunda/CS6910_Assignment1</a><br/>\n",
              "                Sweep page: <a href=\"https://wandb.ai/vrunda/CS6910_Assignment1/sweeps/1o5dqarx\" target=\"_blank\">https://wandb.ai/vrunda/CS6910_Assignment1/sweeps/1o5dqarx</a><br/>\n",
              "Run page: <a href=\"https://wandb.ai/vrunda/CS6910_Assignment1/runs/hn7jvazg\" target=\"_blank\">https://wandb.ai/vrunda/CS6910_Assignment1/runs/hn7jvazg</a><br/>\n",
              "                Run data is saved locally in <code>/content/wandb/run-20210315_065148-hn7jvazg</code><br/><br/>\n",
              "            "
            ],
            "text/plain": [
              "<IPython.core.display.HTML object>"
            ]
          },
          "metadata": {
            "tags": []
          }
        },
        {
          "output_type": "stream",
          "text": [
            "epoch===> 0\n",
            "   Train_loss==>  2.2912320256513743\n",
            "   Val_loss====>  2.2903202896218766\n",
            "\n",
            "   Train_acc==>  9.994444444444445\n",
            "   Val_acc=====>  10.100000000000001\n",
            "Final_accuracy==>   10.0\n",
            "Epoch==> 1\n",
            "   Train_loss==>  1.692023448810832\n",
            "   Val_loss====>  1.6978214201878812\n",
            "\n",
            "   Train_acc==>  20.953703703703706\n",
            "   Val_acc=====>  20.533333333333335\n",
            "Final_accuracy==>   21.0\n",
            "Epoch==> 2\n",
            "   Train_loss==>  1.6885890319546937\n",
            "   Val_loss====>  1.6943932098613401\n",
            "\n",
            "   Train_acc==>  21.251851851851853\n",
            "   Val_acc=====>  20.916666666666668\n",
            "Final_accuracy==>   21.26\n",
            "Epoch==> 3\n",
            "   Train_loss==>  1.6857888315378242\n",
            "   Val_loss====>  1.6917138167755936\n",
            "\n",
            "   Train_acc==>  21.47222222222222\n",
            "   Val_acc=====>  21.099999999999998\n",
            "Final_accuracy==>   21.41\n",
            "Epoch==> 4\n",
            "   Train_loss==>  1.6820309295736526\n",
            "   Val_loss====>  1.6879963705994123\n",
            "\n",
            "   Train_acc==>  21.738888888888887\n",
            "   Val_acc=====>  21.5\n",
            "Final_accuracy==>   21.740000000000002\n",
            "Epoch==> 5\n",
            "   Train_loss==>  1.672749048071719\n",
            "   Val_loss====>  1.6787523438955865\n",
            "\n",
            "   Train_acc==>  22.43888888888889\n",
            "   Val_acc=====>  22.21666666666667\n",
            "Final_accuracy==>   22.54\n"
          ],
          "name": "stdout"
        },
        {
          "output_type": "display_data",
          "data": {
            "text/html": [
              "<br/>Waiting for W&B process to finish, PID 2691<br/>Program ended successfully."
            ],
            "text/plain": [
              "<IPython.core.display.HTML object>"
            ]
          },
          "metadata": {
            "tags": []
          }
        },
        {
          "output_type": "display_data",
          "data": {
            "application/vnd.jupyter.widget-view+json": {
              "model_id": "82c8109631e64849bd9c05372251f33b",
              "version_minor": 0,
              "version_major": 2
            },
            "text/plain": [
              "VBox(children=(Label(value=' 0.00MB of 0.00MB uploaded (0.00MB deduped)\\r'), FloatProgress(value=0.17860151642…"
            ]
          },
          "metadata": {
            "tags": []
          }
        },
        {
          "output_type": "display_data",
          "data": {
            "text/html": [
              "Find user logs for this run at: <code>/content/wandb/run-20210315_065148-hn7jvazg/logs/debug.log</code>"
            ],
            "text/plain": [
              "<IPython.core.display.HTML object>"
            ]
          },
          "metadata": {
            "tags": []
          }
        },
        {
          "output_type": "display_data",
          "data": {
            "text/html": [
              "Find internal logs for this run at: <code>/content/wandb/run-20210315_065148-hn7jvazg/logs/debug-internal.log</code>"
            ],
            "text/plain": [
              "<IPython.core.display.HTML object>"
            ]
          },
          "metadata": {
            "tags": []
          }
        },
        {
          "output_type": "display_data",
          "data": {
            "text/html": [
              "<h3>Run summary:</h3><br/><style>\n",
              "    table.wandb td:nth-child(1) { padding: 0 10px; text-align: right }\n",
              "    </style><table class=\"wandb\">\n",
              "<tr><td>epoch</td><td>5</td></tr><tr><td>accuracy</td><td>22.54</td></tr><tr><td>val_accuracy</td><td>22.21667</td></tr><tr><td>val_loss</td><td>1.67875</td></tr><tr><td>train_loss</td><td>1.67275</td></tr><tr><td>train_accuracy</td><td>22.43889</td></tr><tr><td>_runtime</td><td>384</td></tr><tr><td>_timestamp</td><td>1615791492</td></tr><tr><td>_step</td><td>6</td></tr></table>"
            ],
            "text/plain": [
              "<IPython.core.display.HTML object>"
            ]
          },
          "metadata": {
            "tags": []
          }
        },
        {
          "output_type": "display_data",
          "data": {
            "text/html": [
              "<h3>Run history:</h3><br/><style>\n",
              "    table.wandb td:nth-child(1) { padding: 0 10px; text-align: right }\n",
              "    </style><table class=\"wandb\">\n",
              "<tr><td>epoch</td><td>▁▂▄▅▇█</td></tr><tr><td>accuracy</td><td>▁▇▇▇██</td></tr><tr><td>val_accuracy</td><td>▁▇▇▇██</td></tr><tr><td>val_loss</td><td>█▁▁▁▁▁</td></tr><tr><td>train_loss</td><td>█▁▁▁▁▁</td></tr><tr><td>train_accuracy</td><td>▁▇▇▇██</td></tr><tr><td>_runtime</td><td>▁▂▄▅▇██</td></tr><tr><td>_timestamp</td><td>▁▂▄▅▇██</td></tr><tr><td>_step</td><td>▁▂▃▅▆▇█</td></tr></table><br/>"
            ],
            "text/plain": [
              "<IPython.core.display.HTML object>"
            ]
          },
          "metadata": {
            "tags": []
          }
        },
        {
          "output_type": "display_data",
          "data": {
            "text/html": [
              "Synced 5 W&B file(s), 1 media file(s), 0 artifact file(s) and 0 other file(s)"
            ],
            "text/plain": [
              "<IPython.core.display.HTML object>"
            ]
          },
          "metadata": {
            "tags": []
          }
        },
        {
          "output_type": "display_data",
          "data": {
            "text/html": [
              "\n",
              "                    <br/>Synced <strong style=\"color:#cdcd00\">dazzling-sweep-35</strong>: <a href=\"https://wandb.ai/vrunda/CS6910_Assignment1/runs/hn7jvazg\" target=\"_blank\">https://wandb.ai/vrunda/CS6910_Assignment1/runs/hn7jvazg</a><br/>\n",
              "                "
            ],
            "text/plain": [
              "<IPython.core.display.HTML object>"
            ]
          },
          "metadata": {
            "tags": []
          }
        },
        {
          "output_type": "stream",
          "text": [
            "\u001b[34m\u001b[1mwandb\u001b[0m: Agent Starting Run: 7hgpt1tr with config:\n",
            "\u001b[34m\u001b[1mwandb\u001b[0m: \tNeurons: 128\n",
            "\u001b[34m\u001b[1mwandb\u001b[0m: \tNo_hidden_layer: 5\n",
            "\u001b[34m\u001b[1mwandb\u001b[0m: \tactivation_type: ReLU\n",
            "\u001b[34m\u001b[1mwandb\u001b[0m: \tepochs: 5\n",
            "\u001b[34m\u001b[1mwandb\u001b[0m: \tlearning_rate: 0.001\n",
            "\u001b[34m\u001b[1mwandb\u001b[0m: \tloss_optimizer_type: nag\n",
            "\u001b[34m\u001b[1mwandb\u001b[0m: \tmini_batch_size: 32\n",
            "\u001b[34m\u001b[1mwandb\u001b[0m: \tweight_decay: 0.5\n",
            "\u001b[34m\u001b[1mwandb\u001b[0m: \tweight_initialization: xavier\n",
            "\u001b[34m\u001b[1mwandb\u001b[0m: \u001b[33mWARNING\u001b[0m Ignored wandb.init() arg project when running a sweep\n"
          ],
          "name": "stderr"
        },
        {
          "output_type": "display_data",
          "data": {
            "text/html": [
              "\n",
              "                Tracking run with wandb version 0.10.22<br/>\n",
              "                Syncing run <strong style=\"color:#cdcd00\">sweepy-sweep-36</strong> to <a href=\"https://wandb.ai\" target=\"_blank\">Weights & Biases</a> <a href=\"https://docs.wandb.com/integrations/jupyter.html\" target=\"_blank\">(Documentation)</a>.<br/>\n",
              "                Project page: <a href=\"https://wandb.ai/vrunda/CS6910_Assignment1\" target=\"_blank\">https://wandb.ai/vrunda/CS6910_Assignment1</a><br/>\n",
              "                Sweep page: <a href=\"https://wandb.ai/vrunda/CS6910_Assignment1/sweeps/1o5dqarx\" target=\"_blank\">https://wandb.ai/vrunda/CS6910_Assignment1/sweeps/1o5dqarx</a><br/>\n",
              "Run page: <a href=\"https://wandb.ai/vrunda/CS6910_Assignment1/runs/7hgpt1tr\" target=\"_blank\">https://wandb.ai/vrunda/CS6910_Assignment1/runs/7hgpt1tr</a><br/>\n",
              "                Run data is saved locally in <code>/content/wandb/run-20210315_065824-7hgpt1tr</code><br/><br/>\n",
              "            "
            ],
            "text/plain": [
              "<IPython.core.display.HTML object>"
            ]
          },
          "metadata": {
            "tags": []
          }
        },
        {
          "output_type": "stream",
          "text": [
            "epoch===> 0\n",
            "   Train_loss==>  2.3543230358826004\n",
            "   Val_loss====>  2.3542717335032464\n",
            "\n",
            "   Train_acc==>  7.253703703703704\n",
            "   Val_acc=====>  6.75\n",
            "Final_accuracy==>   7.64\n",
            "Epoch==> 1\n",
            "   Train_loss==>  0.39002208224879237\n",
            "   Val_loss====>  0.4135312258711178\n",
            "\n",
            "   Train_acc==>  85.81296296296296\n",
            "   Val_acc=====>  84.86666666666667\n",
            "Final_accuracy==>   84.24000000000001\n",
            "Epoch==> 2\n",
            "   Train_loss==>  0.3760647988414713\n",
            "   Val_loss====>  0.4067884302073165\n",
            "\n",
            "   Train_acc==>  86.39074074074074\n",
            "   Val_acc=====>  85.18333333333334\n",
            "Final_accuracy==>   84.61999999999999\n",
            "Epoch==> 3\n",
            "   Train_loss==>  0.3692412216975162\n",
            "   Val_loss====>  0.40244751203852774\n",
            "\n",
            "   Train_acc==>  86.69444444444444\n",
            "   Val_acc=====>  85.31666666666666\n",
            "Final_accuracy==>   84.74000000000001\n",
            "Epoch==> 4\n",
            "   Train_loss==>  0.38420379319679737\n",
            "   Val_loss====>  0.40917175168835684\n",
            "\n",
            "   Train_acc==>  86.37962962962963\n",
            "   Val_acc=====>  85.45\n",
            "Final_accuracy==>   84.15\n",
            "Epoch==> 5\n",
            "   Train_loss==>  0.37256414500952645\n",
            "   Val_loss====>  0.39822101648990355\n",
            "\n",
            "   Train_acc==>  86.68148148148148\n",
            "   Val_acc=====>  85.81666666666666\n",
            "Final_accuracy==>   84.28\n"
          ],
          "name": "stdout"
        },
        {
          "output_type": "display_data",
          "data": {
            "text/html": [
              "<br/>Waiting for W&B process to finish, PID 2723<br/>Program ended successfully."
            ],
            "text/plain": [
              "<IPython.core.display.HTML object>"
            ]
          },
          "metadata": {
            "tags": []
          }
        },
        {
          "output_type": "display_data",
          "data": {
            "application/vnd.jupyter.widget-view+json": {
              "model_id": "cff430497be34f4c920bd269e4cd0859",
              "version_minor": 0,
              "version_major": 2
            },
            "text/plain": [
              "VBox(children=(Label(value=' 0.00MB of 0.00MB uploaded (0.00MB deduped)\\r'), FloatProgress(value=0.17835109366…"
            ]
          },
          "metadata": {
            "tags": []
          }
        },
        {
          "output_type": "display_data",
          "data": {
            "text/html": [
              "Find user logs for this run at: <code>/content/wandb/run-20210315_065824-7hgpt1tr/logs/debug.log</code>"
            ],
            "text/plain": [
              "<IPython.core.display.HTML object>"
            ]
          },
          "metadata": {
            "tags": []
          }
        },
        {
          "output_type": "display_data",
          "data": {
            "text/html": [
              "Find internal logs for this run at: <code>/content/wandb/run-20210315_065824-7hgpt1tr/logs/debug-internal.log</code>"
            ],
            "text/plain": [
              "<IPython.core.display.HTML object>"
            ]
          },
          "metadata": {
            "tags": []
          }
        },
        {
          "output_type": "display_data",
          "data": {
            "text/html": [
              "<h3>Run summary:</h3><br/><style>\n",
              "    table.wandb td:nth-child(1) { padding: 0 10px; text-align: right }\n",
              "    </style><table class=\"wandb\">\n",
              "<tr><td>epoch</td><td>5</td></tr><tr><td>accuracy</td><td>84.28</td></tr><tr><td>val_accuracy</td><td>85.81667</td></tr><tr><td>val_loss</td><td>0.39822</td></tr><tr><td>train_loss</td><td>0.37256</td></tr><tr><td>train_accuracy</td><td>86.68148</td></tr><tr><td>_runtime</td><td>963</td></tr><tr><td>_timestamp</td><td>1615792467</td></tr><tr><td>_step</td><td>6</td></tr></table>"
            ],
            "text/plain": [
              "<IPython.core.display.HTML object>"
            ]
          },
          "metadata": {
            "tags": []
          }
        },
        {
          "output_type": "display_data",
          "data": {
            "text/html": [
              "<h3>Run history:</h3><br/><style>\n",
              "    table.wandb td:nth-child(1) { padding: 0 10px; text-align: right }\n",
              "    </style><table class=\"wandb\">\n",
              "<tr><td>epoch</td><td>▁▂▄▅▇█</td></tr><tr><td>accuracy</td><td>▁█████</td></tr><tr><td>val_accuracy</td><td>▁█████</td></tr><tr><td>val_loss</td><td>█▁▁▁▁▁</td></tr><tr><td>train_loss</td><td>█▁▁▁▁▁</td></tr><tr><td>train_accuracy</td><td>▁█████</td></tr><tr><td>_runtime</td><td>▁▂▄▅▇██</td></tr><tr><td>_timestamp</td><td>▁▂▄▅▇██</td></tr><tr><td>_step</td><td>▁▂▃▅▆▇█</td></tr></table><br/>"
            ],
            "text/plain": [
              "<IPython.core.display.HTML object>"
            ]
          },
          "metadata": {
            "tags": []
          }
        },
        {
          "output_type": "display_data",
          "data": {
            "text/html": [
              "Synced 5 W&B file(s), 1 media file(s), 0 artifact file(s) and 0 other file(s)"
            ],
            "text/plain": [
              "<IPython.core.display.HTML object>"
            ]
          },
          "metadata": {
            "tags": []
          }
        },
        {
          "output_type": "display_data",
          "data": {
            "text/html": [
              "\n",
              "                    <br/>Synced <strong style=\"color:#cdcd00\">sweepy-sweep-36</strong>: <a href=\"https://wandb.ai/vrunda/CS6910_Assignment1/runs/7hgpt1tr\" target=\"_blank\">https://wandb.ai/vrunda/CS6910_Assignment1/runs/7hgpt1tr</a><br/>\n",
              "                "
            ],
            "text/plain": [
              "<IPython.core.display.HTML object>"
            ]
          },
          "metadata": {
            "tags": []
          }
        },
        {
          "output_type": "stream",
          "text": [
            "\u001b[34m\u001b[1mwandb\u001b[0m: Sweep Agent: Waiting for job.\n",
            "\u001b[34m\u001b[1mwandb\u001b[0m: Job received.\n",
            "\u001b[34m\u001b[1mwandb\u001b[0m: Agent Starting Run: da6midiq with config:\n",
            "\u001b[34m\u001b[1mwandb\u001b[0m: \tNeurons: 32\n",
            "\u001b[34m\u001b[1mwandb\u001b[0m: \tNo_hidden_layer: 3\n",
            "\u001b[34m\u001b[1mwandb\u001b[0m: \tactivation_type: ReLU\n",
            "\u001b[34m\u001b[1mwandb\u001b[0m: \tepochs: 5\n",
            "\u001b[34m\u001b[1mwandb\u001b[0m: \tlearning_rate: 0.001\n",
            "\u001b[34m\u001b[1mwandb\u001b[0m: \tloss_optimizer_type: momentum\n",
            "\u001b[34m\u001b[1mwandb\u001b[0m: \tmini_batch_size: 64\n",
            "\u001b[34m\u001b[1mwandb\u001b[0m: \tweight_decay: 0\n",
            "\u001b[34m\u001b[1mwandb\u001b[0m: \tweight_initialization: random\n",
            "\u001b[34m\u001b[1mwandb\u001b[0m: \u001b[33mWARNING\u001b[0m Ignored wandb.init() arg project when running a sweep\n"
          ],
          "name": "stderr"
        },
        {
          "output_type": "display_data",
          "data": {
            "text/html": [
              "\n",
              "                Tracking run with wandb version 0.10.22<br/>\n",
              "                Syncing run <strong style=\"color:#cdcd00\">autumn-sweep-37</strong> to <a href=\"https://wandb.ai\" target=\"_blank\">Weights & Biases</a> <a href=\"https://docs.wandb.com/integrations/jupyter.html\" target=\"_blank\">(Documentation)</a>.<br/>\n",
              "                Project page: <a href=\"https://wandb.ai/vrunda/CS6910_Assignment1\" target=\"_blank\">https://wandb.ai/vrunda/CS6910_Assignment1</a><br/>\n",
              "                Sweep page: <a href=\"https://wandb.ai/vrunda/CS6910_Assignment1/sweeps/1o5dqarx\" target=\"_blank\">https://wandb.ai/vrunda/CS6910_Assignment1/sweeps/1o5dqarx</a><br/>\n",
              "Run page: <a href=\"https://wandb.ai/vrunda/CS6910_Assignment1/runs/da6midiq\" target=\"_blank\">https://wandb.ai/vrunda/CS6910_Assignment1/runs/da6midiq</a><br/>\n",
              "                Run data is saved locally in <code>/content/wandb/run-20210315_071457-da6midiq</code><br/><br/>\n",
              "            "
            ],
            "text/plain": [
              "<IPython.core.display.HTML object>"
            ]
          },
          "metadata": {
            "tags": []
          }
        },
        {
          "output_type": "stream",
          "text": [
            "epoch===> 0\n",
            "   Train_loss==>  2.323209484495403\n",
            "   Val_loss====>  2.3219508170020404\n",
            "\n",
            "   Train_acc==>  7.148148148148148\n",
            "   Val_acc=====>  7.466666666666668\n",
            "Final_accuracy==>   7.26\n",
            "Epoch==> 1\n",
            "   Train_loss==>  0.7324181269972806\n",
            "   Val_loss====>  0.7405473533508082\n",
            "\n",
            "   Train_acc==>  72.91111111111111\n",
            "   Val_acc=====>  72.45\n",
            "Final_accuracy==>   72.22\n",
            "Epoch==> 2\n",
            "   Train_loss==>  0.5809077592213165\n",
            "   Val_loss====>  0.5957626755837215\n",
            "\n",
            "   Train_acc==>  78.02037037037037\n",
            "   Val_acc=====>  77.16666666666666\n",
            "Final_accuracy==>   77.03\n",
            "Epoch==> 3\n",
            "   Train_loss==>  0.5111503959754703\n",
            "   Val_loss====>  0.5297910904004757\n",
            "\n",
            "   Train_acc==>  81.27037037037037\n",
            "   Val_acc=====>  80.43333333333334\n",
            "Final_accuracy==>   80.04\n",
            "Epoch==> 4\n",
            "   Train_loss==>  0.4714411264394225\n",
            "   Val_loss====>  0.4925776407236982\n",
            "\n",
            "   Train_acc==>  82.90925925925926\n",
            "   Val_acc=====>  82.13333333333334\n",
            "Final_accuracy==>   81.39999999999999\n",
            "Epoch==> 5\n",
            "   Train_loss==>  0.4462928991442041\n",
            "   Val_loss====>  0.4684559894091357\n",
            "\n",
            "   Train_acc==>  83.89999999999999\n",
            "   Val_acc=====>  83.18333333333334\n",
            "Final_accuracy==>   82.45\n"
          ],
          "name": "stdout"
        },
        {
          "output_type": "display_data",
          "data": {
            "text/html": [
              "<br/>Waiting for W&B process to finish, PID 2755<br/>Program ended successfully."
            ],
            "text/plain": [
              "<IPython.core.display.HTML object>"
            ]
          },
          "metadata": {
            "tags": []
          }
        },
        {
          "output_type": "display_data",
          "data": {
            "application/vnd.jupyter.widget-view+json": {
              "model_id": "1f35f0d77010443ab5cf4f5a4430bacc",
              "version_minor": 0,
              "version_major": 2
            },
            "text/plain": [
              "VBox(children=(Label(value=' 0.00MB of 0.00MB uploaded (0.00MB deduped)\\r'), FloatProgress(value=0.17790209790…"
            ]
          },
          "metadata": {
            "tags": []
          }
        },
        {
          "output_type": "display_data",
          "data": {
            "text/html": [
              "Find user logs for this run at: <code>/content/wandb/run-20210315_071457-da6midiq/logs/debug.log</code>"
            ],
            "text/plain": [
              "<IPython.core.display.HTML object>"
            ]
          },
          "metadata": {
            "tags": []
          }
        },
        {
          "output_type": "display_data",
          "data": {
            "text/html": [
              "Find internal logs for this run at: <code>/content/wandb/run-20210315_071457-da6midiq/logs/debug-internal.log</code>"
            ],
            "text/plain": [
              "<IPython.core.display.HTML object>"
            ]
          },
          "metadata": {
            "tags": []
          }
        },
        {
          "output_type": "display_data",
          "data": {
            "text/html": [
              "<h3>Run summary:</h3><br/><style>\n",
              "    table.wandb td:nth-child(1) { padding: 0 10px; text-align: right }\n",
              "    </style><table class=\"wandb\">\n",
              "<tr><td>epoch</td><td>5</td></tr><tr><td>accuracy</td><td>82.45</td></tr><tr><td>val_accuracy</td><td>83.18333</td></tr><tr><td>val_loss</td><td>0.46846</td></tr><tr><td>train_loss</td><td>0.44629</td></tr><tr><td>train_accuracy</td><td>83.9</td></tr><tr><td>_runtime</td><td>238</td></tr><tr><td>_timestamp</td><td>1615792735</td></tr><tr><td>_step</td><td>6</td></tr></table>"
            ],
            "text/plain": [
              "<IPython.core.display.HTML object>"
            ]
          },
          "metadata": {
            "tags": []
          }
        },
        {
          "output_type": "display_data",
          "data": {
            "text/html": [
              "<h3>Run history:</h3><br/><style>\n",
              "    table.wandb td:nth-child(1) { padding: 0 10px; text-align: right }\n",
              "    </style><table class=\"wandb\">\n",
              "<tr><td>epoch</td><td>▁▂▄▅▇█</td></tr><tr><td>accuracy</td><td>▁▇▇███</td></tr><tr><td>val_accuracy</td><td>▁▇▇███</td></tr><tr><td>val_loss</td><td>█▂▁▁▁▁</td></tr><tr><td>train_loss</td><td>█▂▂▁▁▁</td></tr><tr><td>train_accuracy</td><td>▁▇▇███</td></tr><tr><td>_runtime</td><td>▁▂▄▅▇██</td></tr><tr><td>_timestamp</td><td>▁▂▄▅▇██</td></tr><tr><td>_step</td><td>▁▂▃▅▆▇█</td></tr></table><br/>"
            ],
            "text/plain": [
              "<IPython.core.display.HTML object>"
            ]
          },
          "metadata": {
            "tags": []
          }
        },
        {
          "output_type": "display_data",
          "data": {
            "text/html": [
              "Synced 5 W&B file(s), 1 media file(s), 0 artifact file(s) and 0 other file(s)"
            ],
            "text/plain": [
              "<IPython.core.display.HTML object>"
            ]
          },
          "metadata": {
            "tags": []
          }
        },
        {
          "output_type": "display_data",
          "data": {
            "text/html": [
              "\n",
              "                    <br/>Synced <strong style=\"color:#cdcd00\">autumn-sweep-37</strong>: <a href=\"https://wandb.ai/vrunda/CS6910_Assignment1/runs/da6midiq\" target=\"_blank\">https://wandb.ai/vrunda/CS6910_Assignment1/runs/da6midiq</a><br/>\n",
              "                "
            ],
            "text/plain": [
              "<IPython.core.display.HTML object>"
            ]
          },
          "metadata": {
            "tags": []
          }
        },
        {
          "output_type": "stream",
          "text": [
            "\u001b[34m\u001b[1mwandb\u001b[0m: Agent Starting Run: 8plnck2u with config:\n",
            "\u001b[34m\u001b[1mwandb\u001b[0m: \tNeurons: 64\n",
            "\u001b[34m\u001b[1mwandb\u001b[0m: \tNo_hidden_layer: 3\n",
            "\u001b[34m\u001b[1mwandb\u001b[0m: \tactivation_type: sigmoid\n",
            "\u001b[34m\u001b[1mwandb\u001b[0m: \tepochs: 5\n",
            "\u001b[34m\u001b[1mwandb\u001b[0m: \tlearning_rate: 0.001\n",
            "\u001b[34m\u001b[1mwandb\u001b[0m: \tloss_optimizer_type: nag\n",
            "\u001b[34m\u001b[1mwandb\u001b[0m: \tmini_batch_size: 16\n",
            "\u001b[34m\u001b[1mwandb\u001b[0m: \tweight_decay: 0\n",
            "\u001b[34m\u001b[1mwandb\u001b[0m: \tweight_initialization: xavier\n",
            "\u001b[34m\u001b[1mwandb\u001b[0m: \u001b[33mWARNING\u001b[0m Ignored wandb.init() arg project when running a sweep\n"
          ],
          "name": "stderr"
        },
        {
          "output_type": "display_data",
          "data": {
            "text/html": [
              "\n",
              "                Tracking run with wandb version 0.10.22<br/>\n",
              "                Syncing run <strong style=\"color:#cdcd00\">whole-sweep-38</strong> to <a href=\"https://wandb.ai\" target=\"_blank\">Weights & Biases</a> <a href=\"https://docs.wandb.com/integrations/jupyter.html\" target=\"_blank\">(Documentation)</a>.<br/>\n",
              "                Project page: <a href=\"https://wandb.ai/vrunda/CS6910_Assignment1\" target=\"_blank\">https://wandb.ai/vrunda/CS6910_Assignment1</a><br/>\n",
              "                Sweep page: <a href=\"https://wandb.ai/vrunda/CS6910_Assignment1/sweeps/1o5dqarx\" target=\"_blank\">https://wandb.ai/vrunda/CS6910_Assignment1/sweeps/1o5dqarx</a><br/>\n",
              "Run page: <a href=\"https://wandb.ai/vrunda/CS6910_Assignment1/runs/8plnck2u\" target=\"_blank\">https://wandb.ai/vrunda/CS6910_Assignment1/runs/8plnck2u</a><br/>\n",
              "                Run data is saved locally in <code>/content/wandb/run-20210315_071905-8plnck2u</code><br/><br/>\n",
              "            "
            ],
            "text/plain": [
              "<IPython.core.display.HTML object>"
            ]
          },
          "metadata": {
            "tags": []
          }
        },
        {
          "output_type": "stream",
          "text": [
            "epoch===> 0\n",
            "   Train_loss==>  2.458779224853956\n",
            "   Val_loss====>  2.4485701696280247\n",
            "\n",
            "   Train_acc==>  9.974074074074075\n",
            "   Val_acc=====>  10.233333333333333\n",
            "Final_accuracy==>   10.0\n",
            "Epoch==> 1\n",
            "   Train_loss==>  0.4405887768753292\n",
            "   Val_loss====>  0.46893434946856016\n",
            "\n",
            "   Train_acc==>  84.14814814814815\n",
            "   Val_acc=====>  83.21666666666667\n",
            "Final_accuracy==>   82.17\n",
            "Epoch==> 2\n",
            "   Train_loss==>  0.36355132773762266\n",
            "   Val_loss====>  0.40828471487363605\n",
            "\n",
            "   Train_acc==>  86.70925925925927\n",
            "   Val_acc=====>  85.63333333333333\n",
            "Final_accuracy==>   84.28999999999999\n",
            "Epoch==> 3\n",
            "   Train_loss==>  0.32989434795545325\n",
            "   Val_loss====>  0.3910857477815864\n",
            "\n",
            "   Train_acc==>  87.81851851851852\n",
            "   Val_acc=====>  86.13333333333333\n",
            "Final_accuracy==>   84.92\n",
            "Epoch==> 4\n",
            "   Train_loss==>  0.3131942179475104\n",
            "   Val_loss====>  0.3893305418758393\n",
            "\n",
            "   Train_acc==>  88.17777777777778\n",
            "   Val_acc=====>  86.08333333333333\n",
            "Final_accuracy==>   84.7\n",
            "Epoch==> 5\n",
            "   Train_loss==>  0.2989774859405348\n",
            "   Val_loss====>  0.38576405264174946\n",
            "\n",
            "   Train_acc==>  88.57222222222222\n",
            "   Val_acc=====>  86.0\n",
            "Final_accuracy==>   84.78\n"
          ],
          "name": "stdout"
        },
        {
          "output_type": "display_data",
          "data": {
            "text/html": [
              "<br/>Waiting for W&B process to finish, PID 2787<br/>Program ended successfully."
            ],
            "text/plain": [
              "<IPython.core.display.HTML object>"
            ]
          },
          "metadata": {
            "tags": []
          }
        },
        {
          "output_type": "display_data",
          "data": {
            "application/vnd.jupyter.widget-view+json": {
              "model_id": "c570a8e4e668451289910eec5af6c3e1",
              "version_minor": 0,
              "version_major": 2
            },
            "text/plain": [
              "VBox(children=(Label(value=' 0.00MB of 0.00MB uploaded (0.00MB deduped)\\r'), FloatProgress(value=0.17830109335…"
            ]
          },
          "metadata": {
            "tags": []
          }
        },
        {
          "output_type": "display_data",
          "data": {
            "text/html": [
              "Find user logs for this run at: <code>/content/wandb/run-20210315_071905-8plnck2u/logs/debug.log</code>"
            ],
            "text/plain": [
              "<IPython.core.display.HTML object>"
            ]
          },
          "metadata": {
            "tags": []
          }
        },
        {
          "output_type": "display_data",
          "data": {
            "text/html": [
              "Find internal logs for this run at: <code>/content/wandb/run-20210315_071905-8plnck2u/logs/debug-internal.log</code>"
            ],
            "text/plain": [
              "<IPython.core.display.HTML object>"
            ]
          },
          "metadata": {
            "tags": []
          }
        },
        {
          "output_type": "display_data",
          "data": {
            "text/html": [
              "<h3>Run summary:</h3><br/><style>\n",
              "    table.wandb td:nth-child(1) { padding: 0 10px; text-align: right }\n",
              "    </style><table class=\"wandb\">\n",
              "<tr><td>epoch</td><td>5</td></tr><tr><td>accuracy</td><td>84.78</td></tr><tr><td>val_accuracy</td><td>86.0</td></tr><tr><td>val_loss</td><td>0.38576</td></tr><tr><td>train_loss</td><td>0.29898</td></tr><tr><td>train_accuracy</td><td>88.57222</td></tr><tr><td>_runtime</td><td>571</td></tr><tr><td>_timestamp</td><td>1615793316</td></tr><tr><td>_step</td><td>6</td></tr></table>"
            ],
            "text/plain": [
              "<IPython.core.display.HTML object>"
            ]
          },
          "metadata": {
            "tags": []
          }
        },
        {
          "output_type": "display_data",
          "data": {
            "text/html": [
              "<h3>Run history:</h3><br/><style>\n",
              "    table.wandb td:nth-child(1) { padding: 0 10px; text-align: right }\n",
              "    </style><table class=\"wandb\">\n",
              "<tr><td>epoch</td><td>▁▂▄▅▇█</td></tr><tr><td>accuracy</td><td>▁█████</td></tr><tr><td>val_accuracy</td><td>▁█████</td></tr><tr><td>val_loss</td><td>█▁▁▁▁▁</td></tr><tr><td>train_loss</td><td>█▁▁▁▁▁</td></tr><tr><td>train_accuracy</td><td>▁█████</td></tr><tr><td>_runtime</td><td>▁▂▄▅▇██</td></tr><tr><td>_timestamp</td><td>▁▂▄▅▇██</td></tr><tr><td>_step</td><td>▁▂▃▅▆▇█</td></tr></table><br/>"
            ],
            "text/plain": [
              "<IPython.core.display.HTML object>"
            ]
          },
          "metadata": {
            "tags": []
          }
        },
        {
          "output_type": "display_data",
          "data": {
            "text/html": [
              "Synced 5 W&B file(s), 1 media file(s), 0 artifact file(s) and 0 other file(s)"
            ],
            "text/plain": [
              "<IPython.core.display.HTML object>"
            ]
          },
          "metadata": {
            "tags": []
          }
        },
        {
          "output_type": "display_data",
          "data": {
            "text/html": [
              "\n",
              "                    <br/>Synced <strong style=\"color:#cdcd00\">whole-sweep-38</strong>: <a href=\"https://wandb.ai/vrunda/CS6910_Assignment1/runs/8plnck2u\" target=\"_blank\">https://wandb.ai/vrunda/CS6910_Assignment1/runs/8plnck2u</a><br/>\n",
              "                "
            ],
            "text/plain": [
              "<IPython.core.display.HTML object>"
            ]
          },
          "metadata": {
            "tags": []
          }
        },
        {
          "output_type": "stream",
          "text": [
            "\u001b[34m\u001b[1mwandb\u001b[0m: Agent Starting Run: 788pih63 with config:\n",
            "\u001b[34m\u001b[1mwandb\u001b[0m: \tNeurons: 32\n",
            "\u001b[34m\u001b[1mwandb\u001b[0m: \tNo_hidden_layer: 5\n",
            "\u001b[34m\u001b[1mwandb\u001b[0m: \tactivation_type: tanh\n",
            "\u001b[34m\u001b[1mwandb\u001b[0m: \tepochs: 10\n",
            "\u001b[34m\u001b[1mwandb\u001b[0m: \tlearning_rate: 0.0001\n",
            "\u001b[34m\u001b[1mwandb\u001b[0m: \tloss_optimizer_type: nag\n",
            "\u001b[34m\u001b[1mwandb\u001b[0m: \tmini_batch_size: 32\n",
            "\u001b[34m\u001b[1mwandb\u001b[0m: \tweight_decay: 0\n",
            "\u001b[34m\u001b[1mwandb\u001b[0m: \tweight_initialization: random\n",
            "\u001b[34m\u001b[1mwandb\u001b[0m: \u001b[33mWARNING\u001b[0m Ignored wandb.init() arg project when running a sweep\n"
          ],
          "name": "stderr"
        },
        {
          "output_type": "display_data",
          "data": {
            "text/html": [
              "\n",
              "                Tracking run with wandb version 0.10.22<br/>\n",
              "                Syncing run <strong style=\"color:#cdcd00\">charmed-sweep-39</strong> to <a href=\"https://wandb.ai\" target=\"_blank\">Weights & Biases</a> <a href=\"https://docs.wandb.com/integrations/jupyter.html\" target=\"_blank\">(Documentation)</a>.<br/>\n",
              "                Project page: <a href=\"https://wandb.ai/vrunda/CS6910_Assignment1\" target=\"_blank\">https://wandb.ai/vrunda/CS6910_Assignment1</a><br/>\n",
              "                Sweep page: <a href=\"https://wandb.ai/vrunda/CS6910_Assignment1/sweeps/1o5dqarx\" target=\"_blank\">https://wandb.ai/vrunda/CS6910_Assignment1/sweeps/1o5dqarx</a><br/>\n",
              "Run page: <a href=\"https://wandb.ai/vrunda/CS6910_Assignment1/runs/788pih63\" target=\"_blank\">https://wandb.ai/vrunda/CS6910_Assignment1/runs/788pih63</a><br/>\n",
              "                Run data is saved locally in <code>/content/wandb/run-20210315_072845-788pih63</code><br/><br/>\n",
              "            "
            ],
            "text/plain": [
              "<IPython.core.display.HTML object>"
            ]
          },
          "metadata": {
            "tags": []
          }
        },
        {
          "output_type": "stream",
          "text": [
            "epoch===> 0\n",
            "   Train_loss==>  2.3198098951773685\n",
            "   Val_loss====>  2.3189351825141995\n",
            "\n",
            "   Train_acc==>  6.064814814814815\n",
            "   Val_acc=====>  6.2\n",
            "Final_accuracy==>   6.03\n",
            "Epoch==> 1\n",
            "   Train_loss==>  0.5657722200249102\n",
            "   Val_loss====>  0.5822141698120177\n",
            "\n",
            "   Train_acc==>  79.82222222222222\n",
            "   Val_acc=====>  79.08333333333334\n",
            "Final_accuracy==>   78.7\n",
            "Epoch==> 2\n",
            "   Train_loss==>  0.4451140187187288\n",
            "   Val_loss====>  0.47912078641235994\n",
            "\n",
            "   Train_acc==>  84.39629629629628\n",
            "   Val_acc=====>  83.63333333333334\n",
            "Final_accuracy==>   82.53\n",
            "Epoch==> 3\n",
            "   Train_loss==>  0.3981684132166816\n",
            "   Val_loss====>  0.4495588004598314\n",
            "\n",
            "   Train_acc==>  85.98148148148148\n",
            "   Val_acc=====>  84.89999999999999\n",
            "Final_accuracy==>   83.50999999999999\n",
            "Epoch==> 4\n"
          ],
          "name": "stdout"
        }
      ]
    }
  ]
}